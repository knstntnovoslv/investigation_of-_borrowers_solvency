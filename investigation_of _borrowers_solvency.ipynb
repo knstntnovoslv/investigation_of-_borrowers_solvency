{
 "cells": [
  {
   "cell_type": "markdown",
   "metadata": {},
   "source": [
    "# Исследование надёжности заёмщиков\n",
    "\n",
    "Заказчик — кредитный отдел банка. Нужно разобраться, влияет ли семейное положение и количество детей клиента на факт погашения кредита в срок. Входные данные от банка — статистика о платёжеспособности клиентов.\n",
    "\n",
    "Результаты исследования будут учтены при построении модели **кредитного скоринга** — специальной системы, которая оценивает способность потенциального заёмщика вернуть кредит банку."
   ]
  },
  {
   "cell_type": "markdown",
   "metadata": {},
   "source": [
    "## Шаг 1. Открытие файла с данными и изучение общей информации"
   ]
  },
  {
   "cell_type": "code",
   "execution_count": 1,
   "metadata": {},
   "outputs": [
    {
     "name": "stdout",
     "output_type": "stream",
     "text": [
      "<class 'pandas.core.frame.DataFrame'>\n",
      "RangeIndex: 21525 entries, 0 to 21524\n",
      "Data columns (total 12 columns):\n",
      "children            21525 non-null int64\n",
      "days_employed       19351 non-null float64\n",
      "dob_years           21525 non-null int64\n",
      "education           21525 non-null object\n",
      "education_id        21525 non-null int64\n",
      "family_status       21525 non-null object\n",
      "family_status_id    21525 non-null int64\n",
      "gender              21525 non-null object\n",
      "income_type         21525 non-null object\n",
      "debt                21525 non-null int64\n",
      "total_income        19351 non-null float64\n",
      "purpose             21525 non-null object\n",
      "dtypes: float64(2), int64(5), object(5)\n",
      "memory usage: 2.0+ MB\n"
     ]
    }
   ],
   "source": [
    "import pandas as pd\n",
    "df = pd.read_csv('/datasets/data.csv')\n",
    "df.info()"
   ]
  },
  {
   "cell_type": "code",
   "execution_count": 2,
   "metadata": {},
   "outputs": [
    {
     "data": {
      "text/plain": [
       "(21525, 12)"
      ]
     },
     "execution_count": 2,
     "metadata": {},
     "output_type": "execute_result"
    }
   ],
   "source": [
    "df.shape"
   ]
  },
  {
   "cell_type": "code",
   "execution_count": 3,
   "metadata": {},
   "outputs": [
    {
     "data": {
      "text/plain": [
       "Index(['children', 'days_employed', 'dob_years', 'education', 'education_id',\n",
       "       'family_status', 'family_status_id', 'gender', 'income_type', 'debt',\n",
       "       'total_income', 'purpose'],\n",
       "      dtype='object')"
      ]
     },
     "execution_count": 3,
     "metadata": {},
     "output_type": "execute_result"
    }
   ],
   "source": [
    "df.columns\n",
    "#названия столбцов корректные"
   ]
  },
  {
   "cell_type": "markdown",
   "metadata": {},
   "source": [
    "**Вывод**"
   ]
  },
  {
   "cell_type": "markdown",
   "metadata": {},
   "source": [
    "Таблица содержит категориальные и количественные переменные, а также различные артефакты, требуется предобработка"
   ]
  },
  {
   "cell_type": "markdown",
   "metadata": {},
   "source": []
  },
  {
   "cell_type": "markdown",
   "metadata": {},
   "source": [
    "## Шаг 2. Предобработка данных"
   ]
  },
  {
   "cell_type": "markdown",
   "metadata": {},
   "source": [
    "### Обработка пропусков"
   ]
  },
  {
   "cell_type": "code",
   "execution_count": 4,
   "metadata": {},
   "outputs": [
    {
     "data": {
      "text/plain": [
       "children               0\n",
       "days_employed       2174\n",
       "dob_years              0\n",
       "education              0\n",
       "education_id           0\n",
       "family_status          0\n",
       "family_status_id       0\n",
       "gender                 0\n",
       "income_type            0\n",
       "debt                   0\n",
       "total_income        2174\n",
       "purpose                0\n",
       "dtype: int64"
      ]
     },
     "execution_count": 4,
     "metadata": {},
     "output_type": "execute_result"
    }
   ],
   "source": [
    "df.isna().sum()\n"
   ]
  },
  {
   "cell_type": "markdown",
   "metadata": {},
   "source": [
    "пустые значения найдены в столбце с днями трудового стажа \n",
    "и в столбце с ежемесячным доходом,причем их одинаковое количество, в связи с этим можно \n",
    "сделать вывод, что это люди без опыта работы и без заработка"
   ]
  },
  {
   "cell_type": "code",
   "execution_count": 5,
   "metadata": {},
   "outputs": [
    {
     "data": {
      "text/html": [
       "<div>\n",
       "<style scoped>\n",
       "    .dataframe tbody tr th:only-of-type {\n",
       "        vertical-align: middle;\n",
       "    }\n",
       "\n",
       "    .dataframe tbody tr th {\n",
       "        vertical-align: top;\n",
       "    }\n",
       "\n",
       "    .dataframe thead th {\n",
       "        text-align: right;\n",
       "    }\n",
       "</style>\n",
       "<table border=\"1\" class=\"dataframe\">\n",
       "  <thead>\n",
       "    <tr style=\"text-align: right;\">\n",
       "      <th></th>\n",
       "      <th>children</th>\n",
       "      <th>days_employed</th>\n",
       "      <th>dob_years</th>\n",
       "      <th>education</th>\n",
       "      <th>education_id</th>\n",
       "      <th>family_status</th>\n",
       "      <th>family_status_id</th>\n",
       "      <th>gender</th>\n",
       "      <th>income_type</th>\n",
       "      <th>debt</th>\n",
       "      <th>total_income</th>\n",
       "      <th>purpose</th>\n",
       "    </tr>\n",
       "  </thead>\n",
       "  <tbody>\n",
       "  </tbody>\n",
       "</table>\n",
       "</div>"
      ],
      "text/plain": [
       "Empty DataFrame\n",
       "Columns: [children, days_employed, dob_years, education, education_id, family_status, family_status_id, gender, income_type, debt, total_income, purpose]\n",
       "Index: []"
      ]
     },
     "execution_count": 5,
     "metadata": {},
     "output_type": "execute_result"
    }
   ],
   "source": [
    "#Проверка на то есть ли люди без опыта работы(days_employed = 0)\n",
    "df.loc[df['days_employed'] == 0]\n",
    "#Людей без опыта работы не найдено, "
   ]
  },
  {
   "cell_type": "markdown",
   "metadata": {},
   "source": [
    "Заменим пустые значения нулями и исследуем таблицу"
   ]
  },
  {
   "cell_type": "code",
   "execution_count": 6,
   "metadata": {},
   "outputs": [
    {
     "data": {
      "text/html": [
       "<div>\n",
       "<style scoped>\n",
       "    .dataframe tbody tr th:only-of-type {\n",
       "        vertical-align: middle;\n",
       "    }\n",
       "\n",
       "    .dataframe tbody tr th {\n",
       "        vertical-align: top;\n",
       "    }\n",
       "\n",
       "    .dataframe thead th {\n",
       "        text-align: right;\n",
       "    }\n",
       "</style>\n",
       "<table border=\"1\" class=\"dataframe\">\n",
       "  <thead>\n",
       "    <tr style=\"text-align: right;\">\n",
       "      <th></th>\n",
       "      <th>children</th>\n",
       "      <th>days_employed</th>\n",
       "      <th>dob_years</th>\n",
       "      <th>education</th>\n",
       "      <th>education_id</th>\n",
       "      <th>family_status</th>\n",
       "      <th>family_status_id</th>\n",
       "      <th>gender</th>\n",
       "      <th>income_type</th>\n",
       "      <th>debt</th>\n",
       "      <th>total_income</th>\n",
       "      <th>purpose</th>\n",
       "    </tr>\n",
       "  </thead>\n",
       "  <tbody>\n",
       "    <tr>\n",
       "      <td>12</td>\n",
       "      <td>0</td>\n",
       "      <td>0.0</td>\n",
       "      <td>65</td>\n",
       "      <td>среднее</td>\n",
       "      <td>1</td>\n",
       "      <td>гражданский брак</td>\n",
       "      <td>1</td>\n",
       "      <td>M</td>\n",
       "      <td>пенсионер</td>\n",
       "      <td>0</td>\n",
       "      <td>0.0</td>\n",
       "      <td>сыграть свадьбу</td>\n",
       "    </tr>\n",
       "    <tr>\n",
       "      <td>26</td>\n",
       "      <td>0</td>\n",
       "      <td>0.0</td>\n",
       "      <td>41</td>\n",
       "      <td>среднее</td>\n",
       "      <td>1</td>\n",
       "      <td>женат / замужем</td>\n",
       "      <td>0</td>\n",
       "      <td>M</td>\n",
       "      <td>госслужащий</td>\n",
       "      <td>0</td>\n",
       "      <td>0.0</td>\n",
       "      <td>образование</td>\n",
       "    </tr>\n",
       "    <tr>\n",
       "      <td>29</td>\n",
       "      <td>0</td>\n",
       "      <td>0.0</td>\n",
       "      <td>63</td>\n",
       "      <td>среднее</td>\n",
       "      <td>1</td>\n",
       "      <td>Не женат / не замужем</td>\n",
       "      <td>4</td>\n",
       "      <td>F</td>\n",
       "      <td>пенсионер</td>\n",
       "      <td>0</td>\n",
       "      <td>0.0</td>\n",
       "      <td>строительство жилой недвижимости</td>\n",
       "    </tr>\n",
       "    <tr>\n",
       "      <td>41</td>\n",
       "      <td>0</td>\n",
       "      <td>0.0</td>\n",
       "      <td>50</td>\n",
       "      <td>среднее</td>\n",
       "      <td>1</td>\n",
       "      <td>женат / замужем</td>\n",
       "      <td>0</td>\n",
       "      <td>F</td>\n",
       "      <td>госслужащий</td>\n",
       "      <td>0</td>\n",
       "      <td>0.0</td>\n",
       "      <td>сделка с подержанным автомобилем</td>\n",
       "    </tr>\n",
       "    <tr>\n",
       "      <td>55</td>\n",
       "      <td>0</td>\n",
       "      <td>0.0</td>\n",
       "      <td>54</td>\n",
       "      <td>среднее</td>\n",
       "      <td>1</td>\n",
       "      <td>гражданский брак</td>\n",
       "      <td>1</td>\n",
       "      <td>F</td>\n",
       "      <td>пенсионер</td>\n",
       "      <td>1</td>\n",
       "      <td>0.0</td>\n",
       "      <td>сыграть свадьбу</td>\n",
       "    </tr>\n",
       "    <tr>\n",
       "      <td>...</td>\n",
       "      <td>...</td>\n",
       "      <td>...</td>\n",
       "      <td>...</td>\n",
       "      <td>...</td>\n",
       "      <td>...</td>\n",
       "      <td>...</td>\n",
       "      <td>...</td>\n",
       "      <td>...</td>\n",
       "      <td>...</td>\n",
       "      <td>...</td>\n",
       "      <td>...</td>\n",
       "      <td>...</td>\n",
       "    </tr>\n",
       "    <tr>\n",
       "      <td>21489</td>\n",
       "      <td>2</td>\n",
       "      <td>0.0</td>\n",
       "      <td>47</td>\n",
       "      <td>Среднее</td>\n",
       "      <td>1</td>\n",
       "      <td>женат / замужем</td>\n",
       "      <td>0</td>\n",
       "      <td>M</td>\n",
       "      <td>компаньон</td>\n",
       "      <td>0</td>\n",
       "      <td>0.0</td>\n",
       "      <td>сделка с автомобилем</td>\n",
       "    </tr>\n",
       "    <tr>\n",
       "      <td>21495</td>\n",
       "      <td>1</td>\n",
       "      <td>0.0</td>\n",
       "      <td>50</td>\n",
       "      <td>среднее</td>\n",
       "      <td>1</td>\n",
       "      <td>гражданский брак</td>\n",
       "      <td>1</td>\n",
       "      <td>F</td>\n",
       "      <td>сотрудник</td>\n",
       "      <td>0</td>\n",
       "      <td>0.0</td>\n",
       "      <td>свадьба</td>\n",
       "    </tr>\n",
       "    <tr>\n",
       "      <td>21497</td>\n",
       "      <td>0</td>\n",
       "      <td>0.0</td>\n",
       "      <td>48</td>\n",
       "      <td>ВЫСШЕЕ</td>\n",
       "      <td>0</td>\n",
       "      <td>женат / замужем</td>\n",
       "      <td>0</td>\n",
       "      <td>F</td>\n",
       "      <td>компаньон</td>\n",
       "      <td>0</td>\n",
       "      <td>0.0</td>\n",
       "      <td>строительство недвижимости</td>\n",
       "    </tr>\n",
       "    <tr>\n",
       "      <td>21502</td>\n",
       "      <td>1</td>\n",
       "      <td>0.0</td>\n",
       "      <td>42</td>\n",
       "      <td>среднее</td>\n",
       "      <td>1</td>\n",
       "      <td>женат / замужем</td>\n",
       "      <td>0</td>\n",
       "      <td>F</td>\n",
       "      <td>сотрудник</td>\n",
       "      <td>0</td>\n",
       "      <td>0.0</td>\n",
       "      <td>строительство жилой недвижимости</td>\n",
       "    </tr>\n",
       "    <tr>\n",
       "      <td>21510</td>\n",
       "      <td>2</td>\n",
       "      <td>0.0</td>\n",
       "      <td>28</td>\n",
       "      <td>среднее</td>\n",
       "      <td>1</td>\n",
       "      <td>женат / замужем</td>\n",
       "      <td>0</td>\n",
       "      <td>F</td>\n",
       "      <td>сотрудник</td>\n",
       "      <td>0</td>\n",
       "      <td>0.0</td>\n",
       "      <td>приобретение автомобиля</td>\n",
       "    </tr>\n",
       "  </tbody>\n",
       "</table>\n",
       "<p>2174 rows × 12 columns</p>\n",
       "</div>"
      ],
      "text/plain": [
       "       children  days_employed  dob_years education  education_id  \\\n",
       "12            0            0.0         65   среднее             1   \n",
       "26            0            0.0         41   среднее             1   \n",
       "29            0            0.0         63   среднее             1   \n",
       "41            0            0.0         50   среднее             1   \n",
       "55            0            0.0         54   среднее             1   \n",
       "...         ...            ...        ...       ...           ...   \n",
       "21489         2            0.0         47   Среднее             1   \n",
       "21495         1            0.0         50   среднее             1   \n",
       "21497         0            0.0         48    ВЫСШЕЕ             0   \n",
       "21502         1            0.0         42   среднее             1   \n",
       "21510         2            0.0         28   среднее             1   \n",
       "\n",
       "               family_status  family_status_id gender  income_type  debt  \\\n",
       "12          гражданский брак                 1      M    пенсионер     0   \n",
       "26           женат / замужем                 0      M  госслужащий     0   \n",
       "29     Не женат / не замужем                 4      F    пенсионер     0   \n",
       "41           женат / замужем                 0      F  госслужащий     0   \n",
       "55          гражданский брак                 1      F    пенсионер     1   \n",
       "...                      ...               ...    ...          ...   ...   \n",
       "21489        женат / замужем                 0      M    компаньон     0   \n",
       "21495       гражданский брак                 1      F    сотрудник     0   \n",
       "21497        женат / замужем                 0      F    компаньон     0   \n",
       "21502        женат / замужем                 0      F    сотрудник     0   \n",
       "21510        женат / замужем                 0      F    сотрудник     0   \n",
       "\n",
       "       total_income                           purpose  \n",
       "12              0.0                   сыграть свадьбу  \n",
       "26              0.0                       образование  \n",
       "29              0.0  строительство жилой недвижимости  \n",
       "41              0.0  сделка с подержанным автомобилем  \n",
       "55              0.0                   сыграть свадьбу  \n",
       "...             ...                               ...  \n",
       "21489           0.0              сделка с автомобилем  \n",
       "21495           0.0                           свадьба  \n",
       "21497           0.0        строительство недвижимости  \n",
       "21502           0.0  строительство жилой недвижимости  \n",
       "21510           0.0           приобретение автомобиля  \n",
       "\n",
       "[2174 rows x 12 columns]"
      ]
     },
     "execution_count": 6,
     "metadata": {},
     "output_type": "execute_result"
    }
   ],
   "source": [
    "df = df.fillna(0)\n",
    "no_employed = df.loc[df['days_employed'] == 0]\n",
    "no_employed"
   ]
  },
  {
   "cell_type": "code",
   "execution_count": 7,
   "metadata": {},
   "outputs": [],
   "source": [
    "#Проверка на тип занятости у людей с пустыми значениями в столбце опыта работы\n",
    "profession = no_employed['income_type'].unique()\n"
   ]
  },
  {
   "cell_type": "markdown",
   "metadata": {},
   "source": [
    "Это либо предприниматель и компаньон, которые работают на себя, поэтому трудовой стаж не начисляется\n",
    "Либо пенсионеры, у них скорее всего по ошибке не указан опыт работы\n",
    "Вообще для проекта не так важен трудовой стаж, так как не нужно искать от него зависимость\n",
    "поэтому чтобы не потерять данные заполним пустой строкой"
   ]
  },
  {
   "cell_type": "markdown",
   "metadata": {},
   "source": [
    "Обработка столбца с доходами"
   ]
  },
  {
   "cell_type": "code",
   "execution_count": 8,
   "metadata": {},
   "outputs": [],
   "source": [
    "def salary(data, work):\n",
    "    table = data.loc[data['income_type'] == work]\n",
    "    median_salary = table['total_income'].median()\n",
    "    data.loc[(data['income_type'] == work) & (data['total_income'] == 0),'total_income'] = median_salary\n",
    "    return data"
   ]
  },
  {
   "cell_type": "code",
   "execution_count": 9,
   "metadata": {},
   "outputs": [],
   "source": [
    "for i in profession:\n",
    "    df = salary(df, i)\n"
   ]
  },
  {
   "cell_type": "code",
   "execution_count": 10,
   "metadata": {},
   "outputs": [
    {
     "data": {
      "text/html": [
       "<div>\n",
       "<style scoped>\n",
       "    .dataframe tbody tr th:only-of-type {\n",
       "        vertical-align: middle;\n",
       "    }\n",
       "\n",
       "    .dataframe tbody tr th {\n",
       "        vertical-align: top;\n",
       "    }\n",
       "\n",
       "    .dataframe thead th {\n",
       "        text-align: right;\n",
       "    }\n",
       "</style>\n",
       "<table border=\"1\" class=\"dataframe\">\n",
       "  <thead>\n",
       "    <tr style=\"text-align: right;\">\n",
       "      <th></th>\n",
       "      <th>children</th>\n",
       "      <th>days_employed</th>\n",
       "      <th>dob_years</th>\n",
       "      <th>education</th>\n",
       "      <th>education_id</th>\n",
       "      <th>family_status</th>\n",
       "      <th>family_status_id</th>\n",
       "      <th>gender</th>\n",
       "      <th>income_type</th>\n",
       "      <th>debt</th>\n",
       "      <th>total_income</th>\n",
       "      <th>purpose</th>\n",
       "    </tr>\n",
       "  </thead>\n",
       "  <tbody>\n",
       "  </tbody>\n",
       "</table>\n",
       "</div>"
      ],
      "text/plain": [
       "Empty DataFrame\n",
       "Columns: [children, days_employed, dob_years, education, education_id, family_status, family_status_id, gender, income_type, debt, total_income, purpose]\n",
       "Index: []"
      ]
     },
     "execution_count": 10,
     "metadata": {},
     "output_type": "execute_result"
    }
   ],
   "source": [
    "#Так как заменили пустые значения нулями(до этого нулей в столбце не было) проверяем, остались ли в столбце с дохдами нули\n",
    "df.loc[df['total_income'] == 0]"
   ]
  },
  {
   "cell_type": "markdown",
   "metadata": {},
   "source": [
    "**Вывод**"
   ]
  },
  {
   "cell_type": "markdown",
   "metadata": {},
   "source": [
    "Пустые значения в столбце с опытом работы были заменены на нули, так как для нашего исследования опыт работы не играет большой роли, а в пустые значения столбца с зарплатой была вставлена медианная зарплата по группе. Вставка медианных значений в этом случае оказывает меньшее влияние на общность данных. Причной возникновения пропущенных значений в этих столбцах может быть нежелание людей указывать опыть работы, либо его отсутствие, пустые значения в столбце с зарплатой можно объяснить ошибкой при сборе данных, ведь маловероятно, что люди без дохода стали бы брать кредит."
   ]
  },
  {
   "cell_type": "code",
   "execution_count": 11,
   "metadata": {},
   "outputs": [
    {
     "data": {
      "text/html": [
       "<div>\n",
       "<style scoped>\n",
       "    .dataframe tbody tr th:only-of-type {\n",
       "        vertical-align: middle;\n",
       "    }\n",
       "\n",
       "    .dataframe tbody tr th {\n",
       "        vertical-align: top;\n",
       "    }\n",
       "\n",
       "    .dataframe thead th {\n",
       "        text-align: right;\n",
       "    }\n",
       "</style>\n",
       "<table border=\"1\" class=\"dataframe\">\n",
       "  <thead>\n",
       "    <tr style=\"text-align: right;\">\n",
       "      <th></th>\n",
       "      <th>children</th>\n",
       "      <th>days_employed</th>\n",
       "      <th>dob_years</th>\n",
       "      <th>education</th>\n",
       "      <th>education_id</th>\n",
       "      <th>family_status</th>\n",
       "      <th>family_status_id</th>\n",
       "      <th>gender</th>\n",
       "      <th>income_type</th>\n",
       "      <th>debt</th>\n",
       "      <th>total_income</th>\n",
       "      <th>purpose</th>\n",
       "    </tr>\n",
       "  </thead>\n",
       "  <tbody>\n",
       "    <tr>\n",
       "      <td>0</td>\n",
       "      <td>1</td>\n",
       "      <td>-8437.673028</td>\n",
       "      <td>42</td>\n",
       "      <td>высшее</td>\n",
       "      <td>0</td>\n",
       "      <td>женат / замужем</td>\n",
       "      <td>0</td>\n",
       "      <td>F</td>\n",
       "      <td>сотрудник</td>\n",
       "      <td>0</td>\n",
       "      <td>253875.639453</td>\n",
       "      <td>покупка жилья</td>\n",
       "    </tr>\n",
       "    <tr>\n",
       "      <td>1</td>\n",
       "      <td>1</td>\n",
       "      <td>-4024.803754</td>\n",
       "      <td>36</td>\n",
       "      <td>среднее</td>\n",
       "      <td>1</td>\n",
       "      <td>женат / замужем</td>\n",
       "      <td>0</td>\n",
       "      <td>F</td>\n",
       "      <td>сотрудник</td>\n",
       "      <td>0</td>\n",
       "      <td>112080.014102</td>\n",
       "      <td>приобретение автомобиля</td>\n",
       "    </tr>\n",
       "    <tr>\n",
       "      <td>2</td>\n",
       "      <td>0</td>\n",
       "      <td>-5623.422610</td>\n",
       "      <td>33</td>\n",
       "      <td>Среднее</td>\n",
       "      <td>1</td>\n",
       "      <td>женат / замужем</td>\n",
       "      <td>0</td>\n",
       "      <td>M</td>\n",
       "      <td>сотрудник</td>\n",
       "      <td>0</td>\n",
       "      <td>145885.952297</td>\n",
       "      <td>покупка жилья</td>\n",
       "    </tr>\n",
       "    <tr>\n",
       "      <td>3</td>\n",
       "      <td>3</td>\n",
       "      <td>-4124.747207</td>\n",
       "      <td>32</td>\n",
       "      <td>среднее</td>\n",
       "      <td>1</td>\n",
       "      <td>женат / замужем</td>\n",
       "      <td>0</td>\n",
       "      <td>M</td>\n",
       "      <td>сотрудник</td>\n",
       "      <td>0</td>\n",
       "      <td>267628.550329</td>\n",
       "      <td>дополнительное образование</td>\n",
       "    </tr>\n",
       "    <tr>\n",
       "      <td>4</td>\n",
       "      <td>0</td>\n",
       "      <td>340266.072047</td>\n",
       "      <td>53</td>\n",
       "      <td>среднее</td>\n",
       "      <td>1</td>\n",
       "      <td>гражданский брак</td>\n",
       "      <td>1</td>\n",
       "      <td>F</td>\n",
       "      <td>пенсионер</td>\n",
       "      <td>0</td>\n",
       "      <td>158616.077870</td>\n",
       "      <td>сыграть свадьбу</td>\n",
       "    </tr>\n",
       "    <tr>\n",
       "      <td>...</td>\n",
       "      <td>...</td>\n",
       "      <td>...</td>\n",
       "      <td>...</td>\n",
       "      <td>...</td>\n",
       "      <td>...</td>\n",
       "      <td>...</td>\n",
       "      <td>...</td>\n",
       "      <td>...</td>\n",
       "      <td>...</td>\n",
       "      <td>...</td>\n",
       "      <td>...</td>\n",
       "      <td>...</td>\n",
       "    </tr>\n",
       "    <tr>\n",
       "      <td>21520</td>\n",
       "      <td>1</td>\n",
       "      <td>-4529.316663</td>\n",
       "      <td>43</td>\n",
       "      <td>среднее</td>\n",
       "      <td>1</td>\n",
       "      <td>гражданский брак</td>\n",
       "      <td>1</td>\n",
       "      <td>F</td>\n",
       "      <td>компаньон</td>\n",
       "      <td>0</td>\n",
       "      <td>224791.862382</td>\n",
       "      <td>операции с жильем</td>\n",
       "    </tr>\n",
       "    <tr>\n",
       "      <td>21521</td>\n",
       "      <td>0</td>\n",
       "      <td>343937.404131</td>\n",
       "      <td>67</td>\n",
       "      <td>среднее</td>\n",
       "      <td>1</td>\n",
       "      <td>женат / замужем</td>\n",
       "      <td>0</td>\n",
       "      <td>F</td>\n",
       "      <td>пенсионер</td>\n",
       "      <td>0</td>\n",
       "      <td>155999.806512</td>\n",
       "      <td>сделка с автомобилем</td>\n",
       "    </tr>\n",
       "    <tr>\n",
       "      <td>21522</td>\n",
       "      <td>1</td>\n",
       "      <td>-2113.346888</td>\n",
       "      <td>38</td>\n",
       "      <td>среднее</td>\n",
       "      <td>1</td>\n",
       "      <td>гражданский брак</td>\n",
       "      <td>1</td>\n",
       "      <td>M</td>\n",
       "      <td>сотрудник</td>\n",
       "      <td>1</td>\n",
       "      <td>89672.561153</td>\n",
       "      <td>недвижимость</td>\n",
       "    </tr>\n",
       "    <tr>\n",
       "      <td>21523</td>\n",
       "      <td>3</td>\n",
       "      <td>-3112.481705</td>\n",
       "      <td>38</td>\n",
       "      <td>среднее</td>\n",
       "      <td>1</td>\n",
       "      <td>женат / замужем</td>\n",
       "      <td>0</td>\n",
       "      <td>M</td>\n",
       "      <td>сотрудник</td>\n",
       "      <td>1</td>\n",
       "      <td>244093.050500</td>\n",
       "      <td>на покупку своего автомобиля</td>\n",
       "    </tr>\n",
       "    <tr>\n",
       "      <td>21524</td>\n",
       "      <td>2</td>\n",
       "      <td>-1984.507589</td>\n",
       "      <td>40</td>\n",
       "      <td>среднее</td>\n",
       "      <td>1</td>\n",
       "      <td>женат / замужем</td>\n",
       "      <td>0</td>\n",
       "      <td>F</td>\n",
       "      <td>сотрудник</td>\n",
       "      <td>0</td>\n",
       "      <td>82047.418899</td>\n",
       "      <td>на покупку автомобиля</td>\n",
       "    </tr>\n",
       "  </tbody>\n",
       "</table>\n",
       "<p>21525 rows × 12 columns</p>\n",
       "</div>"
      ],
      "text/plain": [
       "       children  days_employed  dob_years education  education_id  \\\n",
       "0             1   -8437.673028         42    высшее             0   \n",
       "1             1   -4024.803754         36   среднее             1   \n",
       "2             0   -5623.422610         33   Среднее             1   \n",
       "3             3   -4124.747207         32   среднее             1   \n",
       "4             0  340266.072047         53   среднее             1   \n",
       "...         ...            ...        ...       ...           ...   \n",
       "21520         1   -4529.316663         43   среднее             1   \n",
       "21521         0  343937.404131         67   среднее             1   \n",
       "21522         1   -2113.346888         38   среднее             1   \n",
       "21523         3   -3112.481705         38   среднее             1   \n",
       "21524         2   -1984.507589         40   среднее             1   \n",
       "\n",
       "          family_status  family_status_id gender income_type  debt  \\\n",
       "0       женат / замужем                 0      F   сотрудник     0   \n",
       "1       женат / замужем                 0      F   сотрудник     0   \n",
       "2       женат / замужем                 0      M   сотрудник     0   \n",
       "3       женат / замужем                 0      M   сотрудник     0   \n",
       "4      гражданский брак                 1      F   пенсионер     0   \n",
       "...                 ...               ...    ...         ...   ...   \n",
       "21520  гражданский брак                 1      F   компаньон     0   \n",
       "21521   женат / замужем                 0      F   пенсионер     0   \n",
       "21522  гражданский брак                 1      M   сотрудник     1   \n",
       "21523   женат / замужем                 0      M   сотрудник     1   \n",
       "21524   женат / замужем                 0      F   сотрудник     0   \n",
       "\n",
       "        total_income                       purpose  \n",
       "0      253875.639453                 покупка жилья  \n",
       "1      112080.014102       приобретение автомобиля  \n",
       "2      145885.952297                 покупка жилья  \n",
       "3      267628.550329    дополнительное образование  \n",
       "4      158616.077870               сыграть свадьбу  \n",
       "...              ...                           ...  \n",
       "21520  224791.862382             операции с жильем  \n",
       "21521  155999.806512          сделка с автомобилем  \n",
       "21522   89672.561153                  недвижимость  \n",
       "21523  244093.050500  на покупку своего автомобиля  \n",
       "21524   82047.418899         на покупку автомобиля  \n",
       "\n",
       "[21525 rows x 12 columns]"
      ]
     },
     "execution_count": 11,
     "metadata": {},
     "output_type": "execute_result"
    }
   ],
   "source": [
    "#таблица с данными на текущем этапе\n",
    "df"
   ]
  },
  {
   "cell_type": "markdown",
   "metadata": {},
   "source": []
  },
  {
   "cell_type": "markdown",
   "metadata": {},
   "source": [
    "### Замена типа данных"
   ]
  },
  {
   "cell_type": "code",
   "execution_count": 12,
   "metadata": {
    "scrolled": false
   },
   "outputs": [
    {
     "data": {
      "text/html": [
       "<div>\n",
       "<style scoped>\n",
       "    .dataframe tbody tr th:only-of-type {\n",
       "        vertical-align: middle;\n",
       "    }\n",
       "\n",
       "    .dataframe tbody tr th {\n",
       "        vertical-align: top;\n",
       "    }\n",
       "\n",
       "    .dataframe thead th {\n",
       "        text-align: right;\n",
       "    }\n",
       "</style>\n",
       "<table border=\"1\" class=\"dataframe\">\n",
       "  <thead>\n",
       "    <tr style=\"text-align: right;\">\n",
       "      <th></th>\n",
       "      <th>children</th>\n",
       "      <th>days_employed</th>\n",
       "      <th>dob_years</th>\n",
       "      <th>education</th>\n",
       "      <th>education_id</th>\n",
       "      <th>family_status</th>\n",
       "      <th>family_status_id</th>\n",
       "      <th>gender</th>\n",
       "      <th>income_type</th>\n",
       "      <th>debt</th>\n",
       "      <th>total_income</th>\n",
       "      <th>purpose</th>\n",
       "    </tr>\n",
       "  </thead>\n",
       "  <tbody>\n",
       "    <tr>\n",
       "      <td>0</td>\n",
       "      <td>1</td>\n",
       "      <td>8437.673028</td>\n",
       "      <td>42</td>\n",
       "      <td>высшее</td>\n",
       "      <td>0</td>\n",
       "      <td>женат / замужем</td>\n",
       "      <td>0</td>\n",
       "      <td>F</td>\n",
       "      <td>сотрудник</td>\n",
       "      <td>0</td>\n",
       "      <td>253875.639453</td>\n",
       "      <td>покупка жилья</td>\n",
       "    </tr>\n",
       "    <tr>\n",
       "      <td>1</td>\n",
       "      <td>1</td>\n",
       "      <td>4024.803754</td>\n",
       "      <td>36</td>\n",
       "      <td>среднее</td>\n",
       "      <td>1</td>\n",
       "      <td>женат / замужем</td>\n",
       "      <td>0</td>\n",
       "      <td>F</td>\n",
       "      <td>сотрудник</td>\n",
       "      <td>0</td>\n",
       "      <td>112080.014102</td>\n",
       "      <td>приобретение автомобиля</td>\n",
       "    </tr>\n",
       "    <tr>\n",
       "      <td>2</td>\n",
       "      <td>0</td>\n",
       "      <td>5623.422610</td>\n",
       "      <td>33</td>\n",
       "      <td>Среднее</td>\n",
       "      <td>1</td>\n",
       "      <td>женат / замужем</td>\n",
       "      <td>0</td>\n",
       "      <td>M</td>\n",
       "      <td>сотрудник</td>\n",
       "      <td>0</td>\n",
       "      <td>145885.952297</td>\n",
       "      <td>покупка жилья</td>\n",
       "    </tr>\n",
       "    <tr>\n",
       "      <td>3</td>\n",
       "      <td>3</td>\n",
       "      <td>4124.747207</td>\n",
       "      <td>32</td>\n",
       "      <td>среднее</td>\n",
       "      <td>1</td>\n",
       "      <td>женат / замужем</td>\n",
       "      <td>0</td>\n",
       "      <td>M</td>\n",
       "      <td>сотрудник</td>\n",
       "      <td>0</td>\n",
       "      <td>267628.550329</td>\n",
       "      <td>дополнительное образование</td>\n",
       "    </tr>\n",
       "    <tr>\n",
       "      <td>4</td>\n",
       "      <td>0</td>\n",
       "      <td>340266.072047</td>\n",
       "      <td>53</td>\n",
       "      <td>среднее</td>\n",
       "      <td>1</td>\n",
       "      <td>гражданский брак</td>\n",
       "      <td>1</td>\n",
       "      <td>F</td>\n",
       "      <td>пенсионер</td>\n",
       "      <td>0</td>\n",
       "      <td>158616.077870</td>\n",
       "      <td>сыграть свадьбу</td>\n",
       "    </tr>\n",
       "    <tr>\n",
       "      <td>...</td>\n",
       "      <td>...</td>\n",
       "      <td>...</td>\n",
       "      <td>...</td>\n",
       "      <td>...</td>\n",
       "      <td>...</td>\n",
       "      <td>...</td>\n",
       "      <td>...</td>\n",
       "      <td>...</td>\n",
       "      <td>...</td>\n",
       "      <td>...</td>\n",
       "      <td>...</td>\n",
       "      <td>...</td>\n",
       "    </tr>\n",
       "    <tr>\n",
       "      <td>21520</td>\n",
       "      <td>1</td>\n",
       "      <td>4529.316663</td>\n",
       "      <td>43</td>\n",
       "      <td>среднее</td>\n",
       "      <td>1</td>\n",
       "      <td>гражданский брак</td>\n",
       "      <td>1</td>\n",
       "      <td>F</td>\n",
       "      <td>компаньон</td>\n",
       "      <td>0</td>\n",
       "      <td>224791.862382</td>\n",
       "      <td>операции с жильем</td>\n",
       "    </tr>\n",
       "    <tr>\n",
       "      <td>21521</td>\n",
       "      <td>0</td>\n",
       "      <td>343937.404131</td>\n",
       "      <td>67</td>\n",
       "      <td>среднее</td>\n",
       "      <td>1</td>\n",
       "      <td>женат / замужем</td>\n",
       "      <td>0</td>\n",
       "      <td>F</td>\n",
       "      <td>пенсионер</td>\n",
       "      <td>0</td>\n",
       "      <td>155999.806512</td>\n",
       "      <td>сделка с автомобилем</td>\n",
       "    </tr>\n",
       "    <tr>\n",
       "      <td>21522</td>\n",
       "      <td>1</td>\n",
       "      <td>2113.346888</td>\n",
       "      <td>38</td>\n",
       "      <td>среднее</td>\n",
       "      <td>1</td>\n",
       "      <td>гражданский брак</td>\n",
       "      <td>1</td>\n",
       "      <td>M</td>\n",
       "      <td>сотрудник</td>\n",
       "      <td>1</td>\n",
       "      <td>89672.561153</td>\n",
       "      <td>недвижимость</td>\n",
       "    </tr>\n",
       "    <tr>\n",
       "      <td>21523</td>\n",
       "      <td>3</td>\n",
       "      <td>3112.481705</td>\n",
       "      <td>38</td>\n",
       "      <td>среднее</td>\n",
       "      <td>1</td>\n",
       "      <td>женат / замужем</td>\n",
       "      <td>0</td>\n",
       "      <td>M</td>\n",
       "      <td>сотрудник</td>\n",
       "      <td>1</td>\n",
       "      <td>244093.050500</td>\n",
       "      <td>на покупку своего автомобиля</td>\n",
       "    </tr>\n",
       "    <tr>\n",
       "      <td>21524</td>\n",
       "      <td>2</td>\n",
       "      <td>1984.507589</td>\n",
       "      <td>40</td>\n",
       "      <td>среднее</td>\n",
       "      <td>1</td>\n",
       "      <td>женат / замужем</td>\n",
       "      <td>0</td>\n",
       "      <td>F</td>\n",
       "      <td>сотрудник</td>\n",
       "      <td>0</td>\n",
       "      <td>82047.418899</td>\n",
       "      <td>на покупку автомобиля</td>\n",
       "    </tr>\n",
       "  </tbody>\n",
       "</table>\n",
       "<p>21525 rows × 12 columns</p>\n",
       "</div>"
      ],
      "text/plain": [
       "       children  days_employed  dob_years education  education_id  \\\n",
       "0             1    8437.673028         42    высшее             0   \n",
       "1             1    4024.803754         36   среднее             1   \n",
       "2             0    5623.422610         33   Среднее             1   \n",
       "3             3    4124.747207         32   среднее             1   \n",
       "4             0  340266.072047         53   среднее             1   \n",
       "...         ...            ...        ...       ...           ...   \n",
       "21520         1    4529.316663         43   среднее             1   \n",
       "21521         0  343937.404131         67   среднее             1   \n",
       "21522         1    2113.346888         38   среднее             1   \n",
       "21523         3    3112.481705         38   среднее             1   \n",
       "21524         2    1984.507589         40   среднее             1   \n",
       "\n",
       "          family_status  family_status_id gender income_type  debt  \\\n",
       "0       женат / замужем                 0      F   сотрудник     0   \n",
       "1       женат / замужем                 0      F   сотрудник     0   \n",
       "2       женат / замужем                 0      M   сотрудник     0   \n",
       "3       женат / замужем                 0      M   сотрудник     0   \n",
       "4      гражданский брак                 1      F   пенсионер     0   \n",
       "...                 ...               ...    ...         ...   ...   \n",
       "21520  гражданский брак                 1      F   компаньон     0   \n",
       "21521   женат / замужем                 0      F   пенсионер     0   \n",
       "21522  гражданский брак                 1      M   сотрудник     1   \n",
       "21523   женат / замужем                 0      M   сотрудник     1   \n",
       "21524   женат / замужем                 0      F   сотрудник     0   \n",
       "\n",
       "        total_income                       purpose  \n",
       "0      253875.639453                 покупка жилья  \n",
       "1      112080.014102       приобретение автомобиля  \n",
       "2      145885.952297                 покупка жилья  \n",
       "3      267628.550329    дополнительное образование  \n",
       "4      158616.077870               сыграть свадьбу  \n",
       "...              ...                           ...  \n",
       "21520  224791.862382             операции с жильем  \n",
       "21521  155999.806512          сделка с автомобилем  \n",
       "21522   89672.561153                  недвижимость  \n",
       "21523  244093.050500  на покупку своего автомобиля  \n",
       "21524   82047.418899         на покупку автомобиля  \n",
       "\n",
       "[21525 rows x 12 columns]"
      ]
     },
     "execution_count": 12,
     "metadata": {},
     "output_type": "execute_result"
    }
   ],
   "source": [
    "#перед заменой типа данных обработаем аретефакты\n",
    "df['days_employed'] = abs(df['days_employed'])\n",
    "df"
   ]
  },
  {
   "cell_type": "code",
   "execution_count": 13,
   "metadata": {},
   "outputs": [
    {
     "data": {
      "text/html": [
       "<div>\n",
       "<style scoped>\n",
       "    .dataframe tbody tr th:only-of-type {\n",
       "        vertical-align: middle;\n",
       "    }\n",
       "\n",
       "    .dataframe tbody tr th {\n",
       "        vertical-align: top;\n",
       "    }\n",
       "\n",
       "    .dataframe thead th {\n",
       "        text-align: right;\n",
       "    }\n",
       "</style>\n",
       "<table border=\"1\" class=\"dataframe\">\n",
       "  <thead>\n",
       "    <tr style=\"text-align: right;\">\n",
       "      <th></th>\n",
       "      <th>children</th>\n",
       "      <th>days_employed</th>\n",
       "      <th>dob_years</th>\n",
       "      <th>education</th>\n",
       "      <th>education_id</th>\n",
       "      <th>family_status</th>\n",
       "      <th>family_status_id</th>\n",
       "      <th>gender</th>\n",
       "      <th>income_type</th>\n",
       "      <th>debt</th>\n",
       "      <th>total_income</th>\n",
       "      <th>purpose</th>\n",
       "    </tr>\n",
       "  </thead>\n",
       "  <tbody>\n",
       "  </tbody>\n",
       "</table>\n",
       "</div>"
      ],
      "text/plain": [
       "Empty DataFrame\n",
       "Columns: [children, days_employed, dob_years, education, education_id, family_status, family_status_id, gender, income_type, debt, total_income, purpose]\n",
       "Index: []"
      ]
     },
     "execution_count": 13,
     "metadata": {},
     "output_type": "execute_result"
    }
   ],
   "source": [
    "#Проверка на то, есть ли отрицательные доходы\n",
    "df.loc[df['total_income'] < 0]"
   ]
  },
  {
   "cell_type": "code",
   "execution_count": 14,
   "metadata": {},
   "outputs": [
    {
     "data": {
      "text/html": [
       "<div>\n",
       "<style scoped>\n",
       "    .dataframe tbody tr th:only-of-type {\n",
       "        vertical-align: middle;\n",
       "    }\n",
       "\n",
       "    .dataframe tbody tr th {\n",
       "        vertical-align: top;\n",
       "    }\n",
       "\n",
       "    .dataframe thead th {\n",
       "        text-align: right;\n",
       "    }\n",
       "</style>\n",
       "<table border=\"1\" class=\"dataframe\">\n",
       "  <thead>\n",
       "    <tr style=\"text-align: right;\">\n",
       "      <th></th>\n",
       "      <th>children</th>\n",
       "      <th>days_employed</th>\n",
       "      <th>dob_years</th>\n",
       "      <th>education</th>\n",
       "      <th>education_id</th>\n",
       "      <th>family_status</th>\n",
       "      <th>family_status_id</th>\n",
       "      <th>gender</th>\n",
       "      <th>income_type</th>\n",
       "      <th>debt</th>\n",
       "      <th>total_income</th>\n",
       "      <th>purpose</th>\n",
       "      <th>years_employed</th>\n",
       "    </tr>\n",
       "  </thead>\n",
       "  <tbody>\n",
       "    <tr>\n",
       "      <td>0</td>\n",
       "      <td>1</td>\n",
       "      <td>8437.673028</td>\n",
       "      <td>42</td>\n",
       "      <td>высшее</td>\n",
       "      <td>0</td>\n",
       "      <td>женат / замужем</td>\n",
       "      <td>0</td>\n",
       "      <td>F</td>\n",
       "      <td>сотрудник</td>\n",
       "      <td>0</td>\n",
       "      <td>253875.639453</td>\n",
       "      <td>покупка жилья</td>\n",
       "      <td>23.116912</td>\n",
       "    </tr>\n",
       "    <tr>\n",
       "      <td>1</td>\n",
       "      <td>1</td>\n",
       "      <td>4024.803754</td>\n",
       "      <td>36</td>\n",
       "      <td>среднее</td>\n",
       "      <td>1</td>\n",
       "      <td>женат / замужем</td>\n",
       "      <td>0</td>\n",
       "      <td>F</td>\n",
       "      <td>сотрудник</td>\n",
       "      <td>0</td>\n",
       "      <td>112080.014102</td>\n",
       "      <td>приобретение автомобиля</td>\n",
       "      <td>11.026860</td>\n",
       "    </tr>\n",
       "    <tr>\n",
       "      <td>2</td>\n",
       "      <td>0</td>\n",
       "      <td>5623.422610</td>\n",
       "      <td>33</td>\n",
       "      <td>Среднее</td>\n",
       "      <td>1</td>\n",
       "      <td>женат / замужем</td>\n",
       "      <td>0</td>\n",
       "      <td>M</td>\n",
       "      <td>сотрудник</td>\n",
       "      <td>0</td>\n",
       "      <td>145885.952297</td>\n",
       "      <td>покупка жилья</td>\n",
       "      <td>15.406637</td>\n",
       "    </tr>\n",
       "    <tr>\n",
       "      <td>3</td>\n",
       "      <td>3</td>\n",
       "      <td>4124.747207</td>\n",
       "      <td>32</td>\n",
       "      <td>среднее</td>\n",
       "      <td>1</td>\n",
       "      <td>женат / замужем</td>\n",
       "      <td>0</td>\n",
       "      <td>M</td>\n",
       "      <td>сотрудник</td>\n",
       "      <td>0</td>\n",
       "      <td>267628.550329</td>\n",
       "      <td>дополнительное образование</td>\n",
       "      <td>11.300677</td>\n",
       "    </tr>\n",
       "    <tr>\n",
       "      <td>4</td>\n",
       "      <td>0</td>\n",
       "      <td>340266.072047</td>\n",
       "      <td>53</td>\n",
       "      <td>среднее</td>\n",
       "      <td>1</td>\n",
       "      <td>гражданский брак</td>\n",
       "      <td>1</td>\n",
       "      <td>F</td>\n",
       "      <td>пенсионер</td>\n",
       "      <td>0</td>\n",
       "      <td>158616.077870</td>\n",
       "      <td>сыграть свадьбу</td>\n",
       "      <td>932.235814</td>\n",
       "    </tr>\n",
       "    <tr>\n",
       "      <td>...</td>\n",
       "      <td>...</td>\n",
       "      <td>...</td>\n",
       "      <td>...</td>\n",
       "      <td>...</td>\n",
       "      <td>...</td>\n",
       "      <td>...</td>\n",
       "      <td>...</td>\n",
       "      <td>...</td>\n",
       "      <td>...</td>\n",
       "      <td>...</td>\n",
       "      <td>...</td>\n",
       "      <td>...</td>\n",
       "      <td>...</td>\n",
       "    </tr>\n",
       "    <tr>\n",
       "      <td>21520</td>\n",
       "      <td>1</td>\n",
       "      <td>4529.316663</td>\n",
       "      <td>43</td>\n",
       "      <td>среднее</td>\n",
       "      <td>1</td>\n",
       "      <td>гражданский брак</td>\n",
       "      <td>1</td>\n",
       "      <td>F</td>\n",
       "      <td>компаньон</td>\n",
       "      <td>0</td>\n",
       "      <td>224791.862382</td>\n",
       "      <td>операции с жильем</td>\n",
       "      <td>12.409087</td>\n",
       "    </tr>\n",
       "    <tr>\n",
       "      <td>21521</td>\n",
       "      <td>0</td>\n",
       "      <td>343937.404131</td>\n",
       "      <td>67</td>\n",
       "      <td>среднее</td>\n",
       "      <td>1</td>\n",
       "      <td>женат / замужем</td>\n",
       "      <td>0</td>\n",
       "      <td>F</td>\n",
       "      <td>пенсионер</td>\n",
       "      <td>0</td>\n",
       "      <td>155999.806512</td>\n",
       "      <td>сделка с автомобилем</td>\n",
       "      <td>942.294258</td>\n",
       "    </tr>\n",
       "    <tr>\n",
       "      <td>21522</td>\n",
       "      <td>1</td>\n",
       "      <td>2113.346888</td>\n",
       "      <td>38</td>\n",
       "      <td>среднее</td>\n",
       "      <td>1</td>\n",
       "      <td>гражданский брак</td>\n",
       "      <td>1</td>\n",
       "      <td>M</td>\n",
       "      <td>сотрудник</td>\n",
       "      <td>1</td>\n",
       "      <td>89672.561153</td>\n",
       "      <td>недвижимость</td>\n",
       "      <td>5.789991</td>\n",
       "    </tr>\n",
       "    <tr>\n",
       "      <td>21523</td>\n",
       "      <td>3</td>\n",
       "      <td>3112.481705</td>\n",
       "      <td>38</td>\n",
       "      <td>среднее</td>\n",
       "      <td>1</td>\n",
       "      <td>женат / замужем</td>\n",
       "      <td>0</td>\n",
       "      <td>M</td>\n",
       "      <td>сотрудник</td>\n",
       "      <td>1</td>\n",
       "      <td>244093.050500</td>\n",
       "      <td>на покупку своего автомобиля</td>\n",
       "      <td>8.527347</td>\n",
       "    </tr>\n",
       "    <tr>\n",
       "      <td>21524</td>\n",
       "      <td>2</td>\n",
       "      <td>1984.507589</td>\n",
       "      <td>40</td>\n",
       "      <td>среднее</td>\n",
       "      <td>1</td>\n",
       "      <td>женат / замужем</td>\n",
       "      <td>0</td>\n",
       "      <td>F</td>\n",
       "      <td>сотрудник</td>\n",
       "      <td>0</td>\n",
       "      <td>82047.418899</td>\n",
       "      <td>на покупку автомобиля</td>\n",
       "      <td>5.437007</td>\n",
       "    </tr>\n",
       "  </tbody>\n",
       "</table>\n",
       "<p>21525 rows × 13 columns</p>\n",
       "</div>"
      ],
      "text/plain": [
       "       children  days_employed  dob_years education  education_id  \\\n",
       "0             1    8437.673028         42    высшее             0   \n",
       "1             1    4024.803754         36   среднее             1   \n",
       "2             0    5623.422610         33   Среднее             1   \n",
       "3             3    4124.747207         32   среднее             1   \n",
       "4             0  340266.072047         53   среднее             1   \n",
       "...         ...            ...        ...       ...           ...   \n",
       "21520         1    4529.316663         43   среднее             1   \n",
       "21521         0  343937.404131         67   среднее             1   \n",
       "21522         1    2113.346888         38   среднее             1   \n",
       "21523         3    3112.481705         38   среднее             1   \n",
       "21524         2    1984.507589         40   среднее             1   \n",
       "\n",
       "          family_status  family_status_id gender income_type  debt  \\\n",
       "0       женат / замужем                 0      F   сотрудник     0   \n",
       "1       женат / замужем                 0      F   сотрудник     0   \n",
       "2       женат / замужем                 0      M   сотрудник     0   \n",
       "3       женат / замужем                 0      M   сотрудник     0   \n",
       "4      гражданский брак                 1      F   пенсионер     0   \n",
       "...                 ...               ...    ...         ...   ...   \n",
       "21520  гражданский брак                 1      F   компаньон     0   \n",
       "21521   женат / замужем                 0      F   пенсионер     0   \n",
       "21522  гражданский брак                 1      M   сотрудник     1   \n",
       "21523   женат / замужем                 0      M   сотрудник     1   \n",
       "21524   женат / замужем                 0      F   сотрудник     0   \n",
       "\n",
       "        total_income                       purpose  years_employed  \n",
       "0      253875.639453                 покупка жилья       23.116912  \n",
       "1      112080.014102       приобретение автомобиля       11.026860  \n",
       "2      145885.952297                 покупка жилья       15.406637  \n",
       "3      267628.550329    дополнительное образование       11.300677  \n",
       "4      158616.077870               сыграть свадьбу      932.235814  \n",
       "...              ...                           ...             ...  \n",
       "21520  224791.862382             операции с жильем       12.409087  \n",
       "21521  155999.806512          сделка с автомобилем      942.294258  \n",
       "21522   89672.561153                  недвижимость        5.789991  \n",
       "21523  244093.050500  на покупку своего автомобиля        8.527347  \n",
       "21524   82047.418899         на покупку автомобиля        5.437007  \n",
       "\n",
       "[21525 rows x 13 columns]"
      ]
     },
     "execution_count": 14,
     "metadata": {},
     "output_type": "execute_result"
    }
   ],
   "source": [
    "#Проверка по опыту работы\n",
    "work_experience_table = df\n",
    "work_experience_table['years_employed'] = work_experience_table['days_employed'] / 365\n",
    "work_experience_table"
   ]
  },
  {
   "cell_type": "markdown",
   "metadata": {},
   "source": [
    "**Вывод**"
   ]
  },
  {
   "cell_type": "markdown",
   "metadata": {},
   "source": [
    "Отрицательные значения были заменены на их абсолютную величину, так как возможно, что ошибки появились из-за неверного сбора данных"
   ]
  },
  {
   "cell_type": "code",
   "execution_count": 15,
   "metadata": {
    "scrolled": true
   },
   "outputs": [
    {
     "data": {
      "text/html": [
       "<div>\n",
       "<style scoped>\n",
       "    .dataframe tbody tr th:only-of-type {\n",
       "        vertical-align: middle;\n",
       "    }\n",
       "\n",
       "    .dataframe tbody tr th {\n",
       "        vertical-align: top;\n",
       "    }\n",
       "\n",
       "    .dataframe thead th {\n",
       "        text-align: right;\n",
       "    }\n",
       "</style>\n",
       "<table border=\"1\" class=\"dataframe\">\n",
       "  <thead>\n",
       "    <tr style=\"text-align: right;\">\n",
       "      <th></th>\n",
       "      <th>children</th>\n",
       "      <th>days_employed</th>\n",
       "      <th>dob_years</th>\n",
       "      <th>education</th>\n",
       "      <th>education_id</th>\n",
       "      <th>family_status</th>\n",
       "      <th>family_status_id</th>\n",
       "      <th>gender</th>\n",
       "      <th>income_type</th>\n",
       "      <th>debt</th>\n",
       "      <th>total_income</th>\n",
       "      <th>purpose</th>\n",
       "      <th>years_employed</th>\n",
       "    </tr>\n",
       "  </thead>\n",
       "  <tbody>\n",
       "    <tr>\n",
       "      <td>4</td>\n",
       "      <td>0</td>\n",
       "      <td>340266.072047</td>\n",
       "      <td>53</td>\n",
       "      <td>среднее</td>\n",
       "      <td>1</td>\n",
       "      <td>гражданский брак</td>\n",
       "      <td>1</td>\n",
       "      <td>F</td>\n",
       "      <td>пенсионер</td>\n",
       "      <td>0</td>\n",
       "      <td>158616.077870</td>\n",
       "      <td>сыграть свадьбу</td>\n",
       "      <td>932.235814</td>\n",
       "    </tr>\n",
       "    <tr>\n",
       "      <td>18</td>\n",
       "      <td>0</td>\n",
       "      <td>400281.136913</td>\n",
       "      <td>53</td>\n",
       "      <td>среднее</td>\n",
       "      <td>1</td>\n",
       "      <td>вдовец / вдова</td>\n",
       "      <td>2</td>\n",
       "      <td>F</td>\n",
       "      <td>пенсионер</td>\n",
       "      <td>0</td>\n",
       "      <td>56823.777243</td>\n",
       "      <td>на покупку подержанного автомобиля</td>\n",
       "      <td>1096.660649</td>\n",
       "    </tr>\n",
       "    <tr>\n",
       "      <td>24</td>\n",
       "      <td>1</td>\n",
       "      <td>338551.952911</td>\n",
       "      <td>57</td>\n",
       "      <td>среднее</td>\n",
       "      <td>1</td>\n",
       "      <td>Не женат / не замужем</td>\n",
       "      <td>4</td>\n",
       "      <td>F</td>\n",
       "      <td>пенсионер</td>\n",
       "      <td>0</td>\n",
       "      <td>290547.235997</td>\n",
       "      <td>операции с коммерческой недвижимостью</td>\n",
       "      <td>927.539597</td>\n",
       "    </tr>\n",
       "    <tr>\n",
       "      <td>25</td>\n",
       "      <td>0</td>\n",
       "      <td>363548.489348</td>\n",
       "      <td>67</td>\n",
       "      <td>среднее</td>\n",
       "      <td>1</td>\n",
       "      <td>женат / замужем</td>\n",
       "      <td>0</td>\n",
       "      <td>M</td>\n",
       "      <td>пенсионер</td>\n",
       "      <td>0</td>\n",
       "      <td>55112.757732</td>\n",
       "      <td>покупка недвижимости</td>\n",
       "      <td>996.023258</td>\n",
       "    </tr>\n",
       "    <tr>\n",
       "      <td>30</td>\n",
       "      <td>1</td>\n",
       "      <td>335581.668515</td>\n",
       "      <td>62</td>\n",
       "      <td>среднее</td>\n",
       "      <td>1</td>\n",
       "      <td>женат / замужем</td>\n",
       "      <td>0</td>\n",
       "      <td>F</td>\n",
       "      <td>пенсионер</td>\n",
       "      <td>0</td>\n",
       "      <td>171456.067993</td>\n",
       "      <td>операции с коммерческой недвижимостью</td>\n",
       "      <td>919.401832</td>\n",
       "    </tr>\n",
       "    <tr>\n",
       "      <td>...</td>\n",
       "      <td>...</td>\n",
       "      <td>...</td>\n",
       "      <td>...</td>\n",
       "      <td>...</td>\n",
       "      <td>...</td>\n",
       "      <td>...</td>\n",
       "      <td>...</td>\n",
       "      <td>...</td>\n",
       "      <td>...</td>\n",
       "      <td>...</td>\n",
       "      <td>...</td>\n",
       "      <td>...</td>\n",
       "      <td>...</td>\n",
       "    </tr>\n",
       "    <tr>\n",
       "      <td>21505</td>\n",
       "      <td>0</td>\n",
       "      <td>338904.866406</td>\n",
       "      <td>53</td>\n",
       "      <td>среднее</td>\n",
       "      <td>1</td>\n",
       "      <td>гражданский брак</td>\n",
       "      <td>1</td>\n",
       "      <td>M</td>\n",
       "      <td>пенсионер</td>\n",
       "      <td>0</td>\n",
       "      <td>75439.993167</td>\n",
       "      <td>сыграть свадьбу</td>\n",
       "      <td>928.506483</td>\n",
       "    </tr>\n",
       "    <tr>\n",
       "      <td>21508</td>\n",
       "      <td>0</td>\n",
       "      <td>386497.714078</td>\n",
       "      <td>62</td>\n",
       "      <td>среднее</td>\n",
       "      <td>1</td>\n",
       "      <td>женат / замужем</td>\n",
       "      <td>0</td>\n",
       "      <td>M</td>\n",
       "      <td>пенсионер</td>\n",
       "      <td>0</td>\n",
       "      <td>72638.590915</td>\n",
       "      <td>недвижимость</td>\n",
       "      <td>1058.897847</td>\n",
       "    </tr>\n",
       "    <tr>\n",
       "      <td>21509</td>\n",
       "      <td>0</td>\n",
       "      <td>362161.054124</td>\n",
       "      <td>59</td>\n",
       "      <td>высшее</td>\n",
       "      <td>0</td>\n",
       "      <td>женат / замужем</td>\n",
       "      <td>0</td>\n",
       "      <td>M</td>\n",
       "      <td>пенсионер</td>\n",
       "      <td>0</td>\n",
       "      <td>73029.059379</td>\n",
       "      <td>операции с недвижимостью</td>\n",
       "      <td>992.222066</td>\n",
       "    </tr>\n",
       "    <tr>\n",
       "      <td>21518</td>\n",
       "      <td>0</td>\n",
       "      <td>373995.710838</td>\n",
       "      <td>59</td>\n",
       "      <td>СРЕДНЕЕ</td>\n",
       "      <td>1</td>\n",
       "      <td>женат / замужем</td>\n",
       "      <td>0</td>\n",
       "      <td>F</td>\n",
       "      <td>пенсионер</td>\n",
       "      <td>0</td>\n",
       "      <td>153864.650328</td>\n",
       "      <td>сделка с автомобилем</td>\n",
       "      <td>1024.645783</td>\n",
       "    </tr>\n",
       "    <tr>\n",
       "      <td>21521</td>\n",
       "      <td>0</td>\n",
       "      <td>343937.404131</td>\n",
       "      <td>67</td>\n",
       "      <td>среднее</td>\n",
       "      <td>1</td>\n",
       "      <td>женат / замужем</td>\n",
       "      <td>0</td>\n",
       "      <td>F</td>\n",
       "      <td>пенсионер</td>\n",
       "      <td>0</td>\n",
       "      <td>155999.806512</td>\n",
       "      <td>сделка с автомобилем</td>\n",
       "      <td>942.294258</td>\n",
       "    </tr>\n",
       "  </tbody>\n",
       "</table>\n",
       "<p>3519 rows × 13 columns</p>\n",
       "</div>"
      ],
      "text/plain": [
       "       children  days_employed  dob_years education  education_id  \\\n",
       "4             0  340266.072047         53   среднее             1   \n",
       "18            0  400281.136913         53   среднее             1   \n",
       "24            1  338551.952911         57   среднее             1   \n",
       "25            0  363548.489348         67   среднее             1   \n",
       "30            1  335581.668515         62   среднее             1   \n",
       "...         ...            ...        ...       ...           ...   \n",
       "21505         0  338904.866406         53   среднее             1   \n",
       "21508         0  386497.714078         62   среднее             1   \n",
       "21509         0  362161.054124         59    высшее             0   \n",
       "21518         0  373995.710838         59   СРЕДНЕЕ             1   \n",
       "21521         0  343937.404131         67   среднее             1   \n",
       "\n",
       "               family_status  family_status_id gender income_type  debt  \\\n",
       "4           гражданский брак                 1      F   пенсионер     0   \n",
       "18            вдовец / вдова                 2      F   пенсионер     0   \n",
       "24     Не женат / не замужем                 4      F   пенсионер     0   \n",
       "25           женат / замужем                 0      M   пенсионер     0   \n",
       "30           женат / замужем                 0      F   пенсионер     0   \n",
       "...                      ...               ...    ...         ...   ...   \n",
       "21505       гражданский брак                 1      M   пенсионер     0   \n",
       "21508        женат / замужем                 0      M   пенсионер     0   \n",
       "21509        женат / замужем                 0      M   пенсионер     0   \n",
       "21518        женат / замужем                 0      F   пенсионер     0   \n",
       "21521        женат / замужем                 0      F   пенсионер     0   \n",
       "\n",
       "        total_income                                purpose  years_employed  \n",
       "4      158616.077870                        сыграть свадьбу      932.235814  \n",
       "18      56823.777243     на покупку подержанного автомобиля     1096.660649  \n",
       "24     290547.235997  операции с коммерческой недвижимостью      927.539597  \n",
       "25      55112.757732                   покупка недвижимости      996.023258  \n",
       "30     171456.067993  операции с коммерческой недвижимостью      919.401832  \n",
       "...              ...                                    ...             ...  \n",
       "21505   75439.993167                        сыграть свадьбу      928.506483  \n",
       "21508   72638.590915                           недвижимость     1058.897847  \n",
       "21509   73029.059379               операции с недвижимостью      992.222066  \n",
       "21518  153864.650328                   сделка с автомобилем     1024.645783  \n",
       "21521  155999.806512                   сделка с автомобилем      942.294258  \n",
       "\n",
       "[3519 rows x 13 columns]"
      ]
     },
     "execution_count": 15,
     "metadata": {},
     "output_type": "execute_result"
    }
   ],
   "source": [
    "work_experience_table.loc[work_experience_table['years_employed'] > work_experience_table['dob_years']]\n"
   ]
  },
  {
   "cell_type": "markdown",
   "metadata": {},
   "source": [
    "Обнаружены артефакты в опыте работы, необыкновенно большое количество часов работы, но этот артефакт не требует обработки, так как\n",
    "Это не влияет на проект"
   ]
  },
  {
   "cell_type": "code",
   "execution_count": 16,
   "metadata": {},
   "outputs": [
    {
     "data": {
      "text/html": [
       "<div>\n",
       "<style scoped>\n",
       "    .dataframe tbody tr th:only-of-type {\n",
       "        vertical-align: middle;\n",
       "    }\n",
       "\n",
       "    .dataframe tbody tr th {\n",
       "        vertical-align: top;\n",
       "    }\n",
       "\n",
       "    .dataframe thead th {\n",
       "        text-align: right;\n",
       "    }\n",
       "</style>\n",
       "<table border=\"1\" class=\"dataframe\">\n",
       "  <thead>\n",
       "    <tr style=\"text-align: right;\">\n",
       "      <th></th>\n",
       "      <th>children</th>\n",
       "      <th>days_employed</th>\n",
       "      <th>dob_years</th>\n",
       "      <th>education</th>\n",
       "      <th>education_id</th>\n",
       "      <th>family_status</th>\n",
       "      <th>family_status_id</th>\n",
       "      <th>gender</th>\n",
       "      <th>income_type</th>\n",
       "      <th>debt</th>\n",
       "      <th>total_income</th>\n",
       "      <th>purpose</th>\n",
       "    </tr>\n",
       "  </thead>\n",
       "  <tbody>\n",
       "    <tr>\n",
       "      <td>0</td>\n",
       "      <td>1</td>\n",
       "      <td>8437.673028</td>\n",
       "      <td>42</td>\n",
       "      <td>высшее</td>\n",
       "      <td>0</td>\n",
       "      <td>женат / замужем</td>\n",
       "      <td>0</td>\n",
       "      <td>F</td>\n",
       "      <td>сотрудник</td>\n",
       "      <td>0</td>\n",
       "      <td>253875.639453</td>\n",
       "      <td>покупка жилья</td>\n",
       "    </tr>\n",
       "    <tr>\n",
       "      <td>1</td>\n",
       "      <td>1</td>\n",
       "      <td>4024.803754</td>\n",
       "      <td>36</td>\n",
       "      <td>среднее</td>\n",
       "      <td>1</td>\n",
       "      <td>женат / замужем</td>\n",
       "      <td>0</td>\n",
       "      <td>F</td>\n",
       "      <td>сотрудник</td>\n",
       "      <td>0</td>\n",
       "      <td>112080.014102</td>\n",
       "      <td>приобретение автомобиля</td>\n",
       "    </tr>\n",
       "    <tr>\n",
       "      <td>2</td>\n",
       "      <td>0</td>\n",
       "      <td>5623.422610</td>\n",
       "      <td>33</td>\n",
       "      <td>Среднее</td>\n",
       "      <td>1</td>\n",
       "      <td>женат / замужем</td>\n",
       "      <td>0</td>\n",
       "      <td>M</td>\n",
       "      <td>сотрудник</td>\n",
       "      <td>0</td>\n",
       "      <td>145885.952297</td>\n",
       "      <td>покупка жилья</td>\n",
       "    </tr>\n",
       "    <tr>\n",
       "      <td>3</td>\n",
       "      <td>3</td>\n",
       "      <td>4124.747207</td>\n",
       "      <td>32</td>\n",
       "      <td>среднее</td>\n",
       "      <td>1</td>\n",
       "      <td>женат / замужем</td>\n",
       "      <td>0</td>\n",
       "      <td>M</td>\n",
       "      <td>сотрудник</td>\n",
       "      <td>0</td>\n",
       "      <td>267628.550329</td>\n",
       "      <td>дополнительное образование</td>\n",
       "    </tr>\n",
       "    <tr>\n",
       "      <td>4</td>\n",
       "      <td>0</td>\n",
       "      <td>340266.072047</td>\n",
       "      <td>53</td>\n",
       "      <td>среднее</td>\n",
       "      <td>1</td>\n",
       "      <td>гражданский брак</td>\n",
       "      <td>1</td>\n",
       "      <td>F</td>\n",
       "      <td>пенсионер</td>\n",
       "      <td>0</td>\n",
       "      <td>158616.077870</td>\n",
       "      <td>сыграть свадьбу</td>\n",
       "    </tr>\n",
       "    <tr>\n",
       "      <td>...</td>\n",
       "      <td>...</td>\n",
       "      <td>...</td>\n",
       "      <td>...</td>\n",
       "      <td>...</td>\n",
       "      <td>...</td>\n",
       "      <td>...</td>\n",
       "      <td>...</td>\n",
       "      <td>...</td>\n",
       "      <td>...</td>\n",
       "      <td>...</td>\n",
       "      <td>...</td>\n",
       "      <td>...</td>\n",
       "    </tr>\n",
       "    <tr>\n",
       "      <td>21520</td>\n",
       "      <td>1</td>\n",
       "      <td>4529.316663</td>\n",
       "      <td>43</td>\n",
       "      <td>среднее</td>\n",
       "      <td>1</td>\n",
       "      <td>гражданский брак</td>\n",
       "      <td>1</td>\n",
       "      <td>F</td>\n",
       "      <td>компаньон</td>\n",
       "      <td>0</td>\n",
       "      <td>224791.862382</td>\n",
       "      <td>операции с жильем</td>\n",
       "    </tr>\n",
       "    <tr>\n",
       "      <td>21521</td>\n",
       "      <td>0</td>\n",
       "      <td>343937.404131</td>\n",
       "      <td>67</td>\n",
       "      <td>среднее</td>\n",
       "      <td>1</td>\n",
       "      <td>женат / замужем</td>\n",
       "      <td>0</td>\n",
       "      <td>F</td>\n",
       "      <td>пенсионер</td>\n",
       "      <td>0</td>\n",
       "      <td>155999.806512</td>\n",
       "      <td>сделка с автомобилем</td>\n",
       "    </tr>\n",
       "    <tr>\n",
       "      <td>21522</td>\n",
       "      <td>1</td>\n",
       "      <td>2113.346888</td>\n",
       "      <td>38</td>\n",
       "      <td>среднее</td>\n",
       "      <td>1</td>\n",
       "      <td>гражданский брак</td>\n",
       "      <td>1</td>\n",
       "      <td>M</td>\n",
       "      <td>сотрудник</td>\n",
       "      <td>1</td>\n",
       "      <td>89672.561153</td>\n",
       "      <td>недвижимость</td>\n",
       "    </tr>\n",
       "    <tr>\n",
       "      <td>21523</td>\n",
       "      <td>3</td>\n",
       "      <td>3112.481705</td>\n",
       "      <td>38</td>\n",
       "      <td>среднее</td>\n",
       "      <td>1</td>\n",
       "      <td>женат / замужем</td>\n",
       "      <td>0</td>\n",
       "      <td>M</td>\n",
       "      <td>сотрудник</td>\n",
       "      <td>1</td>\n",
       "      <td>244093.050500</td>\n",
       "      <td>на покупку своего автомобиля</td>\n",
       "    </tr>\n",
       "    <tr>\n",
       "      <td>21524</td>\n",
       "      <td>2</td>\n",
       "      <td>1984.507589</td>\n",
       "      <td>40</td>\n",
       "      <td>среднее</td>\n",
       "      <td>1</td>\n",
       "      <td>женат / замужем</td>\n",
       "      <td>0</td>\n",
       "      <td>F</td>\n",
       "      <td>сотрудник</td>\n",
       "      <td>0</td>\n",
       "      <td>82047.418899</td>\n",
       "      <td>на покупку автомобиля</td>\n",
       "    </tr>\n",
       "  </tbody>\n",
       "</table>\n",
       "<p>21525 rows × 12 columns</p>\n",
       "</div>"
      ],
      "text/plain": [
       "       children  days_employed  dob_years education  education_id  \\\n",
       "0             1    8437.673028         42    высшее             0   \n",
       "1             1    4024.803754         36   среднее             1   \n",
       "2             0    5623.422610         33   Среднее             1   \n",
       "3             3    4124.747207         32   среднее             1   \n",
       "4             0  340266.072047         53   среднее             1   \n",
       "...         ...            ...        ...       ...           ...   \n",
       "21520         1    4529.316663         43   среднее             1   \n",
       "21521         0  343937.404131         67   среднее             1   \n",
       "21522         1    2113.346888         38   среднее             1   \n",
       "21523         3    3112.481705         38   среднее             1   \n",
       "21524         2    1984.507589         40   среднее             1   \n",
       "\n",
       "          family_status  family_status_id gender income_type  debt  \\\n",
       "0       женат / замужем                 0      F   сотрудник     0   \n",
       "1       женат / замужем                 0      F   сотрудник     0   \n",
       "2       женат / замужем                 0      M   сотрудник     0   \n",
       "3       женат / замужем                 0      M   сотрудник     0   \n",
       "4      гражданский брак                 1      F   пенсионер     0   \n",
       "...                 ...               ...    ...         ...   ...   \n",
       "21520  гражданский брак                 1      F   компаньон     0   \n",
       "21521   женат / замужем                 0      F   пенсионер     0   \n",
       "21522  гражданский брак                 1      M   сотрудник     1   \n",
       "21523   женат / замужем                 0      M   сотрудник     1   \n",
       "21524   женат / замужем                 0      F   сотрудник     0   \n",
       "\n",
       "        total_income                       purpose  \n",
       "0      253875.639453                 покупка жилья  \n",
       "1      112080.014102       приобретение автомобиля  \n",
       "2      145885.952297                 покупка жилья  \n",
       "3      267628.550329    дополнительное образование  \n",
       "4      158616.077870               сыграть свадьбу  \n",
       "...              ...                           ...  \n",
       "21520  224791.862382             операции с жильем  \n",
       "21521  155999.806512          сделка с автомобилем  \n",
       "21522   89672.561153                  недвижимость  \n",
       "21523  244093.050500  на покупку своего автомобиля  \n",
       "21524   82047.418899         на покупку автомобиля  \n",
       "\n",
       "[21525 rows x 12 columns]"
      ]
     },
     "execution_count": 16,
     "metadata": {},
     "output_type": "execute_result"
    }
   ],
   "source": [
    "a = []\n",
    "for i in df.columns:\n",
    "    if i != 'years_employed':\n",
    "        a.append(i)    \n",
    "df = df.loc[:, a]\n",
    "df"
   ]
  },
  {
   "cell_type": "code",
   "execution_count": 17,
   "metadata": {},
   "outputs": [
    {
     "data": {
      "text/html": [
       "<div>\n",
       "<style scoped>\n",
       "    .dataframe tbody tr th:only-of-type {\n",
       "        vertical-align: middle;\n",
       "    }\n",
       "\n",
       "    .dataframe tbody tr th {\n",
       "        vertical-align: top;\n",
       "    }\n",
       "\n",
       "    .dataframe thead th {\n",
       "        text-align: right;\n",
       "    }\n",
       "</style>\n",
       "<table border=\"1\" class=\"dataframe\">\n",
       "  <thead>\n",
       "    <tr style=\"text-align: right;\">\n",
       "      <th></th>\n",
       "      <th>children</th>\n",
       "      <th>days_employed</th>\n",
       "      <th>dob_years</th>\n",
       "      <th>education</th>\n",
       "      <th>education_id</th>\n",
       "      <th>family_status</th>\n",
       "      <th>family_status_id</th>\n",
       "      <th>gender</th>\n",
       "      <th>income_type</th>\n",
       "      <th>debt</th>\n",
       "      <th>total_income</th>\n",
       "      <th>purpose</th>\n",
       "    </tr>\n",
       "  </thead>\n",
       "  <tbody>\n",
       "    <tr>\n",
       "      <td>0</td>\n",
       "      <td>1</td>\n",
       "      <td>8437</td>\n",
       "      <td>42</td>\n",
       "      <td>высшее</td>\n",
       "      <td>0</td>\n",
       "      <td>женат / замужем</td>\n",
       "      <td>0</td>\n",
       "      <td>F</td>\n",
       "      <td>сотрудник</td>\n",
       "      <td>0</td>\n",
       "      <td>253875</td>\n",
       "      <td>покупка жилья</td>\n",
       "    </tr>\n",
       "    <tr>\n",
       "      <td>1</td>\n",
       "      <td>1</td>\n",
       "      <td>4024</td>\n",
       "      <td>36</td>\n",
       "      <td>среднее</td>\n",
       "      <td>1</td>\n",
       "      <td>женат / замужем</td>\n",
       "      <td>0</td>\n",
       "      <td>F</td>\n",
       "      <td>сотрудник</td>\n",
       "      <td>0</td>\n",
       "      <td>112080</td>\n",
       "      <td>приобретение автомобиля</td>\n",
       "    </tr>\n",
       "    <tr>\n",
       "      <td>2</td>\n",
       "      <td>0</td>\n",
       "      <td>5623</td>\n",
       "      <td>33</td>\n",
       "      <td>Среднее</td>\n",
       "      <td>1</td>\n",
       "      <td>женат / замужем</td>\n",
       "      <td>0</td>\n",
       "      <td>M</td>\n",
       "      <td>сотрудник</td>\n",
       "      <td>0</td>\n",
       "      <td>145885</td>\n",
       "      <td>покупка жилья</td>\n",
       "    </tr>\n",
       "    <tr>\n",
       "      <td>3</td>\n",
       "      <td>3</td>\n",
       "      <td>4124</td>\n",
       "      <td>32</td>\n",
       "      <td>среднее</td>\n",
       "      <td>1</td>\n",
       "      <td>женат / замужем</td>\n",
       "      <td>0</td>\n",
       "      <td>M</td>\n",
       "      <td>сотрудник</td>\n",
       "      <td>0</td>\n",
       "      <td>267628</td>\n",
       "      <td>дополнительное образование</td>\n",
       "    </tr>\n",
       "    <tr>\n",
       "      <td>4</td>\n",
       "      <td>0</td>\n",
       "      <td>340266</td>\n",
       "      <td>53</td>\n",
       "      <td>среднее</td>\n",
       "      <td>1</td>\n",
       "      <td>гражданский брак</td>\n",
       "      <td>1</td>\n",
       "      <td>F</td>\n",
       "      <td>пенсионер</td>\n",
       "      <td>0</td>\n",
       "      <td>158616</td>\n",
       "      <td>сыграть свадьбу</td>\n",
       "    </tr>\n",
       "    <tr>\n",
       "      <td>...</td>\n",
       "      <td>...</td>\n",
       "      <td>...</td>\n",
       "      <td>...</td>\n",
       "      <td>...</td>\n",
       "      <td>...</td>\n",
       "      <td>...</td>\n",
       "      <td>...</td>\n",
       "      <td>...</td>\n",
       "      <td>...</td>\n",
       "      <td>...</td>\n",
       "      <td>...</td>\n",
       "      <td>...</td>\n",
       "    </tr>\n",
       "    <tr>\n",
       "      <td>21520</td>\n",
       "      <td>1</td>\n",
       "      <td>4529</td>\n",
       "      <td>43</td>\n",
       "      <td>среднее</td>\n",
       "      <td>1</td>\n",
       "      <td>гражданский брак</td>\n",
       "      <td>1</td>\n",
       "      <td>F</td>\n",
       "      <td>компаньон</td>\n",
       "      <td>0</td>\n",
       "      <td>224791</td>\n",
       "      <td>операции с жильем</td>\n",
       "    </tr>\n",
       "    <tr>\n",
       "      <td>21521</td>\n",
       "      <td>0</td>\n",
       "      <td>343937</td>\n",
       "      <td>67</td>\n",
       "      <td>среднее</td>\n",
       "      <td>1</td>\n",
       "      <td>женат / замужем</td>\n",
       "      <td>0</td>\n",
       "      <td>F</td>\n",
       "      <td>пенсионер</td>\n",
       "      <td>0</td>\n",
       "      <td>155999</td>\n",
       "      <td>сделка с автомобилем</td>\n",
       "    </tr>\n",
       "    <tr>\n",
       "      <td>21522</td>\n",
       "      <td>1</td>\n",
       "      <td>2113</td>\n",
       "      <td>38</td>\n",
       "      <td>среднее</td>\n",
       "      <td>1</td>\n",
       "      <td>гражданский брак</td>\n",
       "      <td>1</td>\n",
       "      <td>M</td>\n",
       "      <td>сотрудник</td>\n",
       "      <td>1</td>\n",
       "      <td>89672</td>\n",
       "      <td>недвижимость</td>\n",
       "    </tr>\n",
       "    <tr>\n",
       "      <td>21523</td>\n",
       "      <td>3</td>\n",
       "      <td>3112</td>\n",
       "      <td>38</td>\n",
       "      <td>среднее</td>\n",
       "      <td>1</td>\n",
       "      <td>женат / замужем</td>\n",
       "      <td>0</td>\n",
       "      <td>M</td>\n",
       "      <td>сотрудник</td>\n",
       "      <td>1</td>\n",
       "      <td>244093</td>\n",
       "      <td>на покупку своего автомобиля</td>\n",
       "    </tr>\n",
       "    <tr>\n",
       "      <td>21524</td>\n",
       "      <td>2</td>\n",
       "      <td>1984</td>\n",
       "      <td>40</td>\n",
       "      <td>среднее</td>\n",
       "      <td>1</td>\n",
       "      <td>женат / замужем</td>\n",
       "      <td>0</td>\n",
       "      <td>F</td>\n",
       "      <td>сотрудник</td>\n",
       "      <td>0</td>\n",
       "      <td>82047</td>\n",
       "      <td>на покупку автомобиля</td>\n",
       "    </tr>\n",
       "  </tbody>\n",
       "</table>\n",
       "<p>21525 rows × 12 columns</p>\n",
       "</div>"
      ],
      "text/plain": [
       "       children  days_employed  dob_years education  education_id  \\\n",
       "0             1           8437         42    высшее             0   \n",
       "1             1           4024         36   среднее             1   \n",
       "2             0           5623         33   Среднее             1   \n",
       "3             3           4124         32   среднее             1   \n",
       "4             0         340266         53   среднее             1   \n",
       "...         ...            ...        ...       ...           ...   \n",
       "21520         1           4529         43   среднее             1   \n",
       "21521         0         343937         67   среднее             1   \n",
       "21522         1           2113         38   среднее             1   \n",
       "21523         3           3112         38   среднее             1   \n",
       "21524         2           1984         40   среднее             1   \n",
       "\n",
       "          family_status  family_status_id gender income_type  debt  \\\n",
       "0       женат / замужем                 0      F   сотрудник     0   \n",
       "1       женат / замужем                 0      F   сотрудник     0   \n",
       "2       женат / замужем                 0      M   сотрудник     0   \n",
       "3       женат / замужем                 0      M   сотрудник     0   \n",
       "4      гражданский брак                 1      F   пенсионер     0   \n",
       "...                 ...               ...    ...         ...   ...   \n",
       "21520  гражданский брак                 1      F   компаньон     0   \n",
       "21521   женат / замужем                 0      F   пенсионер     0   \n",
       "21522  гражданский брак                 1      M   сотрудник     1   \n",
       "21523   женат / замужем                 0      M   сотрудник     1   \n",
       "21524   женат / замужем                 0      F   сотрудник     0   \n",
       "\n",
       "       total_income                       purpose  \n",
       "0            253875                 покупка жилья  \n",
       "1            112080       приобретение автомобиля  \n",
       "2            145885                 покупка жилья  \n",
       "3            267628    дополнительное образование  \n",
       "4            158616               сыграть свадьбу  \n",
       "...             ...                           ...  \n",
       "21520        224791             операции с жильем  \n",
       "21521        155999          сделка с автомобилем  \n",
       "21522         89672                  недвижимость  \n",
       "21523        244093  на покупку своего автомобиля  \n",
       "21524         82047         на покупку автомобиля  \n",
       "\n",
       "[21525 rows x 12 columns]"
      ]
     },
     "execution_count": 17,
     "metadata": {},
     "output_type": "execute_result"
    }
   ],
   "source": [
    "#замена типов данных\n",
    "df['days_employed'] = df['days_employed'].astype(int)\n",
    "df['total_income'] = df['total_income'].astype(int)\n",
    "df"
   ]
  },
  {
   "cell_type": "markdown",
   "metadata": {},
   "source": []
  },
  {
   "cell_type": "markdown",
   "metadata": {},
   "source": [
    "Вывод: Типы данных заменены в столбцах days_employed и total_income, так как целые числа более читаемые и с ними удобнее работать"
   ]
  },
  {
   "cell_type": "markdown",
   "metadata": {},
   "source": [
    "### Обработка дубликатов"
   ]
  },
  {
   "cell_type": "code",
   "execution_count": 18,
   "metadata": {},
   "outputs": [
    {
     "data": {
      "text/plain": [
       "54"
      ]
     },
     "execution_count": 18,
     "metadata": {},
     "output_type": "execute_result"
    }
   ],
   "source": [
    "df.duplicated().sum()\n"
   ]
  },
  {
   "cell_type": "code",
   "execution_count": 19,
   "metadata": {},
   "outputs": [],
   "source": [
    "#возможно дубликаты образовались в связи с заменой значений\n",
    "#их количество не очень большое, поэтому можно просто избавиться от явных дубликатов\n",
    "df = df.drop_duplicates()"
   ]
  },
  {
   "cell_type": "code",
   "execution_count": 20,
   "metadata": {},
   "outputs": [
    {
     "data": {
      "text/html": [
       "<div>\n",
       "<style scoped>\n",
       "    .dataframe tbody tr th:only-of-type {\n",
       "        vertical-align: middle;\n",
       "    }\n",
       "\n",
       "    .dataframe tbody tr th {\n",
       "        vertical-align: top;\n",
       "    }\n",
       "\n",
       "    .dataframe thead th {\n",
       "        text-align: right;\n",
       "    }\n",
       "</style>\n",
       "<table border=\"1\" class=\"dataframe\">\n",
       "  <thead>\n",
       "    <tr style=\"text-align: right;\">\n",
       "      <th></th>\n",
       "      <th>children</th>\n",
       "      <th>days_employed</th>\n",
       "      <th>dob_years</th>\n",
       "      <th>education</th>\n",
       "      <th>education_id</th>\n",
       "      <th>family_status</th>\n",
       "      <th>family_status_id</th>\n",
       "      <th>gender</th>\n",
       "      <th>income_type</th>\n",
       "      <th>debt</th>\n",
       "      <th>total_income</th>\n",
       "      <th>purpose</th>\n",
       "    </tr>\n",
       "  </thead>\n",
       "  <tbody>\n",
       "    <tr>\n",
       "      <td>0</td>\n",
       "      <td>1</td>\n",
       "      <td>8437</td>\n",
       "      <td>42</td>\n",
       "      <td>высшее</td>\n",
       "      <td>0</td>\n",
       "      <td>женат / замужем</td>\n",
       "      <td>0</td>\n",
       "      <td>F</td>\n",
       "      <td>сотрудник</td>\n",
       "      <td>0</td>\n",
       "      <td>253875</td>\n",
       "      <td>покупка жилья</td>\n",
       "    </tr>\n",
       "    <tr>\n",
       "      <td>1</td>\n",
       "      <td>1</td>\n",
       "      <td>4024</td>\n",
       "      <td>36</td>\n",
       "      <td>среднее</td>\n",
       "      <td>1</td>\n",
       "      <td>женат / замужем</td>\n",
       "      <td>0</td>\n",
       "      <td>F</td>\n",
       "      <td>сотрудник</td>\n",
       "      <td>0</td>\n",
       "      <td>112080</td>\n",
       "      <td>приобретение автомобиля</td>\n",
       "    </tr>\n",
       "    <tr>\n",
       "      <td>2</td>\n",
       "      <td>0</td>\n",
       "      <td>5623</td>\n",
       "      <td>33</td>\n",
       "      <td>Среднее</td>\n",
       "      <td>1</td>\n",
       "      <td>женат / замужем</td>\n",
       "      <td>0</td>\n",
       "      <td>M</td>\n",
       "      <td>сотрудник</td>\n",
       "      <td>0</td>\n",
       "      <td>145885</td>\n",
       "      <td>покупка жилья</td>\n",
       "    </tr>\n",
       "    <tr>\n",
       "      <td>3</td>\n",
       "      <td>3</td>\n",
       "      <td>4124</td>\n",
       "      <td>32</td>\n",
       "      <td>среднее</td>\n",
       "      <td>1</td>\n",
       "      <td>женат / замужем</td>\n",
       "      <td>0</td>\n",
       "      <td>M</td>\n",
       "      <td>сотрудник</td>\n",
       "      <td>0</td>\n",
       "      <td>267628</td>\n",
       "      <td>дополнительное образование</td>\n",
       "    </tr>\n",
       "    <tr>\n",
       "      <td>4</td>\n",
       "      <td>0</td>\n",
       "      <td>340266</td>\n",
       "      <td>53</td>\n",
       "      <td>среднее</td>\n",
       "      <td>1</td>\n",
       "      <td>гражданский брак</td>\n",
       "      <td>1</td>\n",
       "      <td>F</td>\n",
       "      <td>пенсионер</td>\n",
       "      <td>0</td>\n",
       "      <td>158616</td>\n",
       "      <td>сыграть свадьбу</td>\n",
       "    </tr>\n",
       "    <tr>\n",
       "      <td>...</td>\n",
       "      <td>...</td>\n",
       "      <td>...</td>\n",
       "      <td>...</td>\n",
       "      <td>...</td>\n",
       "      <td>...</td>\n",
       "      <td>...</td>\n",
       "      <td>...</td>\n",
       "      <td>...</td>\n",
       "      <td>...</td>\n",
       "      <td>...</td>\n",
       "      <td>...</td>\n",
       "      <td>...</td>\n",
       "    </tr>\n",
       "    <tr>\n",
       "      <td>21520</td>\n",
       "      <td>1</td>\n",
       "      <td>4529</td>\n",
       "      <td>43</td>\n",
       "      <td>среднее</td>\n",
       "      <td>1</td>\n",
       "      <td>гражданский брак</td>\n",
       "      <td>1</td>\n",
       "      <td>F</td>\n",
       "      <td>компаньон</td>\n",
       "      <td>0</td>\n",
       "      <td>224791</td>\n",
       "      <td>операции с жильем</td>\n",
       "    </tr>\n",
       "    <tr>\n",
       "      <td>21521</td>\n",
       "      <td>0</td>\n",
       "      <td>343937</td>\n",
       "      <td>67</td>\n",
       "      <td>среднее</td>\n",
       "      <td>1</td>\n",
       "      <td>женат / замужем</td>\n",
       "      <td>0</td>\n",
       "      <td>F</td>\n",
       "      <td>пенсионер</td>\n",
       "      <td>0</td>\n",
       "      <td>155999</td>\n",
       "      <td>сделка с автомобилем</td>\n",
       "    </tr>\n",
       "    <tr>\n",
       "      <td>21522</td>\n",
       "      <td>1</td>\n",
       "      <td>2113</td>\n",
       "      <td>38</td>\n",
       "      <td>среднее</td>\n",
       "      <td>1</td>\n",
       "      <td>гражданский брак</td>\n",
       "      <td>1</td>\n",
       "      <td>M</td>\n",
       "      <td>сотрудник</td>\n",
       "      <td>1</td>\n",
       "      <td>89672</td>\n",
       "      <td>недвижимость</td>\n",
       "    </tr>\n",
       "    <tr>\n",
       "      <td>21523</td>\n",
       "      <td>3</td>\n",
       "      <td>3112</td>\n",
       "      <td>38</td>\n",
       "      <td>среднее</td>\n",
       "      <td>1</td>\n",
       "      <td>женат / замужем</td>\n",
       "      <td>0</td>\n",
       "      <td>M</td>\n",
       "      <td>сотрудник</td>\n",
       "      <td>1</td>\n",
       "      <td>244093</td>\n",
       "      <td>на покупку своего автомобиля</td>\n",
       "    </tr>\n",
       "    <tr>\n",
       "      <td>21524</td>\n",
       "      <td>2</td>\n",
       "      <td>1984</td>\n",
       "      <td>40</td>\n",
       "      <td>среднее</td>\n",
       "      <td>1</td>\n",
       "      <td>женат / замужем</td>\n",
       "      <td>0</td>\n",
       "      <td>F</td>\n",
       "      <td>сотрудник</td>\n",
       "      <td>0</td>\n",
       "      <td>82047</td>\n",
       "      <td>на покупку автомобиля</td>\n",
       "    </tr>\n",
       "  </tbody>\n",
       "</table>\n",
       "<p>21471 rows × 12 columns</p>\n",
       "</div>"
      ],
      "text/plain": [
       "       children  days_employed  dob_years education  education_id  \\\n",
       "0             1           8437         42    высшее             0   \n",
       "1             1           4024         36   среднее             1   \n",
       "2             0           5623         33   Среднее             1   \n",
       "3             3           4124         32   среднее             1   \n",
       "4             0         340266         53   среднее             1   \n",
       "...         ...            ...        ...       ...           ...   \n",
       "21520         1           4529         43   среднее             1   \n",
       "21521         0         343937         67   среднее             1   \n",
       "21522         1           2113         38   среднее             1   \n",
       "21523         3           3112         38   среднее             1   \n",
       "21524         2           1984         40   среднее             1   \n",
       "\n",
       "          family_status  family_status_id gender income_type  debt  \\\n",
       "0       женат / замужем                 0      F   сотрудник     0   \n",
       "1       женат / замужем                 0      F   сотрудник     0   \n",
       "2       женат / замужем                 0      M   сотрудник     0   \n",
       "3       женат / замужем                 0      M   сотрудник     0   \n",
       "4      гражданский брак                 1      F   пенсионер     0   \n",
       "...                 ...               ...    ...         ...   ...   \n",
       "21520  гражданский брак                 1      F   компаньон     0   \n",
       "21521   женат / замужем                 0      F   пенсионер     0   \n",
       "21522  гражданский брак                 1      M   сотрудник     1   \n",
       "21523   женат / замужем                 0      M   сотрудник     1   \n",
       "21524   женат / замужем                 0      F   сотрудник     0   \n",
       "\n",
       "       total_income                       purpose  \n",
       "0            253875                 покупка жилья  \n",
       "1            112080       приобретение автомобиля  \n",
       "2            145885                 покупка жилья  \n",
       "3            267628    дополнительное образование  \n",
       "4            158616               сыграть свадьбу  \n",
       "...             ...                           ...  \n",
       "21520        224791             операции с жильем  \n",
       "21521        155999          сделка с автомобилем  \n",
       "21522         89672                  недвижимость  \n",
       "21523        244093  на покупку своего автомобиля  \n",
       "21524         82047         на покупку автомобиля  \n",
       "\n",
       "[21471 rows x 12 columns]"
      ]
     },
     "execution_count": 20,
     "metadata": {},
     "output_type": "execute_result"
    }
   ],
   "source": [
    "df"
   ]
  },
  {
   "cell_type": "code",
   "execution_count": 21,
   "metadata": {},
   "outputs": [
    {
     "data": {
      "text/plain": [
       "среднее                13705\n",
       "высшее                  4710\n",
       "СРЕДНЕЕ                  772\n",
       "Среднее                  711\n",
       "неоконченное высшее      668\n",
       "ВЫСШЕЕ                   273\n",
       "Высшее                   268\n",
       "начальное                250\n",
       "Неоконченное высшее       47\n",
       "НЕОКОНЧЕННОЕ ВЫСШЕЕ       29\n",
       "НАЧАЛЬНОЕ                 17\n",
       "Начальное                 15\n",
       "ученая степень             4\n",
       "Ученая степень             1\n",
       "УЧЕНАЯ СТЕПЕНЬ             1\n",
       "Name: education, dtype: int64"
      ]
     },
     "execution_count": 21,
     "metadata": {},
     "output_type": "execute_result"
    }
   ],
   "source": [
    "#В столбце education видна разница в регистре\n",
    "df['education'].value_counts()"
   ]
  },
  {
   "cell_type": "code",
   "execution_count": 22,
   "metadata": {},
   "outputs": [],
   "source": [
    "def low(string):\n",
    "    return string.lower()\n",
    "    "
   ]
  },
  {
   "cell_type": "code",
   "execution_count": 23,
   "metadata": {},
   "outputs": [
    {
     "name": "stderr",
     "output_type": "stream",
     "text": [
      "/opt/conda/lib/python3.7/site-packages/ipykernel_launcher.py:1: SettingWithCopyWarning: \n",
      "A value is trying to be set on a copy of a slice from a DataFrame.\n",
      "Try using .loc[row_indexer,col_indexer] = value instead\n",
      "\n",
      "See the caveats in the documentation: http://pandas.pydata.org/pandas-docs/stable/user_guide/indexing.html#returning-a-view-versus-a-copy\n",
      "  \"\"\"Entry point for launching an IPython kernel.\n"
     ]
    },
    {
     "data": {
      "text/plain": [
       "array(['высшее', 'среднее', 'неоконченное высшее', 'начальное',\n",
       "       'ученая степень'], dtype=object)"
      ]
     },
     "execution_count": 23,
     "metadata": {},
     "output_type": "execute_result"
    }
   ],
   "source": [
    "df['education'] = df['education'].apply(low)\n",
    "df['education'].unique()"
   ]
  },
  {
   "cell_type": "code",
   "execution_count": 24,
   "metadata": {},
   "outputs": [
    {
     "data": {
      "text/plain": [
       "женат / замужем          12344\n",
       "гражданский брак          4163\n",
       "Не женат / не замужем     2810\n",
       "в разводе                 1195\n",
       "вдовец / вдова             959\n",
       "Name: family_status, dtype: int64"
      ]
     },
     "execution_count": 24,
     "metadata": {},
     "output_type": "execute_result"
    }
   ],
   "source": [
    "df['family_status'].value_counts()\n",
    "#Проверка на проблемы с регистром в столбце с инфой о семейном положении"
   ]
  },
  {
   "cell_type": "code",
   "execution_count": 25,
   "metadata": {},
   "outputs": [
    {
     "data": {
      "text/plain": [
       "array([ 1,  0,  3,  2, -1,  4, 20,  5])"
      ]
     },
     "execution_count": 25,
     "metadata": {},
     "output_type": "execute_result"
    }
   ],
   "source": [
    "df['children'].unique()\n",
    "#Найдена ошибка в столбце с детьми, отрицательное кол-во детей и слишком большое количество"
   ]
  },
  {
   "cell_type": "code",
   "execution_count": 26,
   "metadata": {},
   "outputs": [
    {
     "name": "stderr",
     "output_type": "stream",
     "text": [
      "/opt/conda/lib/python3.7/site-packages/ipykernel_launcher.py:1: SettingWithCopyWarning: \n",
      "A value is trying to be set on a copy of a slice from a DataFrame.\n",
      "Try using .loc[row_indexer,col_indexer] = value instead\n",
      "\n",
      "See the caveats in the documentation: http://pandas.pydata.org/pandas-docs/stable/user_guide/indexing.html#returning-a-view-versus-a-copy\n",
      "  \"\"\"Entry point for launching an IPython kernel.\n"
     ]
    },
    {
     "data": {
      "text/plain": [
       "array([ 1,  0,  3,  2,  4, 20,  5])"
      ]
     },
     "execution_count": 26,
     "metadata": {},
     "output_type": "execute_result"
    }
   ],
   "source": [
    "df['children'] = abs(df['children'])\n",
    "df['children'].unique()\n",
    "#обработка отрицательных значений"
   ]
  },
  {
   "cell_type": "code",
   "execution_count": 27,
   "metadata": {},
   "outputs": [
    {
     "data": {
      "text/html": [
       "<div>\n",
       "<style scoped>\n",
       "    .dataframe tbody tr th:only-of-type {\n",
       "        vertical-align: middle;\n",
       "    }\n",
       "\n",
       "    .dataframe tbody tr th {\n",
       "        vertical-align: top;\n",
       "    }\n",
       "\n",
       "    .dataframe thead th {\n",
       "        text-align: right;\n",
       "    }\n",
       "</style>\n",
       "<table border=\"1\" class=\"dataframe\">\n",
       "  <thead>\n",
       "    <tr style=\"text-align: right;\">\n",
       "      <th></th>\n",
       "      <th>children</th>\n",
       "      <th>days_employed</th>\n",
       "      <th>dob_years</th>\n",
       "      <th>education</th>\n",
       "      <th>education_id</th>\n",
       "      <th>family_status</th>\n",
       "      <th>family_status_id</th>\n",
       "      <th>gender</th>\n",
       "      <th>income_type</th>\n",
       "      <th>debt</th>\n",
       "      <th>total_income</th>\n",
       "      <th>purpose</th>\n",
       "    </tr>\n",
       "  </thead>\n",
       "  <tbody>\n",
       "    <tr>\n",
       "      <td>606</td>\n",
       "      <td>20</td>\n",
       "      <td>880</td>\n",
       "      <td>21</td>\n",
       "      <td>среднее</td>\n",
       "      <td>1</td>\n",
       "      <td>женат / замужем</td>\n",
       "      <td>0</td>\n",
       "      <td>M</td>\n",
       "      <td>компаньон</td>\n",
       "      <td>0</td>\n",
       "      <td>145334</td>\n",
       "      <td>покупка жилья</td>\n",
       "    </tr>\n",
       "    <tr>\n",
       "      <td>720</td>\n",
       "      <td>20</td>\n",
       "      <td>855</td>\n",
       "      <td>44</td>\n",
       "      <td>среднее</td>\n",
       "      <td>1</td>\n",
       "      <td>женат / замужем</td>\n",
       "      <td>0</td>\n",
       "      <td>F</td>\n",
       "      <td>компаньон</td>\n",
       "      <td>0</td>\n",
       "      <td>112998</td>\n",
       "      <td>покупка недвижимости</td>\n",
       "    </tr>\n",
       "    <tr>\n",
       "      <td>1074</td>\n",
       "      <td>20</td>\n",
       "      <td>3310</td>\n",
       "      <td>56</td>\n",
       "      <td>среднее</td>\n",
       "      <td>1</td>\n",
       "      <td>женат / замужем</td>\n",
       "      <td>0</td>\n",
       "      <td>F</td>\n",
       "      <td>сотрудник</td>\n",
       "      <td>1</td>\n",
       "      <td>229518</td>\n",
       "      <td>получение образования</td>\n",
       "    </tr>\n",
       "    <tr>\n",
       "      <td>2510</td>\n",
       "      <td>20</td>\n",
       "      <td>2714</td>\n",
       "      <td>59</td>\n",
       "      <td>высшее</td>\n",
       "      <td>0</td>\n",
       "      <td>вдовец / вдова</td>\n",
       "      <td>2</td>\n",
       "      <td>F</td>\n",
       "      <td>сотрудник</td>\n",
       "      <td>0</td>\n",
       "      <td>264474</td>\n",
       "      <td>операции с коммерческой недвижимостью</td>\n",
       "    </tr>\n",
       "    <tr>\n",
       "      <td>2941</td>\n",
       "      <td>20</td>\n",
       "      <td>2161</td>\n",
       "      <td>0</td>\n",
       "      <td>среднее</td>\n",
       "      <td>1</td>\n",
       "      <td>женат / замужем</td>\n",
       "      <td>0</td>\n",
       "      <td>F</td>\n",
       "      <td>сотрудник</td>\n",
       "      <td>0</td>\n",
       "      <td>199739</td>\n",
       "      <td>на покупку автомобиля</td>\n",
       "    </tr>\n",
       "    <tr>\n",
       "      <td>...</td>\n",
       "      <td>...</td>\n",
       "      <td>...</td>\n",
       "      <td>...</td>\n",
       "      <td>...</td>\n",
       "      <td>...</td>\n",
       "      <td>...</td>\n",
       "      <td>...</td>\n",
       "      <td>...</td>\n",
       "      <td>...</td>\n",
       "      <td>...</td>\n",
       "      <td>...</td>\n",
       "      <td>...</td>\n",
       "    </tr>\n",
       "    <tr>\n",
       "      <td>21008</td>\n",
       "      <td>20</td>\n",
       "      <td>1240</td>\n",
       "      <td>40</td>\n",
       "      <td>среднее</td>\n",
       "      <td>1</td>\n",
       "      <td>женат / замужем</td>\n",
       "      <td>0</td>\n",
       "      <td>F</td>\n",
       "      <td>сотрудник</td>\n",
       "      <td>1</td>\n",
       "      <td>133524</td>\n",
       "      <td>свой автомобиль</td>\n",
       "    </tr>\n",
       "    <tr>\n",
       "      <td>21325</td>\n",
       "      <td>20</td>\n",
       "      <td>601</td>\n",
       "      <td>37</td>\n",
       "      <td>среднее</td>\n",
       "      <td>1</td>\n",
       "      <td>женат / замужем</td>\n",
       "      <td>0</td>\n",
       "      <td>F</td>\n",
       "      <td>компаньон</td>\n",
       "      <td>0</td>\n",
       "      <td>102986</td>\n",
       "      <td>профильное образование</td>\n",
       "    </tr>\n",
       "    <tr>\n",
       "      <td>21390</td>\n",
       "      <td>20</td>\n",
       "      <td>0</td>\n",
       "      <td>53</td>\n",
       "      <td>среднее</td>\n",
       "      <td>1</td>\n",
       "      <td>женат / замужем</td>\n",
       "      <td>0</td>\n",
       "      <td>M</td>\n",
       "      <td>компаньон</td>\n",
       "      <td>0</td>\n",
       "      <td>162401</td>\n",
       "      <td>покупка жилой недвижимости</td>\n",
       "    </tr>\n",
       "    <tr>\n",
       "      <td>21404</td>\n",
       "      <td>20</td>\n",
       "      <td>494</td>\n",
       "      <td>52</td>\n",
       "      <td>среднее</td>\n",
       "      <td>1</td>\n",
       "      <td>женат / замужем</td>\n",
       "      <td>0</td>\n",
       "      <td>M</td>\n",
       "      <td>компаньон</td>\n",
       "      <td>0</td>\n",
       "      <td>156629</td>\n",
       "      <td>операции со своей недвижимостью</td>\n",
       "    </tr>\n",
       "    <tr>\n",
       "      <td>21491</td>\n",
       "      <td>20</td>\n",
       "      <td>173</td>\n",
       "      <td>27</td>\n",
       "      <td>среднее</td>\n",
       "      <td>1</td>\n",
       "      <td>женат / замужем</td>\n",
       "      <td>0</td>\n",
       "      <td>F</td>\n",
       "      <td>сотрудник</td>\n",
       "      <td>0</td>\n",
       "      <td>155520</td>\n",
       "      <td>на покупку подержанного автомобиля</td>\n",
       "    </tr>\n",
       "  </tbody>\n",
       "</table>\n",
       "<p>76 rows × 12 columns</p>\n",
       "</div>"
      ],
      "text/plain": [
       "       children  days_employed  dob_years education  education_id  \\\n",
       "606          20            880         21   среднее             1   \n",
       "720          20            855         44   среднее             1   \n",
       "1074         20           3310         56   среднее             1   \n",
       "2510         20           2714         59    высшее             0   \n",
       "2941         20           2161          0   среднее             1   \n",
       "...         ...            ...        ...       ...           ...   \n",
       "21008        20           1240         40   среднее             1   \n",
       "21325        20            601         37   среднее             1   \n",
       "21390        20              0         53   среднее             1   \n",
       "21404        20            494         52   среднее             1   \n",
       "21491        20            173         27   среднее             1   \n",
       "\n",
       "         family_status  family_status_id gender income_type  debt  \\\n",
       "606    женат / замужем                 0      M   компаньон     0   \n",
       "720    женат / замужем                 0      F   компаньон     0   \n",
       "1074   женат / замужем                 0      F   сотрудник     1   \n",
       "2510    вдовец / вдова                 2      F   сотрудник     0   \n",
       "2941   женат / замужем                 0      F   сотрудник     0   \n",
       "...                ...               ...    ...         ...   ...   \n",
       "21008  женат / замужем                 0      F   сотрудник     1   \n",
       "21325  женат / замужем                 0      F   компаньон     0   \n",
       "21390  женат / замужем                 0      M   компаньон     0   \n",
       "21404  женат / замужем                 0      M   компаньон     0   \n",
       "21491  женат / замужем                 0      F   сотрудник     0   \n",
       "\n",
       "       total_income                                purpose  \n",
       "606          145334                          покупка жилья  \n",
       "720          112998                   покупка недвижимости  \n",
       "1074         229518                  получение образования  \n",
       "2510         264474  операции с коммерческой недвижимостью  \n",
       "2941         199739                  на покупку автомобиля  \n",
       "...             ...                                    ...  \n",
       "21008        133524                        свой автомобиль  \n",
       "21325        102986                 профильное образование  \n",
       "21390        162401             покупка жилой недвижимости  \n",
       "21404        156629        операции со своей недвижимостью  \n",
       "21491        155520     на покупку подержанного автомобиля  \n",
       "\n",
       "[76 rows x 12 columns]"
      ]
     },
     "execution_count": 27,
     "metadata": {},
     "output_type": "execute_result"
    }
   ],
   "source": [
    "#исследование большого количества детей\n",
    "df.loc[df['children'] == 20]"
   ]
  },
  {
   "cell_type": "code",
   "execution_count": 28,
   "metadata": {},
   "outputs": [
    {
     "name": "stderr",
     "output_type": "stream",
     "text": [
      "/opt/conda/lib/python3.7/site-packages/pandas/core/indexing.py:494: SettingWithCopyWarning: \n",
      "A value is trying to be set on a copy of a slice from a DataFrame.\n",
      "Try using .loc[row_indexer,col_indexer] = value instead\n",
      "\n",
      "See the caveats in the documentation: http://pandas.pydata.org/pandas-docs/stable/user_guide/indexing.html#returning-a-view-versus-a-copy\n",
      "  self.obj[item] = s\n"
     ]
    },
    {
     "data": {
      "text/plain": [
       "array([1, 0, 3, 2, 4, 5])"
      ]
     },
     "execution_count": 28,
     "metadata": {},
     "output_type": "execute_result"
    }
   ],
   "source": [
    "#У 76 людей 20 детей, скорее всего была ошибка в сборе данных и детей двое\n",
    "df.loc[df['children'] == 20,'children'] = 2\n",
    "df['children'].unique()"
   ]
  },
  {
   "cell_type": "markdown",
   "metadata": {},
   "source": [
    "**Вывод**"
   ]
  },
  {
   "cell_type": "markdown",
   "metadata": {},
   "source": [
    "обработан столбец с данными об образовании, так же удалены дубликаты"
   ]
  },
  {
   "cell_type": "markdown",
   "metadata": {},
   "source": [
    "Возможно, дубликаты появились, в связи с заменой пустых значений в столбце с доходом, а также с совпадающими целями кредита\n",
    "Еще причиной дубликатов может быть ошибка сбора данных"
   ]
  },
  {
   "cell_type": "code",
   "execution_count": 29,
   "metadata": {},
   "outputs": [
    {
     "data": {
      "text/html": [
       "<div>\n",
       "<style scoped>\n",
       "    .dataframe tbody tr th:only-of-type {\n",
       "        vertical-align: middle;\n",
       "    }\n",
       "\n",
       "    .dataframe tbody tr th {\n",
       "        vertical-align: top;\n",
       "    }\n",
       "\n",
       "    .dataframe thead th {\n",
       "        text-align: right;\n",
       "    }\n",
       "</style>\n",
       "<table border=\"1\" class=\"dataframe\">\n",
       "  <thead>\n",
       "    <tr style=\"text-align: right;\">\n",
       "      <th></th>\n",
       "      <th>children</th>\n",
       "      <th>days_employed</th>\n",
       "      <th>dob_years</th>\n",
       "      <th>education</th>\n",
       "      <th>education_id</th>\n",
       "      <th>family_status</th>\n",
       "      <th>family_status_id</th>\n",
       "      <th>gender</th>\n",
       "      <th>income_type</th>\n",
       "      <th>debt</th>\n",
       "      <th>total_income</th>\n",
       "      <th>purpose</th>\n",
       "    </tr>\n",
       "  </thead>\n",
       "  <tbody>\n",
       "    <tr>\n",
       "      <td>0</td>\n",
       "      <td>1</td>\n",
       "      <td>8437</td>\n",
       "      <td>42</td>\n",
       "      <td>высшее</td>\n",
       "      <td>0</td>\n",
       "      <td>женат / замужем</td>\n",
       "      <td>0</td>\n",
       "      <td>F</td>\n",
       "      <td>сотрудник</td>\n",
       "      <td>0</td>\n",
       "      <td>253875</td>\n",
       "      <td>покупка жилья</td>\n",
       "    </tr>\n",
       "    <tr>\n",
       "      <td>1</td>\n",
       "      <td>1</td>\n",
       "      <td>4024</td>\n",
       "      <td>36</td>\n",
       "      <td>среднее</td>\n",
       "      <td>1</td>\n",
       "      <td>женат / замужем</td>\n",
       "      <td>0</td>\n",
       "      <td>F</td>\n",
       "      <td>сотрудник</td>\n",
       "      <td>0</td>\n",
       "      <td>112080</td>\n",
       "      <td>приобретение автомобиля</td>\n",
       "    </tr>\n",
       "    <tr>\n",
       "      <td>2</td>\n",
       "      <td>0</td>\n",
       "      <td>5623</td>\n",
       "      <td>33</td>\n",
       "      <td>среднее</td>\n",
       "      <td>1</td>\n",
       "      <td>женат / замужем</td>\n",
       "      <td>0</td>\n",
       "      <td>M</td>\n",
       "      <td>сотрудник</td>\n",
       "      <td>0</td>\n",
       "      <td>145885</td>\n",
       "      <td>покупка жилья</td>\n",
       "    </tr>\n",
       "    <tr>\n",
       "      <td>3</td>\n",
       "      <td>3</td>\n",
       "      <td>4124</td>\n",
       "      <td>32</td>\n",
       "      <td>среднее</td>\n",
       "      <td>1</td>\n",
       "      <td>женат / замужем</td>\n",
       "      <td>0</td>\n",
       "      <td>M</td>\n",
       "      <td>сотрудник</td>\n",
       "      <td>0</td>\n",
       "      <td>267628</td>\n",
       "      <td>дополнительное образование</td>\n",
       "    </tr>\n",
       "    <tr>\n",
       "      <td>4</td>\n",
       "      <td>0</td>\n",
       "      <td>340266</td>\n",
       "      <td>53</td>\n",
       "      <td>среднее</td>\n",
       "      <td>1</td>\n",
       "      <td>гражданский брак</td>\n",
       "      <td>1</td>\n",
       "      <td>F</td>\n",
       "      <td>пенсионер</td>\n",
       "      <td>0</td>\n",
       "      <td>158616</td>\n",
       "      <td>сыграть свадьбу</td>\n",
       "    </tr>\n",
       "    <tr>\n",
       "      <td>...</td>\n",
       "      <td>...</td>\n",
       "      <td>...</td>\n",
       "      <td>...</td>\n",
       "      <td>...</td>\n",
       "      <td>...</td>\n",
       "      <td>...</td>\n",
       "      <td>...</td>\n",
       "      <td>...</td>\n",
       "      <td>...</td>\n",
       "      <td>...</td>\n",
       "      <td>...</td>\n",
       "      <td>...</td>\n",
       "    </tr>\n",
       "    <tr>\n",
       "      <td>21520</td>\n",
       "      <td>1</td>\n",
       "      <td>4529</td>\n",
       "      <td>43</td>\n",
       "      <td>среднее</td>\n",
       "      <td>1</td>\n",
       "      <td>гражданский брак</td>\n",
       "      <td>1</td>\n",
       "      <td>F</td>\n",
       "      <td>компаньон</td>\n",
       "      <td>0</td>\n",
       "      <td>224791</td>\n",
       "      <td>операции с жильем</td>\n",
       "    </tr>\n",
       "    <tr>\n",
       "      <td>21521</td>\n",
       "      <td>0</td>\n",
       "      <td>343937</td>\n",
       "      <td>67</td>\n",
       "      <td>среднее</td>\n",
       "      <td>1</td>\n",
       "      <td>женат / замужем</td>\n",
       "      <td>0</td>\n",
       "      <td>F</td>\n",
       "      <td>пенсионер</td>\n",
       "      <td>0</td>\n",
       "      <td>155999</td>\n",
       "      <td>сделка с автомобилем</td>\n",
       "    </tr>\n",
       "    <tr>\n",
       "      <td>21522</td>\n",
       "      <td>1</td>\n",
       "      <td>2113</td>\n",
       "      <td>38</td>\n",
       "      <td>среднее</td>\n",
       "      <td>1</td>\n",
       "      <td>гражданский брак</td>\n",
       "      <td>1</td>\n",
       "      <td>M</td>\n",
       "      <td>сотрудник</td>\n",
       "      <td>1</td>\n",
       "      <td>89672</td>\n",
       "      <td>недвижимость</td>\n",
       "    </tr>\n",
       "    <tr>\n",
       "      <td>21523</td>\n",
       "      <td>3</td>\n",
       "      <td>3112</td>\n",
       "      <td>38</td>\n",
       "      <td>среднее</td>\n",
       "      <td>1</td>\n",
       "      <td>женат / замужем</td>\n",
       "      <td>0</td>\n",
       "      <td>M</td>\n",
       "      <td>сотрудник</td>\n",
       "      <td>1</td>\n",
       "      <td>244093</td>\n",
       "      <td>на покупку своего автомобиля</td>\n",
       "    </tr>\n",
       "    <tr>\n",
       "      <td>21524</td>\n",
       "      <td>2</td>\n",
       "      <td>1984</td>\n",
       "      <td>40</td>\n",
       "      <td>среднее</td>\n",
       "      <td>1</td>\n",
       "      <td>женат / замужем</td>\n",
       "      <td>0</td>\n",
       "      <td>F</td>\n",
       "      <td>сотрудник</td>\n",
       "      <td>0</td>\n",
       "      <td>82047</td>\n",
       "      <td>на покупку автомобиля</td>\n",
       "    </tr>\n",
       "  </tbody>\n",
       "</table>\n",
       "<p>21471 rows × 12 columns</p>\n",
       "</div>"
      ],
      "text/plain": [
       "       children  days_employed  dob_years education  education_id  \\\n",
       "0             1           8437         42    высшее             0   \n",
       "1             1           4024         36   среднее             1   \n",
       "2             0           5623         33   среднее             1   \n",
       "3             3           4124         32   среднее             1   \n",
       "4             0         340266         53   среднее             1   \n",
       "...         ...            ...        ...       ...           ...   \n",
       "21520         1           4529         43   среднее             1   \n",
       "21521         0         343937         67   среднее             1   \n",
       "21522         1           2113         38   среднее             1   \n",
       "21523         3           3112         38   среднее             1   \n",
       "21524         2           1984         40   среднее             1   \n",
       "\n",
       "          family_status  family_status_id gender income_type  debt  \\\n",
       "0       женат / замужем                 0      F   сотрудник     0   \n",
       "1       женат / замужем                 0      F   сотрудник     0   \n",
       "2       женат / замужем                 0      M   сотрудник     0   \n",
       "3       женат / замужем                 0      M   сотрудник     0   \n",
       "4      гражданский брак                 1      F   пенсионер     0   \n",
       "...                 ...               ...    ...         ...   ...   \n",
       "21520  гражданский брак                 1      F   компаньон     0   \n",
       "21521   женат / замужем                 0      F   пенсионер     0   \n",
       "21522  гражданский брак                 1      M   сотрудник     1   \n",
       "21523   женат / замужем                 0      M   сотрудник     1   \n",
       "21524   женат / замужем                 0      F   сотрудник     0   \n",
       "\n",
       "       total_income                       purpose  \n",
       "0            253875                 покупка жилья  \n",
       "1            112080       приобретение автомобиля  \n",
       "2            145885                 покупка жилья  \n",
       "3            267628    дополнительное образование  \n",
       "4            158616               сыграть свадьбу  \n",
       "...             ...                           ...  \n",
       "21520        224791             операции с жильем  \n",
       "21521        155999          сделка с автомобилем  \n",
       "21522         89672                  недвижимость  \n",
       "21523        244093  на покупку своего автомобиля  \n",
       "21524         82047         на покупку автомобиля  \n",
       "\n",
       "[21471 rows x 12 columns]"
      ]
     },
     "execution_count": 29,
     "metadata": {},
     "output_type": "execute_result"
    }
   ],
   "source": [
    "#текущий вид таблицы\n",
    "df"
   ]
  },
  {
   "cell_type": "markdown",
   "metadata": {},
   "source": []
  },
  {
   "cell_type": "markdown",
   "metadata": {},
   "source": [
    "### Лемматизация"
   ]
  },
  {
   "cell_type": "code",
   "execution_count": 30,
   "metadata": {},
   "outputs": [],
   "source": [
    "from pymystem3 import Mystem\n",
    "m = Mystem()\n"
   ]
  },
  {
   "cell_type": "code",
   "execution_count": 31,
   "metadata": {},
   "outputs": [
    {
     "name": "stderr",
     "output_type": "stream",
     "text": [
      "/opt/conda/lib/python3.7/site-packages/pandas/core/indexing.py:376: SettingWithCopyWarning: \n",
      "A value is trying to be set on a copy of a slice from a DataFrame.\n",
      "Try using .loc[row_indexer,col_indexer] = value instead\n",
      "\n",
      "See the caveats in the documentation: http://pandas.pydata.org/pandas-docs/stable/user_guide/indexing.html#returning-a-view-versus-a-copy\n",
      "  self.obj[key] = _infer_fill_value(value)\n"
     ]
    },
    {
     "data": {
      "text/html": [
       "<div>\n",
       "<style scoped>\n",
       "    .dataframe tbody tr th:only-of-type {\n",
       "        vertical-align: middle;\n",
       "    }\n",
       "\n",
       "    .dataframe tbody tr th {\n",
       "        vertical-align: top;\n",
       "    }\n",
       "\n",
       "    .dataframe thead th {\n",
       "        text-align: right;\n",
       "    }\n",
       "</style>\n",
       "<table border=\"1\" class=\"dataframe\">\n",
       "  <thead>\n",
       "    <tr style=\"text-align: right;\">\n",
       "      <th></th>\n",
       "      <th>children</th>\n",
       "      <th>days_employed</th>\n",
       "      <th>dob_years</th>\n",
       "      <th>education</th>\n",
       "      <th>education_id</th>\n",
       "      <th>family_status</th>\n",
       "      <th>family_status_id</th>\n",
       "      <th>gender</th>\n",
       "      <th>income_type</th>\n",
       "      <th>debt</th>\n",
       "      <th>total_income</th>\n",
       "      <th>purpose</th>\n",
       "      <th>purpose_lemmas</th>\n",
       "    </tr>\n",
       "  </thead>\n",
       "  <tbody>\n",
       "    <tr>\n",
       "      <td>0</td>\n",
       "      <td>1</td>\n",
       "      <td>8437</td>\n",
       "      <td>42</td>\n",
       "      <td>высшее</td>\n",
       "      <td>0</td>\n",
       "      <td>женат / замужем</td>\n",
       "      <td>0</td>\n",
       "      <td>F</td>\n",
       "      <td>сотрудник</td>\n",
       "      <td>0</td>\n",
       "      <td>253875</td>\n",
       "      <td>покупка жилья</td>\n",
       "      <td>[покупка,  , жилье, \\n]</td>\n",
       "    </tr>\n",
       "    <tr>\n",
       "      <td>1</td>\n",
       "      <td>1</td>\n",
       "      <td>4024</td>\n",
       "      <td>36</td>\n",
       "      <td>среднее</td>\n",
       "      <td>1</td>\n",
       "      <td>женат / замужем</td>\n",
       "      <td>0</td>\n",
       "      <td>F</td>\n",
       "      <td>сотрудник</td>\n",
       "      <td>0</td>\n",
       "      <td>112080</td>\n",
       "      <td>приобретение автомобиля</td>\n",
       "      <td>[приобретение,  , автомобиль, \\n]</td>\n",
       "    </tr>\n",
       "    <tr>\n",
       "      <td>2</td>\n",
       "      <td>0</td>\n",
       "      <td>5623</td>\n",
       "      <td>33</td>\n",
       "      <td>среднее</td>\n",
       "      <td>1</td>\n",
       "      <td>женат / замужем</td>\n",
       "      <td>0</td>\n",
       "      <td>M</td>\n",
       "      <td>сотрудник</td>\n",
       "      <td>0</td>\n",
       "      <td>145885</td>\n",
       "      <td>покупка жилья</td>\n",
       "      <td>[покупка,  , жилье, \\n]</td>\n",
       "    </tr>\n",
       "    <tr>\n",
       "      <td>3</td>\n",
       "      <td>3</td>\n",
       "      <td>4124</td>\n",
       "      <td>32</td>\n",
       "      <td>среднее</td>\n",
       "      <td>1</td>\n",
       "      <td>женат / замужем</td>\n",
       "      <td>0</td>\n",
       "      <td>M</td>\n",
       "      <td>сотрудник</td>\n",
       "      <td>0</td>\n",
       "      <td>267628</td>\n",
       "      <td>дополнительное образование</td>\n",
       "      <td>[дополнительный,  , образование, \\n]</td>\n",
       "    </tr>\n",
       "    <tr>\n",
       "      <td>4</td>\n",
       "      <td>0</td>\n",
       "      <td>340266</td>\n",
       "      <td>53</td>\n",
       "      <td>среднее</td>\n",
       "      <td>1</td>\n",
       "      <td>гражданский брак</td>\n",
       "      <td>1</td>\n",
       "      <td>F</td>\n",
       "      <td>пенсионер</td>\n",
       "      <td>0</td>\n",
       "      <td>158616</td>\n",
       "      <td>сыграть свадьбу</td>\n",
       "      <td>[сыграть,  , свадьба, \\n]</td>\n",
       "    </tr>\n",
       "    <tr>\n",
       "      <td>...</td>\n",
       "      <td>...</td>\n",
       "      <td>...</td>\n",
       "      <td>...</td>\n",
       "      <td>...</td>\n",
       "      <td>...</td>\n",
       "      <td>...</td>\n",
       "      <td>...</td>\n",
       "      <td>...</td>\n",
       "      <td>...</td>\n",
       "      <td>...</td>\n",
       "      <td>...</td>\n",
       "      <td>...</td>\n",
       "      <td>...</td>\n",
       "    </tr>\n",
       "    <tr>\n",
       "      <td>21520</td>\n",
       "      <td>1</td>\n",
       "      <td>4529</td>\n",
       "      <td>43</td>\n",
       "      <td>среднее</td>\n",
       "      <td>1</td>\n",
       "      <td>гражданский брак</td>\n",
       "      <td>1</td>\n",
       "      <td>F</td>\n",
       "      <td>компаньон</td>\n",
       "      <td>0</td>\n",
       "      <td>224791</td>\n",
       "      <td>операции с жильем</td>\n",
       "      <td>[операция,  , с,  , жилье, \\n]</td>\n",
       "    </tr>\n",
       "    <tr>\n",
       "      <td>21521</td>\n",
       "      <td>0</td>\n",
       "      <td>343937</td>\n",
       "      <td>67</td>\n",
       "      <td>среднее</td>\n",
       "      <td>1</td>\n",
       "      <td>женат / замужем</td>\n",
       "      <td>0</td>\n",
       "      <td>F</td>\n",
       "      <td>пенсионер</td>\n",
       "      <td>0</td>\n",
       "      <td>155999</td>\n",
       "      <td>сделка с автомобилем</td>\n",
       "      <td>[сделка,  , с,  , автомобиль, \\n]</td>\n",
       "    </tr>\n",
       "    <tr>\n",
       "      <td>21522</td>\n",
       "      <td>1</td>\n",
       "      <td>2113</td>\n",
       "      <td>38</td>\n",
       "      <td>среднее</td>\n",
       "      <td>1</td>\n",
       "      <td>гражданский брак</td>\n",
       "      <td>1</td>\n",
       "      <td>M</td>\n",
       "      <td>сотрудник</td>\n",
       "      <td>1</td>\n",
       "      <td>89672</td>\n",
       "      <td>недвижимость</td>\n",
       "      <td>[недвижимость, \\n]</td>\n",
       "    </tr>\n",
       "    <tr>\n",
       "      <td>21523</td>\n",
       "      <td>3</td>\n",
       "      <td>3112</td>\n",
       "      <td>38</td>\n",
       "      <td>среднее</td>\n",
       "      <td>1</td>\n",
       "      <td>женат / замужем</td>\n",
       "      <td>0</td>\n",
       "      <td>M</td>\n",
       "      <td>сотрудник</td>\n",
       "      <td>1</td>\n",
       "      <td>244093</td>\n",
       "      <td>на покупку своего автомобиля</td>\n",
       "      <td>[на,  , покупка,  , свой,  , автомобиль, \\n]</td>\n",
       "    </tr>\n",
       "    <tr>\n",
       "      <td>21524</td>\n",
       "      <td>2</td>\n",
       "      <td>1984</td>\n",
       "      <td>40</td>\n",
       "      <td>среднее</td>\n",
       "      <td>1</td>\n",
       "      <td>женат / замужем</td>\n",
       "      <td>0</td>\n",
       "      <td>F</td>\n",
       "      <td>сотрудник</td>\n",
       "      <td>0</td>\n",
       "      <td>82047</td>\n",
       "      <td>на покупку автомобиля</td>\n",
       "      <td>[на,  , покупка,  , автомобиль, \\n]</td>\n",
       "    </tr>\n",
       "  </tbody>\n",
       "</table>\n",
       "<p>21471 rows × 13 columns</p>\n",
       "</div>"
      ],
      "text/plain": [
       "       children  days_employed  dob_years education  education_id  \\\n",
       "0             1           8437         42    высшее             0   \n",
       "1             1           4024         36   среднее             1   \n",
       "2             0           5623         33   среднее             1   \n",
       "3             3           4124         32   среднее             1   \n",
       "4             0         340266         53   среднее             1   \n",
       "...         ...            ...        ...       ...           ...   \n",
       "21520         1           4529         43   среднее             1   \n",
       "21521         0         343937         67   среднее             1   \n",
       "21522         1           2113         38   среднее             1   \n",
       "21523         3           3112         38   среднее             1   \n",
       "21524         2           1984         40   среднее             1   \n",
       "\n",
       "          family_status  family_status_id gender income_type  debt  \\\n",
       "0       женат / замужем                 0      F   сотрудник     0   \n",
       "1       женат / замужем                 0      F   сотрудник     0   \n",
       "2       женат / замужем                 0      M   сотрудник     0   \n",
       "3       женат / замужем                 0      M   сотрудник     0   \n",
       "4      гражданский брак                 1      F   пенсионер     0   \n",
       "...                 ...               ...    ...         ...   ...   \n",
       "21520  гражданский брак                 1      F   компаньон     0   \n",
       "21521   женат / замужем                 0      F   пенсионер     0   \n",
       "21522  гражданский брак                 1      M   сотрудник     1   \n",
       "21523   женат / замужем                 0      M   сотрудник     1   \n",
       "21524   женат / замужем                 0      F   сотрудник     0   \n",
       "\n",
       "       total_income                       purpose  \\\n",
       "0            253875                 покупка жилья   \n",
       "1            112080       приобретение автомобиля   \n",
       "2            145885                 покупка жилья   \n",
       "3            267628    дополнительное образование   \n",
       "4            158616               сыграть свадьбу   \n",
       "...             ...                           ...   \n",
       "21520        224791             операции с жильем   \n",
       "21521        155999          сделка с автомобилем   \n",
       "21522         89672                  недвижимость   \n",
       "21523        244093  на покупку своего автомобиля   \n",
       "21524         82047         на покупку автомобиля   \n",
       "\n",
       "                                     purpose_lemmas  \n",
       "0                           [покупка,  , жилье, \\n]  \n",
       "1                 [приобретение,  , автомобиль, \\n]  \n",
       "2                           [покупка,  , жилье, \\n]  \n",
       "3              [дополнительный,  , образование, \\n]  \n",
       "4                         [сыграть,  , свадьба, \\n]  \n",
       "...                                             ...  \n",
       "21520                [операция,  , с,  , жилье, \\n]  \n",
       "21521             [сделка,  , с,  , автомобиль, \\n]  \n",
       "21522                            [недвижимость, \\n]  \n",
       "21523  [на,  , покупка,  , свой,  , автомобиль, \\n]  \n",
       "21524           [на,  , покупка,  , автомобиль, \\n]  \n",
       "\n",
       "[21471 rows x 13 columns]"
      ]
     },
     "execution_count": 31,
     "metadata": {},
     "output_type": "execute_result"
    }
   ],
   "source": [
    "df.loc[:,'purpose_lemmas'] = df.loc[:,'purpose'].apply(m.lemmatize)\n",
    "df"
   ]
  },
  {
   "cell_type": "markdown",
   "metadata": {},
   "source": [
    "**Вывод**"
   ]
  },
  {
   "cell_type": "markdown",
   "metadata": {},
   "source": [
    "Лемматизация проводилась при помощи библиотеки pymystem3, слова были заменены на их начальную форму. Выбор такого способа обработки слов был обусловлен тем, что они проще обрабатываются при категоризации"
   ]
  },
  {
   "cell_type": "markdown",
   "metadata": {},
   "source": []
  },
  {
   "cell_type": "markdown",
   "metadata": {},
   "source": [
    "### Категоризация данных"
   ]
  },
  {
   "cell_type": "code",
   "execution_count": 32,
   "metadata": {},
   "outputs": [],
   "source": [
    "def children_group(a):\n",
    "    if a < 3:\n",
    "        return 'стандартные семьи'\n",
    "    else:\n",
    "        return 'многодетные семьи'"
   ]
  },
  {
   "cell_type": "code",
   "execution_count": 33,
   "metadata": {},
   "outputs": [
    {
     "name": "stderr",
     "output_type": "stream",
     "text": [
      "/opt/conda/lib/python3.7/site-packages/ipykernel_launcher.py:1: SettingWithCopyWarning: \n",
      "A value is trying to be set on a copy of a slice from a DataFrame.\n",
      "Try using .loc[row_indexer,col_indexer] = value instead\n",
      "\n",
      "See the caveats in the documentation: http://pandas.pydata.org/pandas-docs/stable/user_guide/indexing.html#returning-a-view-versus-a-copy\n",
      "  \"\"\"Entry point for launching an IPython kernel.\n"
     ]
    },
    {
     "data": {
      "text/html": [
       "<div>\n",
       "<style scoped>\n",
       "    .dataframe tbody tr th:only-of-type {\n",
       "        vertical-align: middle;\n",
       "    }\n",
       "\n",
       "    .dataframe tbody tr th {\n",
       "        vertical-align: top;\n",
       "    }\n",
       "\n",
       "    .dataframe thead th {\n",
       "        text-align: right;\n",
       "    }\n",
       "</style>\n",
       "<table border=\"1\" class=\"dataframe\">\n",
       "  <thead>\n",
       "    <tr style=\"text-align: right;\">\n",
       "      <th></th>\n",
       "      <th>children</th>\n",
       "      <th>days_employed</th>\n",
       "      <th>dob_years</th>\n",
       "      <th>education</th>\n",
       "      <th>education_id</th>\n",
       "      <th>family_status</th>\n",
       "      <th>family_status_id</th>\n",
       "      <th>gender</th>\n",
       "      <th>income_type</th>\n",
       "      <th>debt</th>\n",
       "      <th>total_income</th>\n",
       "      <th>purpose</th>\n",
       "      <th>purpose_lemmas</th>\n",
       "      <th>children_group</th>\n",
       "    </tr>\n",
       "  </thead>\n",
       "  <tbody>\n",
       "    <tr>\n",
       "      <td>0</td>\n",
       "      <td>1</td>\n",
       "      <td>8437</td>\n",
       "      <td>42</td>\n",
       "      <td>высшее</td>\n",
       "      <td>0</td>\n",
       "      <td>женат / замужем</td>\n",
       "      <td>0</td>\n",
       "      <td>F</td>\n",
       "      <td>сотрудник</td>\n",
       "      <td>0</td>\n",
       "      <td>253875</td>\n",
       "      <td>покупка жилья</td>\n",
       "      <td>[покупка,  , жилье, \\n]</td>\n",
       "      <td>стандартные семьи</td>\n",
       "    </tr>\n",
       "    <tr>\n",
       "      <td>1</td>\n",
       "      <td>1</td>\n",
       "      <td>4024</td>\n",
       "      <td>36</td>\n",
       "      <td>среднее</td>\n",
       "      <td>1</td>\n",
       "      <td>женат / замужем</td>\n",
       "      <td>0</td>\n",
       "      <td>F</td>\n",
       "      <td>сотрудник</td>\n",
       "      <td>0</td>\n",
       "      <td>112080</td>\n",
       "      <td>приобретение автомобиля</td>\n",
       "      <td>[приобретение,  , автомобиль, \\n]</td>\n",
       "      <td>стандартные семьи</td>\n",
       "    </tr>\n",
       "    <tr>\n",
       "      <td>2</td>\n",
       "      <td>0</td>\n",
       "      <td>5623</td>\n",
       "      <td>33</td>\n",
       "      <td>среднее</td>\n",
       "      <td>1</td>\n",
       "      <td>женат / замужем</td>\n",
       "      <td>0</td>\n",
       "      <td>M</td>\n",
       "      <td>сотрудник</td>\n",
       "      <td>0</td>\n",
       "      <td>145885</td>\n",
       "      <td>покупка жилья</td>\n",
       "      <td>[покупка,  , жилье, \\n]</td>\n",
       "      <td>стандартные семьи</td>\n",
       "    </tr>\n",
       "    <tr>\n",
       "      <td>3</td>\n",
       "      <td>3</td>\n",
       "      <td>4124</td>\n",
       "      <td>32</td>\n",
       "      <td>среднее</td>\n",
       "      <td>1</td>\n",
       "      <td>женат / замужем</td>\n",
       "      <td>0</td>\n",
       "      <td>M</td>\n",
       "      <td>сотрудник</td>\n",
       "      <td>0</td>\n",
       "      <td>267628</td>\n",
       "      <td>дополнительное образование</td>\n",
       "      <td>[дополнительный,  , образование, \\n]</td>\n",
       "      <td>многодетные семьи</td>\n",
       "    </tr>\n",
       "    <tr>\n",
       "      <td>4</td>\n",
       "      <td>0</td>\n",
       "      <td>340266</td>\n",
       "      <td>53</td>\n",
       "      <td>среднее</td>\n",
       "      <td>1</td>\n",
       "      <td>гражданский брак</td>\n",
       "      <td>1</td>\n",
       "      <td>F</td>\n",
       "      <td>пенсионер</td>\n",
       "      <td>0</td>\n",
       "      <td>158616</td>\n",
       "      <td>сыграть свадьбу</td>\n",
       "      <td>[сыграть,  , свадьба, \\n]</td>\n",
       "      <td>стандартные семьи</td>\n",
       "    </tr>\n",
       "    <tr>\n",
       "      <td>...</td>\n",
       "      <td>...</td>\n",
       "      <td>...</td>\n",
       "      <td>...</td>\n",
       "      <td>...</td>\n",
       "      <td>...</td>\n",
       "      <td>...</td>\n",
       "      <td>...</td>\n",
       "      <td>...</td>\n",
       "      <td>...</td>\n",
       "      <td>...</td>\n",
       "      <td>...</td>\n",
       "      <td>...</td>\n",
       "      <td>...</td>\n",
       "      <td>...</td>\n",
       "    </tr>\n",
       "    <tr>\n",
       "      <td>21520</td>\n",
       "      <td>1</td>\n",
       "      <td>4529</td>\n",
       "      <td>43</td>\n",
       "      <td>среднее</td>\n",
       "      <td>1</td>\n",
       "      <td>гражданский брак</td>\n",
       "      <td>1</td>\n",
       "      <td>F</td>\n",
       "      <td>компаньон</td>\n",
       "      <td>0</td>\n",
       "      <td>224791</td>\n",
       "      <td>операции с жильем</td>\n",
       "      <td>[операция,  , с,  , жилье, \\n]</td>\n",
       "      <td>стандартные семьи</td>\n",
       "    </tr>\n",
       "    <tr>\n",
       "      <td>21521</td>\n",
       "      <td>0</td>\n",
       "      <td>343937</td>\n",
       "      <td>67</td>\n",
       "      <td>среднее</td>\n",
       "      <td>1</td>\n",
       "      <td>женат / замужем</td>\n",
       "      <td>0</td>\n",
       "      <td>F</td>\n",
       "      <td>пенсионер</td>\n",
       "      <td>0</td>\n",
       "      <td>155999</td>\n",
       "      <td>сделка с автомобилем</td>\n",
       "      <td>[сделка,  , с,  , автомобиль, \\n]</td>\n",
       "      <td>стандартные семьи</td>\n",
       "    </tr>\n",
       "    <tr>\n",
       "      <td>21522</td>\n",
       "      <td>1</td>\n",
       "      <td>2113</td>\n",
       "      <td>38</td>\n",
       "      <td>среднее</td>\n",
       "      <td>1</td>\n",
       "      <td>гражданский брак</td>\n",
       "      <td>1</td>\n",
       "      <td>M</td>\n",
       "      <td>сотрудник</td>\n",
       "      <td>1</td>\n",
       "      <td>89672</td>\n",
       "      <td>недвижимость</td>\n",
       "      <td>[недвижимость, \\n]</td>\n",
       "      <td>стандартные семьи</td>\n",
       "    </tr>\n",
       "    <tr>\n",
       "      <td>21523</td>\n",
       "      <td>3</td>\n",
       "      <td>3112</td>\n",
       "      <td>38</td>\n",
       "      <td>среднее</td>\n",
       "      <td>1</td>\n",
       "      <td>женат / замужем</td>\n",
       "      <td>0</td>\n",
       "      <td>M</td>\n",
       "      <td>сотрудник</td>\n",
       "      <td>1</td>\n",
       "      <td>244093</td>\n",
       "      <td>на покупку своего автомобиля</td>\n",
       "      <td>[на,  , покупка,  , свой,  , автомобиль, \\n]</td>\n",
       "      <td>многодетные семьи</td>\n",
       "    </tr>\n",
       "    <tr>\n",
       "      <td>21524</td>\n",
       "      <td>2</td>\n",
       "      <td>1984</td>\n",
       "      <td>40</td>\n",
       "      <td>среднее</td>\n",
       "      <td>1</td>\n",
       "      <td>женат / замужем</td>\n",
       "      <td>0</td>\n",
       "      <td>F</td>\n",
       "      <td>сотрудник</td>\n",
       "      <td>0</td>\n",
       "      <td>82047</td>\n",
       "      <td>на покупку автомобиля</td>\n",
       "      <td>[на,  , покупка,  , автомобиль, \\n]</td>\n",
       "      <td>стандартные семьи</td>\n",
       "    </tr>\n",
       "  </tbody>\n",
       "</table>\n",
       "<p>21471 rows × 14 columns</p>\n",
       "</div>"
      ],
      "text/plain": [
       "       children  days_employed  dob_years education  education_id  \\\n",
       "0             1           8437         42    высшее             0   \n",
       "1             1           4024         36   среднее             1   \n",
       "2             0           5623         33   среднее             1   \n",
       "3             3           4124         32   среднее             1   \n",
       "4             0         340266         53   среднее             1   \n",
       "...         ...            ...        ...       ...           ...   \n",
       "21520         1           4529         43   среднее             1   \n",
       "21521         0         343937         67   среднее             1   \n",
       "21522         1           2113         38   среднее             1   \n",
       "21523         3           3112         38   среднее             1   \n",
       "21524         2           1984         40   среднее             1   \n",
       "\n",
       "          family_status  family_status_id gender income_type  debt  \\\n",
       "0       женат / замужем                 0      F   сотрудник     0   \n",
       "1       женат / замужем                 0      F   сотрудник     0   \n",
       "2       женат / замужем                 0      M   сотрудник     0   \n",
       "3       женат / замужем                 0      M   сотрудник     0   \n",
       "4      гражданский брак                 1      F   пенсионер     0   \n",
       "...                 ...               ...    ...         ...   ...   \n",
       "21520  гражданский брак                 1      F   компаньон     0   \n",
       "21521   женат / замужем                 0      F   пенсионер     0   \n",
       "21522  гражданский брак                 1      M   сотрудник     1   \n",
       "21523   женат / замужем                 0      M   сотрудник     1   \n",
       "21524   женат / замужем                 0      F   сотрудник     0   \n",
       "\n",
       "       total_income                       purpose  \\\n",
       "0            253875                 покупка жилья   \n",
       "1            112080       приобретение автомобиля   \n",
       "2            145885                 покупка жилья   \n",
       "3            267628    дополнительное образование   \n",
       "4            158616               сыграть свадьбу   \n",
       "...             ...                           ...   \n",
       "21520        224791             операции с жильем   \n",
       "21521        155999          сделка с автомобилем   \n",
       "21522         89672                  недвижимость   \n",
       "21523        244093  на покупку своего автомобиля   \n",
       "21524         82047         на покупку автомобиля   \n",
       "\n",
       "                                     purpose_lemmas     children_group  \n",
       "0                           [покупка,  , жилье, \\n]  стандартные семьи  \n",
       "1                 [приобретение,  , автомобиль, \\n]  стандартные семьи  \n",
       "2                           [покупка,  , жилье, \\n]  стандартные семьи  \n",
       "3              [дополнительный,  , образование, \\n]  многодетные семьи  \n",
       "4                         [сыграть,  , свадьба, \\n]  стандартные семьи  \n",
       "...                                             ...                ...  \n",
       "21520                [операция,  , с,  , жилье, \\n]  стандартные семьи  \n",
       "21521             [сделка,  , с,  , автомобиль, \\n]  стандартные семьи  \n",
       "21522                            [недвижимость, \\n]  стандартные семьи  \n",
       "21523  [на,  , покупка,  , свой,  , автомобиль, \\n]  многодетные семьи  \n",
       "21524           [на,  , покупка,  , автомобиль, \\n]  стандартные семьи  \n",
       "\n",
       "[21471 rows x 14 columns]"
      ]
     },
     "execution_count": 33,
     "metadata": {},
     "output_type": "execute_result"
    }
   ],
   "source": [
    "df['children_group'] = df['children'].apply(children_group)\n",
    "df"
   ]
  },
  {
   "cell_type": "markdown",
   "metadata": {},
   "source": [
    "Проверим, для чего люди берут кредиты"
   ]
  },
  {
   "cell_type": "code",
   "execution_count": 34,
   "metadata": {},
   "outputs": [
    {
     "data": {
      "text/plain": [
       "array(['покупка жилья', 'приобретение автомобиля',\n",
       "       'дополнительное образование', 'сыграть свадьбу',\n",
       "       'операции с жильем', 'образование', 'на проведение свадьбы',\n",
       "       'покупка жилья для семьи', 'покупка недвижимости',\n",
       "       'покупка коммерческой недвижимости', 'покупка жилой недвижимости',\n",
       "       'строительство собственной недвижимости', 'недвижимость',\n",
       "       'строительство недвижимости', 'на покупку подержанного автомобиля',\n",
       "       'на покупку своего автомобиля',\n",
       "       'операции с коммерческой недвижимостью',\n",
       "       'строительство жилой недвижимости', 'жилье',\n",
       "       'операции со своей недвижимостью', 'автомобили',\n",
       "       'заняться образованием', 'сделка с подержанным автомобилем',\n",
       "       'получение образования', 'автомобиль', 'свадьба',\n",
       "       'получение дополнительного образования', 'покупка своего жилья',\n",
       "       'операции с недвижимостью', 'получение высшего образования',\n",
       "       'свой автомобиль', 'сделка с автомобилем',\n",
       "       'профильное образование', 'высшее образование',\n",
       "       'покупка жилья для сдачи', 'на покупку автомобиля', 'ремонт жилью',\n",
       "       'заняться высшим образованием'], dtype=object)"
      ]
     },
     "execution_count": 34,
     "metadata": {},
     "output_type": "execute_result"
    }
   ],
   "source": [
    "df['purpose'].unique()"
   ]
  },
  {
   "cell_type": "markdown",
   "metadata": {},
   "source": [
    "Рассматриваем, как выглядят леммы"
   ]
  },
  {
   "cell_type": "code",
   "execution_count": 35,
   "metadata": {},
   "outputs": [
    {
     "data": {
      "text/plain": [
       "[автомобиль, \\n]                                          972\n",
       "[свадьба, \\n]                                             793\n",
       "[на,  , проведение,  , свадьба, \\n]                       773\n",
       "[сыграть,  , свадьба, \\n]                                 769\n",
       "[операция,  , с,  , недвижимость, \\n]                     675\n",
       "[покупка,  , коммерческий,  , недвижимость, \\n]           662\n",
       "[операция,  , с,  , жилье, \\n]                            652\n",
       "[покупка,  , жилье,  , для,  , сдача, \\n]                 652\n",
       "[операция,  , с,  , коммерческий,  , недвижимость, \\n]    650\n",
       "[покупка,  , жилье, \\n]                                   646\n",
       "[жилье, \\n]                                               646\n",
       "[покупка,  , жилье,  , для,  , семья, \\n]                 638\n",
       "[строительство,  , собственный,  , недвижимость, \\n]      635\n",
       "[недвижимость, \\n]                                        633\n",
       "[операция,  , со,  , свой,  , недвижимость, \\n]           627\n",
       "[строительство,  , жилой,  , недвижимость, \\n]            625\n",
       "[покупка,  , недвижимость, \\n]                            621\n",
       "[покупка,  , свой,  , жилье, \\n]                          620\n",
       "[строительство,  , недвижимость, \\n]                      619\n",
       "[ремонт,  , жилье, \\n]                                    607\n",
       "[покупка,  , жилой,  , недвижимость, \\n]                  606\n",
       "[на,  , покупка,  , свой,  , автомобиль, \\n]              505\n",
       "[заниматься,  , высокий,  , образование, \\n]              496\n",
       "[сделка,  , с,  , подержанный,  , автомобиль, \\n]         486\n",
       "[свой,  , автомобиль, \\n]                                 479\n",
       "[на,  , покупка,  , подержать,  , автомобиль, \\n]         478\n",
       "[на,  , покупка,  , автомобиль, \\n]                       472\n",
       "[приобретение,  , автомобиль, \\n]                         461\n",
       "[дополнительный,  , образование, \\n]                      460\n",
       "[сделка,  , с,  , автомобиль, \\n]                         455\n",
       "[высокий,  , образование, \\n]                             452\n",
       "[получение,  , дополнительный,  , образование, \\n]        447\n",
       "[образование, \\n]                                         447\n",
       "[получение,  , образование, \\n]                           442\n",
       "[профильный,  , образование, \\n]                          436\n",
       "[получение,  , высокий,  , образование, \\n]               426\n",
       "[заниматься,  , образование, \\n]                          408\n",
       "Name: purpose_lemmas, dtype: int64"
      ]
     },
     "execution_count": 35,
     "metadata": {},
     "output_type": "execute_result"
    }
   ],
   "source": [
    "df['purpose_lemmas'].value_counts()"
   ]
  },
  {
   "cell_type": "markdown",
   "metadata": {},
   "source": [
    "Готовим столбец с группировкой по целям"
   ]
  },
  {
   "cell_type": "code",
   "execution_count": 36,
   "metadata": {},
   "outputs": [],
   "source": [
    "def group_by_purpose(sheet):\n",
    "    if 'свадьба' in sheet or ' свадьба' in sheet:\n",
    "        return 'свадебный кредит'\n",
    "    elif 'коммерческий' in sheet or ' коммерческий' in sheet:\n",
    "        return 'кредит на коммерческую недвижимость'\n",
    "    elif ('недвижимость' in sheet or 'жилье' in sheet) or (' недвижимость' in sheet or ' жилье' in sheet):\n",
    "        return 'кредит на жилье'\n",
    "    elif 'автомобиль' in sheet or ' автомобиль' in sheet:\n",
    "        return 'автокредит'\n",
    "    elif 'образование' in sheet or ' образование' in sheet:\n",
    "        return 'кредит на образование'"
   ]
  },
  {
   "cell_type": "code",
   "execution_count": 37,
   "metadata": {},
   "outputs": [
    {
     "name": "stderr",
     "output_type": "stream",
     "text": [
      "/opt/conda/lib/python3.7/site-packages/ipykernel_launcher.py:1: SettingWithCopyWarning: \n",
      "A value is trying to be set on a copy of a slice from a DataFrame.\n",
      "Try using .loc[row_indexer,col_indexer] = value instead\n",
      "\n",
      "See the caveats in the documentation: http://pandas.pydata.org/pandas-docs/stable/user_guide/indexing.html#returning-a-view-versus-a-copy\n",
      "  \"\"\"Entry point for launching an IPython kernel.\n"
     ]
    },
    {
     "data": {
      "text/html": [
       "<div>\n",
       "<style scoped>\n",
       "    .dataframe tbody tr th:only-of-type {\n",
       "        vertical-align: middle;\n",
       "    }\n",
       "\n",
       "    .dataframe tbody tr th {\n",
       "        vertical-align: top;\n",
       "    }\n",
       "\n",
       "    .dataframe thead th {\n",
       "        text-align: right;\n",
       "    }\n",
       "</style>\n",
       "<table border=\"1\" class=\"dataframe\">\n",
       "  <thead>\n",
       "    <tr style=\"text-align: right;\">\n",
       "      <th></th>\n",
       "      <th>children</th>\n",
       "      <th>days_employed</th>\n",
       "      <th>dob_years</th>\n",
       "      <th>education</th>\n",
       "      <th>education_id</th>\n",
       "      <th>family_status</th>\n",
       "      <th>family_status_id</th>\n",
       "      <th>gender</th>\n",
       "      <th>income_type</th>\n",
       "      <th>debt</th>\n",
       "      <th>total_income</th>\n",
       "      <th>purpose</th>\n",
       "      <th>purpose_lemmas</th>\n",
       "      <th>children_group</th>\n",
       "      <th>purpose_groups</th>\n",
       "    </tr>\n",
       "  </thead>\n",
       "  <tbody>\n",
       "    <tr>\n",
       "      <td>0</td>\n",
       "      <td>1</td>\n",
       "      <td>8437</td>\n",
       "      <td>42</td>\n",
       "      <td>высшее</td>\n",
       "      <td>0</td>\n",
       "      <td>женат / замужем</td>\n",
       "      <td>0</td>\n",
       "      <td>F</td>\n",
       "      <td>сотрудник</td>\n",
       "      <td>0</td>\n",
       "      <td>253875</td>\n",
       "      <td>покупка жилья</td>\n",
       "      <td>[покупка,  , жилье, \\n]</td>\n",
       "      <td>стандартные семьи</td>\n",
       "      <td>кредит на жилье</td>\n",
       "    </tr>\n",
       "    <tr>\n",
       "      <td>1</td>\n",
       "      <td>1</td>\n",
       "      <td>4024</td>\n",
       "      <td>36</td>\n",
       "      <td>среднее</td>\n",
       "      <td>1</td>\n",
       "      <td>женат / замужем</td>\n",
       "      <td>0</td>\n",
       "      <td>F</td>\n",
       "      <td>сотрудник</td>\n",
       "      <td>0</td>\n",
       "      <td>112080</td>\n",
       "      <td>приобретение автомобиля</td>\n",
       "      <td>[приобретение,  , автомобиль, \\n]</td>\n",
       "      <td>стандартные семьи</td>\n",
       "      <td>автокредит</td>\n",
       "    </tr>\n",
       "    <tr>\n",
       "      <td>2</td>\n",
       "      <td>0</td>\n",
       "      <td>5623</td>\n",
       "      <td>33</td>\n",
       "      <td>среднее</td>\n",
       "      <td>1</td>\n",
       "      <td>женат / замужем</td>\n",
       "      <td>0</td>\n",
       "      <td>M</td>\n",
       "      <td>сотрудник</td>\n",
       "      <td>0</td>\n",
       "      <td>145885</td>\n",
       "      <td>покупка жилья</td>\n",
       "      <td>[покупка,  , жилье, \\n]</td>\n",
       "      <td>стандартные семьи</td>\n",
       "      <td>кредит на жилье</td>\n",
       "    </tr>\n",
       "    <tr>\n",
       "      <td>3</td>\n",
       "      <td>3</td>\n",
       "      <td>4124</td>\n",
       "      <td>32</td>\n",
       "      <td>среднее</td>\n",
       "      <td>1</td>\n",
       "      <td>женат / замужем</td>\n",
       "      <td>0</td>\n",
       "      <td>M</td>\n",
       "      <td>сотрудник</td>\n",
       "      <td>0</td>\n",
       "      <td>267628</td>\n",
       "      <td>дополнительное образование</td>\n",
       "      <td>[дополнительный,  , образование, \\n]</td>\n",
       "      <td>многодетные семьи</td>\n",
       "      <td>кредит на образование</td>\n",
       "    </tr>\n",
       "    <tr>\n",
       "      <td>4</td>\n",
       "      <td>0</td>\n",
       "      <td>340266</td>\n",
       "      <td>53</td>\n",
       "      <td>среднее</td>\n",
       "      <td>1</td>\n",
       "      <td>гражданский брак</td>\n",
       "      <td>1</td>\n",
       "      <td>F</td>\n",
       "      <td>пенсионер</td>\n",
       "      <td>0</td>\n",
       "      <td>158616</td>\n",
       "      <td>сыграть свадьбу</td>\n",
       "      <td>[сыграть,  , свадьба, \\n]</td>\n",
       "      <td>стандартные семьи</td>\n",
       "      <td>свадебный кредит</td>\n",
       "    </tr>\n",
       "    <tr>\n",
       "      <td>...</td>\n",
       "      <td>...</td>\n",
       "      <td>...</td>\n",
       "      <td>...</td>\n",
       "      <td>...</td>\n",
       "      <td>...</td>\n",
       "      <td>...</td>\n",
       "      <td>...</td>\n",
       "      <td>...</td>\n",
       "      <td>...</td>\n",
       "      <td>...</td>\n",
       "      <td>...</td>\n",
       "      <td>...</td>\n",
       "      <td>...</td>\n",
       "      <td>...</td>\n",
       "      <td>...</td>\n",
       "    </tr>\n",
       "    <tr>\n",
       "      <td>21520</td>\n",
       "      <td>1</td>\n",
       "      <td>4529</td>\n",
       "      <td>43</td>\n",
       "      <td>среднее</td>\n",
       "      <td>1</td>\n",
       "      <td>гражданский брак</td>\n",
       "      <td>1</td>\n",
       "      <td>F</td>\n",
       "      <td>компаньон</td>\n",
       "      <td>0</td>\n",
       "      <td>224791</td>\n",
       "      <td>операции с жильем</td>\n",
       "      <td>[операция,  , с,  , жилье, \\n]</td>\n",
       "      <td>стандартные семьи</td>\n",
       "      <td>кредит на жилье</td>\n",
       "    </tr>\n",
       "    <tr>\n",
       "      <td>21521</td>\n",
       "      <td>0</td>\n",
       "      <td>343937</td>\n",
       "      <td>67</td>\n",
       "      <td>среднее</td>\n",
       "      <td>1</td>\n",
       "      <td>женат / замужем</td>\n",
       "      <td>0</td>\n",
       "      <td>F</td>\n",
       "      <td>пенсионер</td>\n",
       "      <td>0</td>\n",
       "      <td>155999</td>\n",
       "      <td>сделка с автомобилем</td>\n",
       "      <td>[сделка,  , с,  , автомобиль, \\n]</td>\n",
       "      <td>стандартные семьи</td>\n",
       "      <td>автокредит</td>\n",
       "    </tr>\n",
       "    <tr>\n",
       "      <td>21522</td>\n",
       "      <td>1</td>\n",
       "      <td>2113</td>\n",
       "      <td>38</td>\n",
       "      <td>среднее</td>\n",
       "      <td>1</td>\n",
       "      <td>гражданский брак</td>\n",
       "      <td>1</td>\n",
       "      <td>M</td>\n",
       "      <td>сотрудник</td>\n",
       "      <td>1</td>\n",
       "      <td>89672</td>\n",
       "      <td>недвижимость</td>\n",
       "      <td>[недвижимость, \\n]</td>\n",
       "      <td>стандартные семьи</td>\n",
       "      <td>кредит на жилье</td>\n",
       "    </tr>\n",
       "    <tr>\n",
       "      <td>21523</td>\n",
       "      <td>3</td>\n",
       "      <td>3112</td>\n",
       "      <td>38</td>\n",
       "      <td>среднее</td>\n",
       "      <td>1</td>\n",
       "      <td>женат / замужем</td>\n",
       "      <td>0</td>\n",
       "      <td>M</td>\n",
       "      <td>сотрудник</td>\n",
       "      <td>1</td>\n",
       "      <td>244093</td>\n",
       "      <td>на покупку своего автомобиля</td>\n",
       "      <td>[на,  , покупка,  , свой,  , автомобиль, \\n]</td>\n",
       "      <td>многодетные семьи</td>\n",
       "      <td>автокредит</td>\n",
       "    </tr>\n",
       "    <tr>\n",
       "      <td>21524</td>\n",
       "      <td>2</td>\n",
       "      <td>1984</td>\n",
       "      <td>40</td>\n",
       "      <td>среднее</td>\n",
       "      <td>1</td>\n",
       "      <td>женат / замужем</td>\n",
       "      <td>0</td>\n",
       "      <td>F</td>\n",
       "      <td>сотрудник</td>\n",
       "      <td>0</td>\n",
       "      <td>82047</td>\n",
       "      <td>на покупку автомобиля</td>\n",
       "      <td>[на,  , покупка,  , автомобиль, \\n]</td>\n",
       "      <td>стандартные семьи</td>\n",
       "      <td>автокредит</td>\n",
       "    </tr>\n",
       "  </tbody>\n",
       "</table>\n",
       "<p>21471 rows × 15 columns</p>\n",
       "</div>"
      ],
      "text/plain": [
       "       children  days_employed  dob_years education  education_id  \\\n",
       "0             1           8437         42    высшее             0   \n",
       "1             1           4024         36   среднее             1   \n",
       "2             0           5623         33   среднее             1   \n",
       "3             3           4124         32   среднее             1   \n",
       "4             0         340266         53   среднее             1   \n",
       "...         ...            ...        ...       ...           ...   \n",
       "21520         1           4529         43   среднее             1   \n",
       "21521         0         343937         67   среднее             1   \n",
       "21522         1           2113         38   среднее             1   \n",
       "21523         3           3112         38   среднее             1   \n",
       "21524         2           1984         40   среднее             1   \n",
       "\n",
       "          family_status  family_status_id gender income_type  debt  \\\n",
       "0       женат / замужем                 0      F   сотрудник     0   \n",
       "1       женат / замужем                 0      F   сотрудник     0   \n",
       "2       женат / замужем                 0      M   сотрудник     0   \n",
       "3       женат / замужем                 0      M   сотрудник     0   \n",
       "4      гражданский брак                 1      F   пенсионер     0   \n",
       "...                 ...               ...    ...         ...   ...   \n",
       "21520  гражданский брак                 1      F   компаньон     0   \n",
       "21521   женат / замужем                 0      F   пенсионер     0   \n",
       "21522  гражданский брак                 1      M   сотрудник     1   \n",
       "21523   женат / замужем                 0      M   сотрудник     1   \n",
       "21524   женат / замужем                 0      F   сотрудник     0   \n",
       "\n",
       "       total_income                       purpose  \\\n",
       "0            253875                 покупка жилья   \n",
       "1            112080       приобретение автомобиля   \n",
       "2            145885                 покупка жилья   \n",
       "3            267628    дополнительное образование   \n",
       "4            158616               сыграть свадьбу   \n",
       "...             ...                           ...   \n",
       "21520        224791             операции с жильем   \n",
       "21521        155999          сделка с автомобилем   \n",
       "21522         89672                  недвижимость   \n",
       "21523        244093  на покупку своего автомобиля   \n",
       "21524         82047         на покупку автомобиля   \n",
       "\n",
       "                                     purpose_lemmas     children_group  \\\n",
       "0                           [покупка,  , жилье, \\n]  стандартные семьи   \n",
       "1                 [приобретение,  , автомобиль, \\n]  стандартные семьи   \n",
       "2                           [покупка,  , жилье, \\n]  стандартные семьи   \n",
       "3              [дополнительный,  , образование, \\n]  многодетные семьи   \n",
       "4                         [сыграть,  , свадьба, \\n]  стандартные семьи   \n",
       "...                                             ...                ...   \n",
       "21520                [операция,  , с,  , жилье, \\n]  стандартные семьи   \n",
       "21521             [сделка,  , с,  , автомобиль, \\n]  стандартные семьи   \n",
       "21522                            [недвижимость, \\n]  стандартные семьи   \n",
       "21523  [на,  , покупка,  , свой,  , автомобиль, \\n]  многодетные семьи   \n",
       "21524           [на,  , покупка,  , автомобиль, \\n]  стандартные семьи   \n",
       "\n",
       "              purpose_groups  \n",
       "0            кредит на жилье  \n",
       "1                 автокредит  \n",
       "2            кредит на жилье  \n",
       "3      кредит на образование  \n",
       "4           свадебный кредит  \n",
       "...                      ...  \n",
       "21520        кредит на жилье  \n",
       "21521             автокредит  \n",
       "21522        кредит на жилье  \n",
       "21523             автокредит  \n",
       "21524             автокредит  \n",
       "\n",
       "[21471 rows x 15 columns]"
      ]
     },
     "execution_count": 37,
     "metadata": {},
     "output_type": "execute_result"
    }
   ],
   "source": [
    "df['purpose_groups'] = df['purpose_lemmas'].apply(group_by_purpose)\n",
    "df"
   ]
  },
  {
   "cell_type": "code",
   "execution_count": 38,
   "metadata": {},
   "outputs": [
    {
     "data": {
      "text/html": [
       "<div>\n",
       "<style scoped>\n",
       "    .dataframe tbody tr th:only-of-type {\n",
       "        vertical-align: middle;\n",
       "    }\n",
       "\n",
       "    .dataframe tbody tr th {\n",
       "        vertical-align: top;\n",
       "    }\n",
       "\n",
       "    .dataframe thead th {\n",
       "        text-align: right;\n",
       "    }\n",
       "</style>\n",
       "<table border=\"1\" class=\"dataframe\">\n",
       "  <thead>\n",
       "    <tr style=\"text-align: right;\">\n",
       "      <th></th>\n",
       "      <th>children</th>\n",
       "      <th>days_employed</th>\n",
       "      <th>dob_years</th>\n",
       "      <th>education</th>\n",
       "      <th>education_id</th>\n",
       "      <th>family_status</th>\n",
       "      <th>family_status_id</th>\n",
       "      <th>gender</th>\n",
       "      <th>income_type</th>\n",
       "      <th>debt</th>\n",
       "      <th>total_income</th>\n",
       "      <th>purpose</th>\n",
       "      <th>children_group</th>\n",
       "      <th>purpose_groups</th>\n",
       "    </tr>\n",
       "  </thead>\n",
       "  <tbody>\n",
       "    <tr>\n",
       "      <td>0</td>\n",
       "      <td>1</td>\n",
       "      <td>8437</td>\n",
       "      <td>42</td>\n",
       "      <td>высшее</td>\n",
       "      <td>0</td>\n",
       "      <td>женат / замужем</td>\n",
       "      <td>0</td>\n",
       "      <td>F</td>\n",
       "      <td>сотрудник</td>\n",
       "      <td>0</td>\n",
       "      <td>253875</td>\n",
       "      <td>покупка жилья</td>\n",
       "      <td>стандартные семьи</td>\n",
       "      <td>кредит на жилье</td>\n",
       "    </tr>\n",
       "    <tr>\n",
       "      <td>1</td>\n",
       "      <td>1</td>\n",
       "      <td>4024</td>\n",
       "      <td>36</td>\n",
       "      <td>среднее</td>\n",
       "      <td>1</td>\n",
       "      <td>женат / замужем</td>\n",
       "      <td>0</td>\n",
       "      <td>F</td>\n",
       "      <td>сотрудник</td>\n",
       "      <td>0</td>\n",
       "      <td>112080</td>\n",
       "      <td>приобретение автомобиля</td>\n",
       "      <td>стандартные семьи</td>\n",
       "      <td>автокредит</td>\n",
       "    </tr>\n",
       "    <tr>\n",
       "      <td>2</td>\n",
       "      <td>0</td>\n",
       "      <td>5623</td>\n",
       "      <td>33</td>\n",
       "      <td>среднее</td>\n",
       "      <td>1</td>\n",
       "      <td>женат / замужем</td>\n",
       "      <td>0</td>\n",
       "      <td>M</td>\n",
       "      <td>сотрудник</td>\n",
       "      <td>0</td>\n",
       "      <td>145885</td>\n",
       "      <td>покупка жилья</td>\n",
       "      <td>стандартные семьи</td>\n",
       "      <td>кредит на жилье</td>\n",
       "    </tr>\n",
       "    <tr>\n",
       "      <td>3</td>\n",
       "      <td>3</td>\n",
       "      <td>4124</td>\n",
       "      <td>32</td>\n",
       "      <td>среднее</td>\n",
       "      <td>1</td>\n",
       "      <td>женат / замужем</td>\n",
       "      <td>0</td>\n",
       "      <td>M</td>\n",
       "      <td>сотрудник</td>\n",
       "      <td>0</td>\n",
       "      <td>267628</td>\n",
       "      <td>дополнительное образование</td>\n",
       "      <td>многодетные семьи</td>\n",
       "      <td>кредит на образование</td>\n",
       "    </tr>\n",
       "    <tr>\n",
       "      <td>4</td>\n",
       "      <td>0</td>\n",
       "      <td>340266</td>\n",
       "      <td>53</td>\n",
       "      <td>среднее</td>\n",
       "      <td>1</td>\n",
       "      <td>гражданский брак</td>\n",
       "      <td>1</td>\n",
       "      <td>F</td>\n",
       "      <td>пенсионер</td>\n",
       "      <td>0</td>\n",
       "      <td>158616</td>\n",
       "      <td>сыграть свадьбу</td>\n",
       "      <td>стандартные семьи</td>\n",
       "      <td>свадебный кредит</td>\n",
       "    </tr>\n",
       "    <tr>\n",
       "      <td>...</td>\n",
       "      <td>...</td>\n",
       "      <td>...</td>\n",
       "      <td>...</td>\n",
       "      <td>...</td>\n",
       "      <td>...</td>\n",
       "      <td>...</td>\n",
       "      <td>...</td>\n",
       "      <td>...</td>\n",
       "      <td>...</td>\n",
       "      <td>...</td>\n",
       "      <td>...</td>\n",
       "      <td>...</td>\n",
       "      <td>...</td>\n",
       "      <td>...</td>\n",
       "    </tr>\n",
       "    <tr>\n",
       "      <td>21520</td>\n",
       "      <td>1</td>\n",
       "      <td>4529</td>\n",
       "      <td>43</td>\n",
       "      <td>среднее</td>\n",
       "      <td>1</td>\n",
       "      <td>гражданский брак</td>\n",
       "      <td>1</td>\n",
       "      <td>F</td>\n",
       "      <td>компаньон</td>\n",
       "      <td>0</td>\n",
       "      <td>224791</td>\n",
       "      <td>операции с жильем</td>\n",
       "      <td>стандартные семьи</td>\n",
       "      <td>кредит на жилье</td>\n",
       "    </tr>\n",
       "    <tr>\n",
       "      <td>21521</td>\n",
       "      <td>0</td>\n",
       "      <td>343937</td>\n",
       "      <td>67</td>\n",
       "      <td>среднее</td>\n",
       "      <td>1</td>\n",
       "      <td>женат / замужем</td>\n",
       "      <td>0</td>\n",
       "      <td>F</td>\n",
       "      <td>пенсионер</td>\n",
       "      <td>0</td>\n",
       "      <td>155999</td>\n",
       "      <td>сделка с автомобилем</td>\n",
       "      <td>стандартные семьи</td>\n",
       "      <td>автокредит</td>\n",
       "    </tr>\n",
       "    <tr>\n",
       "      <td>21522</td>\n",
       "      <td>1</td>\n",
       "      <td>2113</td>\n",
       "      <td>38</td>\n",
       "      <td>среднее</td>\n",
       "      <td>1</td>\n",
       "      <td>гражданский брак</td>\n",
       "      <td>1</td>\n",
       "      <td>M</td>\n",
       "      <td>сотрудник</td>\n",
       "      <td>1</td>\n",
       "      <td>89672</td>\n",
       "      <td>недвижимость</td>\n",
       "      <td>стандартные семьи</td>\n",
       "      <td>кредит на жилье</td>\n",
       "    </tr>\n",
       "    <tr>\n",
       "      <td>21523</td>\n",
       "      <td>3</td>\n",
       "      <td>3112</td>\n",
       "      <td>38</td>\n",
       "      <td>среднее</td>\n",
       "      <td>1</td>\n",
       "      <td>женат / замужем</td>\n",
       "      <td>0</td>\n",
       "      <td>M</td>\n",
       "      <td>сотрудник</td>\n",
       "      <td>1</td>\n",
       "      <td>244093</td>\n",
       "      <td>на покупку своего автомобиля</td>\n",
       "      <td>многодетные семьи</td>\n",
       "      <td>автокредит</td>\n",
       "    </tr>\n",
       "    <tr>\n",
       "      <td>21524</td>\n",
       "      <td>2</td>\n",
       "      <td>1984</td>\n",
       "      <td>40</td>\n",
       "      <td>среднее</td>\n",
       "      <td>1</td>\n",
       "      <td>женат / замужем</td>\n",
       "      <td>0</td>\n",
       "      <td>F</td>\n",
       "      <td>сотрудник</td>\n",
       "      <td>0</td>\n",
       "      <td>82047</td>\n",
       "      <td>на покупку автомобиля</td>\n",
       "      <td>стандартные семьи</td>\n",
       "      <td>автокредит</td>\n",
       "    </tr>\n",
       "  </tbody>\n",
       "</table>\n",
       "<p>21471 rows × 14 columns</p>\n",
       "</div>"
      ],
      "text/plain": [
       "       children  days_employed  dob_years education  education_id  \\\n",
       "0             1           8437         42    высшее             0   \n",
       "1             1           4024         36   среднее             1   \n",
       "2             0           5623         33   среднее             1   \n",
       "3             3           4124         32   среднее             1   \n",
       "4             0         340266         53   среднее             1   \n",
       "...         ...            ...        ...       ...           ...   \n",
       "21520         1           4529         43   среднее             1   \n",
       "21521         0         343937         67   среднее             1   \n",
       "21522         1           2113         38   среднее             1   \n",
       "21523         3           3112         38   среднее             1   \n",
       "21524         2           1984         40   среднее             1   \n",
       "\n",
       "          family_status  family_status_id gender income_type  debt  \\\n",
       "0       женат / замужем                 0      F   сотрудник     0   \n",
       "1       женат / замужем                 0      F   сотрудник     0   \n",
       "2       женат / замужем                 0      M   сотрудник     0   \n",
       "3       женат / замужем                 0      M   сотрудник     0   \n",
       "4      гражданский брак                 1      F   пенсионер     0   \n",
       "...                 ...               ...    ...         ...   ...   \n",
       "21520  гражданский брак                 1      F   компаньон     0   \n",
       "21521   женат / замужем                 0      F   пенсионер     0   \n",
       "21522  гражданский брак                 1      M   сотрудник     1   \n",
       "21523   женат / замужем                 0      M   сотрудник     1   \n",
       "21524   женат / замужем                 0      F   сотрудник     0   \n",
       "\n",
       "       total_income                       purpose     children_group  \\\n",
       "0            253875                 покупка жилья  стандартные семьи   \n",
       "1            112080       приобретение автомобиля  стандартные семьи   \n",
       "2            145885                 покупка жилья  стандартные семьи   \n",
       "3            267628    дополнительное образование  многодетные семьи   \n",
       "4            158616               сыграть свадьбу  стандартные семьи   \n",
       "...             ...                           ...                ...   \n",
       "21520        224791             операции с жильем  стандартные семьи   \n",
       "21521        155999          сделка с автомобилем  стандартные семьи   \n",
       "21522         89672                  недвижимость  стандартные семьи   \n",
       "21523        244093  на покупку своего автомобиля  многодетные семьи   \n",
       "21524         82047         на покупку автомобиля  стандартные семьи   \n",
       "\n",
       "              purpose_groups  \n",
       "0            кредит на жилье  \n",
       "1                 автокредит  \n",
       "2            кредит на жилье  \n",
       "3      кредит на образование  \n",
       "4           свадебный кредит  \n",
       "...                      ...  \n",
       "21520        кредит на жилье  \n",
       "21521             автокредит  \n",
       "21522        кредит на жилье  \n",
       "21523             автокредит  \n",
       "21524             автокредит  \n",
       "\n",
       "[21471 rows x 14 columns]"
      ]
     },
     "execution_count": 38,
     "metadata": {},
     "output_type": "execute_result"
    }
   ],
   "source": [
    "#удаляем ненужный столбец\n",
    "df = df.drop('purpose_lemmas', axis=1)\n",
    "df"
   ]
  },
  {
   "cell_type": "code",
   "execution_count": 39,
   "metadata": {},
   "outputs": [],
   "source": [
    "def income_grouped(summa):\n",
    "    if summa < 50000:\n",
    "        group = 'малоимущие'\n",
    "    elif summa < 100000:\n",
    "        group = 'средний доход'\n",
    "    elif summa < 120000:\n",
    "        group = 'доход выше среднего'\n",
    "    else:\n",
    "        group = 'высокий доход'\n",
    "    return group"
   ]
  },
  {
   "cell_type": "code",
   "execution_count": 40,
   "metadata": {},
   "outputs": [
    {
     "data": {
      "text/html": [
       "<div>\n",
       "<style scoped>\n",
       "    .dataframe tbody tr th:only-of-type {\n",
       "        vertical-align: middle;\n",
       "    }\n",
       "\n",
       "    .dataframe tbody tr th {\n",
       "        vertical-align: top;\n",
       "    }\n",
       "\n",
       "    .dataframe thead th {\n",
       "        text-align: right;\n",
       "    }\n",
       "</style>\n",
       "<table border=\"1\" class=\"dataframe\">\n",
       "  <thead>\n",
       "    <tr style=\"text-align: right;\">\n",
       "      <th></th>\n",
       "      <th>children</th>\n",
       "      <th>days_employed</th>\n",
       "      <th>dob_years</th>\n",
       "      <th>education</th>\n",
       "      <th>education_id</th>\n",
       "      <th>family_status</th>\n",
       "      <th>family_status_id</th>\n",
       "      <th>gender</th>\n",
       "      <th>income_type</th>\n",
       "      <th>debt</th>\n",
       "      <th>total_income</th>\n",
       "      <th>purpose</th>\n",
       "      <th>children_group</th>\n",
       "      <th>purpose_groups</th>\n",
       "      <th>income_grouped</th>\n",
       "    </tr>\n",
       "  </thead>\n",
       "  <tbody>\n",
       "    <tr>\n",
       "      <td>0</td>\n",
       "      <td>1</td>\n",
       "      <td>8437</td>\n",
       "      <td>42</td>\n",
       "      <td>высшее</td>\n",
       "      <td>0</td>\n",
       "      <td>женат / замужем</td>\n",
       "      <td>0</td>\n",
       "      <td>F</td>\n",
       "      <td>сотрудник</td>\n",
       "      <td>0</td>\n",
       "      <td>253875</td>\n",
       "      <td>покупка жилья</td>\n",
       "      <td>стандартные семьи</td>\n",
       "      <td>кредит на жилье</td>\n",
       "      <td>высокий доход</td>\n",
       "    </tr>\n",
       "    <tr>\n",
       "      <td>1</td>\n",
       "      <td>1</td>\n",
       "      <td>4024</td>\n",
       "      <td>36</td>\n",
       "      <td>среднее</td>\n",
       "      <td>1</td>\n",
       "      <td>женат / замужем</td>\n",
       "      <td>0</td>\n",
       "      <td>F</td>\n",
       "      <td>сотрудник</td>\n",
       "      <td>0</td>\n",
       "      <td>112080</td>\n",
       "      <td>приобретение автомобиля</td>\n",
       "      <td>стандартные семьи</td>\n",
       "      <td>автокредит</td>\n",
       "      <td>доход выше среднего</td>\n",
       "    </tr>\n",
       "    <tr>\n",
       "      <td>2</td>\n",
       "      <td>0</td>\n",
       "      <td>5623</td>\n",
       "      <td>33</td>\n",
       "      <td>среднее</td>\n",
       "      <td>1</td>\n",
       "      <td>женат / замужем</td>\n",
       "      <td>0</td>\n",
       "      <td>M</td>\n",
       "      <td>сотрудник</td>\n",
       "      <td>0</td>\n",
       "      <td>145885</td>\n",
       "      <td>покупка жилья</td>\n",
       "      <td>стандартные семьи</td>\n",
       "      <td>кредит на жилье</td>\n",
       "      <td>высокий доход</td>\n",
       "    </tr>\n",
       "    <tr>\n",
       "      <td>3</td>\n",
       "      <td>3</td>\n",
       "      <td>4124</td>\n",
       "      <td>32</td>\n",
       "      <td>среднее</td>\n",
       "      <td>1</td>\n",
       "      <td>женат / замужем</td>\n",
       "      <td>0</td>\n",
       "      <td>M</td>\n",
       "      <td>сотрудник</td>\n",
       "      <td>0</td>\n",
       "      <td>267628</td>\n",
       "      <td>дополнительное образование</td>\n",
       "      <td>многодетные семьи</td>\n",
       "      <td>кредит на образование</td>\n",
       "      <td>высокий доход</td>\n",
       "    </tr>\n",
       "    <tr>\n",
       "      <td>4</td>\n",
       "      <td>0</td>\n",
       "      <td>340266</td>\n",
       "      <td>53</td>\n",
       "      <td>среднее</td>\n",
       "      <td>1</td>\n",
       "      <td>гражданский брак</td>\n",
       "      <td>1</td>\n",
       "      <td>F</td>\n",
       "      <td>пенсионер</td>\n",
       "      <td>0</td>\n",
       "      <td>158616</td>\n",
       "      <td>сыграть свадьбу</td>\n",
       "      <td>стандартные семьи</td>\n",
       "      <td>свадебный кредит</td>\n",
       "      <td>высокий доход</td>\n",
       "    </tr>\n",
       "    <tr>\n",
       "      <td>...</td>\n",
       "      <td>...</td>\n",
       "      <td>...</td>\n",
       "      <td>...</td>\n",
       "      <td>...</td>\n",
       "      <td>...</td>\n",
       "      <td>...</td>\n",
       "      <td>...</td>\n",
       "      <td>...</td>\n",
       "      <td>...</td>\n",
       "      <td>...</td>\n",
       "      <td>...</td>\n",
       "      <td>...</td>\n",
       "      <td>...</td>\n",
       "      <td>...</td>\n",
       "      <td>...</td>\n",
       "    </tr>\n",
       "    <tr>\n",
       "      <td>21520</td>\n",
       "      <td>1</td>\n",
       "      <td>4529</td>\n",
       "      <td>43</td>\n",
       "      <td>среднее</td>\n",
       "      <td>1</td>\n",
       "      <td>гражданский брак</td>\n",
       "      <td>1</td>\n",
       "      <td>F</td>\n",
       "      <td>компаньон</td>\n",
       "      <td>0</td>\n",
       "      <td>224791</td>\n",
       "      <td>операции с жильем</td>\n",
       "      <td>стандартные семьи</td>\n",
       "      <td>кредит на жилье</td>\n",
       "      <td>высокий доход</td>\n",
       "    </tr>\n",
       "    <tr>\n",
       "      <td>21521</td>\n",
       "      <td>0</td>\n",
       "      <td>343937</td>\n",
       "      <td>67</td>\n",
       "      <td>среднее</td>\n",
       "      <td>1</td>\n",
       "      <td>женат / замужем</td>\n",
       "      <td>0</td>\n",
       "      <td>F</td>\n",
       "      <td>пенсионер</td>\n",
       "      <td>0</td>\n",
       "      <td>155999</td>\n",
       "      <td>сделка с автомобилем</td>\n",
       "      <td>стандартные семьи</td>\n",
       "      <td>автокредит</td>\n",
       "      <td>высокий доход</td>\n",
       "    </tr>\n",
       "    <tr>\n",
       "      <td>21522</td>\n",
       "      <td>1</td>\n",
       "      <td>2113</td>\n",
       "      <td>38</td>\n",
       "      <td>среднее</td>\n",
       "      <td>1</td>\n",
       "      <td>гражданский брак</td>\n",
       "      <td>1</td>\n",
       "      <td>M</td>\n",
       "      <td>сотрудник</td>\n",
       "      <td>1</td>\n",
       "      <td>89672</td>\n",
       "      <td>недвижимость</td>\n",
       "      <td>стандартные семьи</td>\n",
       "      <td>кредит на жилье</td>\n",
       "      <td>средний доход</td>\n",
       "    </tr>\n",
       "    <tr>\n",
       "      <td>21523</td>\n",
       "      <td>3</td>\n",
       "      <td>3112</td>\n",
       "      <td>38</td>\n",
       "      <td>среднее</td>\n",
       "      <td>1</td>\n",
       "      <td>женат / замужем</td>\n",
       "      <td>0</td>\n",
       "      <td>M</td>\n",
       "      <td>сотрудник</td>\n",
       "      <td>1</td>\n",
       "      <td>244093</td>\n",
       "      <td>на покупку своего автомобиля</td>\n",
       "      <td>многодетные семьи</td>\n",
       "      <td>автокредит</td>\n",
       "      <td>высокий доход</td>\n",
       "    </tr>\n",
       "    <tr>\n",
       "      <td>21524</td>\n",
       "      <td>2</td>\n",
       "      <td>1984</td>\n",
       "      <td>40</td>\n",
       "      <td>среднее</td>\n",
       "      <td>1</td>\n",
       "      <td>женат / замужем</td>\n",
       "      <td>0</td>\n",
       "      <td>F</td>\n",
       "      <td>сотрудник</td>\n",
       "      <td>0</td>\n",
       "      <td>82047</td>\n",
       "      <td>на покупку автомобиля</td>\n",
       "      <td>стандартные семьи</td>\n",
       "      <td>автокредит</td>\n",
       "      <td>средний доход</td>\n",
       "    </tr>\n",
       "  </tbody>\n",
       "</table>\n",
       "<p>21471 rows × 15 columns</p>\n",
       "</div>"
      ],
      "text/plain": [
       "       children  days_employed  dob_years education  education_id  \\\n",
       "0             1           8437         42    высшее             0   \n",
       "1             1           4024         36   среднее             1   \n",
       "2             0           5623         33   среднее             1   \n",
       "3             3           4124         32   среднее             1   \n",
       "4             0         340266         53   среднее             1   \n",
       "...         ...            ...        ...       ...           ...   \n",
       "21520         1           4529         43   среднее             1   \n",
       "21521         0         343937         67   среднее             1   \n",
       "21522         1           2113         38   среднее             1   \n",
       "21523         3           3112         38   среднее             1   \n",
       "21524         2           1984         40   среднее             1   \n",
       "\n",
       "          family_status  family_status_id gender income_type  debt  \\\n",
       "0       женат / замужем                 0      F   сотрудник     0   \n",
       "1       женат / замужем                 0      F   сотрудник     0   \n",
       "2       женат / замужем                 0      M   сотрудник     0   \n",
       "3       женат / замужем                 0      M   сотрудник     0   \n",
       "4      гражданский брак                 1      F   пенсионер     0   \n",
       "...                 ...               ...    ...         ...   ...   \n",
       "21520  гражданский брак                 1      F   компаньон     0   \n",
       "21521   женат / замужем                 0      F   пенсионер     0   \n",
       "21522  гражданский брак                 1      M   сотрудник     1   \n",
       "21523   женат / замужем                 0      M   сотрудник     1   \n",
       "21524   женат / замужем                 0      F   сотрудник     0   \n",
       "\n",
       "       total_income                       purpose     children_group  \\\n",
       "0            253875                 покупка жилья  стандартные семьи   \n",
       "1            112080       приобретение автомобиля  стандартные семьи   \n",
       "2            145885                 покупка жилья  стандартные семьи   \n",
       "3            267628    дополнительное образование  многодетные семьи   \n",
       "4            158616               сыграть свадьбу  стандартные семьи   \n",
       "...             ...                           ...                ...   \n",
       "21520        224791             операции с жильем  стандартные семьи   \n",
       "21521        155999          сделка с автомобилем  стандартные семьи   \n",
       "21522         89672                  недвижимость  стандартные семьи   \n",
       "21523        244093  на покупку своего автомобиля  многодетные семьи   \n",
       "21524         82047         на покупку автомобиля  стандартные семьи   \n",
       "\n",
       "              purpose_groups       income_grouped  \n",
       "0            кредит на жилье        высокий доход  \n",
       "1                 автокредит  доход выше среднего  \n",
       "2            кредит на жилье        высокий доход  \n",
       "3      кредит на образование        высокий доход  \n",
       "4           свадебный кредит        высокий доход  \n",
       "...                      ...                  ...  \n",
       "21520        кредит на жилье        высокий доход  \n",
       "21521             автокредит        высокий доход  \n",
       "21522        кредит на жилье        средний доход  \n",
       "21523             автокредит        высокий доход  \n",
       "21524             автокредит        средний доход  \n",
       "\n",
       "[21471 rows x 15 columns]"
      ]
     },
     "execution_count": 40,
     "metadata": {},
     "output_type": "execute_result"
    }
   ],
   "source": [
    "df['income_grouped'] = df['total_income'].apply(income_grouped)\n",
    "df"
   ]
  },
  {
   "cell_type": "code",
   "execution_count": 41,
   "metadata": {},
   "outputs": [
    {
     "data": {
      "text/plain": [
       "array(['кредит на жилье', 'автокредит', 'кредит на образование',\n",
       "       'свадебный кредит', 'кредит на коммерческую недвижимость'],\n",
       "      dtype=object)"
      ]
     },
     "execution_count": 41,
     "metadata": {},
     "output_type": "execute_result"
    }
   ],
   "source": [
    "df['purpose_groups'].unique()"
   ]
  },
  {
   "cell_type": "code",
   "execution_count": 42,
   "metadata": {},
   "outputs": [],
   "source": [
    "def purpose_id(string):\n",
    "    if string == 'кредит на жилье':\n",
    "        ident = 0\n",
    "    elif string == 'автокредит':\n",
    "        ident = 1\n",
    "    elif string == 'кредит на образование':\n",
    "        ident = 2\n",
    "    elif string == 'свадебный кредит':\n",
    "        ident = 3\n",
    "    else:\n",
    "        ident = 4\n",
    "    return ident\n",
    "        "
   ]
  },
  {
   "cell_type": "code",
   "execution_count": 43,
   "metadata": {},
   "outputs": [
    {
     "data": {
      "text/html": [
       "<div>\n",
       "<style scoped>\n",
       "    .dataframe tbody tr th:only-of-type {\n",
       "        vertical-align: middle;\n",
       "    }\n",
       "\n",
       "    .dataframe tbody tr th {\n",
       "        vertical-align: top;\n",
       "    }\n",
       "\n",
       "    .dataframe thead th {\n",
       "        text-align: right;\n",
       "    }\n",
       "</style>\n",
       "<table border=\"1\" class=\"dataframe\">\n",
       "  <thead>\n",
       "    <tr style=\"text-align: right;\">\n",
       "      <th></th>\n",
       "      <th>children</th>\n",
       "      <th>days_employed</th>\n",
       "      <th>dob_years</th>\n",
       "      <th>education</th>\n",
       "      <th>education_id</th>\n",
       "      <th>family_status</th>\n",
       "      <th>family_status_id</th>\n",
       "      <th>gender</th>\n",
       "      <th>income_type</th>\n",
       "      <th>debt</th>\n",
       "      <th>total_income</th>\n",
       "      <th>purpose</th>\n",
       "      <th>children_group</th>\n",
       "      <th>purpose_groups</th>\n",
       "      <th>income_grouped</th>\n",
       "      <th>purpose_id</th>\n",
       "    </tr>\n",
       "  </thead>\n",
       "  <tbody>\n",
       "    <tr>\n",
       "      <td>0</td>\n",
       "      <td>1</td>\n",
       "      <td>8437</td>\n",
       "      <td>42</td>\n",
       "      <td>высшее</td>\n",
       "      <td>0</td>\n",
       "      <td>женат / замужем</td>\n",
       "      <td>0</td>\n",
       "      <td>F</td>\n",
       "      <td>сотрудник</td>\n",
       "      <td>0</td>\n",
       "      <td>253875</td>\n",
       "      <td>покупка жилья</td>\n",
       "      <td>стандартные семьи</td>\n",
       "      <td>кредит на жилье</td>\n",
       "      <td>высокий доход</td>\n",
       "      <td>0</td>\n",
       "    </tr>\n",
       "    <tr>\n",
       "      <td>1</td>\n",
       "      <td>1</td>\n",
       "      <td>4024</td>\n",
       "      <td>36</td>\n",
       "      <td>среднее</td>\n",
       "      <td>1</td>\n",
       "      <td>женат / замужем</td>\n",
       "      <td>0</td>\n",
       "      <td>F</td>\n",
       "      <td>сотрудник</td>\n",
       "      <td>0</td>\n",
       "      <td>112080</td>\n",
       "      <td>приобретение автомобиля</td>\n",
       "      <td>стандартные семьи</td>\n",
       "      <td>автокредит</td>\n",
       "      <td>доход выше среднего</td>\n",
       "      <td>1</td>\n",
       "    </tr>\n",
       "    <tr>\n",
       "      <td>2</td>\n",
       "      <td>0</td>\n",
       "      <td>5623</td>\n",
       "      <td>33</td>\n",
       "      <td>среднее</td>\n",
       "      <td>1</td>\n",
       "      <td>женат / замужем</td>\n",
       "      <td>0</td>\n",
       "      <td>M</td>\n",
       "      <td>сотрудник</td>\n",
       "      <td>0</td>\n",
       "      <td>145885</td>\n",
       "      <td>покупка жилья</td>\n",
       "      <td>стандартные семьи</td>\n",
       "      <td>кредит на жилье</td>\n",
       "      <td>высокий доход</td>\n",
       "      <td>0</td>\n",
       "    </tr>\n",
       "    <tr>\n",
       "      <td>3</td>\n",
       "      <td>3</td>\n",
       "      <td>4124</td>\n",
       "      <td>32</td>\n",
       "      <td>среднее</td>\n",
       "      <td>1</td>\n",
       "      <td>женат / замужем</td>\n",
       "      <td>0</td>\n",
       "      <td>M</td>\n",
       "      <td>сотрудник</td>\n",
       "      <td>0</td>\n",
       "      <td>267628</td>\n",
       "      <td>дополнительное образование</td>\n",
       "      <td>многодетные семьи</td>\n",
       "      <td>кредит на образование</td>\n",
       "      <td>высокий доход</td>\n",
       "      <td>2</td>\n",
       "    </tr>\n",
       "    <tr>\n",
       "      <td>4</td>\n",
       "      <td>0</td>\n",
       "      <td>340266</td>\n",
       "      <td>53</td>\n",
       "      <td>среднее</td>\n",
       "      <td>1</td>\n",
       "      <td>гражданский брак</td>\n",
       "      <td>1</td>\n",
       "      <td>F</td>\n",
       "      <td>пенсионер</td>\n",
       "      <td>0</td>\n",
       "      <td>158616</td>\n",
       "      <td>сыграть свадьбу</td>\n",
       "      <td>стандартные семьи</td>\n",
       "      <td>свадебный кредит</td>\n",
       "      <td>высокий доход</td>\n",
       "      <td>3</td>\n",
       "    </tr>\n",
       "    <tr>\n",
       "      <td>...</td>\n",
       "      <td>...</td>\n",
       "      <td>...</td>\n",
       "      <td>...</td>\n",
       "      <td>...</td>\n",
       "      <td>...</td>\n",
       "      <td>...</td>\n",
       "      <td>...</td>\n",
       "      <td>...</td>\n",
       "      <td>...</td>\n",
       "      <td>...</td>\n",
       "      <td>...</td>\n",
       "      <td>...</td>\n",
       "      <td>...</td>\n",
       "      <td>...</td>\n",
       "      <td>...</td>\n",
       "      <td>...</td>\n",
       "    </tr>\n",
       "    <tr>\n",
       "      <td>21520</td>\n",
       "      <td>1</td>\n",
       "      <td>4529</td>\n",
       "      <td>43</td>\n",
       "      <td>среднее</td>\n",
       "      <td>1</td>\n",
       "      <td>гражданский брак</td>\n",
       "      <td>1</td>\n",
       "      <td>F</td>\n",
       "      <td>компаньон</td>\n",
       "      <td>0</td>\n",
       "      <td>224791</td>\n",
       "      <td>операции с жильем</td>\n",
       "      <td>стандартные семьи</td>\n",
       "      <td>кредит на жилье</td>\n",
       "      <td>высокий доход</td>\n",
       "      <td>0</td>\n",
       "    </tr>\n",
       "    <tr>\n",
       "      <td>21521</td>\n",
       "      <td>0</td>\n",
       "      <td>343937</td>\n",
       "      <td>67</td>\n",
       "      <td>среднее</td>\n",
       "      <td>1</td>\n",
       "      <td>женат / замужем</td>\n",
       "      <td>0</td>\n",
       "      <td>F</td>\n",
       "      <td>пенсионер</td>\n",
       "      <td>0</td>\n",
       "      <td>155999</td>\n",
       "      <td>сделка с автомобилем</td>\n",
       "      <td>стандартные семьи</td>\n",
       "      <td>автокредит</td>\n",
       "      <td>высокий доход</td>\n",
       "      <td>1</td>\n",
       "    </tr>\n",
       "    <tr>\n",
       "      <td>21522</td>\n",
       "      <td>1</td>\n",
       "      <td>2113</td>\n",
       "      <td>38</td>\n",
       "      <td>среднее</td>\n",
       "      <td>1</td>\n",
       "      <td>гражданский брак</td>\n",
       "      <td>1</td>\n",
       "      <td>M</td>\n",
       "      <td>сотрудник</td>\n",
       "      <td>1</td>\n",
       "      <td>89672</td>\n",
       "      <td>недвижимость</td>\n",
       "      <td>стандартные семьи</td>\n",
       "      <td>кредит на жилье</td>\n",
       "      <td>средний доход</td>\n",
       "      <td>0</td>\n",
       "    </tr>\n",
       "    <tr>\n",
       "      <td>21523</td>\n",
       "      <td>3</td>\n",
       "      <td>3112</td>\n",
       "      <td>38</td>\n",
       "      <td>среднее</td>\n",
       "      <td>1</td>\n",
       "      <td>женат / замужем</td>\n",
       "      <td>0</td>\n",
       "      <td>M</td>\n",
       "      <td>сотрудник</td>\n",
       "      <td>1</td>\n",
       "      <td>244093</td>\n",
       "      <td>на покупку своего автомобиля</td>\n",
       "      <td>многодетные семьи</td>\n",
       "      <td>автокредит</td>\n",
       "      <td>высокий доход</td>\n",
       "      <td>1</td>\n",
       "    </tr>\n",
       "    <tr>\n",
       "      <td>21524</td>\n",
       "      <td>2</td>\n",
       "      <td>1984</td>\n",
       "      <td>40</td>\n",
       "      <td>среднее</td>\n",
       "      <td>1</td>\n",
       "      <td>женат / замужем</td>\n",
       "      <td>0</td>\n",
       "      <td>F</td>\n",
       "      <td>сотрудник</td>\n",
       "      <td>0</td>\n",
       "      <td>82047</td>\n",
       "      <td>на покупку автомобиля</td>\n",
       "      <td>стандартные семьи</td>\n",
       "      <td>автокредит</td>\n",
       "      <td>средний доход</td>\n",
       "      <td>1</td>\n",
       "    </tr>\n",
       "  </tbody>\n",
       "</table>\n",
       "<p>21471 rows × 16 columns</p>\n",
       "</div>"
      ],
      "text/plain": [
       "       children  days_employed  dob_years education  education_id  \\\n",
       "0             1           8437         42    высшее             0   \n",
       "1             1           4024         36   среднее             1   \n",
       "2             0           5623         33   среднее             1   \n",
       "3             3           4124         32   среднее             1   \n",
       "4             0         340266         53   среднее             1   \n",
       "...         ...            ...        ...       ...           ...   \n",
       "21520         1           4529         43   среднее             1   \n",
       "21521         0         343937         67   среднее             1   \n",
       "21522         1           2113         38   среднее             1   \n",
       "21523         3           3112         38   среднее             1   \n",
       "21524         2           1984         40   среднее             1   \n",
       "\n",
       "          family_status  family_status_id gender income_type  debt  \\\n",
       "0       женат / замужем                 0      F   сотрудник     0   \n",
       "1       женат / замужем                 0      F   сотрудник     0   \n",
       "2       женат / замужем                 0      M   сотрудник     0   \n",
       "3       женат / замужем                 0      M   сотрудник     0   \n",
       "4      гражданский брак                 1      F   пенсионер     0   \n",
       "...                 ...               ...    ...         ...   ...   \n",
       "21520  гражданский брак                 1      F   компаньон     0   \n",
       "21521   женат / замужем                 0      F   пенсионер     0   \n",
       "21522  гражданский брак                 1      M   сотрудник     1   \n",
       "21523   женат / замужем                 0      M   сотрудник     1   \n",
       "21524   женат / замужем                 0      F   сотрудник     0   \n",
       "\n",
       "       total_income                       purpose     children_group  \\\n",
       "0            253875                 покупка жилья  стандартные семьи   \n",
       "1            112080       приобретение автомобиля  стандартные семьи   \n",
       "2            145885                 покупка жилья  стандартные семьи   \n",
       "3            267628    дополнительное образование  многодетные семьи   \n",
       "4            158616               сыграть свадьбу  стандартные семьи   \n",
       "...             ...                           ...                ...   \n",
       "21520        224791             операции с жильем  стандартные семьи   \n",
       "21521        155999          сделка с автомобилем  стандартные семьи   \n",
       "21522         89672                  недвижимость  стандартные семьи   \n",
       "21523        244093  на покупку своего автомобиля  многодетные семьи   \n",
       "21524         82047         на покупку автомобиля  стандартные семьи   \n",
       "\n",
       "              purpose_groups       income_grouped  purpose_id  \n",
       "0            кредит на жилье        высокий доход           0  \n",
       "1                 автокредит  доход выше среднего           1  \n",
       "2            кредит на жилье        высокий доход           0  \n",
       "3      кредит на образование        высокий доход           2  \n",
       "4           свадебный кредит        высокий доход           3  \n",
       "...                      ...                  ...         ...  \n",
       "21520        кредит на жилье        высокий доход           0  \n",
       "21521             автокредит        высокий доход           1  \n",
       "21522        кредит на жилье        средний доход           0  \n",
       "21523             автокредит        высокий доход           1  \n",
       "21524             автокредит        средний доход           1  \n",
       "\n",
       "[21471 rows x 16 columns]"
      ]
     },
     "execution_count": 43,
     "metadata": {},
     "output_type": "execute_result"
    }
   ],
   "source": [
    "df['purpose_id'] = df['purpose_groups'].apply(purpose_id)\n",
    "df"
   ]
  },
  {
   "cell_type": "code",
   "execution_count": 44,
   "metadata": {},
   "outputs": [
    {
     "data": {
      "text/html": [
       "<div>\n",
       "<style scoped>\n",
       "    .dataframe tbody tr th:only-of-type {\n",
       "        vertical-align: middle;\n",
       "    }\n",
       "\n",
       "    .dataframe tbody tr th {\n",
       "        vertical-align: top;\n",
       "    }\n",
       "\n",
       "    .dataframe thead th {\n",
       "        text-align: right;\n",
       "    }\n",
       "</style>\n",
       "<table border=\"1\" class=\"dataframe\">\n",
       "  <thead>\n",
       "    <tr style=\"text-align: right;\">\n",
       "      <th></th>\n",
       "      <th>purpose_id</th>\n",
       "      <th>purpose_groups</th>\n",
       "    </tr>\n",
       "  </thead>\n",
       "  <tbody>\n",
       "    <tr>\n",
       "      <td>0</td>\n",
       "      <td>0</td>\n",
       "      <td>кредит на жилье</td>\n",
       "    </tr>\n",
       "    <tr>\n",
       "      <td>1</td>\n",
       "      <td>1</td>\n",
       "      <td>автокредит</td>\n",
       "    </tr>\n",
       "    <tr>\n",
       "      <td>2</td>\n",
       "      <td>2</td>\n",
       "      <td>кредит на образование</td>\n",
       "    </tr>\n",
       "    <tr>\n",
       "      <td>3</td>\n",
       "      <td>3</td>\n",
       "      <td>свадебный кредит</td>\n",
       "    </tr>\n",
       "    <tr>\n",
       "      <td>4</td>\n",
       "      <td>4</td>\n",
       "      <td>кредит на коммерческую недвижимость</td>\n",
       "    </tr>\n",
       "  </tbody>\n",
       "</table>\n",
       "</div>"
      ],
      "text/plain": [
       "   purpose_id                       purpose_groups\n",
       "0           0                      кредит на жилье\n",
       "1           1                           автокредит\n",
       "2           2                кредит на образование\n",
       "3           3                     свадебный кредит\n",
       "4           4  кредит на коммерческую недвижимость"
      ]
     },
     "execution_count": 44,
     "metadata": {},
     "output_type": "execute_result"
    }
   ],
   "source": [
    "purpose_dict = df.loc[:,['purpose_id', 'purpose_groups']]\n",
    "purpose_dict = purpose_dict.drop_duplicates().reset_index(drop=True)\n",
    "purpose_dict"
   ]
  },
  {
   "cell_type": "code",
   "execution_count": 45,
   "metadata": {},
   "outputs": [
    {
     "data": {
      "text/plain": [
       "array(['высшее', 'среднее', 'неоконченное высшее', 'начальное',\n",
       "       'ученая степень'], dtype=object)"
      ]
     },
     "execution_count": 45,
     "metadata": {},
     "output_type": "execute_result"
    }
   ],
   "source": [
    "df['education'].unique()"
   ]
  },
  {
   "cell_type": "code",
   "execution_count": 46,
   "metadata": {},
   "outputs": [],
   "source": [
    "def education_id(string):\n",
    "    if string == 'высшее':\n",
    "        ident = 1\n",
    "    elif string == 'среднее':\n",
    "        ident = 2\n",
    "    elif string == 'неоконченное высшее':\n",
    "        ident = 3\n",
    "    elif string == 'начальное':\n",
    "        ident = 4\n",
    "    elif string == 'ученая степень':\n",
    "        ident = 5\n",
    "    return ident"
   ]
  },
  {
   "cell_type": "code",
   "execution_count": 47,
   "metadata": {},
   "outputs": [
    {
     "data": {
      "text/html": [
       "<div>\n",
       "<style scoped>\n",
       "    .dataframe tbody tr th:only-of-type {\n",
       "        vertical-align: middle;\n",
       "    }\n",
       "\n",
       "    .dataframe tbody tr th {\n",
       "        vertical-align: top;\n",
       "    }\n",
       "\n",
       "    .dataframe thead th {\n",
       "        text-align: right;\n",
       "    }\n",
       "</style>\n",
       "<table border=\"1\" class=\"dataframe\">\n",
       "  <thead>\n",
       "    <tr style=\"text-align: right;\">\n",
       "      <th></th>\n",
       "      <th>children</th>\n",
       "      <th>days_employed</th>\n",
       "      <th>dob_years</th>\n",
       "      <th>education</th>\n",
       "      <th>education_id</th>\n",
       "      <th>family_status</th>\n",
       "      <th>family_status_id</th>\n",
       "      <th>gender</th>\n",
       "      <th>income_type</th>\n",
       "      <th>debt</th>\n",
       "      <th>total_income</th>\n",
       "      <th>purpose</th>\n",
       "      <th>children_group</th>\n",
       "      <th>purpose_groups</th>\n",
       "      <th>income_grouped</th>\n",
       "      <th>purpose_id</th>\n",
       "    </tr>\n",
       "  </thead>\n",
       "  <tbody>\n",
       "    <tr>\n",
       "      <td>0</td>\n",
       "      <td>1</td>\n",
       "      <td>8437</td>\n",
       "      <td>42</td>\n",
       "      <td>высшее</td>\n",
       "      <td>1</td>\n",
       "      <td>женат / замужем</td>\n",
       "      <td>0</td>\n",
       "      <td>F</td>\n",
       "      <td>сотрудник</td>\n",
       "      <td>0</td>\n",
       "      <td>253875</td>\n",
       "      <td>покупка жилья</td>\n",
       "      <td>стандартные семьи</td>\n",
       "      <td>кредит на жилье</td>\n",
       "      <td>высокий доход</td>\n",
       "      <td>0</td>\n",
       "    </tr>\n",
       "    <tr>\n",
       "      <td>1</td>\n",
       "      <td>1</td>\n",
       "      <td>4024</td>\n",
       "      <td>36</td>\n",
       "      <td>среднее</td>\n",
       "      <td>2</td>\n",
       "      <td>женат / замужем</td>\n",
       "      <td>0</td>\n",
       "      <td>F</td>\n",
       "      <td>сотрудник</td>\n",
       "      <td>0</td>\n",
       "      <td>112080</td>\n",
       "      <td>приобретение автомобиля</td>\n",
       "      <td>стандартные семьи</td>\n",
       "      <td>автокредит</td>\n",
       "      <td>доход выше среднего</td>\n",
       "      <td>1</td>\n",
       "    </tr>\n",
       "    <tr>\n",
       "      <td>2</td>\n",
       "      <td>0</td>\n",
       "      <td>5623</td>\n",
       "      <td>33</td>\n",
       "      <td>среднее</td>\n",
       "      <td>2</td>\n",
       "      <td>женат / замужем</td>\n",
       "      <td>0</td>\n",
       "      <td>M</td>\n",
       "      <td>сотрудник</td>\n",
       "      <td>0</td>\n",
       "      <td>145885</td>\n",
       "      <td>покупка жилья</td>\n",
       "      <td>стандартные семьи</td>\n",
       "      <td>кредит на жилье</td>\n",
       "      <td>высокий доход</td>\n",
       "      <td>0</td>\n",
       "    </tr>\n",
       "    <tr>\n",
       "      <td>3</td>\n",
       "      <td>3</td>\n",
       "      <td>4124</td>\n",
       "      <td>32</td>\n",
       "      <td>среднее</td>\n",
       "      <td>2</td>\n",
       "      <td>женат / замужем</td>\n",
       "      <td>0</td>\n",
       "      <td>M</td>\n",
       "      <td>сотрудник</td>\n",
       "      <td>0</td>\n",
       "      <td>267628</td>\n",
       "      <td>дополнительное образование</td>\n",
       "      <td>многодетные семьи</td>\n",
       "      <td>кредит на образование</td>\n",
       "      <td>высокий доход</td>\n",
       "      <td>2</td>\n",
       "    </tr>\n",
       "    <tr>\n",
       "      <td>4</td>\n",
       "      <td>0</td>\n",
       "      <td>340266</td>\n",
       "      <td>53</td>\n",
       "      <td>среднее</td>\n",
       "      <td>2</td>\n",
       "      <td>гражданский брак</td>\n",
       "      <td>1</td>\n",
       "      <td>F</td>\n",
       "      <td>пенсионер</td>\n",
       "      <td>0</td>\n",
       "      <td>158616</td>\n",
       "      <td>сыграть свадьбу</td>\n",
       "      <td>стандартные семьи</td>\n",
       "      <td>свадебный кредит</td>\n",
       "      <td>высокий доход</td>\n",
       "      <td>3</td>\n",
       "    </tr>\n",
       "    <tr>\n",
       "      <td>...</td>\n",
       "      <td>...</td>\n",
       "      <td>...</td>\n",
       "      <td>...</td>\n",
       "      <td>...</td>\n",
       "      <td>...</td>\n",
       "      <td>...</td>\n",
       "      <td>...</td>\n",
       "      <td>...</td>\n",
       "      <td>...</td>\n",
       "      <td>...</td>\n",
       "      <td>...</td>\n",
       "      <td>...</td>\n",
       "      <td>...</td>\n",
       "      <td>...</td>\n",
       "      <td>...</td>\n",
       "      <td>...</td>\n",
       "    </tr>\n",
       "    <tr>\n",
       "      <td>21520</td>\n",
       "      <td>1</td>\n",
       "      <td>4529</td>\n",
       "      <td>43</td>\n",
       "      <td>среднее</td>\n",
       "      <td>2</td>\n",
       "      <td>гражданский брак</td>\n",
       "      <td>1</td>\n",
       "      <td>F</td>\n",
       "      <td>компаньон</td>\n",
       "      <td>0</td>\n",
       "      <td>224791</td>\n",
       "      <td>операции с жильем</td>\n",
       "      <td>стандартные семьи</td>\n",
       "      <td>кредит на жилье</td>\n",
       "      <td>высокий доход</td>\n",
       "      <td>0</td>\n",
       "    </tr>\n",
       "    <tr>\n",
       "      <td>21521</td>\n",
       "      <td>0</td>\n",
       "      <td>343937</td>\n",
       "      <td>67</td>\n",
       "      <td>среднее</td>\n",
       "      <td>2</td>\n",
       "      <td>женат / замужем</td>\n",
       "      <td>0</td>\n",
       "      <td>F</td>\n",
       "      <td>пенсионер</td>\n",
       "      <td>0</td>\n",
       "      <td>155999</td>\n",
       "      <td>сделка с автомобилем</td>\n",
       "      <td>стандартные семьи</td>\n",
       "      <td>автокредит</td>\n",
       "      <td>высокий доход</td>\n",
       "      <td>1</td>\n",
       "    </tr>\n",
       "    <tr>\n",
       "      <td>21522</td>\n",
       "      <td>1</td>\n",
       "      <td>2113</td>\n",
       "      <td>38</td>\n",
       "      <td>среднее</td>\n",
       "      <td>2</td>\n",
       "      <td>гражданский брак</td>\n",
       "      <td>1</td>\n",
       "      <td>M</td>\n",
       "      <td>сотрудник</td>\n",
       "      <td>1</td>\n",
       "      <td>89672</td>\n",
       "      <td>недвижимость</td>\n",
       "      <td>стандартные семьи</td>\n",
       "      <td>кредит на жилье</td>\n",
       "      <td>средний доход</td>\n",
       "      <td>0</td>\n",
       "    </tr>\n",
       "    <tr>\n",
       "      <td>21523</td>\n",
       "      <td>3</td>\n",
       "      <td>3112</td>\n",
       "      <td>38</td>\n",
       "      <td>среднее</td>\n",
       "      <td>2</td>\n",
       "      <td>женат / замужем</td>\n",
       "      <td>0</td>\n",
       "      <td>M</td>\n",
       "      <td>сотрудник</td>\n",
       "      <td>1</td>\n",
       "      <td>244093</td>\n",
       "      <td>на покупку своего автомобиля</td>\n",
       "      <td>многодетные семьи</td>\n",
       "      <td>автокредит</td>\n",
       "      <td>высокий доход</td>\n",
       "      <td>1</td>\n",
       "    </tr>\n",
       "    <tr>\n",
       "      <td>21524</td>\n",
       "      <td>2</td>\n",
       "      <td>1984</td>\n",
       "      <td>40</td>\n",
       "      <td>среднее</td>\n",
       "      <td>2</td>\n",
       "      <td>женат / замужем</td>\n",
       "      <td>0</td>\n",
       "      <td>F</td>\n",
       "      <td>сотрудник</td>\n",
       "      <td>0</td>\n",
       "      <td>82047</td>\n",
       "      <td>на покупку автомобиля</td>\n",
       "      <td>стандартные семьи</td>\n",
       "      <td>автокредит</td>\n",
       "      <td>средний доход</td>\n",
       "      <td>1</td>\n",
       "    </tr>\n",
       "  </tbody>\n",
       "</table>\n",
       "<p>21471 rows × 16 columns</p>\n",
       "</div>"
      ],
      "text/plain": [
       "       children  days_employed  dob_years education  education_id  \\\n",
       "0             1           8437         42    высшее             1   \n",
       "1             1           4024         36   среднее             2   \n",
       "2             0           5623         33   среднее             2   \n",
       "3             3           4124         32   среднее             2   \n",
       "4             0         340266         53   среднее             2   \n",
       "...         ...            ...        ...       ...           ...   \n",
       "21520         1           4529         43   среднее             2   \n",
       "21521         0         343937         67   среднее             2   \n",
       "21522         1           2113         38   среднее             2   \n",
       "21523         3           3112         38   среднее             2   \n",
       "21524         2           1984         40   среднее             2   \n",
       "\n",
       "          family_status  family_status_id gender income_type  debt  \\\n",
       "0       женат / замужем                 0      F   сотрудник     0   \n",
       "1       женат / замужем                 0      F   сотрудник     0   \n",
       "2       женат / замужем                 0      M   сотрудник     0   \n",
       "3       женат / замужем                 0      M   сотрудник     0   \n",
       "4      гражданский брак                 1      F   пенсионер     0   \n",
       "...                 ...               ...    ...         ...   ...   \n",
       "21520  гражданский брак                 1      F   компаньон     0   \n",
       "21521   женат / замужем                 0      F   пенсионер     0   \n",
       "21522  гражданский брак                 1      M   сотрудник     1   \n",
       "21523   женат / замужем                 0      M   сотрудник     1   \n",
       "21524   женат / замужем                 0      F   сотрудник     0   \n",
       "\n",
       "       total_income                       purpose     children_group  \\\n",
       "0            253875                 покупка жилья  стандартные семьи   \n",
       "1            112080       приобретение автомобиля  стандартные семьи   \n",
       "2            145885                 покупка жилья  стандартные семьи   \n",
       "3            267628    дополнительное образование  многодетные семьи   \n",
       "4            158616               сыграть свадьбу  стандартные семьи   \n",
       "...             ...                           ...                ...   \n",
       "21520        224791             операции с жильем  стандартные семьи   \n",
       "21521        155999          сделка с автомобилем  стандартные семьи   \n",
       "21522         89672                  недвижимость  стандартные семьи   \n",
       "21523        244093  на покупку своего автомобиля  многодетные семьи   \n",
       "21524         82047         на покупку автомобиля  стандартные семьи   \n",
       "\n",
       "              purpose_groups       income_grouped  purpose_id  \n",
       "0            кредит на жилье        высокий доход           0  \n",
       "1                 автокредит  доход выше среднего           1  \n",
       "2            кредит на жилье        высокий доход           0  \n",
       "3      кредит на образование        высокий доход           2  \n",
       "4           свадебный кредит        высокий доход           3  \n",
       "...                      ...                  ...         ...  \n",
       "21520        кредит на жилье        высокий доход           0  \n",
       "21521             автокредит        высокий доход           1  \n",
       "21522        кредит на жилье        средний доход           0  \n",
       "21523             автокредит        высокий доход           1  \n",
       "21524             автокредит        средний доход           1  \n",
       "\n",
       "[21471 rows x 16 columns]"
      ]
     },
     "execution_count": 47,
     "metadata": {},
     "output_type": "execute_result"
    }
   ],
   "source": [
    "df['education_id'] = df['education'].apply(education_id)\n",
    "df"
   ]
  },
  {
   "cell_type": "code",
   "execution_count": 48,
   "metadata": {},
   "outputs": [
    {
     "data": {
      "text/html": [
       "<div>\n",
       "<style scoped>\n",
       "    .dataframe tbody tr th:only-of-type {\n",
       "        vertical-align: middle;\n",
       "    }\n",
       "\n",
       "    .dataframe tbody tr th {\n",
       "        vertical-align: top;\n",
       "    }\n",
       "\n",
       "    .dataframe thead th {\n",
       "        text-align: right;\n",
       "    }\n",
       "</style>\n",
       "<table border=\"1\" class=\"dataframe\">\n",
       "  <thead>\n",
       "    <tr style=\"text-align: right;\">\n",
       "      <th></th>\n",
       "      <th>education</th>\n",
       "      <th>education_id</th>\n",
       "    </tr>\n",
       "  </thead>\n",
       "  <tbody>\n",
       "    <tr>\n",
       "      <td>0</td>\n",
       "      <td>высшее</td>\n",
       "      <td>1</td>\n",
       "    </tr>\n",
       "    <tr>\n",
       "      <td>1</td>\n",
       "      <td>среднее</td>\n",
       "      <td>2</td>\n",
       "    </tr>\n",
       "    <tr>\n",
       "      <td>2</td>\n",
       "      <td>неоконченное высшее</td>\n",
       "      <td>3</td>\n",
       "    </tr>\n",
       "    <tr>\n",
       "      <td>3</td>\n",
       "      <td>начальное</td>\n",
       "      <td>4</td>\n",
       "    </tr>\n",
       "    <tr>\n",
       "      <td>4</td>\n",
       "      <td>ученая степень</td>\n",
       "      <td>5</td>\n",
       "    </tr>\n",
       "  </tbody>\n",
       "</table>\n",
       "</div>"
      ],
      "text/plain": [
       "             education  education_id\n",
       "0               высшее             1\n",
       "1              среднее             2\n",
       "2  неоконченное высшее             3\n",
       "3            начальное             4\n",
       "4       ученая степень             5"
      ]
     },
     "execution_count": 48,
     "metadata": {},
     "output_type": "execute_result"
    }
   ],
   "source": [
    "education_dict = df.loc[:, ['education', 'education_id']]\n",
    "education_dict = education_dict.drop_duplicates().reset_index(drop=True)\n",
    "education_dict"
   ]
  },
  {
   "cell_type": "code",
   "execution_count": 49,
   "metadata": {},
   "outputs": [
    {
     "data": {
      "text/plain": [
       "array(['высокий доход', 'доход выше среднего', 'средний доход',\n",
       "       'малоимущие'], dtype=object)"
      ]
     },
     "execution_count": 49,
     "metadata": {},
     "output_type": "execute_result"
    }
   ],
   "source": [
    "df['income_grouped'].unique()"
   ]
  },
  {
   "cell_type": "code",
   "execution_count": 50,
   "metadata": {},
   "outputs": [],
   "source": [
    "def income_id(string):\n",
    "    if string == 'высокий доход':\n",
    "        ident = 0\n",
    "    elif string == 'доход выше среднего':\n",
    "        ident = 1\n",
    "    elif string == 'средний доход':\n",
    "        ident = 2\n",
    "    else:\n",
    "        ident = 3\n",
    "    return ident"
   ]
  },
  {
   "cell_type": "code",
   "execution_count": 51,
   "metadata": {},
   "outputs": [
    {
     "data": {
      "text/html": [
       "<div>\n",
       "<style scoped>\n",
       "    .dataframe tbody tr th:only-of-type {\n",
       "        vertical-align: middle;\n",
       "    }\n",
       "\n",
       "    .dataframe tbody tr th {\n",
       "        vertical-align: top;\n",
       "    }\n",
       "\n",
       "    .dataframe thead th {\n",
       "        text-align: right;\n",
       "    }\n",
       "</style>\n",
       "<table border=\"1\" class=\"dataframe\">\n",
       "  <thead>\n",
       "    <tr style=\"text-align: right;\">\n",
       "      <th></th>\n",
       "      <th>children</th>\n",
       "      <th>days_employed</th>\n",
       "      <th>dob_years</th>\n",
       "      <th>education</th>\n",
       "      <th>education_id</th>\n",
       "      <th>family_status</th>\n",
       "      <th>family_status_id</th>\n",
       "      <th>gender</th>\n",
       "      <th>income_type</th>\n",
       "      <th>debt</th>\n",
       "      <th>total_income</th>\n",
       "      <th>purpose</th>\n",
       "      <th>children_group</th>\n",
       "      <th>purpose_groups</th>\n",
       "      <th>income_grouped</th>\n",
       "      <th>purpose_id</th>\n",
       "      <th>income_id</th>\n",
       "    </tr>\n",
       "  </thead>\n",
       "  <tbody>\n",
       "    <tr>\n",
       "      <td>0</td>\n",
       "      <td>1</td>\n",
       "      <td>8437</td>\n",
       "      <td>42</td>\n",
       "      <td>высшее</td>\n",
       "      <td>1</td>\n",
       "      <td>женат / замужем</td>\n",
       "      <td>0</td>\n",
       "      <td>F</td>\n",
       "      <td>сотрудник</td>\n",
       "      <td>0</td>\n",
       "      <td>253875</td>\n",
       "      <td>покупка жилья</td>\n",
       "      <td>стандартные семьи</td>\n",
       "      <td>кредит на жилье</td>\n",
       "      <td>высокий доход</td>\n",
       "      <td>0</td>\n",
       "      <td>0</td>\n",
       "    </tr>\n",
       "    <tr>\n",
       "      <td>1</td>\n",
       "      <td>1</td>\n",
       "      <td>4024</td>\n",
       "      <td>36</td>\n",
       "      <td>среднее</td>\n",
       "      <td>2</td>\n",
       "      <td>женат / замужем</td>\n",
       "      <td>0</td>\n",
       "      <td>F</td>\n",
       "      <td>сотрудник</td>\n",
       "      <td>0</td>\n",
       "      <td>112080</td>\n",
       "      <td>приобретение автомобиля</td>\n",
       "      <td>стандартные семьи</td>\n",
       "      <td>автокредит</td>\n",
       "      <td>доход выше среднего</td>\n",
       "      <td>1</td>\n",
       "      <td>1</td>\n",
       "    </tr>\n",
       "    <tr>\n",
       "      <td>2</td>\n",
       "      <td>0</td>\n",
       "      <td>5623</td>\n",
       "      <td>33</td>\n",
       "      <td>среднее</td>\n",
       "      <td>2</td>\n",
       "      <td>женат / замужем</td>\n",
       "      <td>0</td>\n",
       "      <td>M</td>\n",
       "      <td>сотрудник</td>\n",
       "      <td>0</td>\n",
       "      <td>145885</td>\n",
       "      <td>покупка жилья</td>\n",
       "      <td>стандартные семьи</td>\n",
       "      <td>кредит на жилье</td>\n",
       "      <td>высокий доход</td>\n",
       "      <td>0</td>\n",
       "      <td>0</td>\n",
       "    </tr>\n",
       "    <tr>\n",
       "      <td>3</td>\n",
       "      <td>3</td>\n",
       "      <td>4124</td>\n",
       "      <td>32</td>\n",
       "      <td>среднее</td>\n",
       "      <td>2</td>\n",
       "      <td>женат / замужем</td>\n",
       "      <td>0</td>\n",
       "      <td>M</td>\n",
       "      <td>сотрудник</td>\n",
       "      <td>0</td>\n",
       "      <td>267628</td>\n",
       "      <td>дополнительное образование</td>\n",
       "      <td>многодетные семьи</td>\n",
       "      <td>кредит на образование</td>\n",
       "      <td>высокий доход</td>\n",
       "      <td>2</td>\n",
       "      <td>0</td>\n",
       "    </tr>\n",
       "    <tr>\n",
       "      <td>4</td>\n",
       "      <td>0</td>\n",
       "      <td>340266</td>\n",
       "      <td>53</td>\n",
       "      <td>среднее</td>\n",
       "      <td>2</td>\n",
       "      <td>гражданский брак</td>\n",
       "      <td>1</td>\n",
       "      <td>F</td>\n",
       "      <td>пенсионер</td>\n",
       "      <td>0</td>\n",
       "      <td>158616</td>\n",
       "      <td>сыграть свадьбу</td>\n",
       "      <td>стандартные семьи</td>\n",
       "      <td>свадебный кредит</td>\n",
       "      <td>высокий доход</td>\n",
       "      <td>3</td>\n",
       "      <td>0</td>\n",
       "    </tr>\n",
       "    <tr>\n",
       "      <td>...</td>\n",
       "      <td>...</td>\n",
       "      <td>...</td>\n",
       "      <td>...</td>\n",
       "      <td>...</td>\n",
       "      <td>...</td>\n",
       "      <td>...</td>\n",
       "      <td>...</td>\n",
       "      <td>...</td>\n",
       "      <td>...</td>\n",
       "      <td>...</td>\n",
       "      <td>...</td>\n",
       "      <td>...</td>\n",
       "      <td>...</td>\n",
       "      <td>...</td>\n",
       "      <td>...</td>\n",
       "      <td>...</td>\n",
       "      <td>...</td>\n",
       "    </tr>\n",
       "    <tr>\n",
       "      <td>21520</td>\n",
       "      <td>1</td>\n",
       "      <td>4529</td>\n",
       "      <td>43</td>\n",
       "      <td>среднее</td>\n",
       "      <td>2</td>\n",
       "      <td>гражданский брак</td>\n",
       "      <td>1</td>\n",
       "      <td>F</td>\n",
       "      <td>компаньон</td>\n",
       "      <td>0</td>\n",
       "      <td>224791</td>\n",
       "      <td>операции с жильем</td>\n",
       "      <td>стандартные семьи</td>\n",
       "      <td>кредит на жилье</td>\n",
       "      <td>высокий доход</td>\n",
       "      <td>0</td>\n",
       "      <td>0</td>\n",
       "    </tr>\n",
       "    <tr>\n",
       "      <td>21521</td>\n",
       "      <td>0</td>\n",
       "      <td>343937</td>\n",
       "      <td>67</td>\n",
       "      <td>среднее</td>\n",
       "      <td>2</td>\n",
       "      <td>женат / замужем</td>\n",
       "      <td>0</td>\n",
       "      <td>F</td>\n",
       "      <td>пенсионер</td>\n",
       "      <td>0</td>\n",
       "      <td>155999</td>\n",
       "      <td>сделка с автомобилем</td>\n",
       "      <td>стандартные семьи</td>\n",
       "      <td>автокредит</td>\n",
       "      <td>высокий доход</td>\n",
       "      <td>1</td>\n",
       "      <td>0</td>\n",
       "    </tr>\n",
       "    <tr>\n",
       "      <td>21522</td>\n",
       "      <td>1</td>\n",
       "      <td>2113</td>\n",
       "      <td>38</td>\n",
       "      <td>среднее</td>\n",
       "      <td>2</td>\n",
       "      <td>гражданский брак</td>\n",
       "      <td>1</td>\n",
       "      <td>M</td>\n",
       "      <td>сотрудник</td>\n",
       "      <td>1</td>\n",
       "      <td>89672</td>\n",
       "      <td>недвижимость</td>\n",
       "      <td>стандартные семьи</td>\n",
       "      <td>кредит на жилье</td>\n",
       "      <td>средний доход</td>\n",
       "      <td>0</td>\n",
       "      <td>2</td>\n",
       "    </tr>\n",
       "    <tr>\n",
       "      <td>21523</td>\n",
       "      <td>3</td>\n",
       "      <td>3112</td>\n",
       "      <td>38</td>\n",
       "      <td>среднее</td>\n",
       "      <td>2</td>\n",
       "      <td>женат / замужем</td>\n",
       "      <td>0</td>\n",
       "      <td>M</td>\n",
       "      <td>сотрудник</td>\n",
       "      <td>1</td>\n",
       "      <td>244093</td>\n",
       "      <td>на покупку своего автомобиля</td>\n",
       "      <td>многодетные семьи</td>\n",
       "      <td>автокредит</td>\n",
       "      <td>высокий доход</td>\n",
       "      <td>1</td>\n",
       "      <td>0</td>\n",
       "    </tr>\n",
       "    <tr>\n",
       "      <td>21524</td>\n",
       "      <td>2</td>\n",
       "      <td>1984</td>\n",
       "      <td>40</td>\n",
       "      <td>среднее</td>\n",
       "      <td>2</td>\n",
       "      <td>женат / замужем</td>\n",
       "      <td>0</td>\n",
       "      <td>F</td>\n",
       "      <td>сотрудник</td>\n",
       "      <td>0</td>\n",
       "      <td>82047</td>\n",
       "      <td>на покупку автомобиля</td>\n",
       "      <td>стандартные семьи</td>\n",
       "      <td>автокредит</td>\n",
       "      <td>средний доход</td>\n",
       "      <td>1</td>\n",
       "      <td>2</td>\n",
       "    </tr>\n",
       "  </tbody>\n",
       "</table>\n",
       "<p>21471 rows × 17 columns</p>\n",
       "</div>"
      ],
      "text/plain": [
       "       children  days_employed  dob_years education  education_id  \\\n",
       "0             1           8437         42    высшее             1   \n",
       "1             1           4024         36   среднее             2   \n",
       "2             0           5623         33   среднее             2   \n",
       "3             3           4124         32   среднее             2   \n",
       "4             0         340266         53   среднее             2   \n",
       "...         ...            ...        ...       ...           ...   \n",
       "21520         1           4529         43   среднее             2   \n",
       "21521         0         343937         67   среднее             2   \n",
       "21522         1           2113         38   среднее             2   \n",
       "21523         3           3112         38   среднее             2   \n",
       "21524         2           1984         40   среднее             2   \n",
       "\n",
       "          family_status  family_status_id gender income_type  debt  \\\n",
       "0       женат / замужем                 0      F   сотрудник     0   \n",
       "1       женат / замужем                 0      F   сотрудник     0   \n",
       "2       женат / замужем                 0      M   сотрудник     0   \n",
       "3       женат / замужем                 0      M   сотрудник     0   \n",
       "4      гражданский брак                 1      F   пенсионер     0   \n",
       "...                 ...               ...    ...         ...   ...   \n",
       "21520  гражданский брак                 1      F   компаньон     0   \n",
       "21521   женат / замужем                 0      F   пенсионер     0   \n",
       "21522  гражданский брак                 1      M   сотрудник     1   \n",
       "21523   женат / замужем                 0      M   сотрудник     1   \n",
       "21524   женат / замужем                 0      F   сотрудник     0   \n",
       "\n",
       "       total_income                       purpose     children_group  \\\n",
       "0            253875                 покупка жилья  стандартные семьи   \n",
       "1            112080       приобретение автомобиля  стандартные семьи   \n",
       "2            145885                 покупка жилья  стандартные семьи   \n",
       "3            267628    дополнительное образование  многодетные семьи   \n",
       "4            158616               сыграть свадьбу  стандартные семьи   \n",
       "...             ...                           ...                ...   \n",
       "21520        224791             операции с жильем  стандартные семьи   \n",
       "21521        155999          сделка с автомобилем  стандартные семьи   \n",
       "21522         89672                  недвижимость  стандартные семьи   \n",
       "21523        244093  на покупку своего автомобиля  многодетные семьи   \n",
       "21524         82047         на покупку автомобиля  стандартные семьи   \n",
       "\n",
       "              purpose_groups       income_grouped  purpose_id  income_id  \n",
       "0            кредит на жилье        высокий доход           0          0  \n",
       "1                 автокредит  доход выше среднего           1          1  \n",
       "2            кредит на жилье        высокий доход           0          0  \n",
       "3      кредит на образование        высокий доход           2          0  \n",
       "4           свадебный кредит        высокий доход           3          0  \n",
       "...                      ...                  ...         ...        ...  \n",
       "21520        кредит на жилье        высокий доход           0          0  \n",
       "21521             автокредит        высокий доход           1          0  \n",
       "21522        кредит на жилье        средний доход           0          2  \n",
       "21523             автокредит        высокий доход           1          0  \n",
       "21524             автокредит        средний доход           1          2  \n",
       "\n",
       "[21471 rows x 17 columns]"
      ]
     },
     "execution_count": 51,
     "metadata": {},
     "output_type": "execute_result"
    }
   ],
   "source": [
    "df['income_id'] = df['income_grouped'].apply(income_id)\n",
    "df"
   ]
  },
  {
   "cell_type": "code",
   "execution_count": 52,
   "metadata": {},
   "outputs": [
    {
     "data": {
      "text/html": [
       "<div>\n",
       "<style scoped>\n",
       "    .dataframe tbody tr th:only-of-type {\n",
       "        vertical-align: middle;\n",
       "    }\n",
       "\n",
       "    .dataframe tbody tr th {\n",
       "        vertical-align: top;\n",
       "    }\n",
       "\n",
       "    .dataframe thead th {\n",
       "        text-align: right;\n",
       "    }\n",
       "</style>\n",
       "<table border=\"1\" class=\"dataframe\">\n",
       "  <thead>\n",
       "    <tr style=\"text-align: right;\">\n",
       "      <th></th>\n",
       "      <th>income_id</th>\n",
       "      <th>income_grouped</th>\n",
       "    </tr>\n",
       "  </thead>\n",
       "  <tbody>\n",
       "    <tr>\n",
       "      <td>0</td>\n",
       "      <td>0</td>\n",
       "      <td>высокий доход</td>\n",
       "    </tr>\n",
       "    <tr>\n",
       "      <td>1</td>\n",
       "      <td>1</td>\n",
       "      <td>доход выше среднего</td>\n",
       "    </tr>\n",
       "    <tr>\n",
       "      <td>2</td>\n",
       "      <td>2</td>\n",
       "      <td>средний доход</td>\n",
       "    </tr>\n",
       "    <tr>\n",
       "      <td>3</td>\n",
       "      <td>3</td>\n",
       "      <td>малоимущие</td>\n",
       "    </tr>\n",
       "  </tbody>\n",
       "</table>\n",
       "</div>"
      ],
      "text/plain": [
       "   income_id       income_grouped\n",
       "0          0        высокий доход\n",
       "1          1  доход выше среднего\n",
       "2          2        средний доход\n",
       "3          3           малоимущие"
      ]
     },
     "execution_count": 52,
     "metadata": {},
     "output_type": "execute_result"
    }
   ],
   "source": [
    "income_dict = df.loc[:,['income_id', 'income_grouped']]\n",
    "income_dict = income_dict.drop_duplicates().reset_index(drop=True)\n",
    "income_dict"
   ]
  },
  {
   "cell_type": "code",
   "execution_count": 53,
   "metadata": {},
   "outputs": [
    {
     "data": {
      "text/plain": [
       "array(['стандартные семьи', 'многодетные семьи'], dtype=object)"
      ]
     },
     "execution_count": 53,
     "metadata": {},
     "output_type": "execute_result"
    }
   ],
   "source": [
    "df['children_group'].unique()"
   ]
  },
  {
   "cell_type": "code",
   "execution_count": 54,
   "metadata": {},
   "outputs": [],
   "source": [
    "def children_id(string):\n",
    "    if string == 'стандартные семьи':\n",
    "        ident = 0\n",
    "    else:\n",
    "        ident = 1\n",
    "    return ident"
   ]
  },
  {
   "cell_type": "code",
   "execution_count": 55,
   "metadata": {},
   "outputs": [
    {
     "data": {
      "text/html": [
       "<div>\n",
       "<style scoped>\n",
       "    .dataframe tbody tr th:only-of-type {\n",
       "        vertical-align: middle;\n",
       "    }\n",
       "\n",
       "    .dataframe tbody tr th {\n",
       "        vertical-align: top;\n",
       "    }\n",
       "\n",
       "    .dataframe thead th {\n",
       "        text-align: right;\n",
       "    }\n",
       "</style>\n",
       "<table border=\"1\" class=\"dataframe\">\n",
       "  <thead>\n",
       "    <tr style=\"text-align: right;\">\n",
       "      <th></th>\n",
       "      <th>children</th>\n",
       "      <th>days_employed</th>\n",
       "      <th>dob_years</th>\n",
       "      <th>education</th>\n",
       "      <th>education_id</th>\n",
       "      <th>family_status</th>\n",
       "      <th>family_status_id</th>\n",
       "      <th>gender</th>\n",
       "      <th>income_type</th>\n",
       "      <th>debt</th>\n",
       "      <th>total_income</th>\n",
       "      <th>purpose</th>\n",
       "      <th>children_group</th>\n",
       "      <th>purpose_groups</th>\n",
       "      <th>income_grouped</th>\n",
       "      <th>purpose_id</th>\n",
       "      <th>income_id</th>\n",
       "      <th>children_group_id</th>\n",
       "    </tr>\n",
       "  </thead>\n",
       "  <tbody>\n",
       "    <tr>\n",
       "      <td>0</td>\n",
       "      <td>1</td>\n",
       "      <td>8437</td>\n",
       "      <td>42</td>\n",
       "      <td>высшее</td>\n",
       "      <td>1</td>\n",
       "      <td>женат / замужем</td>\n",
       "      <td>0</td>\n",
       "      <td>F</td>\n",
       "      <td>сотрудник</td>\n",
       "      <td>0</td>\n",
       "      <td>253875</td>\n",
       "      <td>покупка жилья</td>\n",
       "      <td>стандартные семьи</td>\n",
       "      <td>кредит на жилье</td>\n",
       "      <td>высокий доход</td>\n",
       "      <td>0</td>\n",
       "      <td>0</td>\n",
       "      <td>0</td>\n",
       "    </tr>\n",
       "    <tr>\n",
       "      <td>1</td>\n",
       "      <td>1</td>\n",
       "      <td>4024</td>\n",
       "      <td>36</td>\n",
       "      <td>среднее</td>\n",
       "      <td>2</td>\n",
       "      <td>женат / замужем</td>\n",
       "      <td>0</td>\n",
       "      <td>F</td>\n",
       "      <td>сотрудник</td>\n",
       "      <td>0</td>\n",
       "      <td>112080</td>\n",
       "      <td>приобретение автомобиля</td>\n",
       "      <td>стандартные семьи</td>\n",
       "      <td>автокредит</td>\n",
       "      <td>доход выше среднего</td>\n",
       "      <td>1</td>\n",
       "      <td>1</td>\n",
       "      <td>0</td>\n",
       "    </tr>\n",
       "    <tr>\n",
       "      <td>2</td>\n",
       "      <td>0</td>\n",
       "      <td>5623</td>\n",
       "      <td>33</td>\n",
       "      <td>среднее</td>\n",
       "      <td>2</td>\n",
       "      <td>женат / замужем</td>\n",
       "      <td>0</td>\n",
       "      <td>M</td>\n",
       "      <td>сотрудник</td>\n",
       "      <td>0</td>\n",
       "      <td>145885</td>\n",
       "      <td>покупка жилья</td>\n",
       "      <td>стандартные семьи</td>\n",
       "      <td>кредит на жилье</td>\n",
       "      <td>высокий доход</td>\n",
       "      <td>0</td>\n",
       "      <td>0</td>\n",
       "      <td>0</td>\n",
       "    </tr>\n",
       "    <tr>\n",
       "      <td>3</td>\n",
       "      <td>3</td>\n",
       "      <td>4124</td>\n",
       "      <td>32</td>\n",
       "      <td>среднее</td>\n",
       "      <td>2</td>\n",
       "      <td>женат / замужем</td>\n",
       "      <td>0</td>\n",
       "      <td>M</td>\n",
       "      <td>сотрудник</td>\n",
       "      <td>0</td>\n",
       "      <td>267628</td>\n",
       "      <td>дополнительное образование</td>\n",
       "      <td>многодетные семьи</td>\n",
       "      <td>кредит на образование</td>\n",
       "      <td>высокий доход</td>\n",
       "      <td>2</td>\n",
       "      <td>0</td>\n",
       "      <td>1</td>\n",
       "    </tr>\n",
       "    <tr>\n",
       "      <td>4</td>\n",
       "      <td>0</td>\n",
       "      <td>340266</td>\n",
       "      <td>53</td>\n",
       "      <td>среднее</td>\n",
       "      <td>2</td>\n",
       "      <td>гражданский брак</td>\n",
       "      <td>1</td>\n",
       "      <td>F</td>\n",
       "      <td>пенсионер</td>\n",
       "      <td>0</td>\n",
       "      <td>158616</td>\n",
       "      <td>сыграть свадьбу</td>\n",
       "      <td>стандартные семьи</td>\n",
       "      <td>свадебный кредит</td>\n",
       "      <td>высокий доход</td>\n",
       "      <td>3</td>\n",
       "      <td>0</td>\n",
       "      <td>0</td>\n",
       "    </tr>\n",
       "    <tr>\n",
       "      <td>...</td>\n",
       "      <td>...</td>\n",
       "      <td>...</td>\n",
       "      <td>...</td>\n",
       "      <td>...</td>\n",
       "      <td>...</td>\n",
       "      <td>...</td>\n",
       "      <td>...</td>\n",
       "      <td>...</td>\n",
       "      <td>...</td>\n",
       "      <td>...</td>\n",
       "      <td>...</td>\n",
       "      <td>...</td>\n",
       "      <td>...</td>\n",
       "      <td>...</td>\n",
       "      <td>...</td>\n",
       "      <td>...</td>\n",
       "      <td>...</td>\n",
       "      <td>...</td>\n",
       "    </tr>\n",
       "    <tr>\n",
       "      <td>21520</td>\n",
       "      <td>1</td>\n",
       "      <td>4529</td>\n",
       "      <td>43</td>\n",
       "      <td>среднее</td>\n",
       "      <td>2</td>\n",
       "      <td>гражданский брак</td>\n",
       "      <td>1</td>\n",
       "      <td>F</td>\n",
       "      <td>компаньон</td>\n",
       "      <td>0</td>\n",
       "      <td>224791</td>\n",
       "      <td>операции с жильем</td>\n",
       "      <td>стандартные семьи</td>\n",
       "      <td>кредит на жилье</td>\n",
       "      <td>высокий доход</td>\n",
       "      <td>0</td>\n",
       "      <td>0</td>\n",
       "      <td>0</td>\n",
       "    </tr>\n",
       "    <tr>\n",
       "      <td>21521</td>\n",
       "      <td>0</td>\n",
       "      <td>343937</td>\n",
       "      <td>67</td>\n",
       "      <td>среднее</td>\n",
       "      <td>2</td>\n",
       "      <td>женат / замужем</td>\n",
       "      <td>0</td>\n",
       "      <td>F</td>\n",
       "      <td>пенсионер</td>\n",
       "      <td>0</td>\n",
       "      <td>155999</td>\n",
       "      <td>сделка с автомобилем</td>\n",
       "      <td>стандартные семьи</td>\n",
       "      <td>автокредит</td>\n",
       "      <td>высокий доход</td>\n",
       "      <td>1</td>\n",
       "      <td>0</td>\n",
       "      <td>0</td>\n",
       "    </tr>\n",
       "    <tr>\n",
       "      <td>21522</td>\n",
       "      <td>1</td>\n",
       "      <td>2113</td>\n",
       "      <td>38</td>\n",
       "      <td>среднее</td>\n",
       "      <td>2</td>\n",
       "      <td>гражданский брак</td>\n",
       "      <td>1</td>\n",
       "      <td>M</td>\n",
       "      <td>сотрудник</td>\n",
       "      <td>1</td>\n",
       "      <td>89672</td>\n",
       "      <td>недвижимость</td>\n",
       "      <td>стандартные семьи</td>\n",
       "      <td>кредит на жилье</td>\n",
       "      <td>средний доход</td>\n",
       "      <td>0</td>\n",
       "      <td>2</td>\n",
       "      <td>0</td>\n",
       "    </tr>\n",
       "    <tr>\n",
       "      <td>21523</td>\n",
       "      <td>3</td>\n",
       "      <td>3112</td>\n",
       "      <td>38</td>\n",
       "      <td>среднее</td>\n",
       "      <td>2</td>\n",
       "      <td>женат / замужем</td>\n",
       "      <td>0</td>\n",
       "      <td>M</td>\n",
       "      <td>сотрудник</td>\n",
       "      <td>1</td>\n",
       "      <td>244093</td>\n",
       "      <td>на покупку своего автомобиля</td>\n",
       "      <td>многодетные семьи</td>\n",
       "      <td>автокредит</td>\n",
       "      <td>высокий доход</td>\n",
       "      <td>1</td>\n",
       "      <td>0</td>\n",
       "      <td>1</td>\n",
       "    </tr>\n",
       "    <tr>\n",
       "      <td>21524</td>\n",
       "      <td>2</td>\n",
       "      <td>1984</td>\n",
       "      <td>40</td>\n",
       "      <td>среднее</td>\n",
       "      <td>2</td>\n",
       "      <td>женат / замужем</td>\n",
       "      <td>0</td>\n",
       "      <td>F</td>\n",
       "      <td>сотрудник</td>\n",
       "      <td>0</td>\n",
       "      <td>82047</td>\n",
       "      <td>на покупку автомобиля</td>\n",
       "      <td>стандартные семьи</td>\n",
       "      <td>автокредит</td>\n",
       "      <td>средний доход</td>\n",
       "      <td>1</td>\n",
       "      <td>2</td>\n",
       "      <td>0</td>\n",
       "    </tr>\n",
       "  </tbody>\n",
       "</table>\n",
       "<p>21471 rows × 18 columns</p>\n",
       "</div>"
      ],
      "text/plain": [
       "       children  days_employed  dob_years education  education_id  \\\n",
       "0             1           8437         42    высшее             1   \n",
       "1             1           4024         36   среднее             2   \n",
       "2             0           5623         33   среднее             2   \n",
       "3             3           4124         32   среднее             2   \n",
       "4             0         340266         53   среднее             2   \n",
       "...         ...            ...        ...       ...           ...   \n",
       "21520         1           4529         43   среднее             2   \n",
       "21521         0         343937         67   среднее             2   \n",
       "21522         1           2113         38   среднее             2   \n",
       "21523         3           3112         38   среднее             2   \n",
       "21524         2           1984         40   среднее             2   \n",
       "\n",
       "          family_status  family_status_id gender income_type  debt  \\\n",
       "0       женат / замужем                 0      F   сотрудник     0   \n",
       "1       женат / замужем                 0      F   сотрудник     0   \n",
       "2       женат / замужем                 0      M   сотрудник     0   \n",
       "3       женат / замужем                 0      M   сотрудник     0   \n",
       "4      гражданский брак                 1      F   пенсионер     0   \n",
       "...                 ...               ...    ...         ...   ...   \n",
       "21520  гражданский брак                 1      F   компаньон     0   \n",
       "21521   женат / замужем                 0      F   пенсионер     0   \n",
       "21522  гражданский брак                 1      M   сотрудник     1   \n",
       "21523   женат / замужем                 0      M   сотрудник     1   \n",
       "21524   женат / замужем                 0      F   сотрудник     0   \n",
       "\n",
       "       total_income                       purpose     children_group  \\\n",
       "0            253875                 покупка жилья  стандартные семьи   \n",
       "1            112080       приобретение автомобиля  стандартные семьи   \n",
       "2            145885                 покупка жилья  стандартные семьи   \n",
       "3            267628    дополнительное образование  многодетные семьи   \n",
       "4            158616               сыграть свадьбу  стандартные семьи   \n",
       "...             ...                           ...                ...   \n",
       "21520        224791             операции с жильем  стандартные семьи   \n",
       "21521        155999          сделка с автомобилем  стандартные семьи   \n",
       "21522         89672                  недвижимость  стандартные семьи   \n",
       "21523        244093  на покупку своего автомобиля  многодетные семьи   \n",
       "21524         82047         на покупку автомобиля  стандартные семьи   \n",
       "\n",
       "              purpose_groups       income_grouped  purpose_id  income_id  \\\n",
       "0            кредит на жилье        высокий доход           0          0   \n",
       "1                 автокредит  доход выше среднего           1          1   \n",
       "2            кредит на жилье        высокий доход           0          0   \n",
       "3      кредит на образование        высокий доход           2          0   \n",
       "4           свадебный кредит        высокий доход           3          0   \n",
       "...                      ...                  ...         ...        ...   \n",
       "21520        кредит на жилье        высокий доход           0          0   \n",
       "21521             автокредит        высокий доход           1          0   \n",
       "21522        кредит на жилье        средний доход           0          2   \n",
       "21523             автокредит        высокий доход           1          0   \n",
       "21524             автокредит        средний доход           1          2   \n",
       "\n",
       "       children_group_id  \n",
       "0                      0  \n",
       "1                      0  \n",
       "2                      0  \n",
       "3                      1  \n",
       "4                      0  \n",
       "...                  ...  \n",
       "21520                  0  \n",
       "21521                  0  \n",
       "21522                  0  \n",
       "21523                  1  \n",
       "21524                  0  \n",
       "\n",
       "[21471 rows x 18 columns]"
      ]
     },
     "execution_count": 55,
     "metadata": {},
     "output_type": "execute_result"
    }
   ],
   "source": [
    "df['children_group_id'] = df['children_group'].apply(children_id)\n",
    "df"
   ]
  },
  {
   "cell_type": "code",
   "execution_count": 56,
   "metadata": {},
   "outputs": [
    {
     "data": {
      "text/html": [
       "<div>\n",
       "<style scoped>\n",
       "    .dataframe tbody tr th:only-of-type {\n",
       "        vertical-align: middle;\n",
       "    }\n",
       "\n",
       "    .dataframe tbody tr th {\n",
       "        vertical-align: top;\n",
       "    }\n",
       "\n",
       "    .dataframe thead th {\n",
       "        text-align: right;\n",
       "    }\n",
       "</style>\n",
       "<table border=\"1\" class=\"dataframe\">\n",
       "  <thead>\n",
       "    <tr style=\"text-align: right;\">\n",
       "      <th></th>\n",
       "      <th>children_group_id</th>\n",
       "      <th>children_group</th>\n",
       "    </tr>\n",
       "  </thead>\n",
       "  <tbody>\n",
       "    <tr>\n",
       "      <td>0</td>\n",
       "      <td>0</td>\n",
       "      <td>стандартные семьи</td>\n",
       "    </tr>\n",
       "    <tr>\n",
       "      <td>1</td>\n",
       "      <td>1</td>\n",
       "      <td>многодетные семьи</td>\n",
       "    </tr>\n",
       "  </tbody>\n",
       "</table>\n",
       "</div>"
      ],
      "text/plain": [
       "   children_group_id     children_group\n",
       "0                  0  стандартные семьи\n",
       "1                  1  многодетные семьи"
      ]
     },
     "execution_count": 56,
     "metadata": {},
     "output_type": "execute_result"
    }
   ],
   "source": [
    "children_group_dict = df[['children_group_id', 'children_group']]\n",
    "children_group_dict = children_group_dict.drop_duplicates().reset_index(drop=True)\n",
    "children_group_dict"
   ]
  },
  {
   "cell_type": "code",
   "execution_count": 57,
   "metadata": {},
   "outputs": [
    {
     "data": {
      "text/html": [
       "<div>\n",
       "<style scoped>\n",
       "    .dataframe tbody tr th:only-of-type {\n",
       "        vertical-align: middle;\n",
       "    }\n",
       "\n",
       "    .dataframe tbody tr th {\n",
       "        vertical-align: top;\n",
       "    }\n",
       "\n",
       "    .dataframe thead th {\n",
       "        text-align: right;\n",
       "    }\n",
       "</style>\n",
       "<table border=\"1\" class=\"dataframe\">\n",
       "  <thead>\n",
       "    <tr style=\"text-align: right;\">\n",
       "      <th></th>\n",
       "      <th>family_status_id</th>\n",
       "      <th>family_status</th>\n",
       "    </tr>\n",
       "  </thead>\n",
       "  <tbody>\n",
       "    <tr>\n",
       "      <td>0</td>\n",
       "      <td>0</td>\n",
       "      <td>женат / замужем</td>\n",
       "    </tr>\n",
       "    <tr>\n",
       "      <td>1</td>\n",
       "      <td>1</td>\n",
       "      <td>гражданский брак</td>\n",
       "    </tr>\n",
       "    <tr>\n",
       "      <td>2</td>\n",
       "      <td>2</td>\n",
       "      <td>вдовец / вдова</td>\n",
       "    </tr>\n",
       "    <tr>\n",
       "      <td>3</td>\n",
       "      <td>3</td>\n",
       "      <td>в разводе</td>\n",
       "    </tr>\n",
       "    <tr>\n",
       "      <td>4</td>\n",
       "      <td>4</td>\n",
       "      <td>Не женат / не замужем</td>\n",
       "    </tr>\n",
       "  </tbody>\n",
       "</table>\n",
       "</div>"
      ],
      "text/plain": [
       "   family_status_id          family_status\n",
       "0                 0        женат / замужем\n",
       "1                 1       гражданский брак\n",
       "2                 2         вдовец / вдова\n",
       "3                 3              в разводе\n",
       "4                 4  Не женат / не замужем"
      ]
     },
     "execution_count": 57,
     "metadata": {},
     "output_type": "execute_result"
    }
   ],
   "source": [
    "family_group_dict = df.loc[:, ['family_status_id', 'family_status']]\n",
    "family_group_dict = family_group_dict.drop_duplicates().reset_index(drop=True)\n",
    "family_group_dict"
   ]
  },
  {
   "cell_type": "code",
   "execution_count": 58,
   "metadata": {},
   "outputs": [
    {
     "data": {
      "text/plain": [
       "{0: 'женат / замужем',\n",
       " 1: 'гражданский брак',\n",
       " 2: 'вдовец / вдова',\n",
       " 3: 'в разводе',\n",
       " 4: 'Не женат / не замужем'}"
      ]
     },
     "execution_count": 58,
     "metadata": {},
     "output_type": "execute_result"
    }
   ],
   "source": [
    "# КОД РЕВЬЮЕРА\n",
    "\n",
    "dict(zip(df['family_status_id'], df['family_status']))"
   ]
  },
  {
   "cell_type": "markdown",
   "metadata": {},
   "source": [
    "**Вывод**"
   ]
  },
  {
   "cell_type": "markdown",
   "metadata": {},
   "source": [
    "Проведена категоризация по целям кредита, семейному положению и уровню дохода, это было сделано для того чтобы ответить на вопросы  проекта"
   ]
  },
  {
   "cell_type": "markdown",
   "metadata": {},
   "source": [
    "## Шаг 3. Ответы на вопросы"
   ]
  },
  {
   "cell_type": "markdown",
   "metadata": {},
   "source": [
    "- Есть ли зависимость между наличием детей и возвратом кредита в срок?"
   ]
  },
  {
   "cell_type": "code",
   "execution_count": 59,
   "metadata": {},
   "outputs": [
    {
     "data": {
      "text/html": [
       "<div>\n",
       "<style scoped>\n",
       "    .dataframe tbody tr th:only-of-type {\n",
       "        vertical-align: middle;\n",
       "    }\n",
       "\n",
       "    .dataframe tbody tr th {\n",
       "        vertical-align: top;\n",
       "    }\n",
       "\n",
       "    .dataframe thead tr th {\n",
       "        text-align: left;\n",
       "    }\n",
       "\n",
       "    .dataframe thead tr:last-of-type th {\n",
       "        text-align: right;\n",
       "    }\n",
       "</style>\n",
       "<table border=\"1\" class=\"dataframe\">\n",
       "  <thead>\n",
       "    <tr>\n",
       "      <th></th>\n",
       "      <th></th>\n",
       "      <th colspan=\"3\" halign=\"left\">debt</th>\n",
       "    </tr>\n",
       "    <tr>\n",
       "      <th></th>\n",
       "      <th></th>\n",
       "      <th>sum</th>\n",
       "      <th>count</th>\n",
       "      <th>&lt;lambda_0&gt;</th>\n",
       "    </tr>\n",
       "    <tr>\n",
       "      <th>children_group</th>\n",
       "      <th>children</th>\n",
       "      <th></th>\n",
       "      <th></th>\n",
       "      <th></th>\n",
       "    </tr>\n",
       "  </thead>\n",
       "  <tbody>\n",
       "    <tr>\n",
       "      <td rowspan=\"3\" valign=\"top\">многодетные семьи</td>\n",
       "      <td>3</td>\n",
       "      <td>27</td>\n",
       "      <td>330</td>\n",
       "      <td>8.18%</td>\n",
       "    </tr>\n",
       "    <tr>\n",
       "      <td>4</td>\n",
       "      <td>4</td>\n",
       "      <td>41</td>\n",
       "      <td>9.76%</td>\n",
       "    </tr>\n",
       "    <tr>\n",
       "      <td>5</td>\n",
       "      <td>0</td>\n",
       "      <td>9</td>\n",
       "      <td>0.00%</td>\n",
       "    </tr>\n",
       "    <tr>\n",
       "      <td rowspan=\"3\" valign=\"top\">стандартные семьи</td>\n",
       "      <td>0</td>\n",
       "      <td>1063</td>\n",
       "      <td>14107</td>\n",
       "      <td>7.54%</td>\n",
       "    </tr>\n",
       "    <tr>\n",
       "      <td>1</td>\n",
       "      <td>445</td>\n",
       "      <td>4856</td>\n",
       "      <td>9.16%</td>\n",
       "    </tr>\n",
       "    <tr>\n",
       "      <td>2</td>\n",
       "      <td>202</td>\n",
       "      <td>2128</td>\n",
       "      <td>9.49%</td>\n",
       "    </tr>\n",
       "  </tbody>\n",
       "</table>\n",
       "</div>"
      ],
      "text/plain": [
       "                            debt                  \n",
       "                             sum  count <lambda_0>\n",
       "children_group    children                        \n",
       "многодетные семьи 3           27    330     8.18% \n",
       "                  4            4     41     9.76% \n",
       "                  5            0      9     0.00% \n",
       "стандартные семьи 0         1063  14107     7.54% \n",
       "                  1          445   4856     9.16% \n",
       "                  2          202   2128     9.49% "
      ]
     },
     "execution_count": 59,
     "metadata": {},
     "output_type": "execute_result"
    }
   ],
   "source": [
    "\n",
    "\n",
    "df.groupby(['children_group', 'children']).agg({'debt':['sum', 'count', lambda x: '{:.2%} '.format(x.mean())]})"
   ]
  },
  {
   "cell_type": "code",
   "execution_count": 60,
   "metadata": {},
   "outputs": [],
   "source": [
    "def debstors_percent(a):\n",
    "    return '{:.2%} '.format(a.mean())"
   ]
  },
  {
   "cell_type": "code",
   "execution_count": 61,
   "metadata": {},
   "outputs": [
    {
     "data": {
      "text/html": [
       "<div>\n",
       "<style scoped>\n",
       "    .dataframe tbody tr th:only-of-type {\n",
       "        vertical-align: middle;\n",
       "    }\n",
       "\n",
       "    .dataframe tbody tr th {\n",
       "        vertical-align: top;\n",
       "    }\n",
       "\n",
       "    .dataframe thead th {\n",
       "        text-align: right;\n",
       "    }\n",
       "</style>\n",
       "<table border=\"1\" class=\"dataframe\">\n",
       "  <thead>\n",
       "    <tr style=\"text-align: right;\">\n",
       "      <th></th>\n",
       "      <th>children_group_id</th>\n",
       "      <th>children</th>\n",
       "      <th>sum</th>\n",
       "      <th>count</th>\n",
       "      <th>debstors_percent</th>\n",
       "    </tr>\n",
       "  </thead>\n",
       "  <tbody>\n",
       "    <tr>\n",
       "      <td>0</td>\n",
       "      <td>стандартные семьи</td>\n",
       "      <td>0</td>\n",
       "      <td>1063</td>\n",
       "      <td>14107</td>\n",
       "      <td>7.54%</td>\n",
       "    </tr>\n",
       "    <tr>\n",
       "      <td>1</td>\n",
       "      <td>стандартные семьи</td>\n",
       "      <td>1</td>\n",
       "      <td>445</td>\n",
       "      <td>4856</td>\n",
       "      <td>9.16%</td>\n",
       "    </tr>\n",
       "    <tr>\n",
       "      <td>2</td>\n",
       "      <td>стандартные семьи</td>\n",
       "      <td>2</td>\n",
       "      <td>202</td>\n",
       "      <td>2128</td>\n",
       "      <td>9.49%</td>\n",
       "    </tr>\n",
       "    <tr>\n",
       "      <td>3</td>\n",
       "      <td>многодетные семьи</td>\n",
       "      <td>3</td>\n",
       "      <td>27</td>\n",
       "      <td>330</td>\n",
       "      <td>8.18%</td>\n",
       "    </tr>\n",
       "    <tr>\n",
       "      <td>4</td>\n",
       "      <td>многодетные семьи</td>\n",
       "      <td>4</td>\n",
       "      <td>4</td>\n",
       "      <td>41</td>\n",
       "      <td>9.76%</td>\n",
       "    </tr>\n",
       "    <tr>\n",
       "      <td>5</td>\n",
       "      <td>многодетные семьи</td>\n",
       "      <td>5</td>\n",
       "      <td>0</td>\n",
       "      <td>9</td>\n",
       "      <td>0.00%</td>\n",
       "    </tr>\n",
       "  </tbody>\n",
       "</table>\n",
       "</div>"
      ],
      "text/plain": [
       "   children_group_id  children   sum  count debstors_percent\n",
       "0  стандартные семьи         0  1063  14107           7.54% \n",
       "1  стандартные семьи         1   445   4856           9.16% \n",
       "2  стандартные семьи         2   202   2128           9.49% \n",
       "3  многодетные семьи         3    27    330           8.18% \n",
       "4  многодетные семьи         4     4     41           9.76% \n",
       "5  многодетные семьи         5     0      9           0.00% "
      ]
     },
     "execution_count": 61,
     "metadata": {},
     "output_type": "execute_result"
    }
   ],
   "source": [
    "children_group = df.groupby(['children_group_id', 'children'])['debt'].agg(['sum', 'count', debstors_percent])\n",
    "children_group.reset_index().replace({'children_group_id': children_group_dict.children_group.to_dict()})"
   ]
  },
  {
   "cell_type": "markdown",
   "metadata": {},
   "source": [
    "**Вывод**"
   ]
  },
  {
   "cell_type": "markdown",
   "metadata": {},
   "source": [
    "По полученной таблице можно сделать вывод, что чаще всего возвращают кредиты вдовцы, реже холостяки и люди, проживающие в гражданском браке"
   ]
  },
  {
   "cell_type": "markdown",
   "metadata": {},
   "source": []
  },
  {
   "cell_type": "markdown",
   "metadata": {},
   "source": [
    "- Есть ли зависимость между уровнем дохода и возвратом кредита в срок?"
   ]
  },
  {
   "cell_type": "code",
   "execution_count": 63,
   "metadata": {},
   "outputs": [
    {
     "data": {
      "text/html": [
       "<div>\n",
       "<style scoped>\n",
       "    .dataframe tbody tr th:only-of-type {\n",
       "        vertical-align: middle;\n",
       "    }\n",
       "\n",
       "    .dataframe tbody tr th {\n",
       "        vertical-align: top;\n",
       "    }\n",
       "\n",
       "    .dataframe thead tr th {\n",
       "        text-align: left;\n",
       "    }\n",
       "</style>\n",
       "<table border=\"1\" class=\"dataframe\">\n",
       "  <thead>\n",
       "    <tr>\n",
       "      <th></th>\n",
       "      <th>income_id</th>\n",
       "      <th colspan=\"3\" halign=\"left\">debt</th>\n",
       "    </tr>\n",
       "    <tr>\n",
       "      <th></th>\n",
       "      <th></th>\n",
       "      <th>sum</th>\n",
       "      <th>count</th>\n",
       "      <th>debstors_percent</th>\n",
       "    </tr>\n",
       "  </thead>\n",
       "  <tbody>\n",
       "    <tr>\n",
       "      <td>0</td>\n",
       "      <td>высокий доход</td>\n",
       "      <td>1155</td>\n",
       "      <td>14232</td>\n",
       "      <td>8.12%</td>\n",
       "    </tr>\n",
       "    <tr>\n",
       "      <td>1</td>\n",
       "      <td>доход выше среднего</td>\n",
       "      <td>232</td>\n",
       "      <td>2776</td>\n",
       "      <td>8.36%</td>\n",
       "    </tr>\n",
       "    <tr>\n",
       "      <td>2</td>\n",
       "      <td>средний доход</td>\n",
       "      <td>331</td>\n",
       "      <td>4091</td>\n",
       "      <td>8.09%</td>\n",
       "    </tr>\n",
       "    <tr>\n",
       "      <td>3</td>\n",
       "      <td>малоимущие</td>\n",
       "      <td>23</td>\n",
       "      <td>372</td>\n",
       "      <td>6.18%</td>\n",
       "    </tr>\n",
       "  </tbody>\n",
       "</table>\n",
       "</div>"
      ],
      "text/plain": [
       "             income_id  debt                        \n",
       "                         sum  count debstors_percent\n",
       "0        высокий доход  1155  14232           8.12% \n",
       "1  доход выше среднего   232   2776           8.36% \n",
       "2        средний доход   331   4091           8.09% \n",
       "3           малоимущие    23    372           6.18% "
      ]
     },
     "execution_count": 63,
     "metadata": {},
     "output_type": "execute_result"
    }
   ],
   "source": [
    "grouped_by_income = df.groupby('income_id').agg({'debt':['sum', 'count', debstors_percent]})\n",
    "grouped_by_income.reset_index().replace({'income_id': income_dict.income_grouped.to_dict()})"
   ]
  },
  {
   "cell_type": "markdown",
   "metadata": {},
   "source": [
    "Данные показывают, что чаще всего отдают кредиты люди с небольшим заработком, это может говорить о том, что они берут деньги на что-нибудь необходимое, поэтому всегда возвращают, реже всего платят по кредитам люди с доходами выше среднего, возможно из-за того, что они переоценивают свои финансовые возможности"
   ]
  },
  {
   "cell_type": "markdown",
   "metadata": {},
   "source": []
  },
  {
   "cell_type": "markdown",
   "metadata": {},
   "source": [
    "- Как разные цели кредита влияют на его возврат в срок?"
   ]
  },
  {
   "cell_type": "code",
   "execution_count": 64,
   "metadata": {},
   "outputs": [
    {
     "data": {
      "text/html": [
       "<div>\n",
       "<style scoped>\n",
       "    .dataframe tbody tr th:only-of-type {\n",
       "        vertical-align: middle;\n",
       "    }\n",
       "\n",
       "    .dataframe tbody tr th {\n",
       "        vertical-align: top;\n",
       "    }\n",
       "\n",
       "    .dataframe thead tr th {\n",
       "        text-align: left;\n",
       "    }\n",
       "</style>\n",
       "<table border=\"1\" class=\"dataframe\">\n",
       "  <thead>\n",
       "    <tr>\n",
       "      <th></th>\n",
       "      <th>purpose_id</th>\n",
       "      <th colspan=\"3\" halign=\"left\">debt</th>\n",
       "    </tr>\n",
       "    <tr>\n",
       "      <th></th>\n",
       "      <th></th>\n",
       "      <th>sum</th>\n",
       "      <th>count</th>\n",
       "      <th>debstors_percent</th>\n",
       "    </tr>\n",
       "  </thead>\n",
       "  <tbody>\n",
       "    <tr>\n",
       "      <td>0</td>\n",
       "      <td>кредит на жилье</td>\n",
       "      <td>683</td>\n",
       "      <td>9502</td>\n",
       "      <td>7.19%</td>\n",
       "    </tr>\n",
       "    <tr>\n",
       "      <td>1</td>\n",
       "      <td>автокредит</td>\n",
       "      <td>403</td>\n",
       "      <td>4308</td>\n",
       "      <td>9.35%</td>\n",
       "    </tr>\n",
       "    <tr>\n",
       "      <td>2</td>\n",
       "      <td>кредит на образование</td>\n",
       "      <td>370</td>\n",
       "      <td>4014</td>\n",
       "      <td>9.22%</td>\n",
       "    </tr>\n",
       "    <tr>\n",
       "      <td>3</td>\n",
       "      <td>свадебный кредит</td>\n",
       "      <td>186</td>\n",
       "      <td>2335</td>\n",
       "      <td>7.97%</td>\n",
       "    </tr>\n",
       "    <tr>\n",
       "      <td>4</td>\n",
       "      <td>кредит на коммерческую недвижимость</td>\n",
       "      <td>99</td>\n",
       "      <td>1312</td>\n",
       "      <td>7.55%</td>\n",
       "    </tr>\n",
       "  </tbody>\n",
       "</table>\n",
       "</div>"
      ],
      "text/plain": [
       "                            purpose_id debt                       \n",
       "                                        sum count debstors_percent\n",
       "0                      кредит на жилье  683  9502           7.19% \n",
       "1                           автокредит  403  4308           9.35% \n",
       "2                кредит на образование  370  4014           9.22% \n",
       "3                     свадебный кредит  186  2335           7.97% \n",
       "4  кредит на коммерческую недвижимость   99  1312           7.55% "
      ]
     },
     "execution_count": 64,
     "metadata": {},
     "output_type": "execute_result"
    }
   ],
   "source": [
    "group_by_purpose = df.groupby('purpose_id').agg({'debt':['sum', 'count', debstors_percent]})\n",
    "group_by_purpose.reset_index().replace({'purpose_id': purpose_dict.purpose_groups.to_dict()})"
   ]
  },
  {
   "cell_type": "markdown",
   "metadata": {},
   "source": [
    "**Вывод**"
   ]
  },
  {
   "cell_type": "markdown",
   "metadata": {},
   "source": [
    "Чаще всего люди отдают кредиты на жилье, реже кредиты на машину, причиной может стать то, что машины чаще покупают более молодые и менее платежеспособные люди"
   ]
  },
  {
   "cell_type": "markdown",
   "metadata": {},
   "source": [
    "## Шаг 4. Общий вывод"
   ]
  },
  {
   "cell_type": "markdown",
   "metadata": {},
   "source": [
    "<font color='blue'> Полученный результат говорит о том, что большинство людей выплачивают кредиты, однако из тех кто не выплачивает кредиты\n",
    "можно выделить группы риска по займу.\n",
    "Это холостяки - почти 10% не платят по кредиту, представители среднего класса-8.62% не платят по кредиту, а также люди, оформляющие автокредит-почти 10% не платят по кредиту. \n",
    "И, наоборот, к надежным заемщикам можно отнести\n",
    "    семьи с детьми - 7,54% невозврата\n",
    "    Вдовцы и вдовы - 6,57% невозврата\n",
    "    малоимущие - 6.18% невозврата\n",
    "    Люди, берущие кредит на жилье - 7.19% невозврата\n",
    "</font>"
   ]
  }
 ],
 "metadata": {
  "ExecuteTimeLog": [
   {
    "duration": 1643,
    "start_time": "2021-09-02T15:49:17.952Z"
   },
   {
    "duration": 73,
    "start_time": "2021-09-02T15:49:25.842Z"
   },
   {
    "duration": 56,
    "start_time": "2021-09-02T15:49:53.454Z"
   },
   {
    "duration": 62,
    "start_time": "2021-09-02T15:50:10.990Z"
   },
   {
    "duration": 54,
    "start_time": "2021-09-02T15:50:35.347Z"
   },
   {
    "duration": 10,
    "start_time": "2021-09-02T15:50:54.074Z"
   },
   {
    "duration": 623,
    "start_time": "2021-09-05T09:11:54.341Z"
   },
   {
    "duration": 14,
    "start_time": "2021-09-05T09:11:54.966Z"
   },
   {
    "duration": 11,
    "start_time": "2021-09-05T09:12:24.308Z"
   },
   {
    "duration": 90,
    "start_time": "2021-09-05T09:13:35.962Z"
   },
   {
    "duration": 8,
    "start_time": "2021-09-05T09:13:44.851Z"
   },
   {
    "duration": 3,
    "start_time": "2021-09-05T09:15:57.725Z"
   },
   {
    "duration": 4,
    "start_time": "2021-09-05T09:16:21.666Z"
   },
   {
    "duration": 19,
    "start_time": "2021-09-05T09:16:59.122Z"
   },
   {
    "duration": 9,
    "start_time": "2021-09-05T09:18:06.297Z"
   },
   {
    "duration": 12,
    "start_time": "2021-09-05T09:20:29.394Z"
   },
   {
    "duration": 27,
    "start_time": "2021-09-05T09:20:34.208Z"
   },
   {
    "duration": 27,
    "start_time": "2021-09-05T09:21:01.799Z"
   },
   {
    "duration": 23,
    "start_time": "2021-09-05T09:22:41.991Z"
   },
   {
    "duration": 657,
    "start_time": "2021-09-05T09:23:11.675Z"
   },
   {
    "duration": 8,
    "start_time": "2021-09-05T09:23:12.334Z"
   },
   {
    "duration": 6,
    "start_time": "2021-09-05T09:23:12.344Z"
   },
   {
    "duration": 20,
    "start_time": "2021-09-05T09:23:12.352Z"
   },
   {
    "duration": 25,
    "start_time": "2021-09-05T09:23:12.374Z"
   },
   {
    "duration": 8,
    "start_time": "2021-09-05T09:23:12.400Z"
   },
   {
    "duration": 22,
    "start_time": "2021-09-05T09:23:12.410Z"
   },
   {
    "duration": 29,
    "start_time": "2021-09-05T09:24:09.713Z"
   },
   {
    "duration": 659,
    "start_time": "2021-09-05T09:24:15.673Z"
   },
   {
    "duration": 7,
    "start_time": "2021-09-05T09:24:16.334Z"
   },
   {
    "duration": 5,
    "start_time": "2021-09-05T09:24:16.344Z"
   },
   {
    "duration": 49,
    "start_time": "2021-09-05T09:24:16.351Z"
   },
   {
    "duration": 14,
    "start_time": "2021-09-05T09:24:16.403Z"
   },
   {
    "duration": 8,
    "start_time": "2021-09-05T09:24:16.419Z"
   },
   {
    "duration": 15,
    "start_time": "2021-09-05T09:24:16.429Z"
   },
   {
    "duration": 23,
    "start_time": "2021-09-05T09:24:29.984Z"
   },
   {
    "duration": 312,
    "start_time": "2021-09-05T09:38:04.210Z"
   },
   {
    "duration": 24,
    "start_time": "2021-09-05T09:38:08.865Z"
   },
   {
    "duration": 6,
    "start_time": "2021-09-05T09:40:12.039Z"
   },
   {
    "duration": 21,
    "start_time": "2021-09-05T09:58:24.030Z"
   },
   {
    "duration": 22,
    "start_time": "2021-09-05T10:05:12.870Z"
   },
   {
    "duration": 27,
    "start_time": "2021-09-05T10:13:18.388Z"
   },
   {
    "duration": 10,
    "start_time": "2021-09-05T10:14:07.138Z"
   },
   {
    "duration": 13,
    "start_time": "2021-09-05T10:14:22.492Z"
   },
   {
    "duration": 11,
    "start_time": "2021-09-05T10:14:34.731Z"
   },
   {
    "duration": 34,
    "start_time": "2021-09-05T10:20:23.789Z"
   },
   {
    "duration": 24,
    "start_time": "2021-09-05T10:20:42.093Z"
   },
   {
    "duration": 23,
    "start_time": "2021-09-05T10:21:05.295Z"
   },
   {
    "duration": 19,
    "start_time": "2021-09-05T10:21:48.891Z"
   },
   {
    "duration": 17,
    "start_time": "2021-09-05T10:22:13.598Z"
   },
   {
    "duration": 4390,
    "start_time": "2021-09-05T10:22:29.632Z"
   },
   {
    "duration": -523,
    "start_time": "2021-09-05T10:22:34.547Z"
   },
   {
    "duration": 3579,
    "start_time": "2021-09-05T10:22:57.546Z"
   },
   {
    "duration": -59,
    "start_time": "2021-09-05T10:23:01.186Z"
   },
   {
    "duration": 656,
    "start_time": "2021-09-05T10:23:04.981Z"
   },
   {
    "duration": 8,
    "start_time": "2021-09-05T10:23:05.640Z"
   },
   {
    "duration": 6,
    "start_time": "2021-09-05T10:23:05.650Z"
   },
   {
    "duration": 11,
    "start_time": "2021-09-05T10:23:05.658Z"
   },
   {
    "duration": 27,
    "start_time": "2021-09-05T10:23:05.671Z"
   },
   {
    "duration": 41,
    "start_time": "2021-09-05T10:23:05.700Z"
   },
   {
    "duration": 5,
    "start_time": "2021-09-05T10:23:05.743Z"
   },
   {
    "duration": 47,
    "start_time": "2021-09-05T10:23:05.750Z"
   },
   {
    "duration": 9,
    "start_time": "2021-09-05T10:23:05.800Z"
   },
   {
    "duration": 20,
    "start_time": "2021-09-05T10:23:29.116Z"
   },
   {
    "duration": 29,
    "start_time": "2021-09-05T10:41:09.168Z"
   },
   {
    "duration": 33,
    "start_time": "2021-09-05T10:43:52.106Z"
   },
   {
    "duration": 666,
    "start_time": "2021-09-05T10:44:00.391Z"
   },
   {
    "duration": 9,
    "start_time": "2021-09-05T10:44:01.058Z"
   },
   {
    "duration": 9,
    "start_time": "2021-09-05T10:44:01.069Z"
   },
   {
    "duration": 15,
    "start_time": "2021-09-05T10:44:01.080Z"
   },
   {
    "duration": 16,
    "start_time": "2021-09-05T10:44:01.097Z"
   },
   {
    "duration": 32,
    "start_time": "2021-09-05T10:44:01.115Z"
   },
   {
    "duration": 5,
    "start_time": "2021-09-05T10:44:01.149Z"
   },
   {
    "duration": 69,
    "start_time": "2021-09-05T10:44:01.156Z"
   },
   {
    "duration": 10,
    "start_time": "2021-09-05T10:44:16.077Z"
   },
   {
    "duration": 596,
    "start_time": "2021-09-05T10:45:15.447Z"
   },
   {
    "duration": 9,
    "start_time": "2021-09-05T10:45:16.044Z"
   },
   {
    "duration": 11,
    "start_time": "2021-09-05T10:45:16.054Z"
   },
   {
    "duration": 24,
    "start_time": "2021-09-05T10:45:16.067Z"
   },
   {
    "duration": 17,
    "start_time": "2021-09-05T10:45:16.093Z"
   },
   {
    "duration": 42,
    "start_time": "2021-09-05T10:45:16.112Z"
   },
   {
    "duration": 4,
    "start_time": "2021-09-05T10:45:16.156Z"
   },
   {
    "duration": 64,
    "start_time": "2021-09-05T10:45:16.162Z"
   },
   {
    "duration": 9,
    "start_time": "2021-09-05T10:45:16.229Z"
   },
   {
    "duration": 23,
    "start_time": "2021-09-05T10:45:49.337Z"
   },
   {
    "duration": 818,
    "start_time": "2021-09-05T10:46:05.425Z"
   },
   {
    "duration": 13,
    "start_time": "2021-09-05T10:46:06.246Z"
   },
   {
    "duration": 6,
    "start_time": "2021-09-05T10:46:06.262Z"
   },
   {
    "duration": 29,
    "start_time": "2021-09-05T10:46:06.270Z"
   },
   {
    "duration": 10,
    "start_time": "2021-09-05T10:46:06.301Z"
   },
   {
    "duration": 28,
    "start_time": "2021-09-05T10:46:06.313Z"
   },
   {
    "duration": 5,
    "start_time": "2021-09-05T10:46:06.343Z"
   },
   {
    "duration": 71,
    "start_time": "2021-09-05T10:46:06.351Z"
   },
   {
    "duration": 23,
    "start_time": "2021-09-05T10:46:06.424Z"
   },
   {
    "duration": 39,
    "start_time": "2021-09-05T10:46:31.398Z"
   },
   {
    "duration": 11,
    "start_time": "2021-09-05T10:46:43.976Z"
   },
   {
    "duration": 32,
    "start_time": "2021-09-05T10:48:52.134Z"
   },
   {
    "duration": 663,
    "start_time": "2021-09-05T10:49:04.209Z"
   },
   {
    "duration": 9,
    "start_time": "2021-09-05T10:49:04.873Z"
   },
   {
    "duration": 25,
    "start_time": "2021-09-05T10:49:04.884Z"
   },
   {
    "duration": 34,
    "start_time": "2021-09-05T10:49:04.911Z"
   },
   {
    "duration": 18,
    "start_time": "2021-09-05T10:49:04.946Z"
   },
   {
    "duration": 43,
    "start_time": "2021-09-05T10:49:04.966Z"
   },
   {
    "duration": 4,
    "start_time": "2021-09-05T10:49:05.010Z"
   },
   {
    "duration": 66,
    "start_time": "2021-09-05T10:49:05.016Z"
   },
   {
    "duration": 10,
    "start_time": "2021-09-05T10:49:05.083Z"
   },
   {
    "duration": 21,
    "start_time": "2021-09-05T10:51:28.743Z"
   },
   {
    "duration": 652,
    "start_time": "2021-09-05T10:52:59.220Z"
   },
   {
    "duration": 9,
    "start_time": "2021-09-05T10:52:59.874Z"
   },
   {
    "duration": 5,
    "start_time": "2021-09-05T10:52:59.886Z"
   },
   {
    "duration": 10,
    "start_time": "2021-09-05T10:52:59.893Z"
   },
   {
    "duration": 8,
    "start_time": "2021-09-05T10:52:59.905Z"
   },
   {
    "duration": 28,
    "start_time": "2021-09-05T10:52:59.915Z"
   },
   {
    "duration": 4,
    "start_time": "2021-09-05T10:52:59.945Z"
   },
   {
    "duration": 58,
    "start_time": "2021-09-05T10:52:59.951Z"
   },
   {
    "duration": 22,
    "start_time": "2021-09-05T10:53:00.012Z"
   },
   {
    "duration": 606,
    "start_time": "2021-09-05T10:56:04.045Z"
   },
   {
    "duration": 8,
    "start_time": "2021-09-05T10:56:04.653Z"
   },
   {
    "duration": 7,
    "start_time": "2021-09-05T10:56:04.664Z"
   },
   {
    "duration": 14,
    "start_time": "2021-09-05T10:56:04.672Z"
   },
   {
    "duration": 15,
    "start_time": "2021-09-05T10:56:04.687Z"
   },
   {
    "duration": 26,
    "start_time": "2021-09-05T10:56:04.704Z"
   },
   {
    "duration": 4,
    "start_time": "2021-09-05T10:56:04.732Z"
   },
   {
    "duration": 35,
    "start_time": "2021-09-05T10:56:04.737Z"
   },
   {
    "duration": 39,
    "start_time": "2021-09-05T10:56:04.774Z"
   },
   {
    "duration": 9,
    "start_time": "2021-09-05T10:57:17.009Z"
   },
   {
    "duration": 8,
    "start_time": "2021-09-05T10:57:24.595Z"
   },
   {
    "duration": 3471,
    "start_time": "2021-09-05T11:01:52.298Z"
   },
   {
    "duration": 26,
    "start_time": "2021-09-05T11:02:11.494Z"
   },
   {
    "duration": 6,
    "start_time": "2021-09-05T11:03:34.880Z"
   },
   {
    "duration": 22,
    "start_time": "2021-09-05T11:05:32.652Z"
   },
   {
    "duration": 10,
    "start_time": "2021-09-05T11:05:57.804Z"
   },
   {
    "duration": 26,
    "start_time": "2021-09-05T11:08:01.710Z"
   },
   {
    "duration": 3,
    "start_time": "2021-09-05T11:17:41.757Z"
   },
   {
    "duration": 32,
    "start_time": "2021-09-05T11:19:18.170Z"
   },
   {
    "duration": 31,
    "start_time": "2021-09-05T11:19:45.722Z"
   },
   {
    "duration": 686,
    "start_time": "2021-09-05T11:20:23.961Z"
   },
   {
    "duration": 8,
    "start_time": "2021-09-05T11:20:24.651Z"
   },
   {
    "duration": 18,
    "start_time": "2021-09-05T11:20:24.661Z"
   },
   {
    "duration": 42,
    "start_time": "2021-09-05T11:20:24.681Z"
   },
   {
    "duration": 10,
    "start_time": "2021-09-05T11:20:24.725Z"
   },
   {
    "duration": 43,
    "start_time": "2021-09-05T11:20:24.737Z"
   },
   {
    "duration": 4,
    "start_time": "2021-09-05T11:20:24.782Z"
   },
   {
    "duration": 41,
    "start_time": "2021-09-05T11:20:24.788Z"
   },
   {
    "duration": 32,
    "start_time": "2021-09-05T11:20:24.831Z"
   },
   {
    "duration": 30,
    "start_time": "2021-09-05T11:20:24.865Z"
   },
   {
    "duration": 7,
    "start_time": "2021-09-05T11:20:24.897Z"
   },
   {
    "duration": 36,
    "start_time": "2021-09-05T11:20:24.905Z"
   },
   {
    "duration": 657,
    "start_time": "2021-09-05T11:21:05.850Z"
   },
   {
    "duration": 10,
    "start_time": "2021-09-05T11:21:06.509Z"
   },
   {
    "duration": 13,
    "start_time": "2021-09-05T11:21:06.525Z"
   },
   {
    "duration": 19,
    "start_time": "2021-09-05T11:21:06.541Z"
   },
   {
    "duration": 30,
    "start_time": "2021-09-05T11:21:06.563Z"
   },
   {
    "duration": 29,
    "start_time": "2021-09-05T11:21:06.595Z"
   },
   {
    "duration": 4,
    "start_time": "2021-09-05T11:21:06.627Z"
   },
   {
    "duration": 34,
    "start_time": "2021-09-05T11:21:06.633Z"
   },
   {
    "duration": 24,
    "start_time": "2021-09-05T11:21:06.669Z"
   },
   {
    "duration": 46,
    "start_time": "2021-09-05T11:21:06.695Z"
   },
   {
    "duration": 594,
    "start_time": "2021-09-05T11:22:47.349Z"
   },
   {
    "duration": 8,
    "start_time": "2021-09-05T11:22:47.946Z"
   },
   {
    "duration": 7,
    "start_time": "2021-09-05T11:22:47.956Z"
   },
   {
    "duration": 11,
    "start_time": "2021-09-05T11:22:47.965Z"
   },
   {
    "duration": 22,
    "start_time": "2021-09-05T11:22:47.977Z"
   },
   {
    "duration": 29,
    "start_time": "2021-09-05T11:22:48.001Z"
   },
   {
    "duration": 3,
    "start_time": "2021-09-05T11:22:48.031Z"
   },
   {
    "duration": 4,
    "start_time": "2021-09-05T11:22:48.037Z"
   },
   {
    "duration": 31,
    "start_time": "2021-09-05T11:22:48.043Z"
   },
   {
    "duration": 302,
    "start_time": "2021-09-05T11:23:34.632Z"
   },
   {
    "duration": 3,
    "start_time": "2021-09-05T11:23:57.588Z"
   },
   {
    "duration": 4,
    "start_time": "2021-09-05T11:23:58.820Z"
   },
   {
    "duration": 45,
    "start_time": "2021-09-05T11:23:59.536Z"
   },
   {
    "duration": 6195,
    "start_time": "2021-09-05T11:24:40.313Z"
   },
   {
    "duration": 48,
    "start_time": "2021-09-05T11:25:05.955Z"
   },
   {
    "duration": 9,
    "start_time": "2021-09-05T11:27:29.872Z"
   },
   {
    "duration": 19,
    "start_time": "2021-09-05T11:31:13.352Z"
   },
   {
    "duration": 251,
    "start_time": "2021-09-05T11:44:24.449Z"
   },
   {
    "duration": 9,
    "start_time": "2021-09-05T11:44:46.725Z"
   },
   {
    "duration": 27,
    "start_time": "2021-09-05T11:44:51.393Z"
   },
   {
    "duration": 240,
    "start_time": "2021-09-05T11:45:32.074Z"
   },
   {
    "duration": 11,
    "start_time": "2021-09-05T11:46:48.393Z"
   },
   {
    "duration": 629,
    "start_time": "2021-09-05T11:48:59.839Z"
   },
   {
    "duration": 9,
    "start_time": "2021-09-05T11:49:00.470Z"
   },
   {
    "duration": 14,
    "start_time": "2021-09-05T11:49:00.481Z"
   },
   {
    "duration": 26,
    "start_time": "2021-09-05T11:49:00.499Z"
   },
   {
    "duration": 18,
    "start_time": "2021-09-05T11:49:00.527Z"
   },
   {
    "duration": 29,
    "start_time": "2021-09-05T11:49:00.547Z"
   },
   {
    "duration": 4,
    "start_time": "2021-09-05T11:49:00.578Z"
   },
   {
    "duration": 29,
    "start_time": "2021-09-05T11:49:00.583Z"
   },
   {
    "duration": 42,
    "start_time": "2021-09-05T11:49:00.614Z"
   },
   {
    "duration": 8,
    "start_time": "2021-09-05T11:49:00.658Z"
   },
   {
    "duration": 36,
    "start_time": "2021-09-05T11:49:00.667Z"
   },
   {
    "duration": 12,
    "start_time": "2021-09-05T11:49:00.706Z"
   },
   {
    "duration": 380,
    "start_time": "2021-09-05T11:50:29.749Z"
   },
   {
    "duration": 21,
    "start_time": "2021-09-05T11:50:35.406Z"
   },
   {
    "duration": 9,
    "start_time": "2021-09-05T11:54:07.121Z"
   },
   {
    "duration": 25,
    "start_time": "2021-09-05T11:57:10.707Z"
   },
   {
    "duration": 250,
    "start_time": "2021-09-05T12:01:59.063Z"
   },
   {
    "duration": 24,
    "start_time": "2021-09-05T12:02:43.302Z"
   },
   {
    "duration": 618,
    "start_time": "2021-09-05T12:49:25.521Z"
   },
   {
    "duration": 7,
    "start_time": "2021-09-05T12:49:26.141Z"
   },
   {
    "duration": 7,
    "start_time": "2021-09-05T12:49:26.150Z"
   },
   {
    "duration": 12,
    "start_time": "2021-09-05T12:49:26.159Z"
   },
   {
    "duration": 33,
    "start_time": "2021-09-05T12:49:26.173Z"
   },
   {
    "duration": 21,
    "start_time": "2021-09-05T12:49:26.208Z"
   },
   {
    "duration": 3,
    "start_time": "2021-09-05T12:49:26.230Z"
   },
   {
    "duration": 6,
    "start_time": "2021-09-05T12:49:26.235Z"
   },
   {
    "duration": 54,
    "start_time": "2021-09-05T12:49:26.243Z"
   },
   {
    "duration": 11,
    "start_time": "2021-09-05T12:49:26.300Z"
   },
   {
    "duration": 28,
    "start_time": "2021-09-05T12:49:26.313Z"
   },
   {
    "duration": 20,
    "start_time": "2021-09-05T12:49:26.343Z"
   },
   {
    "duration": 39,
    "start_time": "2021-09-05T12:49:26.366Z"
   },
   {
    "duration": 22,
    "start_time": "2021-09-05T12:49:26.407Z"
   },
   {
    "duration": 21,
    "start_time": "2021-09-05T12:49:26.431Z"
   },
   {
    "duration": 21,
    "start_time": "2021-09-05T12:49:43.761Z"
   },
   {
    "duration": 645,
    "start_time": "2021-09-05T12:49:47.987Z"
   },
   {
    "duration": 8,
    "start_time": "2021-09-05T12:49:48.634Z"
   },
   {
    "duration": 6,
    "start_time": "2021-09-05T12:49:48.645Z"
   },
   {
    "duration": 13,
    "start_time": "2021-09-05T12:49:48.653Z"
   },
   {
    "duration": 27,
    "start_time": "2021-09-05T12:49:48.668Z"
   },
   {
    "duration": 25,
    "start_time": "2021-09-05T12:49:48.698Z"
   },
   {
    "duration": 3,
    "start_time": "2021-09-05T12:49:48.725Z"
   },
   {
    "duration": 6,
    "start_time": "2021-09-05T12:49:48.729Z"
   },
   {
    "duration": 37,
    "start_time": "2021-09-05T12:49:48.737Z"
   },
   {
    "duration": 22,
    "start_time": "2021-09-05T12:49:48.776Z"
   },
   {
    "duration": 18,
    "start_time": "2021-09-05T12:49:48.799Z"
   },
   {
    "duration": 22,
    "start_time": "2021-09-05T12:49:48.818Z"
   },
   {
    "duration": 7,
    "start_time": "2021-09-05T12:49:48.842Z"
   },
   {
    "duration": 55,
    "start_time": "2021-09-05T12:49:48.850Z"
   },
   {
    "duration": 23,
    "start_time": "2021-09-05T12:49:48.907Z"
   },
   {
    "duration": 14,
    "start_time": "2021-09-05T12:51:31.243Z"
   },
   {
    "duration": 647,
    "start_time": "2021-09-05T12:52:41.830Z"
   },
   {
    "duration": 8,
    "start_time": "2021-09-05T12:52:42.479Z"
   },
   {
    "duration": 9,
    "start_time": "2021-09-05T12:52:42.489Z"
   },
   {
    "duration": 20,
    "start_time": "2021-09-05T12:52:42.500Z"
   },
   {
    "duration": 9,
    "start_time": "2021-09-05T12:52:42.521Z"
   },
   {
    "duration": 23,
    "start_time": "2021-09-05T12:52:42.531Z"
   },
   {
    "duration": 3,
    "start_time": "2021-09-05T12:52:42.555Z"
   },
   {
    "duration": 8,
    "start_time": "2021-09-05T12:52:42.560Z"
   },
   {
    "duration": 47,
    "start_time": "2021-09-05T12:52:42.570Z"
   },
   {
    "duration": 8,
    "start_time": "2021-09-05T12:52:42.618Z"
   },
   {
    "duration": 25,
    "start_time": "2021-09-05T12:52:42.627Z"
   },
   {
    "duration": 21,
    "start_time": "2021-09-05T12:52:42.653Z"
   },
   {
    "duration": 13,
    "start_time": "2021-09-05T12:52:42.693Z"
   },
   {
    "duration": 22,
    "start_time": "2021-09-05T12:52:42.708Z"
   },
   {
    "duration": 22,
    "start_time": "2021-09-05T12:52:42.731Z"
   },
   {
    "duration": 40,
    "start_time": "2021-09-05T12:52:42.755Z"
   },
   {
    "duration": 642,
    "start_time": "2021-09-05T12:54:31.514Z"
   },
   {
    "duration": 8,
    "start_time": "2021-09-05T12:54:32.158Z"
   },
   {
    "duration": 10,
    "start_time": "2021-09-05T12:54:32.168Z"
   },
   {
    "duration": 11,
    "start_time": "2021-09-05T12:54:32.180Z"
   },
   {
    "duration": 15,
    "start_time": "2021-09-05T12:54:32.194Z"
   },
   {
    "duration": 26,
    "start_time": "2021-09-05T12:54:32.210Z"
   },
   {
    "duration": 3,
    "start_time": "2021-09-05T12:54:32.238Z"
   },
   {
    "duration": 11,
    "start_time": "2021-09-05T12:54:32.243Z"
   },
   {
    "duration": 53,
    "start_time": "2021-09-05T12:54:32.256Z"
   },
   {
    "duration": 8,
    "start_time": "2021-09-05T12:54:32.311Z"
   },
   {
    "duration": 26,
    "start_time": "2021-09-05T12:54:32.320Z"
   },
   {
    "duration": 22,
    "start_time": "2021-09-05T12:54:32.347Z"
   },
   {
    "duration": 30,
    "start_time": "2021-09-05T12:54:32.371Z"
   },
   {
    "duration": 22,
    "start_time": "2021-09-05T12:54:32.404Z"
   },
   {
    "duration": 21,
    "start_time": "2021-09-05T12:54:32.427Z"
   },
   {
    "duration": 2172,
    "start_time": "2021-09-05T12:54:32.449Z"
   },
   {
    "duration": 1603,
    "start_time": "2021-09-05T12:55:13.758Z"
   },
   {
    "duration": 1758,
    "start_time": "2021-09-05T12:55:33.746Z"
   },
   {
    "duration": 21,
    "start_time": "2021-09-05T13:00:58.254Z"
   },
   {
    "duration": 5,
    "start_time": "2021-09-05T13:01:13.629Z"
   },
   {
    "duration": 3,
    "start_time": "2021-09-05T13:01:33.545Z"
   },
   {
    "duration": 4,
    "start_time": "2021-09-05T13:02:08.945Z"
   },
   {
    "duration": 232,
    "start_time": "2021-09-05T13:02:36.029Z"
   },
   {
    "duration": 4,
    "start_time": "2021-09-05T13:02:42.317Z"
   },
   {
    "duration": 5,
    "start_time": "2021-09-05T13:03:53.365Z"
   },
   {
    "duration": 2152,
    "start_time": "2021-09-05T13:05:06.517Z"
   },
   {
    "duration": 25,
    "start_time": "2021-09-05T13:05:21.708Z"
   },
   {
    "duration": 18,
    "start_time": "2021-09-05T13:52:27.043Z"
   },
   {
    "duration": 15,
    "start_time": "2021-09-05T13:52:34.137Z"
   },
   {
    "duration": 270,
    "start_time": "2021-09-05T14:00:46.584Z"
   },
   {
    "duration": 255,
    "start_time": "2021-09-05T14:01:17.750Z"
   },
   {
    "duration": 34,
    "start_time": "2021-09-05T14:01:33.892Z"
   },
   {
    "duration": 18,
    "start_time": "2021-09-05T14:01:49.377Z"
   },
   {
    "duration": 48,
    "start_time": "2021-09-05T14:17:07.036Z"
   },
   {
    "duration": 21,
    "start_time": "2021-09-05T14:17:25.756Z"
   },
   {
    "duration": 27,
    "start_time": "2021-09-05T14:17:36.829Z"
   },
   {
    "duration": 31,
    "start_time": "2021-09-05T14:17:38.266Z"
   },
   {
    "duration": 269,
    "start_time": "2021-09-05T14:19:31.204Z"
   },
   {
    "duration": 6,
    "start_time": "2021-09-05T14:21:32.307Z"
   },
   {
    "duration": 8,
    "start_time": "2021-09-05T14:21:52.927Z"
   },
   {
    "duration": 4532,
    "start_time": "2021-09-05T14:23:34.163Z"
   },
   {
    "duration": 3,
    "start_time": "2021-09-05T14:24:52.393Z"
   },
   {
    "duration": 4703,
    "start_time": "2021-09-05T14:25:05.455Z"
   },
   {
    "duration": 3,
    "start_time": "2021-09-05T14:27:41.152Z"
   },
   {
    "duration": 1213,
    "start_time": "2021-09-05T14:28:02.507Z"
   },
   {
    "duration": 3,
    "start_time": "2021-09-05T14:28:25.679Z"
   },
   {
    "duration": 15,
    "start_time": "2021-09-05T14:28:26.498Z"
   },
   {
    "duration": 701,
    "start_time": "2021-09-05T14:30:26.394Z"
   },
   {
    "duration": 10,
    "start_time": "2021-09-05T14:30:27.098Z"
   },
   {
    "duration": 8,
    "start_time": "2021-09-05T14:30:27.111Z"
   },
   {
    "duration": 10,
    "start_time": "2021-09-05T14:30:27.122Z"
   },
   {
    "duration": 11,
    "start_time": "2021-09-05T14:30:27.134Z"
   },
   {
    "duration": 52,
    "start_time": "2021-09-05T14:30:27.147Z"
   },
   {
    "duration": 4,
    "start_time": "2021-09-05T14:30:27.201Z"
   },
   {
    "duration": 8,
    "start_time": "2021-09-05T14:30:27.207Z"
   },
   {
    "duration": 38,
    "start_time": "2021-09-05T14:30:27.218Z"
   },
   {
    "duration": 9,
    "start_time": "2021-09-05T14:30:27.258Z"
   },
   {
    "duration": 25,
    "start_time": "2021-09-05T14:30:27.293Z"
   },
   {
    "duration": 20,
    "start_time": "2021-09-05T14:30:27.320Z"
   },
   {
    "duration": 8,
    "start_time": "2021-09-05T14:30:27.342Z"
   },
   {
    "duration": 67,
    "start_time": "2021-09-05T14:30:27.351Z"
   },
   {
    "duration": 29,
    "start_time": "2021-09-05T14:30:27.420Z"
   },
   {
    "duration": 27,
    "start_time": "2021-09-05T14:30:27.451Z"
   },
   {
    "duration": 26,
    "start_time": "2021-09-05T14:30:27.492Z"
   },
   {
    "duration": 18,
    "start_time": "2021-09-05T14:30:27.521Z"
   },
   {
    "duration": 20,
    "start_time": "2021-09-05T14:30:27.540Z"
   },
   {
    "duration": 32,
    "start_time": "2021-09-05T14:30:27.561Z"
   },
   {
    "duration": 4,
    "start_time": "2021-09-05T14:30:27.596Z"
   },
   {
    "duration": 17,
    "start_time": "2021-09-05T14:30:27.602Z"
   },
   {
    "duration": 11305,
    "start_time": "2021-09-05T14:34:45.975Z"
   },
   {
    "duration": 690,
    "start_time": "2021-09-05T14:35:20.156Z"
   },
   {
    "duration": 8,
    "start_time": "2021-09-05T14:35:20.848Z"
   },
   {
    "duration": 7,
    "start_time": "2021-09-05T14:35:20.858Z"
   },
   {
    "duration": 12,
    "start_time": "2021-09-05T14:35:20.867Z"
   },
   {
    "duration": 29,
    "start_time": "2021-09-05T14:35:20.880Z"
   },
   {
    "duration": 22,
    "start_time": "2021-09-05T14:35:20.912Z"
   },
   {
    "duration": 3,
    "start_time": "2021-09-05T14:35:20.936Z"
   },
   {
    "duration": 19,
    "start_time": "2021-09-05T14:35:20.940Z"
   },
   {
    "duration": 63,
    "start_time": "2021-09-05T14:35:20.962Z"
   },
   {
    "duration": 8,
    "start_time": "2021-09-05T14:35:21.027Z"
   },
   {
    "duration": 33,
    "start_time": "2021-09-05T14:35:21.037Z"
   },
   {
    "duration": 40,
    "start_time": "2021-09-05T14:35:21.072Z"
   },
   {
    "duration": 12,
    "start_time": "2021-09-05T14:35:21.115Z"
   },
   {
    "duration": 28,
    "start_time": "2021-09-05T14:35:21.129Z"
   },
   {
    "duration": 48,
    "start_time": "2021-09-05T14:35:21.159Z"
   },
   {
    "duration": 26,
    "start_time": "2021-09-05T14:35:21.209Z"
   },
   {
    "duration": 23,
    "start_time": "2021-09-05T14:35:21.237Z"
   },
   {
    "duration": 43,
    "start_time": "2021-09-05T14:35:21.262Z"
   },
   {
    "duration": 28,
    "start_time": "2021-09-05T14:35:21.307Z"
   },
   {
    "duration": 12,
    "start_time": "2021-09-05T14:35:21.337Z"
   },
   {
    "duration": 4,
    "start_time": "2021-09-05T14:35:21.351Z"
   },
   {
    "duration": 42,
    "start_time": "2021-09-05T14:35:21.356Z"
   },
   {
    "duration": 10819,
    "start_time": "2021-09-05T14:35:21.400Z"
   },
   {
    "duration": 3,
    "start_time": "2021-09-05T14:39:44.238Z"
   },
   {
    "duration": 237,
    "start_time": "2021-09-05T14:39:46.082Z"
   },
   {
    "duration": 11,
    "start_time": "2021-09-05T14:39:51.867Z"
   },
   {
    "duration": 23,
    "start_time": "2021-09-05T14:41:31.591Z"
   },
   {
    "duration": 29,
    "start_time": "2021-09-05T14:41:40.855Z"
   },
   {
    "duration": 16,
    "start_time": "2021-09-05T14:41:58.723Z"
   },
   {
    "duration": 19,
    "start_time": "2021-09-05T14:44:13.247Z"
   },
   {
    "duration": 7,
    "start_time": "2021-09-05T14:44:57.352Z"
   },
   {
    "duration": 5,
    "start_time": "2021-09-05T14:45:08.326Z"
   },
   {
    "duration": 8,
    "start_time": "2021-09-05T14:45:24.278Z"
   },
   {
    "duration": 8,
    "start_time": "2021-09-05T14:46:10.208Z"
   },
   {
    "duration": 21,
    "start_time": "2021-09-05T14:46:11.978Z"
   },
   {
    "duration": 7,
    "start_time": "2021-09-05T14:52:50.029Z"
   },
   {
    "duration": 3585,
    "start_time": "2021-09-05T14:54:01.970Z"
   },
   {
    "duration": 1649,
    "start_time": "2021-09-05T14:54:16.698Z"
   },
   {
    "duration": 3127,
    "start_time": "2021-09-05T14:54:44.301Z"
   },
   {
    "duration": 90,
    "start_time": "2021-09-05T14:59:11.210Z"
   },
   {
    "duration": 18,
    "start_time": "2021-09-05T14:59:30.146Z"
   },
   {
    "duration": 5,
    "start_time": "2021-09-05T15:00:36.747Z"
   },
   {
    "duration": 35,
    "start_time": "2021-09-05T15:01:03.209Z"
   },
   {
    "duration": 12,
    "start_time": "2021-09-05T15:01:35.505Z"
   },
   {
    "duration": 683,
    "start_time": "2021-09-05T15:01:59.865Z"
   },
   {
    "duration": 8,
    "start_time": "2021-09-05T15:02:00.550Z"
   },
   {
    "duration": 13,
    "start_time": "2021-09-05T15:02:00.564Z"
   },
   {
    "duration": 13,
    "start_time": "2021-09-05T15:02:00.579Z"
   },
   {
    "duration": 12,
    "start_time": "2021-09-05T15:02:00.594Z"
   },
   {
    "duration": 31,
    "start_time": "2021-09-05T15:02:00.609Z"
   },
   {
    "duration": 4,
    "start_time": "2021-09-05T15:02:00.643Z"
   },
   {
    "duration": 11,
    "start_time": "2021-09-05T15:02:00.649Z"
   },
   {
    "duration": 71,
    "start_time": "2021-09-05T15:02:00.662Z"
   },
   {
    "duration": 10,
    "start_time": "2021-09-05T15:02:00.735Z"
   },
   {
    "duration": 37,
    "start_time": "2021-09-05T15:02:00.747Z"
   },
   {
    "duration": 27,
    "start_time": "2021-09-05T15:02:00.791Z"
   },
   {
    "duration": 8,
    "start_time": "2021-09-05T15:02:00.820Z"
   },
   {
    "duration": 27,
    "start_time": "2021-09-05T15:02:00.830Z"
   },
   {
    "duration": 61,
    "start_time": "2021-09-05T15:02:00.858Z"
   },
   {
    "duration": 46,
    "start_time": "2021-09-05T15:02:00.921Z"
   },
   {
    "duration": 35,
    "start_time": "2021-09-05T15:02:00.970Z"
   },
   {
    "duration": 19,
    "start_time": "2021-09-05T15:02:01.007Z"
   },
   {
    "duration": 25,
    "start_time": "2021-09-05T15:02:01.027Z"
   },
   {
    "duration": 19,
    "start_time": "2021-09-05T15:02:01.054Z"
   },
   {
    "duration": 27,
    "start_time": "2021-09-05T15:02:01.076Z"
   },
   {
    "duration": 36,
    "start_time": "2021-09-05T15:02:01.106Z"
   },
   {
    "duration": 26,
    "start_time": "2021-09-05T15:02:01.144Z"
   },
   {
    "duration": 14,
    "start_time": "2021-09-05T15:02:01.173Z"
   },
   {
    "duration": 23,
    "start_time": "2021-09-05T15:02:01.189Z"
   },
   {
    "duration": 31,
    "start_time": "2021-09-05T15:02:01.214Z"
   },
   {
    "duration": 6,
    "start_time": "2021-09-05T15:02:01.248Z"
   },
   {
    "duration": 4248,
    "start_time": "2021-09-05T15:02:01.256Z"
   },
   {
    "duration": 20,
    "start_time": "2021-09-05T15:02:05.507Z"
   },
   {
    "duration": 10,
    "start_time": "2021-09-05T15:16:30.002Z"
   },
   {
    "duration": 670,
    "start_time": "2021-09-05T15:20:38.637Z"
   },
   {
    "duration": 14,
    "start_time": "2021-09-05T15:20:39.309Z"
   },
   {
    "duration": 8,
    "start_time": "2021-09-05T15:20:39.325Z"
   },
   {
    "duration": 11,
    "start_time": "2021-09-05T15:20:39.334Z"
   },
   {
    "duration": 9,
    "start_time": "2021-09-05T15:20:39.346Z"
   },
   {
    "duration": 65,
    "start_time": "2021-09-05T15:20:39.357Z"
   },
   {
    "duration": 3,
    "start_time": "2021-09-05T15:20:39.424Z"
   },
   {
    "duration": 9,
    "start_time": "2021-09-05T15:20:39.429Z"
   },
   {
    "duration": 30,
    "start_time": "2021-09-05T15:20:39.440Z"
   },
   {
    "duration": 7,
    "start_time": "2021-09-05T15:20:39.472Z"
   },
   {
    "duration": 30,
    "start_time": "2021-09-05T15:20:39.495Z"
   },
   {
    "duration": 19,
    "start_time": "2021-09-05T15:20:39.527Z"
   },
   {
    "duration": 8,
    "start_time": "2021-09-05T15:20:39.548Z"
   },
   {
    "duration": 68,
    "start_time": "2021-09-05T15:20:39.558Z"
   },
   {
    "duration": 30,
    "start_time": "2021-09-05T15:20:39.628Z"
   },
   {
    "duration": 44,
    "start_time": "2021-09-05T15:20:39.660Z"
   },
   {
    "duration": 17,
    "start_time": "2021-09-05T15:20:39.706Z"
   },
   {
    "duration": 15,
    "start_time": "2021-09-05T15:20:39.725Z"
   },
   {
    "duration": 18,
    "start_time": "2021-09-05T15:20:39.742Z"
   },
   {
    "duration": 41,
    "start_time": "2021-09-05T15:20:39.762Z"
   },
   {
    "duration": 3,
    "start_time": "2021-09-05T15:20:39.805Z"
   },
   {
    "duration": 25,
    "start_time": "2021-09-05T15:20:39.809Z"
   },
   {
    "duration": 8,
    "start_time": "2021-09-05T15:20:39.837Z"
   },
   {
    "duration": 5,
    "start_time": "2021-09-05T15:20:39.847Z"
   },
   {
    "duration": 12,
    "start_time": "2021-09-05T15:20:39.854Z"
   },
   {
    "duration": 45,
    "start_time": "2021-09-05T15:20:39.868Z"
   },
   {
    "duration": 8,
    "start_time": "2021-09-05T15:20:39.915Z"
   },
   {
    "duration": 3737,
    "start_time": "2021-09-05T15:20:39.925Z"
   },
   {
    "duration": 7,
    "start_time": "2021-09-05T15:20:43.664Z"
   },
   {
    "duration": 744,
    "start_time": "2021-09-05T15:23:25.974Z"
   },
   {
    "duration": 8,
    "start_time": "2021-09-05T15:23:26.720Z"
   },
   {
    "duration": 7,
    "start_time": "2021-09-05T15:23:26.730Z"
   },
   {
    "duration": 11,
    "start_time": "2021-09-05T15:23:26.739Z"
   },
   {
    "duration": 12,
    "start_time": "2021-09-05T15:23:26.752Z"
   },
   {
    "duration": 54,
    "start_time": "2021-09-05T15:23:26.766Z"
   },
   {
    "duration": 4,
    "start_time": "2021-09-05T15:23:26.822Z"
   },
   {
    "duration": 7,
    "start_time": "2021-09-05T15:23:26.828Z"
   },
   {
    "duration": 62,
    "start_time": "2021-09-05T15:23:26.838Z"
   },
   {
    "duration": 12,
    "start_time": "2021-09-05T15:23:26.903Z"
   },
   {
    "duration": 18,
    "start_time": "2021-09-05T15:23:26.917Z"
   },
   {
    "duration": 18,
    "start_time": "2021-09-05T15:23:26.936Z"
   },
   {
    "duration": 35,
    "start_time": "2021-09-05T15:23:26.956Z"
   },
   {
    "duration": 28,
    "start_time": "2021-09-05T15:23:26.995Z"
   },
   {
    "duration": 21,
    "start_time": "2021-09-05T15:23:27.025Z"
   },
   {
    "duration": 50,
    "start_time": "2021-09-05T15:23:27.047Z"
   },
   {
    "duration": 21,
    "start_time": "2021-09-05T15:23:27.100Z"
   },
   {
    "duration": 14,
    "start_time": "2021-09-05T15:23:27.122Z"
   },
   {
    "duration": 19,
    "start_time": "2021-09-05T15:23:27.138Z"
   },
   {
    "duration": 35,
    "start_time": "2021-09-05T15:23:27.158Z"
   },
   {
    "duration": 4,
    "start_time": "2021-09-05T15:23:27.197Z"
   },
   {
    "duration": 20,
    "start_time": "2021-09-05T15:23:27.204Z"
   },
   {
    "duration": 7,
    "start_time": "2021-09-05T15:23:27.225Z"
   },
   {
    "duration": 6,
    "start_time": "2021-09-05T15:23:27.234Z"
   },
   {
    "duration": 10,
    "start_time": "2021-09-05T15:23:27.242Z"
   },
   {
    "duration": 62,
    "start_time": "2021-09-05T15:23:27.254Z"
   },
   {
    "duration": 7,
    "start_time": "2021-09-05T15:23:27.318Z"
   },
   {
    "duration": 3584,
    "start_time": "2021-09-05T15:23:27.327Z"
   },
   {
    "duration": 8,
    "start_time": "2021-09-05T15:23:30.914Z"
   },
   {
    "duration": 10,
    "start_time": "2021-09-05T15:25:39.793Z"
   },
   {
    "duration": 28,
    "start_time": "2021-09-05T15:26:48.510Z"
   },
   {
    "duration": 8,
    "start_time": "2021-09-05T15:29:21.345Z"
   },
   {
    "duration": 705,
    "start_time": "2021-09-05T15:29:32.381Z"
   },
   {
    "duration": 18,
    "start_time": "2021-09-05T15:29:33.088Z"
   },
   {
    "duration": 4,
    "start_time": "2021-09-05T15:29:33.111Z"
   },
   {
    "duration": 12,
    "start_time": "2021-09-05T15:29:33.116Z"
   },
   {
    "duration": 9,
    "start_time": "2021-09-05T15:29:33.130Z"
   },
   {
    "duration": 57,
    "start_time": "2021-09-05T15:29:33.140Z"
   },
   {
    "duration": 5,
    "start_time": "2021-09-05T15:29:33.201Z"
   },
   {
    "duration": 6,
    "start_time": "2021-09-05T15:29:33.210Z"
   },
   {
    "duration": 37,
    "start_time": "2021-09-05T15:29:33.218Z"
   },
   {
    "duration": 7,
    "start_time": "2021-09-05T15:29:33.257Z"
   },
   {
    "duration": 49,
    "start_time": "2021-09-05T15:29:33.266Z"
   },
   {
    "duration": 19,
    "start_time": "2021-09-05T15:29:33.316Z"
   },
   {
    "duration": 8,
    "start_time": "2021-09-05T15:29:33.337Z"
   },
   {
    "duration": 24,
    "start_time": "2021-09-05T15:29:33.346Z"
   },
   {
    "duration": 50,
    "start_time": "2021-09-05T15:29:33.372Z"
   },
   {
    "duration": 21,
    "start_time": "2021-09-05T15:29:33.424Z"
   },
   {
    "duration": 16,
    "start_time": "2021-09-05T15:29:33.447Z"
   },
   {
    "duration": 48,
    "start_time": "2021-09-05T15:29:33.465Z"
   },
   {
    "duration": 19,
    "start_time": "2021-09-05T15:29:33.515Z"
   },
   {
    "duration": 9,
    "start_time": "2021-09-05T15:29:33.536Z"
   },
   {
    "duration": 8,
    "start_time": "2021-09-05T15:29:33.547Z"
   },
   {
    "duration": 49,
    "start_time": "2021-09-05T15:29:33.558Z"
   },
   {
    "duration": 7,
    "start_time": "2021-09-05T15:29:33.609Z"
   },
   {
    "duration": 7,
    "start_time": "2021-09-05T15:29:33.617Z"
   },
   {
    "duration": 7,
    "start_time": "2021-09-05T15:29:33.626Z"
   },
   {
    "duration": 21,
    "start_time": "2021-09-05T15:29:33.635Z"
   },
   {
    "duration": 34,
    "start_time": "2021-09-05T15:29:33.658Z"
   },
   {
    "duration": 24,
    "start_time": "2021-09-05T15:29:33.697Z"
   },
   {
    "duration": 6,
    "start_time": "2021-09-05T15:29:33.723Z"
   },
   {
    "duration": 3736,
    "start_time": "2021-09-05T15:29:33.731Z"
   },
   {
    "duration": 7,
    "start_time": "2021-09-05T15:29:37.469Z"
   },
   {
    "duration": 20,
    "start_time": "2021-09-05T15:31:34.202Z"
   },
   {
    "duration": 4,
    "start_time": "2021-09-05T15:35:02.974Z"
   },
   {
    "duration": 28,
    "start_time": "2021-09-05T15:35:08.397Z"
   },
   {
    "duration": 23,
    "start_time": "2021-09-05T15:35:52.006Z"
   },
   {
    "duration": 680,
    "start_time": "2021-09-05T15:36:55.981Z"
   },
   {
    "duration": 7,
    "start_time": "2021-09-05T15:36:56.663Z"
   },
   {
    "duration": 5,
    "start_time": "2021-09-05T15:36:56.674Z"
   },
   {
    "duration": 13,
    "start_time": "2021-09-05T15:36:56.680Z"
   },
   {
    "duration": 23,
    "start_time": "2021-09-05T15:36:56.696Z"
   },
   {
    "duration": 29,
    "start_time": "2021-09-05T15:36:56.721Z"
   },
   {
    "duration": 3,
    "start_time": "2021-09-05T15:36:56.752Z"
   },
   {
    "duration": 7,
    "start_time": "2021-09-05T15:36:56.757Z"
   },
   {
    "duration": 56,
    "start_time": "2021-09-05T15:36:56.766Z"
   },
   {
    "duration": 8,
    "start_time": "2021-09-05T15:36:56.824Z"
   },
   {
    "duration": 21,
    "start_time": "2021-09-05T15:36:56.834Z"
   },
   {
    "duration": 43,
    "start_time": "2021-09-05T15:36:56.857Z"
   },
   {
    "duration": 9,
    "start_time": "2021-09-05T15:36:56.903Z"
   },
   {
    "duration": 26,
    "start_time": "2021-09-05T15:36:56.914Z"
   },
   {
    "duration": 24,
    "start_time": "2021-09-05T15:36:56.942Z"
   },
   {
    "duration": 27,
    "start_time": "2021-09-05T15:36:56.993Z"
   },
   {
    "duration": 19,
    "start_time": "2021-09-05T15:36:57.022Z"
   },
   {
    "duration": 15,
    "start_time": "2021-09-05T15:36:57.042Z"
   },
   {
    "duration": 51,
    "start_time": "2021-09-05T15:36:57.059Z"
   },
   {
    "duration": 17,
    "start_time": "2021-09-05T15:36:57.112Z"
   },
   {
    "duration": 12,
    "start_time": "2021-09-05T15:36:57.130Z"
   },
   {
    "duration": 2,
    "start_time": "2021-09-05T15:36:57.146Z"
   },
   {
    "duration": 17,
    "start_time": "2021-09-05T15:36:57.151Z"
   },
   {
    "duration": 14,
    "start_time": "2021-09-05T15:36:57.191Z"
   },
   {
    "duration": 18,
    "start_time": "2021-09-05T15:36:57.207Z"
   },
   {
    "duration": 18,
    "start_time": "2021-09-05T15:36:57.227Z"
   },
   {
    "duration": 25,
    "start_time": "2021-09-05T15:36:57.247Z"
   },
   {
    "duration": 19,
    "start_time": "2021-09-05T15:36:57.274Z"
   },
   {
    "duration": 23,
    "start_time": "2021-09-05T15:36:57.297Z"
   },
   {
    "duration": 22,
    "start_time": "2021-09-05T15:36:57.322Z"
   },
   {
    "duration": 3666,
    "start_time": "2021-09-05T15:36:57.346Z"
   },
   {
    "duration": 8,
    "start_time": "2021-09-05T15:37:01.014Z"
   },
   {
    "duration": 24,
    "start_time": "2021-09-05T15:37:01.024Z"
   },
   {
    "duration": 5876,
    "start_time": "2021-09-05T15:38:42.318Z"
   },
   {
    "duration": 5886,
    "start_time": "2021-09-05T15:39:51.154Z"
   },
   {
    "duration": 13,
    "start_time": "2021-09-05T15:40:27.466Z"
   },
   {
    "duration": 10,
    "start_time": "2021-09-05T15:44:48.529Z"
   },
   {
    "duration": 14,
    "start_time": "2021-09-05T15:44:56.633Z"
   },
   {
    "duration": 6428,
    "start_time": "2021-09-05T15:49:27.136Z"
   },
   {
    "duration": 14,
    "start_time": "2021-09-05T15:50:00.805Z"
   },
   {
    "duration": 13,
    "start_time": "2021-09-05T15:50:16.270Z"
   },
   {
    "duration": 12,
    "start_time": "2021-09-05T15:50:38.542Z"
   },
   {
    "duration": 6206,
    "start_time": "2021-09-05T15:50:49.007Z"
   },
   {
    "duration": 5690,
    "start_time": "2021-09-05T15:51:17.734Z"
   },
   {
    "duration": 13,
    "start_time": "2021-09-05T15:51:28.028Z"
   },
   {
    "duration": 9,
    "start_time": "2021-09-05T15:52:31.135Z"
   },
   {
    "duration": 14,
    "start_time": "2021-09-05T15:52:39.297Z"
   },
   {
    "duration": 8023,
    "start_time": "2021-09-05T15:53:47.510Z"
   },
   {
    "duration": 13,
    "start_time": "2021-09-05T15:54:08.270Z"
   },
   {
    "duration": 5904,
    "start_time": "2021-09-05T15:54:49.335Z"
   },
   {
    "duration": 12,
    "start_time": "2021-09-05T15:55:13.904Z"
   },
   {
    "duration": 12,
    "start_time": "2021-09-05T16:09:17.315Z"
   },
   {
    "duration": 13,
    "start_time": "2021-09-05T16:09:59.217Z"
   },
   {
    "duration": 18,
    "start_time": "2021-09-05T16:10:09.309Z"
   },
   {
    "duration": 371,
    "start_time": "2021-09-05T21:02:35.494Z"
   },
   {
    "duration": 783,
    "start_time": "2021-09-05T21:02:43.701Z"
   },
   {
    "duration": 13,
    "start_time": "2021-09-05T21:02:44.486Z"
   },
   {
    "duration": 7,
    "start_time": "2021-09-05T21:02:44.503Z"
   },
   {
    "duration": 14,
    "start_time": "2021-09-05T21:02:44.512Z"
   },
   {
    "duration": 41,
    "start_time": "2021-09-05T21:02:44.528Z"
   },
   {
    "duration": 40,
    "start_time": "2021-09-05T21:02:44.571Z"
   },
   {
    "duration": 4,
    "start_time": "2021-09-05T21:02:44.614Z"
   },
   {
    "duration": 7,
    "start_time": "2021-09-05T21:02:44.620Z"
   },
   {
    "duration": 43,
    "start_time": "2021-09-05T21:02:44.663Z"
   },
   {
    "duration": 11,
    "start_time": "2021-09-05T21:02:44.709Z"
   },
   {
    "duration": 54,
    "start_time": "2021-09-05T21:02:44.722Z"
   },
   {
    "duration": 30,
    "start_time": "2021-09-05T21:02:44.779Z"
   },
   {
    "duration": 12,
    "start_time": "2021-09-05T21:02:44.812Z"
   },
   {
    "duration": 77,
    "start_time": "2021-09-05T21:02:44.826Z"
   },
   {
    "duration": 36,
    "start_time": "2021-09-05T21:02:44.906Z"
   },
   {
    "duration": 38,
    "start_time": "2021-09-05T21:02:44.961Z"
   },
   {
    "duration": 60,
    "start_time": "2021-09-05T21:02:45.003Z"
   },
   {
    "duration": 25,
    "start_time": "2021-09-05T21:02:45.066Z"
   },
   {
    "duration": 23,
    "start_time": "2021-09-05T21:02:45.094Z"
   },
   {
    "duration": 62,
    "start_time": "2021-09-05T21:02:45.119Z"
   },
   {
    "duration": 12,
    "start_time": "2021-09-05T21:02:45.184Z"
   },
   {
    "duration": 4,
    "start_time": "2021-09-05T21:02:45.198Z"
   },
   {
    "duration": 59,
    "start_time": "2021-09-05T21:02:45.205Z"
   },
   {
    "duration": 11,
    "start_time": "2021-09-05T21:02:45.266Z"
   },
   {
    "duration": 13,
    "start_time": "2021-09-05T21:02:45.279Z"
   },
   {
    "duration": 11,
    "start_time": "2021-09-05T21:02:45.294Z"
   },
   {
    "duration": 61,
    "start_time": "2021-09-05T21:02:45.310Z"
   },
   {
    "duration": 11,
    "start_time": "2021-09-05T21:02:45.374Z"
   },
   {
    "duration": 27,
    "start_time": "2021-09-05T21:02:45.387Z"
   },
   {
    "duration": 9,
    "start_time": "2021-09-05T21:02:45.416Z"
   },
   {
    "duration": 4344,
    "start_time": "2021-09-05T21:02:45.428Z"
   },
   {
    "duration": 11,
    "start_time": "2021-09-05T21:02:49.775Z"
   },
   {
    "duration": 27,
    "start_time": "2021-09-05T21:02:49.789Z"
   },
   {
    "duration": 8120,
    "start_time": "2021-09-05T21:04:32.272Z"
   },
   {
    "duration": 17,
    "start_time": "2021-09-05T21:05:11.967Z"
   },
   {
    "duration": 20,
    "start_time": "2021-09-05T21:08:08.798Z"
   },
   {
    "duration": 145,
    "start_time": "2021-09-05T21:15:05.481Z"
   },
   {
    "duration": 14,
    "start_time": "2021-09-05T21:15:17.876Z"
   },
   {
    "duration": 20,
    "start_time": "2021-09-05T21:15:49.241Z"
   },
   {
    "duration": 15,
    "start_time": "2021-09-05T21:16:30.949Z"
   },
   {
    "duration": 20,
    "start_time": "2021-09-05T21:16:41.136Z"
   },
   {
    "duration": 16,
    "start_time": "2021-09-05T21:16:52.144Z"
   },
   {
    "duration": 14,
    "start_time": "2021-09-05T21:17:12.062Z"
   },
   {
    "duration": 4078,
    "start_time": "2021-09-05T21:19:30.576Z"
   },
   {
    "duration": 17,
    "start_time": "2021-09-05T21:20:03.871Z"
   },
   {
    "duration": 14,
    "start_time": "2021-09-05T21:20:18.551Z"
   },
   {
    "duration": 8338,
    "start_time": "2021-09-05T21:20:26.942Z"
   },
   {
    "duration": 13,
    "start_time": "2021-09-05T21:21:15.521Z"
   },
   {
    "duration": 22,
    "start_time": "2021-09-05T21:22:32.939Z"
   },
   {
    "duration": 21,
    "start_time": "2021-09-05T21:22:47.457Z"
   },
   {
    "duration": 19,
    "start_time": "2021-09-05T21:23:09.708Z"
   },
   {
    "duration": 25,
    "start_time": "2021-09-05T21:23:27.487Z"
   },
   {
    "duration": 321,
    "start_time": "2021-09-05T21:29:39.183Z"
   },
   {
    "duration": 5,
    "start_time": "2021-09-05T21:29:45.694Z"
   },
   {
    "duration": 26,
    "start_time": "2021-09-05T21:29:46.551Z"
   },
   {
    "duration": 675,
    "start_time": "2021-09-05T21:29:49.054Z"
   },
   {
    "duration": 4,
    "start_time": "2021-09-05T21:30:19.235Z"
   },
   {
    "duration": 25,
    "start_time": "2021-09-05T21:30:19.810Z"
   },
   {
    "duration": 728,
    "start_time": "2021-09-05T21:30:20.683Z"
   },
   {
    "duration": 5,
    "start_time": "2021-09-05T21:30:31.363Z"
   },
   {
    "duration": 24,
    "start_time": "2021-09-05T21:30:31.798Z"
   },
   {
    "duration": 23,
    "start_time": "2021-09-05T21:30:32.454Z"
   },
   {
    "duration": 29,
    "start_time": "2021-09-05T21:31:34.570Z"
   },
   {
    "duration": 5,
    "start_time": "2021-09-05T21:43:23.936Z"
   },
   {
    "duration": 17,
    "start_time": "2021-09-05T21:43:24.644Z"
   },
   {
    "duration": 48,
    "start_time": "2021-09-05T21:43:30.184Z"
   },
   {
    "duration": 19,
    "start_time": "2021-09-05T21:44:14.337Z"
   },
   {
    "duration": 21,
    "start_time": "2021-09-05T21:44:42.690Z"
   },
   {
    "duration": 6,
    "start_time": "2021-09-05T21:45:22.723Z"
   },
   {
    "duration": 21,
    "start_time": "2021-09-05T21:45:23.359Z"
   },
   {
    "duration": 5,
    "start_time": "2021-09-05T21:45:47.699Z"
   },
   {
    "duration": 22,
    "start_time": "2021-09-05T21:45:48.199Z"
   },
   {
    "duration": 5,
    "start_time": "2021-09-05T21:45:58.963Z"
   },
   {
    "duration": 23,
    "start_time": "2021-09-05T21:46:00.011Z"
   },
   {
    "duration": 5,
    "start_time": "2021-09-05T21:46:07.275Z"
   },
   {
    "duration": 22,
    "start_time": "2021-09-05T21:46:07.763Z"
   },
   {
    "duration": 5,
    "start_time": "2021-09-05T21:47:43.988Z"
   },
   {
    "duration": 22,
    "start_time": "2021-09-05T21:47:44.840Z"
   },
   {
    "duration": 5,
    "start_time": "2021-09-05T21:48:27.555Z"
   },
   {
    "duration": 23,
    "start_time": "2021-09-05T21:48:28.083Z"
   },
   {
    "duration": 5,
    "start_time": "2021-09-05T21:49:35.027Z"
   },
   {
    "duration": 24,
    "start_time": "2021-09-05T21:49:35.843Z"
   },
   {
    "duration": 20,
    "start_time": "2021-09-05T21:49:52.055Z"
   },
   {
    "duration": 5,
    "start_time": "2021-09-05T21:52:36.866Z"
   },
   {
    "duration": 19,
    "start_time": "2021-09-05T21:52:38.025Z"
   },
   {
    "duration": 5,
    "start_time": "2021-09-05T21:52:45.532Z"
   },
   {
    "duration": 20,
    "start_time": "2021-09-05T21:52:46.335Z"
   },
   {
    "duration": 20,
    "start_time": "2021-09-05T22:02:23.380Z"
   },
   {
    "duration": 5,
    "start_time": "2021-09-05T22:03:52.995Z"
   },
   {
    "duration": 21,
    "start_time": "2021-09-05T22:03:55.472Z"
   },
   {
    "duration": 5,
    "start_time": "2021-09-05T22:07:48.464Z"
   },
   {
    "duration": 21,
    "start_time": "2021-09-05T22:07:49.251Z"
   },
   {
    "duration": 5,
    "start_time": "2021-09-05T22:08:16.647Z"
   },
   {
    "duration": 20,
    "start_time": "2021-09-05T22:08:18.062Z"
   },
   {
    "duration": 5,
    "start_time": "2021-09-05T22:08:51.552Z"
   },
   {
    "duration": 21,
    "start_time": "2021-09-05T22:08:52.047Z"
   },
   {
    "duration": 20,
    "start_time": "2021-09-05T22:09:27.223Z"
   },
   {
    "duration": 4,
    "start_time": "2021-09-05T22:10:53.495Z"
   },
   {
    "duration": 20,
    "start_time": "2021-09-05T22:10:56.134Z"
   },
   {
    "duration": 5,
    "start_time": "2021-09-05T22:11:41.575Z"
   },
   {
    "duration": 21,
    "start_time": "2021-09-05T22:11:42.014Z"
   },
   {
    "duration": 5,
    "start_time": "2021-09-05T22:11:55.459Z"
   },
   {
    "duration": 21,
    "start_time": "2021-09-05T22:11:56.045Z"
   },
   {
    "duration": 327,
    "start_time": "2021-09-06T08:07:06.901Z"
   },
   {
    "duration": 5,
    "start_time": "2021-09-06T08:07:18.057Z"
   },
   {
    "duration": 902,
    "start_time": "2021-09-06T08:07:18.825Z"
   },
   {
    "duration": 1014,
    "start_time": "2021-09-06T08:07:27.421Z"
   },
   {
    "duration": 13,
    "start_time": "2021-09-06T08:07:28.438Z"
   },
   {
    "duration": 7,
    "start_time": "2021-09-06T08:07:28.454Z"
   },
   {
    "duration": 16,
    "start_time": "2021-09-06T08:07:28.464Z"
   },
   {
    "duration": 18,
    "start_time": "2021-09-06T08:07:28.483Z"
   },
   {
    "duration": 67,
    "start_time": "2021-09-06T08:07:28.504Z"
   },
   {
    "duration": 4,
    "start_time": "2021-09-06T08:07:28.574Z"
   },
   {
    "duration": 6,
    "start_time": "2021-09-06T08:07:28.582Z"
   },
   {
    "duration": 68,
    "start_time": "2021-09-06T08:07:28.592Z"
   },
   {
    "duration": 12,
    "start_time": "2021-09-06T08:07:28.662Z"
   },
   {
    "duration": 43,
    "start_time": "2021-09-06T08:07:28.676Z"
   },
   {
    "duration": 56,
    "start_time": "2021-09-06T08:07:28.722Z"
   },
   {
    "duration": 12,
    "start_time": "2021-09-06T08:07:28.780Z"
   },
   {
    "duration": 41,
    "start_time": "2021-09-06T08:07:28.794Z"
   },
   {
    "duration": 37,
    "start_time": "2021-09-06T08:07:28.854Z"
   },
   {
    "duration": 61,
    "start_time": "2021-09-06T08:07:28.894Z"
   },
   {
    "duration": 32,
    "start_time": "2021-09-06T08:07:28.957Z"
   },
   {
    "duration": 27,
    "start_time": "2021-09-06T08:07:28.992Z"
   },
   {
    "duration": 60,
    "start_time": "2021-09-06T08:07:29.022Z"
   },
   {
    "duration": 40,
    "start_time": "2021-09-06T08:07:29.086Z"
   },
   {
    "duration": 32,
    "start_time": "2021-09-06T08:07:29.130Z"
   },
   {
    "duration": 22,
    "start_time": "2021-09-06T08:07:29.164Z"
   },
   {
    "duration": 39,
    "start_time": "2021-09-06T08:07:29.191Z"
   },
   {
    "duration": 17,
    "start_time": "2021-09-06T08:07:29.233Z"
   },
   {
    "duration": 12,
    "start_time": "2021-09-06T08:07:29.252Z"
   },
   {
    "duration": 24,
    "start_time": "2021-09-06T08:07:29.267Z"
   },
   {
    "duration": 35,
    "start_time": "2021-09-06T08:07:29.294Z"
   },
   {
    "duration": 10,
    "start_time": "2021-09-06T08:07:29.332Z"
   },
   {
    "duration": 32,
    "start_time": "2021-09-06T08:07:29.355Z"
   },
   {
    "duration": 22,
    "start_time": "2021-09-06T08:07:29.389Z"
   },
   {
    "duration": 4772,
    "start_time": "2021-09-06T08:07:29.414Z"
   },
   {
    "duration": 10,
    "start_time": "2021-09-06T08:07:34.188Z"
   },
   {
    "duration": 8,
    "start_time": "2021-09-06T08:07:34.201Z"
   },
   {
    "duration": 47,
    "start_time": "2021-09-06T08:07:34.212Z"
   },
   {
    "duration": 5,
    "start_time": "2021-09-06T08:07:34.261Z"
   },
   {
    "duration": 40,
    "start_time": "2021-09-06T08:07:34.268Z"
   },
   {
    "duration": 49,
    "start_time": "2021-09-06T08:07:34.310Z"
   },
   {
    "duration": 814,
    "start_time": "2021-09-06T08:14:49.543Z"
   },
   {
    "duration": 1065,
    "start_time": "2021-09-06T08:14:52.804Z"
   },
   {
    "duration": 3283,
    "start_time": "2021-09-06T08:14:53.873Z"
   },
   {
    "duration": 907,
    "start_time": "2021-09-06T08:15:21.313Z"
   },
   {
    "duration": 17,
    "start_time": "2021-09-06T08:15:22.222Z"
   },
   {
    "duration": 18,
    "start_time": "2021-09-06T08:15:22.243Z"
   },
   {
    "duration": 24,
    "start_time": "2021-09-06T08:15:22.264Z"
   },
   {
    "duration": 19,
    "start_time": "2021-09-06T08:15:22.291Z"
   },
   {
    "duration": 101,
    "start_time": "2021-09-06T08:15:22.313Z"
   },
   {
    "duration": 5,
    "start_time": "2021-09-06T08:15:22.417Z"
   },
   {
    "duration": 22,
    "start_time": "2021-09-06T08:15:22.427Z"
   },
   {
    "duration": 72,
    "start_time": "2021-09-06T08:15:22.456Z"
   },
   {
    "duration": 25,
    "start_time": "2021-09-06T08:15:22.531Z"
   },
   {
    "duration": 65,
    "start_time": "2021-09-06T08:15:22.559Z"
   },
   {
    "duration": 60,
    "start_time": "2021-09-06T08:15:22.627Z"
   },
   {
    "duration": 17,
    "start_time": "2021-09-06T08:15:22.690Z"
   },
   {
    "duration": 59,
    "start_time": "2021-09-06T08:15:22.711Z"
   },
   {
    "duration": 38,
    "start_time": "2021-09-06T08:15:22.773Z"
   },
   {
    "duration": 68,
    "start_time": "2021-09-06T08:15:22.815Z"
   },
   {
    "duration": 33,
    "start_time": "2021-09-06T08:15:22.886Z"
   },
   {
    "duration": 55,
    "start_time": "2021-09-06T08:15:22.921Z"
   },
   {
    "duration": 22,
    "start_time": "2021-09-06T08:15:22.979Z"
   },
   {
    "duration": 56,
    "start_time": "2021-09-06T08:15:23.004Z"
   },
   {
    "duration": 19,
    "start_time": "2021-09-06T08:15:23.063Z"
   },
   {
    "duration": 10,
    "start_time": "2021-09-06T08:15:23.085Z"
   },
   {
    "duration": 33,
    "start_time": "2021-09-06T08:15:23.100Z"
   },
   {
    "duration": 10,
    "start_time": "2021-09-06T08:15:23.156Z"
   },
   {
    "duration": 10,
    "start_time": "2021-09-06T08:15:23.169Z"
   },
   {
    "duration": 29,
    "start_time": "2021-09-06T08:15:23.181Z"
   },
   {
    "duration": 56,
    "start_time": "2021-09-06T08:15:23.212Z"
   },
   {
    "duration": 23,
    "start_time": "2021-09-06T08:15:23.271Z"
   },
   {
    "duration": 61,
    "start_time": "2021-09-06T08:15:23.296Z"
   },
   {
    "duration": 10,
    "start_time": "2021-09-06T08:15:23.360Z"
   },
   {
    "duration": 5459,
    "start_time": "2021-09-06T08:15:23.373Z"
   },
   {
    "duration": 867,
    "start_time": "2021-09-06T08:15:28.834Z"
   },
   {
    "duration": 1972,
    "start_time": "2021-09-06T08:15:29.703Z"
   },
   {
    "duration": 11,
    "start_time": "2021-09-06T08:15:31.678Z"
   },
   {
    "duration": 18,
    "start_time": "2021-09-06T08:15:31.692Z"
   },
   {
    "duration": 54,
    "start_time": "2021-09-06T08:15:31.712Z"
   },
   {
    "duration": 6,
    "start_time": "2021-09-06T08:15:31.769Z"
   },
   {
    "duration": 34,
    "start_time": "2021-09-06T08:15:31.777Z"
   },
   {
    "duration": 58,
    "start_time": "2021-09-06T08:15:31.814Z"
   },
   {
    "duration": 9,
    "start_time": "2021-09-06T08:16:27.915Z"
   },
   {
    "duration": 7,
    "start_time": "2021-09-06T08:16:50.031Z"
   },
   {
    "duration": 5,
    "start_time": "2021-09-06T08:17:41.570Z"
   },
   {
    "duration": 20,
    "start_time": "2021-09-06T08:17:42.656Z"
   },
   {
    "duration": 1096,
    "start_time": "2021-09-06T08:18:19.072Z"
   },
   {
    "duration": 13,
    "start_time": "2021-09-06T08:18:20.171Z"
   },
   {
    "duration": 11,
    "start_time": "2021-09-06T08:18:20.190Z"
   },
   {
    "duration": 28,
    "start_time": "2021-09-06T08:18:20.204Z"
   },
   {
    "duration": 34,
    "start_time": "2021-09-06T08:18:20.234Z"
   },
   {
    "duration": 54,
    "start_time": "2021-09-06T08:18:20.271Z"
   },
   {
    "duration": 4,
    "start_time": "2021-09-06T08:18:20.331Z"
   },
   {
    "duration": 16,
    "start_time": "2021-09-06T08:18:20.354Z"
   },
   {
    "duration": 60,
    "start_time": "2021-09-06T08:18:20.372Z"
   },
   {
    "duration": 19,
    "start_time": "2021-09-06T08:18:20.435Z"
   },
   {
    "duration": 39,
    "start_time": "2021-09-06T08:18:20.457Z"
   },
   {
    "duration": 57,
    "start_time": "2021-09-06T08:18:20.499Z"
   },
   {
    "duration": 12,
    "start_time": "2021-09-06T08:18:20.558Z"
   },
   {
    "duration": 44,
    "start_time": "2021-09-06T08:18:20.573Z"
   },
   {
    "duration": 59,
    "start_time": "2021-09-06T08:18:20.620Z"
   },
   {
    "duration": 38,
    "start_time": "2021-09-06T08:18:20.682Z"
   },
   {
    "duration": 59,
    "start_time": "2021-09-06T08:18:20.722Z"
   },
   {
    "duration": 23,
    "start_time": "2021-09-06T08:18:20.783Z"
   },
   {
    "duration": 53,
    "start_time": "2021-09-06T08:18:20.808Z"
   },
   {
    "duration": 27,
    "start_time": "2021-09-06T08:18:20.863Z"
   },
   {
    "duration": 23,
    "start_time": "2021-09-06T08:18:20.892Z"
   },
   {
    "duration": 15,
    "start_time": "2021-09-06T08:18:20.919Z"
   },
   {
    "duration": 37,
    "start_time": "2021-09-06T08:18:20.936Z"
   },
   {
    "duration": 12,
    "start_time": "2021-09-06T08:18:20.976Z"
   },
   {
    "duration": 20,
    "start_time": "2021-09-06T08:18:20.990Z"
   },
   {
    "duration": 15,
    "start_time": "2021-09-06T08:18:21.013Z"
   },
   {
    "duration": 45,
    "start_time": "2021-09-06T08:18:21.031Z"
   },
   {
    "duration": 12,
    "start_time": "2021-09-06T08:18:21.079Z"
   },
   {
    "duration": 42,
    "start_time": "2021-09-06T08:18:21.094Z"
   },
   {
    "duration": 15,
    "start_time": "2021-09-06T08:18:21.155Z"
   },
   {
    "duration": 4600,
    "start_time": "2021-09-06T08:18:21.173Z"
   },
   {
    "duration": 807,
    "start_time": "2021-09-06T08:18:25.775Z"
   },
   {
    "duration": 1806,
    "start_time": "2021-09-06T08:18:26.584Z"
   },
   {
    "duration": 10,
    "start_time": "2021-09-06T08:18:28.392Z"
   },
   {
    "duration": 24,
    "start_time": "2021-09-06T08:18:28.405Z"
   },
   {
    "duration": 31,
    "start_time": "2021-09-06T08:18:28.432Z"
   },
   {
    "duration": 10,
    "start_time": "2021-09-06T08:18:28.466Z"
   },
   {
    "duration": 59,
    "start_time": "2021-09-06T08:18:28.478Z"
   },
   {
    "duration": 30,
    "start_time": "2021-09-06T08:18:28.540Z"
   },
   {
    "duration": 5,
    "start_time": "2021-09-06T08:20:13.294Z"
   },
   {
    "duration": 20,
    "start_time": "2021-09-06T08:20:14.585Z"
   },
   {
    "duration": 5,
    "start_time": "2021-09-06T08:20:34.608Z"
   },
   {
    "duration": 20,
    "start_time": "2021-09-06T08:20:35.335Z"
   },
   {
    "duration": 5,
    "start_time": "2021-09-06T08:20:48.440Z"
   },
   {
    "duration": 33,
    "start_time": "2021-09-06T08:20:48.448Z"
   },
   {
    "duration": 973,
    "start_time": "2021-09-06T08:22:30.925Z"
   },
   {
    "duration": 27,
    "start_time": "2021-09-06T08:22:48.909Z"
   },
   {
    "duration": 10,
    "start_time": "2021-09-06T09:13:23.718Z"
   },
   {
    "duration": 1033,
    "start_time": "2021-09-06T09:14:34.744Z"
   },
   {
    "duration": 29,
    "start_time": "2021-09-06T09:15:31.946Z"
   },
   {
    "duration": 7,
    "start_time": "2021-09-06T09:16:49.262Z"
   },
   {
    "duration": 35,
    "start_time": "2021-09-06T09:16:49.273Z"
   },
   {
    "duration": 955,
    "start_time": "2021-09-06T17:28:00.766Z"
   },
   {
    "duration": 20,
    "start_time": "2021-09-06T17:28:01.724Z"
   },
   {
    "duration": 22,
    "start_time": "2021-09-06T17:28:01.748Z"
   },
   {
    "duration": 21,
    "start_time": "2021-09-06T17:28:01.775Z"
   },
   {
    "duration": 16,
    "start_time": "2021-09-06T17:28:01.799Z"
   },
   {
    "duration": 84,
    "start_time": "2021-09-06T17:28:01.818Z"
   },
   {
    "duration": 5,
    "start_time": "2021-09-06T17:28:01.905Z"
   },
   {
    "duration": 20,
    "start_time": "2021-09-06T17:28:01.913Z"
   },
   {
    "duration": 65,
    "start_time": "2021-09-06T17:28:01.937Z"
   },
   {
    "duration": 12,
    "start_time": "2021-09-06T17:28:02.004Z"
   },
   {
    "duration": 55,
    "start_time": "2021-09-06T17:28:02.018Z"
   },
   {
    "duration": 35,
    "start_time": "2021-09-06T17:28:02.076Z"
   },
   {
    "duration": 20,
    "start_time": "2021-09-06T17:28:02.114Z"
   },
   {
    "duration": 68,
    "start_time": "2021-09-06T17:28:02.137Z"
   },
   {
    "duration": 38,
    "start_time": "2021-09-06T17:28:02.207Z"
   },
   {
    "duration": 60,
    "start_time": "2021-09-06T17:28:02.247Z"
   },
   {
    "duration": 30,
    "start_time": "2021-09-06T17:28:02.310Z"
   },
   {
    "duration": 54,
    "start_time": "2021-09-06T17:28:02.342Z"
   },
   {
    "duration": 21,
    "start_time": "2021-09-06T17:28:02.402Z"
   },
   {
    "duration": 57,
    "start_time": "2021-09-06T17:28:02.426Z"
   },
   {
    "duration": 18,
    "start_time": "2021-09-06T17:28:02.485Z"
   },
   {
    "duration": 10,
    "start_time": "2021-09-06T17:28:02.506Z"
   },
   {
    "duration": 32,
    "start_time": "2021-09-06T17:28:02.521Z"
   },
   {
    "duration": 21,
    "start_time": "2021-09-06T17:28:02.572Z"
   },
   {
    "duration": 50,
    "start_time": "2021-09-06T17:28:02.596Z"
   },
   {
    "duration": 13,
    "start_time": "2021-09-06T17:28:02.648Z"
   },
   {
    "duration": 52,
    "start_time": "2021-09-06T17:28:02.663Z"
   },
   {
    "duration": 13,
    "start_time": "2021-09-06T17:28:02.718Z"
   },
   {
    "duration": 50,
    "start_time": "2021-09-06T17:28:02.734Z"
   },
   {
    "duration": 14,
    "start_time": "2021-09-06T17:28:02.787Z"
   },
   {
    "duration": 5033,
    "start_time": "2021-09-06T17:28:02.803Z"
   },
   {
    "duration": 930,
    "start_time": "2021-09-06T17:28:07.838Z"
   },
   {
    "duration": 2028,
    "start_time": "2021-09-06T17:28:08.771Z"
   },
   {
    "duration": 19,
    "start_time": "2021-09-06T17:28:10.802Z"
   },
   {
    "duration": 6,
    "start_time": "2021-09-06T17:28:10.824Z"
   },
   {
    "duration": 62,
    "start_time": "2021-09-06T17:28:10.833Z"
   },
   {
    "duration": 5,
    "start_time": "2021-09-06T17:28:10.897Z"
   },
   {
    "duration": 48,
    "start_time": "2021-09-06T17:28:10.904Z"
   },
   {
    "duration": 42,
    "start_time": "2021-09-06T17:28:10.954Z"
   },
   {
    "duration": 578,
    "start_time": "2021-09-06T17:31:25.579Z"
   },
   {
    "duration": 5,
    "start_time": "2021-09-06T17:31:31.550Z"
   },
   {
    "duration": 48,
    "start_time": "2021-09-06T17:31:32.016Z"
   },
   {
    "duration": 917,
    "start_time": "2021-09-06T17:31:51.854Z"
   },
   {
    "duration": 15,
    "start_time": "2021-09-06T17:31:52.775Z"
   },
   {
    "duration": 6,
    "start_time": "2021-09-06T17:31:52.793Z"
   },
   {
    "duration": 18,
    "start_time": "2021-09-06T17:31:52.802Z"
   },
   {
    "duration": 45,
    "start_time": "2021-09-06T17:31:52.822Z"
   },
   {
    "duration": 52,
    "start_time": "2021-09-06T17:31:52.872Z"
   },
   {
    "duration": 4,
    "start_time": "2021-09-06T17:31:52.927Z"
   },
   {
    "duration": 36,
    "start_time": "2021-09-06T17:31:52.933Z"
   },
   {
    "duration": 46,
    "start_time": "2021-09-06T17:31:52.976Z"
   },
   {
    "duration": 11,
    "start_time": "2021-09-06T17:31:53.025Z"
   },
   {
    "duration": 60,
    "start_time": "2021-09-06T17:31:53.039Z"
   },
   {
    "duration": 33,
    "start_time": "2021-09-06T17:31:53.101Z"
   },
   {
    "duration": 16,
    "start_time": "2021-09-06T17:31:53.167Z"
   },
   {
    "duration": 42,
    "start_time": "2021-09-06T17:31:53.186Z"
   },
   {
    "duration": 64,
    "start_time": "2021-09-06T17:31:53.231Z"
   },
   {
    "duration": 34,
    "start_time": "2021-09-06T17:31:53.298Z"
   },
   {
    "duration": 60,
    "start_time": "2021-09-06T17:31:53.334Z"
   },
   {
    "duration": 22,
    "start_time": "2021-09-06T17:31:53.397Z"
   },
   {
    "duration": 45,
    "start_time": "2021-09-06T17:31:53.422Z"
   },
   {
    "duration": 34,
    "start_time": "2021-09-06T17:31:53.470Z"
   },
   {
    "duration": 11,
    "start_time": "2021-09-06T17:31:53.507Z"
   },
   {
    "duration": 4,
    "start_time": "2021-09-06T17:31:53.520Z"
   },
   {
    "duration": 62,
    "start_time": "2021-09-06T17:31:53.526Z"
   },
   {
    "duration": 10,
    "start_time": "2021-09-06T17:31:53.591Z"
   },
   {
    "duration": 9,
    "start_time": "2021-09-06T17:31:53.604Z"
   },
   {
    "duration": 8,
    "start_time": "2021-09-06T17:31:53.615Z"
   },
   {
    "duration": 70,
    "start_time": "2021-09-06T17:31:53.629Z"
   },
   {
    "duration": 17,
    "start_time": "2021-09-06T17:31:53.701Z"
   },
   {
    "duration": 51,
    "start_time": "2021-09-06T17:31:53.720Z"
   },
   {
    "duration": 16,
    "start_time": "2021-09-06T17:31:53.776Z"
   },
   {
    "duration": 4854,
    "start_time": "2021-09-06T17:31:53.794Z"
   },
   {
    "duration": 799,
    "start_time": "2021-09-06T17:31:58.650Z"
   },
   {
    "duration": 2068,
    "start_time": "2021-09-06T17:31:59.451Z"
   },
   {
    "duration": 4,
    "start_time": "2021-09-06T17:32:01.522Z"
   },
   {
    "duration": 84,
    "start_time": "2021-09-06T17:32:01.529Z"
   },
   {
    "duration": 5,
    "start_time": "2021-09-06T17:32:01.615Z"
   },
   {
    "duration": 69,
    "start_time": "2021-09-06T17:32:01.623Z"
   },
   {
    "duration": 40,
    "start_time": "2021-09-06T17:32:01.695Z"
   },
   {
    "duration": 865,
    "start_time": "2021-09-06T17:32:43.784Z"
   },
   {
    "duration": 14,
    "start_time": "2021-09-06T17:32:44.652Z"
   },
   {
    "duration": 8,
    "start_time": "2021-09-06T17:32:44.669Z"
   },
   {
    "duration": 23,
    "start_time": "2021-09-06T17:32:44.680Z"
   },
   {
    "duration": 16,
    "start_time": "2021-09-06T17:32:44.706Z"
   },
   {
    "duration": 53,
    "start_time": "2021-09-06T17:32:44.766Z"
   },
   {
    "duration": 5,
    "start_time": "2021-09-06T17:32:44.822Z"
   },
   {
    "duration": 39,
    "start_time": "2021-09-06T17:32:44.830Z"
   },
   {
    "duration": 49,
    "start_time": "2021-09-06T17:32:44.874Z"
   },
   {
    "duration": 12,
    "start_time": "2021-09-06T17:32:44.926Z"
   },
   {
    "duration": 63,
    "start_time": "2021-09-06T17:32:44.940Z"
   },
   {
    "duration": 50,
    "start_time": "2021-09-06T17:32:45.005Z"
   },
   {
    "duration": 25,
    "start_time": "2021-09-06T17:32:45.057Z"
   },
   {
    "duration": 41,
    "start_time": "2021-09-06T17:32:45.085Z"
   },
   {
    "duration": 68,
    "start_time": "2021-09-06T17:32:45.129Z"
   },
   {
    "duration": 35,
    "start_time": "2021-09-06T17:32:45.200Z"
   },
   {
    "duration": 65,
    "start_time": "2021-09-06T17:32:45.238Z"
   },
   {
    "duration": 44,
    "start_time": "2021-09-06T17:32:45.306Z"
   },
   {
    "duration": 37,
    "start_time": "2021-09-06T17:32:45.352Z"
   },
   {
    "duration": 27,
    "start_time": "2021-09-06T17:32:45.391Z"
   },
   {
    "duration": 15,
    "start_time": "2021-09-06T17:32:45.421Z"
   },
   {
    "duration": 6,
    "start_time": "2021-09-06T17:32:45.438Z"
   },
   {
    "duration": 30,
    "start_time": "2021-09-06T17:32:45.468Z"
   },
   {
    "duration": 10,
    "start_time": "2021-09-06T17:32:45.500Z"
   },
   {
    "duration": 8,
    "start_time": "2021-09-06T17:32:45.512Z"
   },
   {
    "duration": 49,
    "start_time": "2021-09-06T17:32:45.522Z"
   },
   {
    "duration": 31,
    "start_time": "2021-09-06T17:32:45.582Z"
   },
   {
    "duration": 12,
    "start_time": "2021-09-06T17:32:45.616Z"
   },
   {
    "duration": 63,
    "start_time": "2021-09-06T17:32:45.631Z"
   },
   {
    "duration": 8,
    "start_time": "2021-09-06T17:32:45.697Z"
   },
   {
    "duration": 5039,
    "start_time": "2021-09-06T17:32:45.708Z"
   },
   {
    "duration": 3,
    "start_time": "2021-09-06T17:32:50.750Z"
   },
   {
    "duration": 47,
    "start_time": "2021-09-06T17:32:50.770Z"
   },
   {
    "duration": 4,
    "start_time": "2021-09-06T17:32:50.819Z"
   },
   {
    "duration": 67,
    "start_time": "2021-09-06T17:32:50.825Z"
   },
   {
    "duration": 33,
    "start_time": "2021-09-06T17:32:50.894Z"
   },
   {
    "duration": 120,
    "start_time": "2021-09-06T17:34:44.585Z"
   },
   {
    "duration": 29,
    "start_time": "2021-09-06T17:35:00.551Z"
   },
   {
    "duration": 23,
    "start_time": "2021-09-06T17:43:24.380Z"
   },
   {
    "duration": 21,
    "start_time": "2021-09-06T17:46:08.190Z"
   },
   {
    "duration": 26,
    "start_time": "2021-09-06T17:46:40.842Z"
   },
   {
    "duration": 25,
    "start_time": "2021-09-06T17:47:10.235Z"
   },
   {
    "duration": 9,
    "start_time": "2021-09-06T17:55:07.882Z"
   },
   {
    "duration": 463,
    "start_time": "2021-09-06T18:01:10.615Z"
   },
   {
    "duration": 5,
    "start_time": "2021-09-06T18:01:15.313Z"
   },
   {
    "duration": 55,
    "start_time": "2021-09-06T18:01:15.917Z"
   },
   {
    "duration": 22,
    "start_time": "2021-09-06T18:01:44.817Z"
   },
   {
    "duration": 48,
    "start_time": "2021-09-06T18:02:31.618Z"
   },
   {
    "duration": 31,
    "start_time": "2021-09-06T18:03:56.322Z"
   },
   {
    "duration": 53,
    "start_time": "2021-09-06T18:04:06.872Z"
   },
   {
    "duration": 5,
    "start_time": "2021-09-06T18:07:18.723Z"
   },
   {
    "duration": 21,
    "start_time": "2021-09-06T18:07:45.101Z"
   },
   {
    "duration": 49,
    "start_time": "2021-09-06T18:08:01.400Z"
   },
   {
    "duration": 10,
    "start_time": "2021-09-06T18:10:03.316Z"
   },
   {
    "duration": 72,
    "start_time": "2021-09-06T18:10:19.306Z"
   },
   {
    "duration": 958,
    "start_time": "2021-09-06T18:18:13.738Z"
   },
   {
    "duration": 7,
    "start_time": "2021-09-06T18:18:35.668Z"
   },
   {
    "duration": 634,
    "start_time": "2021-09-06T18:18:36.220Z"
   },
   {
    "duration": 7,
    "start_time": "2021-09-06T18:18:52.180Z"
   },
   {
    "duration": 5,
    "start_time": "2021-09-06T18:18:52.619Z"
   },
   {
    "duration": 313,
    "start_time": "2021-09-06T18:20:42.321Z"
   },
   {
    "duration": 5,
    "start_time": "2021-09-06T18:20:46.059Z"
   },
   {
    "duration": 1773,
    "start_time": "2021-09-06T18:20:47.396Z"
   },
   {
    "duration": 78,
    "start_time": "2021-09-06T18:21:35.944Z"
   },
   {
    "duration": 4,
    "start_time": "2021-09-06T18:21:56.103Z"
   },
   {
    "duration": 48,
    "start_time": "2021-09-06T18:21:57.616Z"
   },
   {
    "duration": 21,
    "start_time": "2021-09-06T18:22:20.017Z"
   },
   {
    "duration": 34,
    "start_time": "2021-09-06T18:22:37.564Z"
   },
   {
    "duration": 875,
    "start_time": "2021-09-06T18:22:46.499Z"
   },
   {
    "duration": 18,
    "start_time": "2021-09-06T18:22:47.377Z"
   },
   {
    "duration": 5,
    "start_time": "2021-09-06T18:22:47.398Z"
   },
   {
    "duration": 15,
    "start_time": "2021-09-06T18:22:47.406Z"
   },
   {
    "duration": 50,
    "start_time": "2021-09-06T18:22:47.423Z"
   },
   {
    "duration": 64,
    "start_time": "2021-09-06T18:22:47.476Z"
   },
   {
    "duration": 25,
    "start_time": "2021-09-06T18:22:47.543Z"
   },
   {
    "duration": 6,
    "start_time": "2021-09-06T18:22:47.571Z"
   },
   {
    "duration": 89,
    "start_time": "2021-09-06T18:22:47.583Z"
   },
   {
    "duration": 16,
    "start_time": "2021-09-06T18:22:47.676Z"
   },
   {
    "duration": 33,
    "start_time": "2021-09-06T18:22:47.695Z"
   },
   {
    "duration": 79,
    "start_time": "2021-09-06T18:22:47.730Z"
   },
   {
    "duration": 15,
    "start_time": "2021-09-06T18:22:47.812Z"
   },
   {
    "duration": 79,
    "start_time": "2021-09-06T18:22:47.829Z"
   },
   {
    "duration": 37,
    "start_time": "2021-09-06T18:22:47.911Z"
   },
   {
    "duration": 55,
    "start_time": "2021-09-06T18:22:47.951Z"
   },
   {
    "duration": 34,
    "start_time": "2021-09-06T18:22:48.008Z"
   },
   {
    "duration": 32,
    "start_time": "2021-09-06T18:22:48.067Z"
   },
   {
    "duration": 25,
    "start_time": "2021-09-06T18:22:48.102Z"
   },
   {
    "duration": 70,
    "start_time": "2021-09-06T18:22:48.129Z"
   },
   {
    "duration": 11,
    "start_time": "2021-09-06T18:22:48.201Z"
   },
   {
    "duration": 5,
    "start_time": "2021-09-06T18:22:48.215Z"
   },
   {
    "duration": 57,
    "start_time": "2021-09-06T18:22:48.223Z"
   },
   {
    "duration": 14,
    "start_time": "2021-09-06T18:22:48.282Z"
   },
   {
    "duration": 7,
    "start_time": "2021-09-06T18:22:48.298Z"
   },
   {
    "duration": 10,
    "start_time": "2021-09-06T18:22:48.308Z"
   },
   {
    "duration": 77,
    "start_time": "2021-09-06T18:22:48.324Z"
   },
   {
    "duration": 13,
    "start_time": "2021-09-06T18:22:48.405Z"
   },
   {
    "duration": 67,
    "start_time": "2021-09-06T18:22:48.421Z"
   },
   {
    "duration": 6,
    "start_time": "2021-09-06T18:22:48.490Z"
   },
   {
    "duration": 5345,
    "start_time": "2021-09-06T18:22:48.498Z"
   },
   {
    "duration": 5,
    "start_time": "2021-09-06T18:22:53.846Z"
   },
   {
    "duration": 51,
    "start_time": "2021-09-06T18:22:53.866Z"
   },
   {
    "duration": 8,
    "start_time": "2021-09-06T18:22:53.920Z"
   },
   {
    "duration": 77,
    "start_time": "2021-09-06T18:22:53.931Z"
   },
   {
    "duration": 12,
    "start_time": "2021-09-06T18:22:54.011Z"
   },
   {
    "duration": 86,
    "start_time": "2021-09-06T18:22:54.026Z"
   },
   {
    "duration": 5,
    "start_time": "2021-09-06T18:22:54.115Z"
   },
   {
    "duration": 62,
    "start_time": "2021-09-06T18:22:54.123Z"
   },
   {
    "duration": 6,
    "start_time": "2021-09-06T18:22:54.188Z"
   },
   {
    "duration": 79,
    "start_time": "2021-09-06T18:23:47.920Z"
   },
   {
    "duration": 6,
    "start_time": "2021-09-06T18:24:39.119Z"
   },
   {
    "duration": 105,
    "start_time": "2021-09-06T18:25:54.207Z"
   },
   {
    "duration": 74,
    "start_time": "2021-09-06T18:26:06.309Z"
   },
   {
    "duration": 1023,
    "start_time": "2021-09-06T18:27:02.072Z"
   },
   {
    "duration": 13,
    "start_time": "2021-09-06T18:27:03.098Z"
   },
   {
    "duration": 15,
    "start_time": "2021-09-06T18:27:03.114Z"
   },
   {
    "duration": 38,
    "start_time": "2021-09-06T18:27:03.132Z"
   },
   {
    "duration": 17,
    "start_time": "2021-09-06T18:27:03.173Z"
   },
   {
    "duration": 75,
    "start_time": "2021-09-06T18:27:03.192Z"
   },
   {
    "duration": 6,
    "start_time": "2021-09-06T18:27:03.270Z"
   },
   {
    "duration": 8,
    "start_time": "2021-09-06T18:27:03.280Z"
   },
   {
    "duration": 77,
    "start_time": "2021-09-06T18:27:03.291Z"
   },
   {
    "duration": 16,
    "start_time": "2021-09-06T18:27:03.374Z"
   },
   {
    "duration": 55,
    "start_time": "2021-09-06T18:27:03.393Z"
   },
   {
    "duration": 56,
    "start_time": "2021-09-06T18:27:03.451Z"
   },
   {
    "duration": 12,
    "start_time": "2021-09-06T18:27:03.509Z"
   },
   {
    "duration": 73,
    "start_time": "2021-09-06T18:27:03.523Z"
   },
   {
    "duration": 37,
    "start_time": "2021-09-06T18:27:03.598Z"
   },
   {
    "duration": 61,
    "start_time": "2021-09-06T18:27:03.637Z"
   },
   {
    "duration": 32,
    "start_time": "2021-09-06T18:27:03.700Z"
   },
   {
    "duration": 66,
    "start_time": "2021-09-06T18:27:03.734Z"
   },
   {
    "duration": 23,
    "start_time": "2021-09-06T18:27:03.802Z"
   },
   {
    "duration": 62,
    "start_time": "2021-09-06T18:27:03.827Z"
   },
   {
    "duration": 10,
    "start_time": "2021-09-06T18:27:03.892Z"
   },
   {
    "duration": 13,
    "start_time": "2021-09-06T18:27:03.904Z"
   },
   {
    "duration": 39,
    "start_time": "2021-09-06T18:27:03.920Z"
   },
   {
    "duration": 26,
    "start_time": "2021-09-06T18:27:03.962Z"
   },
   {
    "duration": 18,
    "start_time": "2021-09-06T18:27:03.990Z"
   },
   {
    "duration": 11,
    "start_time": "2021-09-06T18:27:04.011Z"
   },
   {
    "duration": 56,
    "start_time": "2021-09-06T18:27:04.029Z"
   },
   {
    "duration": 12,
    "start_time": "2021-09-06T18:27:04.088Z"
   },
   {
    "duration": 28,
    "start_time": "2021-09-06T18:27:04.102Z"
   },
   {
    "duration": 36,
    "start_time": "2021-09-06T18:27:04.132Z"
   },
   {
    "duration": 5330,
    "start_time": "2021-09-06T18:27:04.170Z"
   },
   {
    "duration": 5,
    "start_time": "2021-09-06T18:27:09.503Z"
   },
   {
    "duration": 84,
    "start_time": "2021-09-06T18:27:09.511Z"
   },
   {
    "duration": 11,
    "start_time": "2021-09-06T18:27:09.599Z"
   },
   {
    "duration": 67,
    "start_time": "2021-09-06T18:27:09.614Z"
   },
   {
    "duration": 5,
    "start_time": "2021-09-06T18:27:09.684Z"
   },
   {
    "duration": 16,
    "start_time": "2021-09-06T18:27:09.692Z"
   },
   {
    "duration": 104,
    "start_time": "2021-09-06T18:27:09.711Z"
   },
   {
    "duration": 5,
    "start_time": "2021-09-06T18:27:09.817Z"
   },
   {
    "duration": 39,
    "start_time": "2021-09-06T18:27:09.825Z"
   },
   {
    "duration": 10,
    "start_time": "2021-09-06T18:27:09.867Z"
   },
   {
    "duration": 1031,
    "start_time": "2021-09-06T18:33:08.723Z"
   },
   {
    "duration": 786,
    "start_time": "2021-09-06T18:33:22.351Z"
   },
   {
    "duration": 98,
    "start_time": "2021-09-06T18:33:33.635Z"
   },
   {
    "duration": 1960,
    "start_time": "2021-09-06T18:33:47.821Z"
   },
   {
    "duration": 2668,
    "start_time": "2021-09-06T18:35:14.111Z"
   },
   {
    "duration": 4716,
    "start_time": "2021-09-06T18:36:03.398Z"
   },
   {
    "duration": 978,
    "start_time": "2021-09-06T18:36:25.560Z"
   },
   {
    "duration": 27,
    "start_time": "2021-09-06T18:36:26.542Z"
   },
   {
    "duration": 8,
    "start_time": "2021-09-06T18:36:26.575Z"
   },
   {
    "duration": 20,
    "start_time": "2021-09-06T18:36:26.588Z"
   },
   {
    "duration": 14,
    "start_time": "2021-09-06T18:36:26.611Z"
   },
   {
    "duration": 95,
    "start_time": "2021-09-06T18:36:26.627Z"
   },
   {
    "duration": 4,
    "start_time": "2021-09-06T18:36:26.725Z"
   },
   {
    "duration": 35,
    "start_time": "2021-09-06T18:36:26.733Z"
   },
   {
    "duration": 56,
    "start_time": "2021-09-06T18:36:26.775Z"
   },
   {
    "duration": 34,
    "start_time": "2021-09-06T18:36:26.835Z"
   },
   {
    "duration": 43,
    "start_time": "2021-09-06T18:36:26.873Z"
   },
   {
    "duration": 75,
    "start_time": "2021-09-06T18:36:26.919Z"
   },
   {
    "duration": 18,
    "start_time": "2021-09-06T18:36:26.998Z"
   },
   {
    "duration": 78,
    "start_time": "2021-09-06T18:36:27.019Z"
   },
   {
    "duration": 38,
    "start_time": "2021-09-06T18:36:27.101Z"
   },
   {
    "duration": 65,
    "start_time": "2021-09-06T18:36:27.141Z"
   },
   {
    "duration": 31,
    "start_time": "2021-09-06T18:36:27.209Z"
   },
   {
    "duration": 59,
    "start_time": "2021-09-06T18:36:27.243Z"
   },
   {
    "duration": 24,
    "start_time": "2021-09-06T18:36:27.305Z"
   },
   {
    "duration": 71,
    "start_time": "2021-09-06T18:36:27.332Z"
   },
   {
    "duration": 10,
    "start_time": "2021-09-06T18:36:27.406Z"
   },
   {
    "duration": 5,
    "start_time": "2021-09-06T18:36:27.419Z"
   },
   {
    "duration": 67,
    "start_time": "2021-09-06T18:36:27.427Z"
   },
   {
    "duration": 12,
    "start_time": "2021-09-06T18:36:27.497Z"
   },
   {
    "duration": 8,
    "start_time": "2021-09-06T18:36:27.512Z"
   },
   {
    "duration": 43,
    "start_time": "2021-09-06T18:36:27.523Z"
   },
   {
    "duration": 42,
    "start_time": "2021-09-06T18:36:27.577Z"
   },
   {
    "duration": 12,
    "start_time": "2021-09-06T18:36:27.623Z"
   },
   {
    "duration": 68,
    "start_time": "2021-09-06T18:36:27.638Z"
   },
   {
    "duration": 10,
    "start_time": "2021-09-06T18:36:27.709Z"
   },
   {
    "duration": 5292,
    "start_time": "2021-09-06T18:36:27.722Z"
   },
   {
    "duration": 3,
    "start_time": "2021-09-06T18:36:33.017Z"
   },
   {
    "duration": 80,
    "start_time": "2021-09-06T18:36:33.023Z"
   },
   {
    "duration": 11,
    "start_time": "2021-09-06T18:36:33.106Z"
   },
   {
    "duration": 81,
    "start_time": "2021-09-06T18:36:33.119Z"
   },
   {
    "duration": 5,
    "start_time": "2021-09-06T18:36:33.203Z"
   },
   {
    "duration": 6,
    "start_time": "2021-09-06T18:36:33.211Z"
   },
   {
    "duration": 115,
    "start_time": "2021-09-06T18:36:33.220Z"
   },
   {
    "duration": 6,
    "start_time": "2021-09-06T18:36:33.338Z"
   },
   {
    "duration": 49,
    "start_time": "2021-09-06T18:36:33.348Z"
   },
   {
    "duration": 6,
    "start_time": "2021-09-06T18:36:33.400Z"
   },
   {
    "duration": 504,
    "start_time": "2021-09-06T18:37:33.294Z"
   },
   {
    "duration": 376,
    "start_time": "2021-09-06T18:38:12.766Z"
   },
   {
    "duration": 6,
    "start_time": "2021-09-06T18:40:57.314Z"
   },
   {
    "duration": 16,
    "start_time": "2021-09-06T18:40:59.630Z"
   },
   {
    "duration": 37,
    "start_time": "2021-09-06T18:42:02.695Z"
   },
   {
    "duration": 7,
    "start_time": "2021-09-06T18:42:37.328Z"
   },
   {
    "duration": 20,
    "start_time": "2021-09-06T18:42:38.375Z"
   },
   {
    "duration": 40,
    "start_time": "2021-09-06T18:42:39.906Z"
   },
   {
    "duration": 7,
    "start_time": "2021-09-06T18:43:01.478Z"
   },
   {
    "duration": 24,
    "start_time": "2021-09-06T18:43:02.005Z"
   },
   {
    "duration": 45,
    "start_time": "2021-09-06T18:43:04.162Z"
   },
   {
    "duration": 6,
    "start_time": "2021-09-06T18:43:26.236Z"
   },
   {
    "duration": 27,
    "start_time": "2021-09-06T18:43:27.132Z"
   },
   {
    "duration": 40,
    "start_time": "2021-09-06T18:43:41.960Z"
   },
   {
    "duration": 371,
    "start_time": "2021-09-06T18:45:33.707Z"
   },
   {
    "duration": 5,
    "start_time": "2021-09-06T18:47:40.745Z"
   },
   {
    "duration": 359,
    "start_time": "2021-09-06T18:47:55.778Z"
   },
   {
    "duration": 91,
    "start_time": "2021-09-06T18:48:22.323Z"
   },
   {
    "duration": 27,
    "start_time": "2021-09-06T18:49:25.866Z"
   },
   {
    "duration": 25,
    "start_time": "2021-09-06T19:12:10.356Z"
   },
   {
    "duration": 6,
    "start_time": "2021-09-06T19:13:48.463Z"
   },
   {
    "duration": 23,
    "start_time": "2021-09-06T19:13:49.439Z"
   },
   {
    "duration": 7,
    "start_time": "2021-09-06T19:13:54.627Z"
   },
   {
    "duration": 23,
    "start_time": "2021-09-06T19:14:04.943Z"
   },
   {
    "duration": 58,
    "start_time": "2021-09-06T19:14:13.163Z"
   },
   {
    "duration": 858,
    "start_time": "2021-09-06T19:14:48.386Z"
   },
   {
    "duration": 13,
    "start_time": "2021-09-06T19:14:49.247Z"
   },
   {
    "duration": 14,
    "start_time": "2021-09-06T19:14:49.263Z"
   },
   {
    "duration": 18,
    "start_time": "2021-09-06T19:14:49.281Z"
   },
   {
    "duration": 15,
    "start_time": "2021-09-06T19:14:49.301Z"
   },
   {
    "duration": 83,
    "start_time": "2021-09-06T19:14:49.318Z"
   },
   {
    "duration": 5,
    "start_time": "2021-09-06T19:14:49.403Z"
   },
   {
    "duration": 11,
    "start_time": "2021-09-06T19:14:49.410Z"
   },
   {
    "duration": 69,
    "start_time": "2021-09-06T19:14:49.424Z"
   },
   {
    "duration": 11,
    "start_time": "2021-09-06T19:14:49.496Z"
   },
   {
    "duration": 34,
    "start_time": "2021-09-06T19:14:49.509Z"
   },
   {
    "duration": 57,
    "start_time": "2021-09-06T19:14:49.546Z"
   },
   {
    "duration": 13,
    "start_time": "2021-09-06T19:14:49.605Z"
   },
   {
    "duration": 72,
    "start_time": "2021-09-06T19:14:49.620Z"
   },
   {
    "duration": 37,
    "start_time": "2021-09-06T19:14:49.695Z"
   },
   {
    "duration": 63,
    "start_time": "2021-09-06T19:14:49.734Z"
   },
   {
    "duration": 37,
    "start_time": "2021-09-06T19:14:49.800Z"
   },
   {
    "duration": 53,
    "start_time": "2021-09-06T19:14:49.839Z"
   },
   {
    "duration": 22,
    "start_time": "2021-09-06T19:14:49.895Z"
   },
   {
    "duration": 58,
    "start_time": "2021-09-06T19:14:49.919Z"
   },
   {
    "duration": 15,
    "start_time": "2021-09-06T19:14:49.981Z"
   },
   {
    "duration": 5,
    "start_time": "2021-09-06T19:14:49.998Z"
   },
   {
    "duration": 32,
    "start_time": "2021-09-06T19:14:50.005Z"
   },
   {
    "duration": 40,
    "start_time": "2021-09-06T19:14:50.039Z"
   },
   {
    "duration": 8,
    "start_time": "2021-09-06T19:14:50.081Z"
   },
   {
    "duration": 17,
    "start_time": "2021-09-06T19:14:50.091Z"
   },
   {
    "duration": 70,
    "start_time": "2021-09-06T19:14:50.113Z"
   },
   {
    "duration": 12,
    "start_time": "2021-09-06T19:14:50.187Z"
   },
   {
    "duration": 37,
    "start_time": "2021-09-06T19:14:50.201Z"
   },
   {
    "duration": 32,
    "start_time": "2021-09-06T19:14:50.240Z"
   },
   {
    "duration": 5193,
    "start_time": "2021-09-06T19:14:50.275Z"
   },
   {
    "duration": 5,
    "start_time": "2021-09-06T19:14:55.473Z"
   },
   {
    "duration": 50,
    "start_time": "2021-09-06T19:14:55.480Z"
   },
   {
    "duration": 38,
    "start_time": "2021-09-06T19:14:55.532Z"
   },
   {
    "duration": 50,
    "start_time": "2021-09-06T19:14:55.574Z"
   },
   {
    "duration": 4,
    "start_time": "2021-09-06T19:14:55.626Z"
   },
   {
    "duration": 126,
    "start_time": "2021-09-06T19:14:55.632Z"
   },
   {
    "duration": 15,
    "start_time": "2021-09-06T19:14:55.760Z"
   },
   {
    "duration": 46,
    "start_time": "2021-09-06T19:14:55.778Z"
   },
   {
    "duration": 79,
    "start_time": "2021-09-06T19:14:55.828Z"
   },
   {
    "duration": 6,
    "start_time": "2021-09-06T19:14:55.911Z"
   },
   {
    "duration": 73,
    "start_time": "2021-09-06T19:15:49.723Z"
   },
   {
    "duration": 5,
    "start_time": "2021-09-06T19:16:39.747Z"
   },
   {
    "duration": 32,
    "start_time": "2021-09-06T19:16:41.351Z"
   },
   {
    "duration": 34,
    "start_time": "2021-09-06T19:16:55.253Z"
   },
   {
    "duration": 35,
    "start_time": "2021-09-06T19:17:07.751Z"
   },
   {
    "duration": 67,
    "start_time": "2021-09-06T19:17:24.392Z"
   },
   {
    "duration": 4,
    "start_time": "2021-09-06T19:19:16.342Z"
   },
   {
    "duration": 4,
    "start_time": "2021-09-06T19:19:17.231Z"
   },
   {
    "duration": 465,
    "start_time": "2021-09-06T19:19:37.307Z"
   },
   {
    "duration": 129,
    "start_time": "2021-09-06T19:19:51.518Z"
   },
   {
    "duration": 68,
    "start_time": "2021-09-06T19:20:48.164Z"
   },
   {
    "duration": 883,
    "start_time": "2021-09-06T19:21:07.249Z"
   },
   {
    "duration": 16,
    "start_time": "2021-09-06T19:21:08.135Z"
   },
   {
    "duration": 10,
    "start_time": "2021-09-06T19:21:08.168Z"
   },
   {
    "duration": 23,
    "start_time": "2021-09-06T19:21:08.182Z"
   },
   {
    "duration": 16,
    "start_time": "2021-09-06T19:21:08.208Z"
   },
   {
    "duration": 83,
    "start_time": "2021-09-06T19:21:08.227Z"
   },
   {
    "duration": 4,
    "start_time": "2021-09-06T19:21:08.312Z"
   },
   {
    "duration": 12,
    "start_time": "2021-09-06T19:21:08.320Z"
   },
   {
    "duration": 66,
    "start_time": "2021-09-06T19:21:08.335Z"
   },
   {
    "duration": 14,
    "start_time": "2021-09-06T19:21:08.404Z"
   },
   {
    "duration": 62,
    "start_time": "2021-09-06T19:21:08.420Z"
   },
   {
    "duration": 34,
    "start_time": "2021-09-06T19:21:08.484Z"
   },
   {
    "duration": 25,
    "start_time": "2021-09-06T19:21:08.520Z"
   },
   {
    "duration": 63,
    "start_time": "2021-09-06T19:21:08.547Z"
   },
   {
    "duration": 55,
    "start_time": "2021-09-06T19:21:08.613Z"
   },
   {
    "duration": 40,
    "start_time": "2021-09-06T19:21:08.673Z"
   },
   {
    "duration": 57,
    "start_time": "2021-09-06T19:21:08.716Z"
   },
   {
    "duration": 29,
    "start_time": "2021-09-06T19:21:08.777Z"
   },
   {
    "duration": 22,
    "start_time": "2021-09-06T19:21:08.809Z"
   },
   {
    "duration": 64,
    "start_time": "2021-09-06T19:21:08.834Z"
   },
   {
    "duration": 10,
    "start_time": "2021-09-06T19:21:08.900Z"
   },
   {
    "duration": 15,
    "start_time": "2021-09-06T19:21:08.912Z"
   },
   {
    "duration": 52,
    "start_time": "2021-09-06T19:21:08.932Z"
   },
   {
    "duration": 11,
    "start_time": "2021-09-06T19:21:08.988Z"
   },
   {
    "duration": 18,
    "start_time": "2021-09-06T19:21:09.002Z"
   },
   {
    "duration": 11,
    "start_time": "2021-09-06T19:21:09.022Z"
   },
   {
    "duration": 36,
    "start_time": "2021-09-06T19:21:09.070Z"
   },
   {
    "duration": 12,
    "start_time": "2021-09-06T19:21:09.110Z"
   },
   {
    "duration": 72,
    "start_time": "2021-09-06T19:21:09.124Z"
   },
   {
    "duration": 6,
    "start_time": "2021-09-06T19:21:09.199Z"
   },
   {
    "duration": 4819,
    "start_time": "2021-09-06T19:21:09.207Z"
   },
   {
    "duration": 5,
    "start_time": "2021-09-06T19:21:14.030Z"
   },
   {
    "duration": 69,
    "start_time": "2021-09-06T19:21:14.038Z"
   },
   {
    "duration": 10,
    "start_time": "2021-09-06T19:21:14.111Z"
   },
   {
    "duration": 71,
    "start_time": "2021-09-06T19:21:14.124Z"
   },
   {
    "duration": 12,
    "start_time": "2021-09-06T19:21:14.198Z"
   },
   {
    "duration": 16,
    "start_time": "2021-09-06T19:21:14.212Z"
   },
   {
    "duration": 47,
    "start_time": "2021-09-06T19:21:14.230Z"
   },
   {
    "duration": 75,
    "start_time": "2021-09-06T19:21:14.280Z"
   },
   {
    "duration": 17,
    "start_time": "2021-09-06T19:21:14.357Z"
   },
   {
    "duration": 62,
    "start_time": "2021-09-06T19:21:14.378Z"
   },
   {
    "duration": 61,
    "start_time": "2021-09-06T19:22:15.894Z"
   },
   {
    "duration": 48,
    "start_time": "2021-09-06T19:22:36.595Z"
   },
   {
    "duration": 80,
    "start_time": "2021-09-06T19:22:56.631Z"
   },
   {
    "duration": 5,
    "start_time": "2021-09-06T19:26:10.908Z"
   },
   {
    "duration": 73,
    "start_time": "2021-09-06T19:26:12.320Z"
   },
   {
    "duration": 5,
    "start_time": "2021-09-06T19:29:32.062Z"
   },
   {
    "duration": 6,
    "start_time": "2021-09-06T19:29:43.329Z"
   },
   {
    "duration": 6,
    "start_time": "2021-09-06T19:31:09.509Z"
   },
   {
    "duration": 64,
    "start_time": "2021-09-06T19:31:10.017Z"
   },
   {
    "duration": 461,
    "start_time": "2021-09-06T19:32:33.650Z"
   },
   {
    "duration": 37,
    "start_time": "2021-09-06T19:32:49.075Z"
   },
   {
    "duration": 9150,
    "start_time": "2021-09-06T19:33:13.546Z"
   },
   {
    "duration": 407,
    "start_time": "2021-09-06T19:33:22.292Z"
   },
   {
    "duration": 877,
    "start_time": "2021-09-06T19:33:34.430Z"
   },
   {
    "duration": 13,
    "start_time": "2021-09-06T19:33:35.310Z"
   },
   {
    "duration": 5,
    "start_time": "2021-09-06T19:33:35.330Z"
   },
   {
    "duration": 42,
    "start_time": "2021-09-06T19:33:35.338Z"
   },
   {
    "duration": 14,
    "start_time": "2021-09-06T19:33:35.383Z"
   },
   {
    "duration": 74,
    "start_time": "2021-09-06T19:33:35.400Z"
   },
   {
    "duration": 5,
    "start_time": "2021-09-06T19:33:35.477Z"
   },
   {
    "duration": 6,
    "start_time": "2021-09-06T19:33:35.487Z"
   },
   {
    "duration": 71,
    "start_time": "2021-09-06T19:33:35.496Z"
   },
   {
    "duration": 16,
    "start_time": "2021-09-06T19:33:35.572Z"
   },
   {
    "duration": 34,
    "start_time": "2021-09-06T19:33:35.591Z"
   },
   {
    "duration": 67,
    "start_time": "2021-09-06T19:33:35.627Z"
   },
   {
    "duration": 11,
    "start_time": "2021-09-06T19:33:35.697Z"
   },
   {
    "duration": 62,
    "start_time": "2021-09-06T19:33:35.710Z"
   },
   {
    "duration": 42,
    "start_time": "2021-09-06T19:33:35.775Z"
   },
   {
    "duration": 74,
    "start_time": "2021-09-06T19:33:35.820Z"
   },
   {
    "duration": 31,
    "start_time": "2021-09-06T19:33:35.896Z"
   },
   {
    "duration": 53,
    "start_time": "2021-09-06T19:33:35.929Z"
   },
   {
    "duration": 24,
    "start_time": "2021-09-06T19:33:35.985Z"
   },
   {
    "duration": 62,
    "start_time": "2021-09-06T19:33:36.012Z"
   },
   {
    "duration": 12,
    "start_time": "2021-09-06T19:33:36.078Z"
   },
   {
    "duration": 13,
    "start_time": "2021-09-06T19:33:36.093Z"
   },
   {
    "duration": 30,
    "start_time": "2021-09-06T19:33:36.108Z"
   },
   {
    "duration": 33,
    "start_time": "2021-09-06T19:33:36.141Z"
   },
   {
    "duration": 9,
    "start_time": "2021-09-06T19:33:36.181Z"
   },
   {
    "duration": 13,
    "start_time": "2021-09-06T19:33:36.196Z"
   },
   {
    "duration": 60,
    "start_time": "2021-09-06T19:33:36.212Z"
   },
   {
    "duration": 16,
    "start_time": "2021-09-06T19:33:36.277Z"
   },
   {
    "duration": 29,
    "start_time": "2021-09-06T19:33:36.295Z"
   },
   {
    "duration": 10,
    "start_time": "2021-09-06T19:33:36.327Z"
   },
   {
    "duration": 4958,
    "start_time": "2021-09-06T19:33:36.339Z"
   },
   {
    "duration": 3,
    "start_time": "2021-09-06T19:33:41.300Z"
   },
   {
    "duration": 64,
    "start_time": "2021-09-06T19:33:41.306Z"
   },
   {
    "duration": 12,
    "start_time": "2021-09-06T19:33:41.372Z"
   },
   {
    "duration": 53,
    "start_time": "2021-09-06T19:33:41.386Z"
   },
   {
    "duration": 32,
    "start_time": "2021-09-06T19:33:41.441Z"
   },
   {
    "duration": 88,
    "start_time": "2021-09-06T19:33:41.477Z"
   },
   {
    "duration": 47,
    "start_time": "2021-09-06T19:33:41.570Z"
   },
   {
    "duration": 109,
    "start_time": "2021-09-06T19:35:54.886Z"
   },
   {
    "duration": 24,
    "start_time": "2021-09-06T19:36:04.023Z"
   },
   {
    "duration": 476,
    "start_time": "2021-09-06T19:37:07.893Z"
   },
   {
    "duration": 26,
    "start_time": "2021-09-06T19:37:15.171Z"
   },
   {
    "duration": 324,
    "start_time": "2021-09-06T19:39:08.582Z"
   },
   {
    "duration": 18,
    "start_time": "2021-09-06T19:39:19.508Z"
   },
   {
    "duration": 18,
    "start_time": "2021-09-06T19:39:59.229Z"
   },
   {
    "duration": 345,
    "start_time": "2021-09-06T19:40:12.974Z"
   },
   {
    "duration": 26,
    "start_time": "2021-09-06T19:40:24.117Z"
   },
   {
    "duration": 22,
    "start_time": "2021-09-06T19:42:52.698Z"
   },
   {
    "duration": 28,
    "start_time": "2021-09-06T19:43:05.866Z"
   },
   {
    "duration": 7,
    "start_time": "2021-09-06T19:43:13.085Z"
   },
   {
    "duration": 884,
    "start_time": "2021-09-06T19:43:24.340Z"
   },
   {
    "duration": 13,
    "start_time": "2021-09-06T19:43:25.227Z"
   },
   {
    "duration": 27,
    "start_time": "2021-09-06T19:43:25.243Z"
   },
   {
    "duration": 18,
    "start_time": "2021-09-06T19:43:25.274Z"
   },
   {
    "duration": 17,
    "start_time": "2021-09-06T19:43:25.294Z"
   },
   {
    "duration": 81,
    "start_time": "2021-09-06T19:43:25.313Z"
   },
   {
    "duration": 5,
    "start_time": "2021-09-06T19:43:25.396Z"
   },
   {
    "duration": 12,
    "start_time": "2021-09-06T19:43:25.403Z"
   },
   {
    "duration": 75,
    "start_time": "2021-09-06T19:43:25.418Z"
   },
   {
    "duration": 11,
    "start_time": "2021-09-06T19:43:25.496Z"
   },
   {
    "duration": 37,
    "start_time": "2021-09-06T19:43:25.510Z"
   },
   {
    "duration": 38,
    "start_time": "2021-09-06T19:43:25.568Z"
   },
   {
    "duration": 12,
    "start_time": "2021-09-06T19:43:25.608Z"
   },
   {
    "duration": 75,
    "start_time": "2021-09-06T19:43:25.622Z"
   },
   {
    "duration": 35,
    "start_time": "2021-09-06T19:43:25.700Z"
   },
   {
    "duration": 64,
    "start_time": "2021-09-06T19:43:25.738Z"
   },
   {
    "duration": 31,
    "start_time": "2021-09-06T19:43:25.805Z"
   },
   {
    "duration": 55,
    "start_time": "2021-09-06T19:43:25.839Z"
   },
   {
    "duration": 23,
    "start_time": "2021-09-06T19:43:25.897Z"
   },
   {
    "duration": 62,
    "start_time": "2021-09-06T19:43:25.922Z"
   },
   {
    "duration": 11,
    "start_time": "2021-09-06T19:43:25.986Z"
   },
   {
    "duration": 4,
    "start_time": "2021-09-06T19:43:26.000Z"
   },
   {
    "duration": 25,
    "start_time": "2021-09-06T19:43:26.007Z"
   },
   {
    "duration": 16,
    "start_time": "2021-09-06T19:43:26.070Z"
   },
   {
    "duration": 6,
    "start_time": "2021-09-06T19:43:26.089Z"
   },
   {
    "duration": 12,
    "start_time": "2021-09-06T19:43:26.098Z"
   },
   {
    "duration": 75,
    "start_time": "2021-09-06T19:43:26.116Z"
   },
   {
    "duration": 12,
    "start_time": "2021-09-06T19:43:26.194Z"
   },
   {
    "duration": 61,
    "start_time": "2021-09-06T19:43:26.208Z"
   },
   {
    "duration": 10,
    "start_time": "2021-09-06T19:43:26.272Z"
   },
   {
    "duration": 4955,
    "start_time": "2021-09-06T19:43:26.285Z"
   },
   {
    "duration": 4,
    "start_time": "2021-09-06T19:43:31.242Z"
   },
   {
    "duration": 63,
    "start_time": "2021-09-06T19:43:31.248Z"
   },
   {
    "duration": 8,
    "start_time": "2021-09-06T19:43:31.313Z"
   },
   {
    "duration": 75,
    "start_time": "2021-09-06T19:43:31.324Z"
   },
   {
    "duration": 11,
    "start_time": "2021-09-06T19:43:31.402Z"
   },
   {
    "duration": 90,
    "start_time": "2021-09-06T19:43:31.416Z"
   },
   {
    "duration": 76,
    "start_time": "2021-09-06T19:43:31.509Z"
   },
   {
    "duration": 67,
    "start_time": "2021-09-06T19:43:31.587Z"
   },
   {
    "duration": 35,
    "start_time": "2021-09-06T19:43:31.657Z"
   },
   {
    "duration": 34,
    "start_time": "2021-09-06T19:46:15.140Z"
   },
   {
    "duration": 433,
    "start_time": "2021-09-06T19:49:25.594Z"
   },
   {
    "duration": 386,
    "start_time": "2021-09-06T19:49:35.217Z"
   },
   {
    "duration": 36,
    "start_time": "2021-09-06T19:49:43.629Z"
   },
   {
    "duration": 40,
    "start_time": "2021-09-06T19:50:54.186Z"
   },
   {
    "duration": 51,
    "start_time": "2021-09-06T19:52:10.138Z"
   },
   {
    "duration": 37,
    "start_time": "2021-09-06T19:56:19.825Z"
   },
   {
    "duration": 48,
    "start_time": "2021-09-06T19:58:38.144Z"
   },
   {
    "duration": 37,
    "start_time": "2021-09-06T19:58:51.349Z"
   },
   {
    "duration": 49,
    "start_time": "2021-09-06T19:59:02.092Z"
   },
   {
    "duration": 36,
    "start_time": "2021-09-06T20:02:42.067Z"
   },
   {
    "duration": 591,
    "start_time": "2021-09-07T16:37:55.927Z"
   },
   {
    "duration": 8,
    "start_time": "2021-09-07T16:37:56.520Z"
   },
   {
    "duration": 7,
    "start_time": "2021-09-07T16:37:56.530Z"
   },
   {
    "duration": 16,
    "start_time": "2021-09-07T16:37:56.539Z"
   },
   {
    "duration": 12,
    "start_time": "2021-09-07T16:37:56.557Z"
   },
   {
    "duration": 32,
    "start_time": "2021-09-07T16:37:56.571Z"
   },
   {
    "duration": 3,
    "start_time": "2021-09-07T16:37:56.605Z"
   },
   {
    "duration": 28,
    "start_time": "2021-09-07T16:37:56.611Z"
   },
   {
    "duration": 42,
    "start_time": "2021-09-07T16:37:56.641Z"
   },
   {
    "duration": 7,
    "start_time": "2021-09-07T16:37:56.685Z"
   },
   {
    "duration": 36,
    "start_time": "2021-09-07T16:37:56.694Z"
   },
   {
    "duration": 28,
    "start_time": "2021-09-07T16:37:56.732Z"
   },
   {
    "duration": 8,
    "start_time": "2021-09-07T16:37:56.762Z"
   },
   {
    "duration": 29,
    "start_time": "2021-09-07T16:37:56.775Z"
   },
   {
    "duration": 21,
    "start_time": "2021-09-07T16:37:56.806Z"
   },
   {
    "duration": 22,
    "start_time": "2021-09-07T16:37:56.828Z"
   },
   {
    "duration": 40,
    "start_time": "2021-09-07T16:37:56.852Z"
   },
   {
    "duration": 21,
    "start_time": "2021-09-07T16:37:56.893Z"
   },
   {
    "duration": 15,
    "start_time": "2021-09-07T16:37:56.915Z"
   },
   {
    "duration": 18,
    "start_time": "2021-09-07T16:37:56.931Z"
   },
   {
    "duration": 29,
    "start_time": "2021-09-07T16:37:56.950Z"
   },
   {
    "duration": 2,
    "start_time": "2021-09-07T16:37:56.980Z"
   },
   {
    "duration": 16,
    "start_time": "2021-09-07T16:37:56.985Z"
   },
   {
    "duration": 7,
    "start_time": "2021-09-07T16:37:57.003Z"
   },
   {
    "duration": 11,
    "start_time": "2021-09-07T16:37:57.011Z"
   },
   {
    "duration": 8,
    "start_time": "2021-09-07T16:37:57.024Z"
   },
   {
    "duration": 55,
    "start_time": "2021-09-07T16:37:57.035Z"
   },
   {
    "duration": 9,
    "start_time": "2021-09-07T16:37:57.093Z"
   },
   {
    "duration": 18,
    "start_time": "2021-09-07T16:37:57.104Z"
   },
   {
    "duration": 9,
    "start_time": "2021-09-07T16:37:57.123Z"
   },
   {
    "duration": 3590,
    "start_time": "2021-09-07T16:37:57.134Z"
   },
   {
    "duration": 3,
    "start_time": "2021-09-07T16:38:00.726Z"
   },
   {
    "duration": 36,
    "start_time": "2021-09-07T16:38:00.731Z"
   },
   {
    "duration": 10,
    "start_time": "2021-09-07T16:38:00.769Z"
   },
   {
    "duration": 29,
    "start_time": "2021-09-07T16:38:00.780Z"
   },
   {
    "duration": 15,
    "start_time": "2021-09-07T16:38:00.811Z"
   },
   {
    "duration": 43,
    "start_time": "2021-09-07T16:38:00.828Z"
   },
   {
    "duration": 28,
    "start_time": "2021-09-07T16:38:00.877Z"
   },
   {
    "duration": 16,
    "start_time": "2021-09-07T16:38:00.907Z"
   },
   {
    "duration": 28,
    "start_time": "2021-09-07T16:38:00.924Z"
   },
   {
    "duration": 48,
    "start_time": "2021-09-07T16:38:00.953Z"
   },
   {
    "duration": 21,
    "start_time": "2021-09-07T16:38:01.003Z"
   },
   {
    "duration": 16,
    "start_time": "2021-09-07T16:38:01.026Z"
   },
   {
    "duration": 363,
    "start_time": "2021-09-07T16:38:01.044Z"
   },
   {
    "duration": 4,
    "start_time": "2021-09-07T16:38:23.719Z"
   },
   {
    "duration": 1048,
    "start_time": "2021-09-07T16:38:24.221Z"
   },
   {
    "duration": 1045,
    "start_time": "2021-09-07T16:38:53.073Z"
   },
   {
    "duration": 4,
    "start_time": "2021-09-07T16:39:48.309Z"
   },
   {
    "duration": 1026,
    "start_time": "2021-09-07T16:39:49.145Z"
   },
   {
    "duration": 18,
    "start_time": "2021-09-07T16:41:33.873Z"
   },
   {
    "duration": 6651,
    "start_time": "2021-09-07T16:42:55.874Z"
   },
   {
    "duration": 21,
    "start_time": "2021-09-07T16:43:23.069Z"
   },
   {
    "duration": 12,
    "start_time": "2021-09-07T18:11:44.483Z"
   },
   {
    "duration": 6739,
    "start_time": "2021-09-07T18:13:09.875Z"
   },
   {
    "duration": 6440,
    "start_time": "2021-09-07T18:13:16.786Z"
   },
   {
    "duration": 393,
    "start_time": "2021-09-07T18:13:22.835Z"
   },
   {
    "duration": 718,
    "start_time": "2021-09-07T18:13:38.697Z"
   },
   {
    "duration": 9,
    "start_time": "2021-09-07T18:13:39.417Z"
   },
   {
    "duration": 4,
    "start_time": "2021-09-07T18:13:39.429Z"
   },
   {
    "duration": 15,
    "start_time": "2021-09-07T18:13:39.435Z"
   },
   {
    "duration": 27,
    "start_time": "2021-09-07T18:13:39.452Z"
   },
   {
    "duration": 40,
    "start_time": "2021-09-07T18:13:39.481Z"
   },
   {
    "duration": 3,
    "start_time": "2021-09-07T18:13:39.523Z"
   },
   {
    "duration": 13,
    "start_time": "2021-09-07T18:13:39.528Z"
   },
   {
    "duration": 67,
    "start_time": "2021-09-07T18:13:39.543Z"
   },
   {
    "duration": 8,
    "start_time": "2021-09-07T18:13:39.612Z"
   },
   {
    "duration": 27,
    "start_time": "2021-09-07T18:13:39.622Z"
   },
   {
    "duration": 40,
    "start_time": "2021-09-07T18:13:39.651Z"
   },
   {
    "duration": 11,
    "start_time": "2021-09-07T18:13:39.694Z"
   },
   {
    "duration": 50,
    "start_time": "2021-09-07T18:13:39.707Z"
   },
   {
    "duration": 47,
    "start_time": "2021-09-07T18:13:39.759Z"
   },
   {
    "duration": 36,
    "start_time": "2021-09-07T18:13:39.808Z"
   },
   {
    "duration": 42,
    "start_time": "2021-09-07T18:13:39.846Z"
   },
   {
    "duration": 23,
    "start_time": "2021-09-07T18:13:39.891Z"
   },
   {
    "duration": 22,
    "start_time": "2021-09-07T18:13:39.916Z"
   },
   {
    "duration": 53,
    "start_time": "2021-09-07T18:13:39.940Z"
   },
   {
    "duration": 7,
    "start_time": "2021-09-07T18:13:39.995Z"
   },
   {
    "duration": 5,
    "start_time": "2021-09-07T18:13:40.004Z"
   },
   {
    "duration": 15,
    "start_time": "2021-09-07T18:13:40.012Z"
   },
   {
    "duration": 8,
    "start_time": "2021-09-07T18:13:40.029Z"
   },
   {
    "duration": 42,
    "start_time": "2021-09-07T18:13:40.039Z"
   },
   {
    "duration": 10,
    "start_time": "2021-09-07T18:13:40.085Z"
   },
   {
    "duration": 19,
    "start_time": "2021-09-07T18:13:40.098Z"
   },
   {
    "duration": 11,
    "start_time": "2021-09-07T18:13:40.119Z"
   },
   {
    "duration": 61,
    "start_time": "2021-09-07T18:13:40.132Z"
   },
   {
    "duration": 5,
    "start_time": "2021-09-07T18:13:40.195Z"
   },
   {
    "duration": 4198,
    "start_time": "2021-09-07T18:13:40.201Z"
   },
   {
    "duration": 4,
    "start_time": "2021-09-07T18:13:44.401Z"
   },
   {
    "duration": 41,
    "start_time": "2021-09-07T18:13:44.407Z"
   },
   {
    "duration": 7,
    "start_time": "2021-09-07T18:13:44.450Z"
   },
   {
    "duration": 40,
    "start_time": "2021-09-07T18:13:44.478Z"
   },
   {
    "duration": 6,
    "start_time": "2021-09-07T18:13:44.520Z"
   },
   {
    "duration": 62,
    "start_time": "2021-09-07T18:13:44.528Z"
   },
   {
    "duration": 30,
    "start_time": "2021-09-07T18:13:44.593Z"
   },
   {
    "duration": 16,
    "start_time": "2021-09-07T18:13:44.625Z"
   },
   {
    "duration": 53,
    "start_time": "2021-09-07T18:13:44.643Z"
   },
   {
    "duration": 6982,
    "start_time": "2021-09-07T18:13:44.698Z"
   },
   {
    "duration": 427,
    "start_time": "2021-09-07T18:13:51.256Z"
   },
   {
    "duration": 426,
    "start_time": "2021-09-07T18:13:51.259Z"
   },
   {
    "duration": 424,
    "start_time": "2021-09-07T18:13:51.262Z"
   },
   {
    "duration": 422,
    "start_time": "2021-09-07T18:13:51.266Z"
   },
   {
    "duration": 23,
    "start_time": "2021-09-07T18:14:31.866Z"
   },
   {
    "duration": 19,
    "start_time": "2021-09-07T18:15:19.053Z"
   },
   {
    "duration": 3,
    "start_time": "2021-09-07T18:30:57.021Z"
   },
   {
    "duration": 4,
    "start_time": "2021-09-07T18:31:51.331Z"
   },
   {
    "duration": 264,
    "start_time": "2021-09-07T18:31:51.796Z"
   },
   {
    "duration": 1723,
    "start_time": "2021-09-07T18:32:24.309Z"
   },
   {
    "duration": 3,
    "start_time": "2021-09-07T18:32:36.928Z"
   },
   {
    "duration": 1389,
    "start_time": "2021-09-07T18:32:37.689Z"
   },
   {
    "duration": 4,
    "start_time": "2021-09-07T18:32:48.681Z"
   },
   {
    "duration": 28,
    "start_time": "2021-09-07T18:32:49.305Z"
   },
   {
    "duration": 153,
    "start_time": "2021-09-07T18:34:32.693Z"
   },
   {
    "duration": 93,
    "start_time": "2021-09-07T18:34:47.844Z"
   },
   {
    "duration": 14,
    "start_time": "2021-09-07T18:34:57.460Z"
   },
   {
    "duration": 6743,
    "start_time": "2021-09-07T18:36:59.688Z"
   },
   {
    "duration": 17,
    "start_time": "2021-09-07T18:37:20.586Z"
   },
   {
    "duration": 19,
    "start_time": "2021-09-07T18:37:58.683Z"
   },
   {
    "duration": 689,
    "start_time": "2021-09-07T18:55:31.476Z"
   },
   {
    "duration": 14,
    "start_time": "2021-09-07T18:55:32.168Z"
   },
   {
    "duration": 5,
    "start_time": "2021-09-07T18:55:32.185Z"
   },
   {
    "duration": 16,
    "start_time": "2021-09-07T18:55:32.192Z"
   },
   {
    "duration": 14,
    "start_time": "2021-09-07T18:55:32.210Z"
   },
   {
    "duration": 77,
    "start_time": "2021-09-07T18:55:32.226Z"
   },
   {
    "duration": 5,
    "start_time": "2021-09-07T18:55:32.305Z"
   },
   {
    "duration": 25,
    "start_time": "2021-09-07T18:55:32.313Z"
   },
   {
    "duration": 69,
    "start_time": "2021-09-07T18:55:32.342Z"
   },
   {
    "duration": 10,
    "start_time": "2021-09-07T18:55:32.413Z"
   },
   {
    "duration": 52,
    "start_time": "2021-09-07T18:55:32.426Z"
   },
   {
    "duration": 37,
    "start_time": "2021-09-07T18:55:32.480Z"
   },
   {
    "duration": 19,
    "start_time": "2021-09-07T18:55:32.520Z"
   },
   {
    "duration": 61,
    "start_time": "2021-09-07T18:55:32.541Z"
   },
   {
    "duration": 24,
    "start_time": "2021-09-07T18:55:32.604Z"
   },
   {
    "duration": 54,
    "start_time": "2021-09-07T18:55:32.629Z"
   },
   {
    "duration": 20,
    "start_time": "2021-09-07T18:55:32.685Z"
   },
   {
    "duration": 17,
    "start_time": "2021-09-07T18:55:32.706Z"
   },
   {
    "duration": 16,
    "start_time": "2021-09-07T18:55:32.725Z"
   },
   {
    "duration": 37,
    "start_time": "2021-09-07T18:55:32.743Z"
   },
   {
    "duration": 14,
    "start_time": "2021-09-07T18:55:32.782Z"
   },
   {
    "duration": 5,
    "start_time": "2021-09-07T18:55:32.797Z"
   },
   {
    "duration": 16,
    "start_time": "2021-09-07T18:55:32.806Z"
   },
   {
    "duration": 7,
    "start_time": "2021-09-07T18:55:32.825Z"
   },
   {
    "duration": 6,
    "start_time": "2021-09-07T18:55:32.833Z"
   },
   {
    "duration": 14,
    "start_time": "2021-09-07T18:55:32.841Z"
   },
   {
    "duration": 21,
    "start_time": "2021-09-07T18:55:32.857Z"
   },
   {
    "duration": 11,
    "start_time": "2021-09-07T18:55:32.879Z"
   },
   {
    "duration": 17,
    "start_time": "2021-09-07T18:55:32.892Z"
   },
   {
    "duration": 6,
    "start_time": "2021-09-07T18:55:32.911Z"
   },
   {
    "duration": 4097,
    "start_time": "2021-09-07T18:55:32.919Z"
   },
   {
    "duration": 4,
    "start_time": "2021-09-07T18:55:37.019Z"
   },
   {
    "duration": 53,
    "start_time": "2021-09-07T18:55:37.025Z"
   },
   {
    "duration": 7,
    "start_time": "2021-09-07T18:55:37.080Z"
   },
   {
    "duration": 34,
    "start_time": "2021-09-07T18:55:37.089Z"
   },
   {
    "duration": 4,
    "start_time": "2021-09-07T18:55:37.125Z"
   },
   {
    "duration": 83,
    "start_time": "2021-09-07T18:55:37.131Z"
   },
   {
    "duration": 37,
    "start_time": "2021-09-07T18:55:37.216Z"
   },
   {
    "duration": 22,
    "start_time": "2021-09-07T18:55:37.255Z"
   },
   {
    "duration": 34,
    "start_time": "2021-09-07T18:55:37.279Z"
   },
   {
    "duration": 25,
    "start_time": "2021-09-07T18:55:37.315Z"
   },
   {
    "duration": 54,
    "start_time": "2021-09-07T18:55:37.342Z"
   },
   {
    "duration": 26,
    "start_time": "2021-09-07T18:55:37.398Z"
   },
   {
    "duration": 60,
    "start_time": "2021-09-07T18:55:37.427Z"
   },
   {
    "duration": 48,
    "start_time": "2021-09-07T18:55:37.489Z"
   },
   {
    "duration": 99,
    "start_time": "2021-09-07T18:55:37.539Z"
   },
   {
    "duration": 22,
    "start_time": "2021-09-07T18:55:37.641Z"
   },
   {
    "duration": 43,
    "start_time": "2021-09-07T18:55:37.666Z"
   },
   {
    "duration": 689,
    "start_time": "2021-09-07T19:21:12.084Z"
   },
   {
    "duration": 16,
    "start_time": "2021-09-07T19:21:12.775Z"
   },
   {
    "duration": 4,
    "start_time": "2021-09-07T19:21:12.793Z"
   },
   {
    "duration": 10,
    "start_time": "2021-09-07T19:21:12.798Z"
   },
   {
    "duration": 13,
    "start_time": "2021-09-07T19:21:12.810Z"
   },
   {
    "duration": 27,
    "start_time": "2021-09-07T19:21:12.825Z"
   },
   {
    "duration": 7,
    "start_time": "2021-09-07T19:21:12.880Z"
   },
   {
    "duration": 5,
    "start_time": "2021-09-07T19:21:12.890Z"
   },
   {
    "duration": 32,
    "start_time": "2021-09-07T19:21:12.898Z"
   },
   {
    "duration": 7,
    "start_time": "2021-09-07T19:21:12.932Z"
   },
   {
    "duration": 43,
    "start_time": "2021-09-07T19:21:12.941Z"
   },
   {
    "duration": 23,
    "start_time": "2021-09-07T19:21:12.986Z"
   },
   {
    "duration": 8,
    "start_time": "2021-09-07T19:21:13.011Z"
   },
   {
    "duration": 22,
    "start_time": "2021-09-07T19:21:13.021Z"
   },
   {
    "duration": 56,
    "start_time": "2021-09-07T19:21:13.045Z"
   },
   {
    "duration": 21,
    "start_time": "2021-09-07T19:21:13.103Z"
   },
   {
    "duration": 18,
    "start_time": "2021-09-07T19:21:13.126Z"
   },
   {
    "duration": 46,
    "start_time": "2021-09-07T19:21:13.146Z"
   },
   {
    "duration": 16,
    "start_time": "2021-09-07T19:21:13.194Z"
   },
   {
    "duration": 18,
    "start_time": "2021-09-07T19:21:13.211Z"
   },
   {
    "duration": 9,
    "start_time": "2021-09-07T19:21:13.231Z"
   },
   {
    "duration": 37,
    "start_time": "2021-09-07T19:21:13.241Z"
   },
   {
    "duration": 19,
    "start_time": "2021-09-07T19:21:13.283Z"
   },
   {
    "duration": 7,
    "start_time": "2021-09-07T19:21:13.305Z"
   },
   {
    "duration": 5,
    "start_time": "2021-09-07T19:21:13.314Z"
   },
   {
    "duration": 7,
    "start_time": "2021-09-07T19:21:13.321Z"
   },
   {
    "duration": 63,
    "start_time": "2021-09-07T19:21:13.329Z"
   },
   {
    "duration": 9,
    "start_time": "2021-09-07T19:21:13.395Z"
   },
   {
    "duration": 21,
    "start_time": "2021-09-07T19:21:13.406Z"
   },
   {
    "duration": 19,
    "start_time": "2021-09-07T19:21:13.428Z"
   },
   {
    "duration": 3788,
    "start_time": "2021-09-07T19:21:13.448Z"
   },
   {
    "duration": 3,
    "start_time": "2021-09-07T19:21:17.238Z"
   },
   {
    "duration": 42,
    "start_time": "2021-09-07T19:21:17.243Z"
   },
   {
    "duration": 7,
    "start_time": "2021-09-07T19:21:17.288Z"
   },
   {
    "duration": 25,
    "start_time": "2021-09-07T19:21:17.297Z"
   },
   {
    "duration": 15,
    "start_time": "2021-09-07T19:21:17.323Z"
   },
   {
    "duration": 61,
    "start_time": "2021-09-07T19:21:17.339Z"
   },
   {
    "duration": 30,
    "start_time": "2021-09-07T19:21:17.402Z"
   },
   {
    "duration": 4,
    "start_time": "2021-09-07T19:21:17.434Z"
   },
   {
    "duration": 51,
    "start_time": "2021-09-07T19:21:17.440Z"
   },
   {
    "duration": 23,
    "start_time": "2021-09-07T19:21:17.493Z"
   },
   {
    "duration": 16,
    "start_time": "2021-09-07T19:21:17.518Z"
   },
   {
    "duration": 42,
    "start_time": "2021-09-07T19:21:17.535Z"
   },
   {
    "duration": 21,
    "start_time": "2021-09-07T19:21:17.579Z"
   },
   {
    "duration": 27,
    "start_time": "2021-09-07T19:21:17.602Z"
   },
   {
    "duration": 20,
    "start_time": "2021-09-07T19:21:17.631Z"
   },
   {
    "duration": 5,
    "start_time": "2021-09-07T19:21:17.676Z"
   },
   {
    "duration": 30,
    "start_time": "2021-09-07T19:21:17.683Z"
   },
   {
    "duration": 103,
    "start_time": "2021-09-07T19:21:17.715Z"
   },
   {
    "duration": 840,
    "start_time": "2021-09-07T21:16:45.233Z"
   },
   {
    "duration": 12,
    "start_time": "2021-09-07T21:16:46.075Z"
   },
   {
    "duration": 9,
    "start_time": "2021-09-07T21:16:46.090Z"
   },
   {
    "duration": 16,
    "start_time": "2021-09-07T21:16:46.101Z"
   },
   {
    "duration": 18,
    "start_time": "2021-09-07T21:16:46.120Z"
   },
   {
    "duration": 54,
    "start_time": "2021-09-07T21:16:46.161Z"
   },
   {
    "duration": 5,
    "start_time": "2021-09-07T21:16:46.218Z"
   },
   {
    "duration": 13,
    "start_time": "2021-09-07T21:16:46.226Z"
   },
   {
    "duration": 42,
    "start_time": "2021-09-07T21:16:46.265Z"
   },
   {
    "duration": 12,
    "start_time": "2021-09-07T21:16:46.310Z"
   },
   {
    "duration": 73,
    "start_time": "2021-09-07T21:16:46.324Z"
   },
   {
    "duration": 38,
    "start_time": "2021-09-07T21:16:46.400Z"
   },
   {
    "duration": 23,
    "start_time": "2021-09-07T21:16:46.440Z"
   },
   {
    "duration": 37,
    "start_time": "2021-09-07T21:16:46.466Z"
   },
   {
    "duration": 59,
    "start_time": "2021-09-07T21:16:46.505Z"
   },
   {
    "duration": 36,
    "start_time": "2021-09-07T21:16:46.566Z"
   },
   {
    "duration": 60,
    "start_time": "2021-09-07T21:16:46.604Z"
   },
   {
    "duration": 23,
    "start_time": "2021-09-07T21:16:46.666Z"
   },
   {
    "duration": 20,
    "start_time": "2021-09-07T21:16:46.691Z"
   },
   {
    "duration": 56,
    "start_time": "2021-09-07T21:16:46.713Z"
   },
   {
    "duration": 12,
    "start_time": "2021-09-07T21:16:46.772Z"
   },
   {
    "duration": 5,
    "start_time": "2021-09-07T21:16:46.786Z"
   },
   {
    "duration": 21,
    "start_time": "2021-09-07T21:16:46.793Z"
   },
   {
    "duration": 10,
    "start_time": "2021-09-07T21:16:46.817Z"
   },
   {
    "duration": 7,
    "start_time": "2021-09-07T21:16:46.863Z"
   },
   {
    "duration": 10,
    "start_time": "2021-09-07T21:16:46.872Z"
   },
   {
    "duration": 29,
    "start_time": "2021-09-07T21:16:46.888Z"
   },
   {
    "duration": 12,
    "start_time": "2021-09-07T21:16:46.961Z"
   },
   {
    "duration": 28,
    "start_time": "2021-09-07T21:16:46.975Z"
   },
   {
    "duration": 12,
    "start_time": "2021-09-07T21:16:47.005Z"
   },
   {
    "duration": 4305,
    "start_time": "2021-09-07T21:16:47.019Z"
   },
   {
    "duration": 4,
    "start_time": "2021-09-07T21:16:51.327Z"
   },
   {
    "duration": 60,
    "start_time": "2021-09-07T21:16:51.334Z"
   },
   {
    "duration": 9,
    "start_time": "2021-09-07T21:16:51.396Z"
   },
   {
    "duration": 60,
    "start_time": "2021-09-07T21:16:51.407Z"
   },
   {
    "duration": 6,
    "start_time": "2021-09-07T21:16:51.469Z"
   },
   {
    "duration": 74,
    "start_time": "2021-09-07T21:16:51.477Z"
   },
   {
    "duration": 47,
    "start_time": "2021-09-07T21:16:51.553Z"
   },
   {
    "duration": 12,
    "start_time": "2021-09-07T21:16:51.602Z"
   },
   {
    "duration": 60,
    "start_time": "2021-09-07T21:16:51.616Z"
   },
   {
    "duration": 31,
    "start_time": "2021-09-07T21:16:51.679Z"
   },
   {
    "duration": 58,
    "start_time": "2021-09-07T21:16:51.713Z"
   },
   {
    "duration": 35,
    "start_time": "2021-09-07T21:16:51.773Z"
   },
   {
    "duration": 26,
    "start_time": "2021-09-07T21:16:51.810Z"
   },
   {
    "duration": 64,
    "start_time": "2021-09-07T21:16:51.838Z"
   },
   {
    "duration": 31,
    "start_time": "2021-09-07T21:16:51.905Z"
   },
   {
    "duration": 6,
    "start_time": "2021-09-07T21:16:51.962Z"
   },
   {
    "duration": 31,
    "start_time": "2021-09-07T21:16:51.970Z"
   },
   {
    "duration": 26,
    "start_time": "2021-09-07T21:27:54.494Z"
   },
   {
    "duration": 21,
    "start_time": "2021-09-07T21:31:53.273Z"
   },
   {
    "duration": 791,
    "start_time": "2021-09-10T12:32:20.366Z"
   },
   {
    "duration": 15,
    "start_time": "2021-09-10T12:32:21.160Z"
   },
   {
    "duration": 18,
    "start_time": "2021-09-10T12:32:21.180Z"
   },
   {
    "duration": 32,
    "start_time": "2021-09-10T12:32:21.201Z"
   },
   {
    "duration": 30,
    "start_time": "2021-09-10T12:32:21.236Z"
   },
   {
    "duration": 49,
    "start_time": "2021-09-10T12:32:21.269Z"
   },
   {
    "duration": 4,
    "start_time": "2021-09-10T12:32:21.321Z"
   },
   {
    "duration": 15,
    "start_time": "2021-09-10T12:32:21.328Z"
   },
   {
    "duration": 66,
    "start_time": "2021-09-10T12:32:21.347Z"
   },
   {
    "duration": 12,
    "start_time": "2021-09-10T12:32:21.416Z"
   },
   {
    "duration": 48,
    "start_time": "2021-09-10T12:32:21.430Z"
   },
   {
    "duration": 60,
    "start_time": "2021-09-10T12:32:21.480Z"
   },
   {
    "duration": 11,
    "start_time": "2021-09-10T12:32:21.542Z"
   },
   {
    "duration": 86,
    "start_time": "2021-09-10T12:32:21.556Z"
   },
   {
    "duration": 38,
    "start_time": "2021-09-10T12:32:21.645Z"
   },
   {
    "duration": 62,
    "start_time": "2021-09-10T12:32:21.686Z"
   },
   {
    "duration": 52,
    "start_time": "2021-09-10T12:32:21.750Z"
   },
   {
    "duration": 35,
    "start_time": "2021-09-10T12:32:21.805Z"
   },
   {
    "duration": 32,
    "start_time": "2021-09-10T12:32:21.842Z"
   },
   {
    "duration": 42,
    "start_time": "2021-09-10T12:32:21.876Z"
   },
   {
    "duration": 22,
    "start_time": "2021-09-10T12:32:21.920Z"
   },
   {
    "duration": 31,
    "start_time": "2021-09-10T12:32:21.945Z"
   },
   {
    "duration": 43,
    "start_time": "2021-09-10T12:32:21.978Z"
   },
   {
    "duration": 11,
    "start_time": "2021-09-10T12:32:22.023Z"
   },
   {
    "duration": 38,
    "start_time": "2021-09-10T12:32:22.037Z"
   },
   {
    "duration": 27,
    "start_time": "2021-09-10T12:32:22.077Z"
   },
   {
    "duration": 47,
    "start_time": "2021-09-10T12:32:22.109Z"
   },
   {
    "duration": 40,
    "start_time": "2021-09-10T12:32:22.159Z"
   },
   {
    "duration": 43,
    "start_time": "2021-09-10T12:32:22.202Z"
   },
   {
    "duration": 34,
    "start_time": "2021-09-10T12:32:22.248Z"
   },
   {
    "duration": 4518,
    "start_time": "2021-09-10T12:32:22.284Z"
   },
   {
    "duration": 12,
    "start_time": "2021-09-10T12:32:26.805Z"
   },
   {
    "duration": 49,
    "start_time": "2021-09-10T12:32:26.820Z"
   },
   {
    "duration": 44,
    "start_time": "2021-09-10T12:32:26.872Z"
   },
   {
    "duration": 36,
    "start_time": "2021-09-10T12:32:26.918Z"
   },
   {
    "duration": 10,
    "start_time": "2021-09-10T12:32:26.957Z"
   },
   {
    "duration": 88,
    "start_time": "2021-09-10T12:32:26.970Z"
   },
   {
    "duration": 56,
    "start_time": "2021-09-10T12:32:27.060Z"
   },
   {
    "duration": 5,
    "start_time": "2021-09-10T12:32:27.119Z"
   },
   {
    "duration": 50,
    "start_time": "2021-09-10T12:32:27.126Z"
   },
   {
    "duration": 39,
    "start_time": "2021-09-10T12:32:27.179Z"
   },
   {
    "duration": 26,
    "start_time": "2021-09-10T12:32:27.220Z"
   },
   {
    "duration": 44,
    "start_time": "2021-09-10T12:32:27.248Z"
   },
   {
    "duration": 47,
    "start_time": "2021-09-10T12:32:27.294Z"
   },
   {
    "duration": 47,
    "start_time": "2021-09-10T12:32:27.344Z"
   },
   {
    "duration": 46,
    "start_time": "2021-09-10T12:32:27.394Z"
   },
   {
    "duration": 34,
    "start_time": "2021-09-10T12:32:27.442Z"
   },
   {
    "duration": 6,
    "start_time": "2021-09-10T12:32:27.478Z"
   },
   {
    "duration": 56,
    "start_time": "2021-09-10T12:32:27.486Z"
   },
   {
    "duration": 20,
    "start_time": "2021-09-10T12:32:27.545Z"
   },
   {
    "duration": 842,
    "start_time": "2021-09-10T12:36:25.517Z"
   },
   {
    "duration": 13,
    "start_time": "2021-09-10T12:36:26.361Z"
   },
   {
    "duration": 21,
    "start_time": "2021-09-10T12:36:26.377Z"
   },
   {
    "duration": 23,
    "start_time": "2021-09-10T12:36:26.401Z"
   },
   {
    "duration": 20,
    "start_time": "2021-09-10T12:36:26.427Z"
   },
   {
    "duration": 47,
    "start_time": "2021-09-10T12:36:26.449Z"
   },
   {
    "duration": 20,
    "start_time": "2021-09-10T12:36:26.499Z"
   },
   {
    "duration": 15,
    "start_time": "2021-09-10T12:36:26.523Z"
   },
   {
    "duration": 48,
    "start_time": "2021-09-10T12:36:26.540Z"
   },
   {
    "duration": 27,
    "start_time": "2021-09-10T12:36:26.590Z"
   },
   {
    "duration": 48,
    "start_time": "2021-09-10T12:36:26.619Z"
   },
   {
    "duration": 52,
    "start_time": "2021-09-10T12:36:26.670Z"
   },
   {
    "duration": 19,
    "start_time": "2021-09-10T12:36:26.724Z"
   },
   {
    "duration": 47,
    "start_time": "2021-09-10T12:36:26.745Z"
   },
   {
    "duration": 48,
    "start_time": "2021-09-10T12:36:26.794Z"
   },
   {
    "duration": 37,
    "start_time": "2021-09-10T12:36:26.844Z"
   },
   {
    "duration": 60,
    "start_time": "2021-09-10T12:36:26.884Z"
   },
   {
    "duration": 22,
    "start_time": "2021-09-10T12:36:26.947Z"
   },
   {
    "duration": 21,
    "start_time": "2021-09-10T12:36:26.972Z"
   },
   {
    "duration": 29,
    "start_time": "2021-09-10T12:36:27.015Z"
   },
   {
    "duration": 25,
    "start_time": "2021-09-10T12:36:27.046Z"
   },
   {
    "duration": 19,
    "start_time": "2021-09-10T12:36:27.073Z"
   },
   {
    "duration": 34,
    "start_time": "2021-09-10T12:36:27.097Z"
   },
   {
    "duration": 10,
    "start_time": "2021-09-10T12:36:27.134Z"
   },
   {
    "duration": 9,
    "start_time": "2021-09-10T12:36:27.147Z"
   },
   {
    "duration": 17,
    "start_time": "2021-09-10T12:36:27.159Z"
   },
   {
    "duration": 31,
    "start_time": "2021-09-10T12:36:27.179Z"
   },
   {
    "duration": 12,
    "start_time": "2021-09-10T12:36:27.212Z"
   },
   {
    "duration": 32,
    "start_time": "2021-09-10T12:36:27.226Z"
   },
   {
    "duration": 15,
    "start_time": "2021-09-10T12:36:27.260Z"
   },
   {
    "duration": 4500,
    "start_time": "2021-09-10T12:36:27.278Z"
   },
   {
    "duration": 4,
    "start_time": "2021-09-10T12:36:31.780Z"
   },
   {
    "duration": 54,
    "start_time": "2021-09-10T12:36:31.786Z"
   },
   {
    "duration": 8,
    "start_time": "2021-09-10T12:36:31.842Z"
   },
   {
    "duration": 36,
    "start_time": "2021-09-10T12:36:31.853Z"
   },
   {
    "duration": 10,
    "start_time": "2021-09-10T12:36:31.892Z"
   },
   {
    "duration": 78,
    "start_time": "2021-09-10T12:36:31.904Z"
   },
   {
    "duration": 45,
    "start_time": "2021-09-10T12:36:31.984Z"
   },
   {
    "duration": 18,
    "start_time": "2021-09-10T12:36:32.031Z"
   },
   {
    "duration": 49,
    "start_time": "2021-09-10T12:36:32.052Z"
   },
   {
    "duration": 7,
    "start_time": "2021-09-10T12:36:32.103Z"
   },
   {
    "duration": 40,
    "start_time": "2021-09-10T12:36:32.113Z"
   },
   {
    "duration": 24,
    "start_time": "2021-09-10T12:36:32.155Z"
   },
   {
    "duration": 30,
    "start_time": "2021-09-10T12:36:32.181Z"
   },
   {
    "duration": 26,
    "start_time": "2021-09-10T12:36:32.213Z"
   },
   {
    "duration": 26,
    "start_time": "2021-09-10T12:36:32.242Z"
   },
   {
    "duration": 52,
    "start_time": "2021-09-10T12:36:32.270Z"
   },
   {
    "duration": 31,
    "start_time": "2021-09-10T12:36:32.324Z"
   },
   {
    "duration": 46,
    "start_time": "2021-09-10T12:36:32.358Z"
   },
   {
    "duration": 57,
    "start_time": "2021-09-10T12:36:32.406Z"
   },
   {
    "duration": 37,
    "start_time": "2021-09-10T12:36:32.466Z"
   },
   {
    "duration": 862,
    "start_time": "2021-09-10T12:36:59.405Z"
   },
   {
    "duration": 14,
    "start_time": "2021-09-10T12:37:00.270Z"
   },
   {
    "duration": 28,
    "start_time": "2021-09-10T12:37:00.288Z"
   },
   {
    "duration": 24,
    "start_time": "2021-09-10T12:37:00.319Z"
   },
   {
    "duration": 21,
    "start_time": "2021-09-10T12:37:00.346Z"
   },
   {
    "duration": 57,
    "start_time": "2021-09-10T12:37:00.370Z"
   },
   {
    "duration": 4,
    "start_time": "2021-09-10T12:37:00.429Z"
   },
   {
    "duration": 17,
    "start_time": "2021-09-10T12:37:00.437Z"
   },
   {
    "duration": 64,
    "start_time": "2021-09-10T12:37:00.458Z"
   },
   {
    "duration": 15,
    "start_time": "2021-09-10T12:37:00.525Z"
   },
   {
    "duration": 69,
    "start_time": "2021-09-10T12:37:00.543Z"
   },
   {
    "duration": 35,
    "start_time": "2021-09-10T12:37:00.616Z"
   },
   {
    "duration": 12,
    "start_time": "2021-09-10T12:37:00.654Z"
   },
   {
    "duration": 62,
    "start_time": "2021-09-10T12:37:00.669Z"
   },
   {
    "duration": 46,
    "start_time": "2021-09-10T12:37:00.733Z"
   },
   {
    "duration": 60,
    "start_time": "2021-09-10T12:37:00.781Z"
   },
   {
    "duration": 40,
    "start_time": "2021-09-10T12:37:00.844Z"
   },
   {
    "duration": 42,
    "start_time": "2021-09-10T12:37:00.886Z"
   },
   {
    "duration": 23,
    "start_time": "2021-09-10T12:37:00.931Z"
   },
   {
    "duration": 30,
    "start_time": "2021-09-10T12:37:00.957Z"
   },
   {
    "duration": 35,
    "start_time": "2021-09-10T12:37:00.989Z"
   },
   {
    "duration": 21,
    "start_time": "2021-09-10T12:37:01.026Z"
   },
   {
    "duration": 27,
    "start_time": "2021-09-10T12:37:01.053Z"
   },
   {
    "duration": 19,
    "start_time": "2021-09-10T12:37:01.083Z"
   },
   {
    "duration": 42,
    "start_time": "2021-09-10T12:37:01.104Z"
   },
   {
    "duration": 17,
    "start_time": "2021-09-10T12:37:01.148Z"
   },
   {
    "duration": 39,
    "start_time": "2021-09-10T12:37:01.168Z"
   },
   {
    "duration": 15,
    "start_time": "2021-09-10T12:37:01.209Z"
   },
   {
    "duration": 37,
    "start_time": "2021-09-10T12:37:01.226Z"
   },
   {
    "duration": 6,
    "start_time": "2021-09-10T12:37:01.265Z"
   },
   {
    "duration": 4756,
    "start_time": "2021-09-10T12:37:01.273Z"
   },
   {
    "duration": 4,
    "start_time": "2021-09-10T12:37:06.032Z"
   },
   {
    "duration": 65,
    "start_time": "2021-09-10T12:37:06.038Z"
   },
   {
    "duration": 11,
    "start_time": "2021-09-10T12:37:06.105Z"
   },
   {
    "duration": 62,
    "start_time": "2021-09-10T12:37:06.118Z"
   },
   {
    "duration": 8,
    "start_time": "2021-09-10T12:37:06.182Z"
   },
   {
    "duration": 67,
    "start_time": "2021-09-10T12:37:06.193Z"
   },
   {
    "duration": 56,
    "start_time": "2021-09-10T12:37:06.262Z"
   },
   {
    "duration": 5,
    "start_time": "2021-09-10T12:37:06.321Z"
   },
   {
    "duration": 50,
    "start_time": "2021-09-10T12:37:06.329Z"
   },
   {
    "duration": 8284,
    "start_time": "2021-09-10T12:37:06.382Z"
   },
   {
    "duration": -459,
    "start_time": "2021-09-10T12:37:15.128Z"
   },
   {
    "duration": -462,
    "start_time": "2021-09-10T12:37:15.134Z"
   },
   {
    "duration": -464,
    "start_time": "2021-09-10T12:37:15.138Z"
   },
   {
    "duration": -465,
    "start_time": "2021-09-10T12:37:15.141Z"
   },
   {
    "duration": -467,
    "start_time": "2021-09-10T12:37:15.145Z"
   },
   {
    "duration": -467,
    "start_time": "2021-09-10T12:37:15.147Z"
   },
   {
    "duration": -469,
    "start_time": "2021-09-10T12:37:15.151Z"
   },
   {
    "duration": -471,
    "start_time": "2021-09-10T12:37:15.154Z"
   },
   {
    "duration": -471,
    "start_time": "2021-09-10T12:37:15.156Z"
   },
   {
    "duration": -473,
    "start_time": "2021-09-10T12:37:15.159Z"
   },
   {
    "duration": 859,
    "start_time": "2021-09-10T12:37:32.882Z"
   },
   {
    "duration": 14,
    "start_time": "2021-09-10T12:37:33.744Z"
   },
   {
    "duration": 8,
    "start_time": "2021-09-10T12:37:33.761Z"
   },
   {
    "duration": 19,
    "start_time": "2021-09-10T12:37:33.772Z"
   },
   {
    "duration": 36,
    "start_time": "2021-09-10T12:37:33.794Z"
   },
   {
    "duration": 46,
    "start_time": "2021-09-10T12:37:33.832Z"
   },
   {
    "duration": 5,
    "start_time": "2021-09-10T12:37:33.880Z"
   },
   {
    "duration": 5,
    "start_time": "2021-09-10T12:37:33.916Z"
   },
   {
    "duration": 54,
    "start_time": "2021-09-10T12:37:33.926Z"
   },
   {
    "duration": 12,
    "start_time": "2021-09-10T12:37:33.983Z"
   },
   {
    "duration": 34,
    "start_time": "2021-09-10T12:37:34.016Z"
   },
   {
    "duration": 36,
    "start_time": "2021-09-10T12:37:34.052Z"
   },
   {
    "duration": 36,
    "start_time": "2021-09-10T12:37:34.091Z"
   },
   {
    "duration": 47,
    "start_time": "2021-09-10T12:37:34.130Z"
   },
   {
    "duration": 58,
    "start_time": "2021-09-10T12:37:34.180Z"
   },
   {
    "duration": 38,
    "start_time": "2021-09-10T12:37:34.240Z"
   },
   {
    "duration": 55,
    "start_time": "2021-09-10T12:37:34.280Z"
   },
   {
    "duration": 22,
    "start_time": "2021-09-10T12:37:34.337Z"
   },
   {
    "duration": 22,
    "start_time": "2021-09-10T12:37:34.361Z"
   },
   {
    "duration": 56,
    "start_time": "2021-09-10T12:37:34.385Z"
   },
   {
    "duration": 13,
    "start_time": "2021-09-10T12:37:34.443Z"
   },
   {
    "duration": 8,
    "start_time": "2021-09-10T12:37:34.458Z"
   },
   {
    "duration": 53,
    "start_time": "2021-09-10T12:37:34.468Z"
   },
   {
    "duration": 11,
    "start_time": "2021-09-10T12:37:34.523Z"
   },
   {
    "duration": 11,
    "start_time": "2021-09-10T12:37:34.536Z"
   },
   {
    "duration": 9,
    "start_time": "2021-09-10T12:37:34.549Z"
   },
   {
    "duration": 79,
    "start_time": "2021-09-10T12:37:34.563Z"
   },
   {
    "duration": 13,
    "start_time": "2021-09-10T12:37:34.648Z"
   },
   {
    "duration": 58,
    "start_time": "2021-09-10T12:37:34.664Z"
   },
   {
    "duration": 6,
    "start_time": "2021-09-10T12:37:34.725Z"
   },
   {
    "duration": 4586,
    "start_time": "2021-09-10T12:37:34.734Z"
   },
   {
    "duration": 5,
    "start_time": "2021-09-10T12:37:39.324Z"
   },
   {
    "duration": 53,
    "start_time": "2021-09-10T12:37:39.332Z"
   },
   {
    "duration": 34,
    "start_time": "2021-09-10T12:37:39.387Z"
   },
   {
    "duration": 37,
    "start_time": "2021-09-10T12:37:39.424Z"
   },
   {
    "duration": 5,
    "start_time": "2021-09-10T12:37:39.464Z"
   },
   {
    "duration": 104,
    "start_time": "2021-09-10T12:37:39.472Z"
   },
   {
    "duration": 61,
    "start_time": "2021-09-10T12:37:39.579Z"
   },
   {
    "duration": 6,
    "start_time": "2021-09-10T12:37:39.642Z"
   },
   {
    "duration": 71,
    "start_time": "2021-09-10T12:37:39.650Z"
   },
   {
    "duration": 7,
    "start_time": "2021-09-10T12:37:39.724Z"
   },
   {
    "duration": 29,
    "start_time": "2021-09-10T12:37:39.734Z"
   },
   {
    "duration": 56,
    "start_time": "2021-09-10T12:37:39.766Z"
   },
   {
    "duration": 30,
    "start_time": "2021-09-10T12:37:39.825Z"
   },
   {
    "duration": 29,
    "start_time": "2021-09-10T12:37:39.857Z"
   },
   {
    "duration": 55,
    "start_time": "2021-09-10T12:37:39.888Z"
   },
   {
    "duration": 76,
    "start_time": "2021-09-10T12:37:39.945Z"
   },
   {
    "duration": 34,
    "start_time": "2021-09-10T12:37:40.023Z"
   },
   {
    "duration": 14,
    "start_time": "2021-09-10T12:37:40.059Z"
   },
   {
    "duration": 58,
    "start_time": "2021-09-10T12:37:40.076Z"
   },
   {
    "duration": 20,
    "start_time": "2021-09-10T12:37:40.136Z"
   },
   {
    "duration": 6,
    "start_time": "2021-09-10T12:43:57.903Z"
   },
   {
    "duration": 795,
    "start_time": "2021-09-10T12:44:40.665Z"
   },
   {
    "duration": 15,
    "start_time": "2021-09-10T12:44:41.463Z"
   },
   {
    "duration": 11,
    "start_time": "2021-09-10T12:44:41.482Z"
   },
   {
    "duration": 31,
    "start_time": "2021-09-10T12:44:41.495Z"
   },
   {
    "duration": 13,
    "start_time": "2021-09-10T12:44:41.528Z"
   },
   {
    "duration": 49,
    "start_time": "2021-09-10T12:44:41.544Z"
   },
   {
    "duration": 5,
    "start_time": "2021-09-10T12:44:41.617Z"
   },
   {
    "duration": 19,
    "start_time": "2021-09-10T12:44:41.626Z"
   },
   {
    "duration": 62,
    "start_time": "2021-09-10T12:44:41.648Z"
   },
   {
    "duration": 12,
    "start_time": "2021-09-10T12:44:41.713Z"
   },
   {
    "duration": 41,
    "start_time": "2021-09-10T12:44:41.727Z"
   },
   {
    "duration": 46,
    "start_time": "2021-09-10T12:44:41.770Z"
   },
   {
    "duration": 11,
    "start_time": "2021-09-10T12:44:41.819Z"
   },
   {
    "duration": 52,
    "start_time": "2021-09-10T12:44:41.833Z"
   },
   {
    "duration": 48,
    "start_time": "2021-09-10T12:44:41.887Z"
   },
   {
    "duration": 37,
    "start_time": "2021-09-10T12:44:41.938Z"
   },
   {
    "duration": 59,
    "start_time": "2021-09-10T12:44:41.977Z"
   },
   {
    "duration": 24,
    "start_time": "2021-09-10T12:44:42.039Z"
   },
   {
    "duration": 22,
    "start_time": "2021-09-10T12:44:42.066Z"
   },
   {
    "duration": 53,
    "start_time": "2021-09-10T12:44:42.091Z"
   },
   {
    "duration": 24,
    "start_time": "2021-09-10T12:44:42.146Z"
   },
   {
    "duration": 17,
    "start_time": "2021-09-10T12:44:42.172Z"
   },
   {
    "duration": 26,
    "start_time": "2021-09-10T12:44:42.195Z"
   },
   {
    "duration": 12,
    "start_time": "2021-09-10T12:44:42.224Z"
   },
   {
    "duration": 26,
    "start_time": "2021-09-10T12:44:42.239Z"
   },
   {
    "duration": 23,
    "start_time": "2021-09-10T12:44:42.268Z"
   },
   {
    "duration": 40,
    "start_time": "2021-09-10T12:44:42.294Z"
   },
   {
    "duration": 28,
    "start_time": "2021-09-10T12:44:42.336Z"
   },
   {
    "duration": 41,
    "start_time": "2021-09-10T12:44:42.367Z"
   },
   {
    "duration": 15,
    "start_time": "2021-09-10T12:44:42.410Z"
   },
   {
    "duration": 4577,
    "start_time": "2021-09-10T12:44:42.427Z"
   },
   {
    "duration": 10,
    "start_time": "2021-09-10T12:44:47.007Z"
   },
   {
    "duration": 43,
    "start_time": "2021-09-10T12:44:47.019Z"
   },
   {
    "duration": 8,
    "start_time": "2021-09-10T12:44:47.064Z"
   },
   {
    "duration": 68,
    "start_time": "2021-09-10T12:44:47.075Z"
   },
   {
    "duration": 11,
    "start_time": "2021-09-10T12:44:47.145Z"
   },
   {
    "duration": 81,
    "start_time": "2021-09-10T12:44:47.158Z"
   },
   {
    "duration": 45,
    "start_time": "2021-09-10T12:44:47.241Z"
   },
   {
    "duration": 30,
    "start_time": "2021-09-10T12:44:47.288Z"
   },
   {
    "duration": 43,
    "start_time": "2021-09-10T12:44:47.320Z"
   },
   {
    "duration": 8,
    "start_time": "2021-09-10T12:44:47.365Z"
   },
   {
    "duration": 6,
    "start_time": "2021-09-10T12:44:47.376Z"
   },
   {
    "duration": 50,
    "start_time": "2021-09-10T12:44:47.418Z"
   },
   {
    "duration": 63,
    "start_time": "2021-09-10T12:44:47.471Z"
   },
   {
    "duration": 23,
    "start_time": "2021-09-10T12:44:47.536Z"
   },
   {
    "duration": 30,
    "start_time": "2021-09-10T12:44:47.561Z"
   },
   {
    "duration": 29,
    "start_time": "2021-09-10T12:44:47.616Z"
   },
   {
    "duration": 28,
    "start_time": "2021-09-10T12:44:47.648Z"
   },
   {
    "duration": 74,
    "start_time": "2021-09-10T12:44:47.678Z"
   },
   {
    "duration": 32,
    "start_time": "2021-09-10T12:44:47.754Z"
   },
   {
    "duration": 27,
    "start_time": "2021-09-10T12:44:47.789Z"
   },
   {
    "duration": 37,
    "start_time": "2021-09-10T12:44:47.819Z"
   },
   {
    "duration": 25,
    "start_time": "2021-09-10T12:44:47.858Z"
   },
   {
    "duration": 847,
    "start_time": "2021-09-10T12:46:06.839Z"
   },
   {
    "duration": 14,
    "start_time": "2021-09-10T12:46:07.689Z"
   },
   {
    "duration": 12,
    "start_time": "2021-09-10T12:46:07.706Z"
   },
   {
    "duration": 15,
    "start_time": "2021-09-10T12:46:07.722Z"
   },
   {
    "duration": 16,
    "start_time": "2021-09-10T12:46:07.740Z"
   },
   {
    "duration": 91,
    "start_time": "2021-09-10T12:46:07.759Z"
   },
   {
    "duration": 5,
    "start_time": "2021-09-10T12:46:07.853Z"
   },
   {
    "duration": 6,
    "start_time": "2021-09-10T12:46:07.864Z"
   },
   {
    "duration": 76,
    "start_time": "2021-09-10T12:46:07.873Z"
   },
   {
    "duration": 11,
    "start_time": "2021-09-10T12:46:07.952Z"
   },
   {
    "duration": 52,
    "start_time": "2021-09-10T12:46:07.966Z"
   },
   {
    "duration": 35,
    "start_time": "2021-09-10T12:46:08.020Z"
   },
   {
    "duration": 15,
    "start_time": "2021-09-10T12:46:08.057Z"
   },
   {
    "duration": 66,
    "start_time": "2021-09-10T12:46:08.074Z"
   },
   {
    "duration": 36,
    "start_time": "2021-09-10T12:46:08.143Z"
   },
   {
    "duration": 58,
    "start_time": "2021-09-10T12:46:08.181Z"
   },
   {
    "duration": 34,
    "start_time": "2021-09-10T12:46:08.241Z"
   },
   {
    "duration": 49,
    "start_time": "2021-09-10T12:46:08.277Z"
   },
   {
    "duration": 23,
    "start_time": "2021-09-10T12:46:08.328Z"
   },
   {
    "duration": 27,
    "start_time": "2021-09-10T12:46:08.354Z"
   },
   {
    "duration": 34,
    "start_time": "2021-09-10T12:46:08.384Z"
   },
   {
    "duration": 3,
    "start_time": "2021-09-10T12:46:08.421Z"
   },
   {
    "duration": 22,
    "start_time": "2021-09-10T12:46:08.430Z"
   },
   {
    "duration": 10,
    "start_time": "2021-09-10T12:46:08.454Z"
   },
   {
    "duration": 51,
    "start_time": "2021-09-10T12:46:08.467Z"
   },
   {
    "duration": 10,
    "start_time": "2021-09-10T12:46:08.521Z"
   },
   {
    "duration": 32,
    "start_time": "2021-09-10T12:46:08.533Z"
   },
   {
    "duration": 13,
    "start_time": "2021-09-10T12:46:08.567Z"
   },
   {
    "duration": 60,
    "start_time": "2021-09-10T12:46:08.583Z"
   },
   {
    "duration": 7,
    "start_time": "2021-09-10T12:46:08.645Z"
   },
   {
    "duration": 4563,
    "start_time": "2021-09-10T12:46:08.654Z"
   },
   {
    "duration": 4,
    "start_time": "2021-09-10T12:46:13.219Z"
   },
   {
    "duration": 43,
    "start_time": "2021-09-10T12:46:13.226Z"
   },
   {
    "duration": 8,
    "start_time": "2021-09-10T12:46:13.272Z"
   },
   {
    "duration": 69,
    "start_time": "2021-09-10T12:46:13.283Z"
   },
   {
    "duration": 6,
    "start_time": "2021-09-10T12:46:13.355Z"
   },
   {
    "duration": 89,
    "start_time": "2021-09-10T12:46:13.364Z"
   },
   {
    "duration": 62,
    "start_time": "2021-09-10T12:46:13.455Z"
   },
   {
    "duration": 5,
    "start_time": "2021-09-10T12:46:13.519Z"
   },
   {
    "duration": 43,
    "start_time": "2021-09-10T12:46:13.526Z"
   },
   {
    "duration": 7,
    "start_time": "2021-09-10T12:46:13.572Z"
   },
   {
    "duration": 5,
    "start_time": "2021-09-10T12:46:13.617Z"
   },
   {
    "duration": 49,
    "start_time": "2021-09-10T12:46:13.624Z"
   },
   {
    "duration": 44,
    "start_time": "2021-09-10T12:46:13.676Z"
   },
   {
    "duration": 23,
    "start_time": "2021-09-10T12:46:13.723Z"
   },
   {
    "duration": 24,
    "start_time": "2021-09-10T12:46:13.748Z"
   },
   {
    "duration": 64,
    "start_time": "2021-09-10T12:46:13.775Z"
   },
   {
    "duration": 30,
    "start_time": "2021-09-10T12:46:13.841Z"
   },
   {
    "duration": 50,
    "start_time": "2021-09-10T12:46:13.873Z"
   },
   {
    "duration": 45,
    "start_time": "2021-09-10T12:46:13.925Z"
   },
   {
    "duration": 54,
    "start_time": "2021-09-10T12:46:13.972Z"
   },
   {
    "duration": 11,
    "start_time": "2021-09-10T12:46:14.029Z"
   },
   {
    "duration": 36,
    "start_time": "2021-09-10T12:46:14.043Z"
   },
   {
    "duration": 46,
    "start_time": "2021-09-10T12:46:14.083Z"
   },
   {
    "duration": 12,
    "start_time": "2021-09-10T12:46:39.677Z"
   },
   {
    "duration": 16,
    "start_time": "2021-09-10T12:47:11.355Z"
   },
   {
    "duration": 16,
    "start_time": "2021-09-10T12:47:33.578Z"
   },
   {
    "duration": 803,
    "start_time": "2021-09-10T12:49:32.970Z"
   },
   {
    "duration": 13,
    "start_time": "2021-09-10T12:49:33.776Z"
   },
   {
    "duration": 7,
    "start_time": "2021-09-10T12:49:33.792Z"
   },
   {
    "duration": 13,
    "start_time": "2021-09-10T12:49:33.816Z"
   },
   {
    "duration": 18,
    "start_time": "2021-09-10T12:49:33.832Z"
   },
   {
    "duration": 69,
    "start_time": "2021-09-10T12:49:33.852Z"
   },
   {
    "duration": 4,
    "start_time": "2021-09-10T12:49:33.923Z"
   },
   {
    "duration": 10,
    "start_time": "2021-09-10T12:49:33.930Z"
   },
   {
    "duration": 51,
    "start_time": "2021-09-10T12:49:33.943Z"
   },
   {
    "duration": 27,
    "start_time": "2021-09-10T12:49:33.997Z"
   },
   {
    "duration": 33,
    "start_time": "2021-09-10T12:49:34.027Z"
   },
   {
    "duration": 59,
    "start_time": "2021-09-10T12:49:34.063Z"
   },
   {
    "duration": 11,
    "start_time": "2021-09-10T12:49:34.124Z"
   },
   {
    "duration": 44,
    "start_time": "2021-09-10T12:49:34.138Z"
   },
   {
    "duration": 61,
    "start_time": "2021-09-10T12:49:34.184Z"
   },
   {
    "duration": 37,
    "start_time": "2021-09-10T12:49:34.248Z"
   },
   {
    "duration": 54,
    "start_time": "2021-09-10T12:49:34.287Z"
   },
   {
    "duration": 27,
    "start_time": "2021-09-10T12:49:34.344Z"
   },
   {
    "duration": 23,
    "start_time": "2021-09-10T12:49:34.373Z"
   },
   {
    "duration": 28,
    "start_time": "2021-09-10T12:49:34.417Z"
   },
   {
    "duration": 15,
    "start_time": "2021-09-10T12:49:34.447Z"
   },
   {
    "duration": 10,
    "start_time": "2021-09-10T12:49:34.464Z"
   },
   {
    "duration": 48,
    "start_time": "2021-09-10T12:49:34.479Z"
   },
   {
    "duration": 13,
    "start_time": "2021-09-10T12:49:34.530Z"
   },
   {
    "duration": 9,
    "start_time": "2021-09-10T12:49:34.545Z"
   },
   {
    "duration": 22,
    "start_time": "2021-09-10T12:49:34.557Z"
   },
   {
    "duration": 59,
    "start_time": "2021-09-10T12:49:34.582Z"
   },
   {
    "duration": 16,
    "start_time": "2021-09-10T12:49:34.644Z"
   },
   {
    "duration": 65,
    "start_time": "2021-09-10T12:49:34.663Z"
   },
   {
    "duration": 7,
    "start_time": "2021-09-10T12:49:34.731Z"
   },
   {
    "duration": 4531,
    "start_time": "2021-09-10T12:49:34.740Z"
   },
   {
    "duration": 6,
    "start_time": "2021-09-10T12:49:39.274Z"
   },
   {
    "duration": 71,
    "start_time": "2021-09-10T12:49:39.283Z"
   },
   {
    "duration": 10,
    "start_time": "2021-09-10T12:49:39.357Z"
   },
   {
    "duration": 60,
    "start_time": "2021-09-10T12:49:39.370Z"
   },
   {
    "duration": 7,
    "start_time": "2021-09-10T12:49:39.433Z"
   },
   {
    "duration": 89,
    "start_time": "2021-09-10T12:49:39.443Z"
   },
   {
    "duration": 84,
    "start_time": "2021-09-10T12:49:39.535Z"
   },
   {
    "duration": 6,
    "start_time": "2021-09-10T12:49:39.622Z"
   },
   {
    "duration": 59,
    "start_time": "2021-09-10T12:49:39.631Z"
   },
   {
    "duration": 10,
    "start_time": "2021-09-10T12:49:39.718Z"
   },
   {
    "duration": 5,
    "start_time": "2021-09-10T12:49:39.731Z"
   },
   {
    "duration": 48,
    "start_time": "2021-09-10T12:49:39.739Z"
   },
   {
    "duration": 23,
    "start_time": "2021-09-10T12:49:39.817Z"
   },
   {
    "duration": 6,
    "start_time": "2021-09-10T12:49:39.843Z"
   },
   {
    "duration": 24,
    "start_time": "2021-09-10T12:49:39.851Z"
   },
   {
    "duration": 60,
    "start_time": "2021-09-10T12:49:39.878Z"
   },
   {
    "duration": 28,
    "start_time": "2021-09-10T12:49:39.940Z"
   },
   {
    "duration": 58,
    "start_time": "2021-09-10T12:49:39.971Z"
   },
   {
    "duration": 31,
    "start_time": "2021-09-10T12:49:40.032Z"
   },
   {
    "duration": 71,
    "start_time": "2021-09-10T12:49:40.065Z"
   },
   {
    "duration": 43,
    "start_time": "2021-09-10T12:49:40.138Z"
   },
   {
    "duration": 13,
    "start_time": "2021-09-10T12:49:40.183Z"
   },
   {
    "duration": 44,
    "start_time": "2021-09-10T12:49:40.199Z"
   },
   {
    "duration": 19,
    "start_time": "2021-09-10T12:49:40.246Z"
   },
   {
    "duration": 827,
    "start_time": "2021-09-10T12:53:38.931Z"
   },
   {
    "duration": 14,
    "start_time": "2021-09-10T12:53:39.760Z"
   },
   {
    "duration": 18,
    "start_time": "2021-09-10T12:53:39.779Z"
   },
   {
    "duration": 22,
    "start_time": "2021-09-10T12:53:39.800Z"
   },
   {
    "duration": 15,
    "start_time": "2021-09-10T12:53:39.824Z"
   },
   {
    "duration": 48,
    "start_time": "2021-09-10T12:53:39.841Z"
   },
   {
    "duration": 4,
    "start_time": "2021-09-10T12:53:39.916Z"
   },
   {
    "duration": 12,
    "start_time": "2021-09-10T12:53:39.926Z"
   },
   {
    "duration": 53,
    "start_time": "2021-09-10T12:53:39.941Z"
   },
   {
    "duration": 31,
    "start_time": "2021-09-10T12:53:39.997Z"
   },
   {
    "duration": 45,
    "start_time": "2021-09-10T12:53:40.031Z"
   },
   {
    "duration": 57,
    "start_time": "2021-09-10T12:53:40.079Z"
   },
   {
    "duration": 12,
    "start_time": "2021-09-10T12:53:40.138Z"
   },
   {
    "duration": 41,
    "start_time": "2021-09-10T12:53:40.152Z"
   },
   {
    "duration": 53,
    "start_time": "2021-09-10T12:53:40.196Z"
   },
   {
    "duration": 64,
    "start_time": "2021-09-10T12:53:40.252Z"
   },
   {
    "duration": 32,
    "start_time": "2021-09-10T12:53:40.318Z"
   },
   {
    "duration": 22,
    "start_time": "2021-09-10T12:53:40.353Z"
   },
   {
    "duration": 55,
    "start_time": "2021-09-10T12:53:40.378Z"
   },
   {
    "duration": 30,
    "start_time": "2021-09-10T12:53:40.435Z"
   },
   {
    "duration": 20,
    "start_time": "2021-09-10T12:53:40.467Z"
   },
   {
    "duration": 6,
    "start_time": "2021-09-10T12:53:40.490Z"
   },
   {
    "duration": 23,
    "start_time": "2021-09-10T12:53:40.520Z"
   },
   {
    "duration": 10,
    "start_time": "2021-09-10T12:53:40.546Z"
   },
   {
    "duration": 19,
    "start_time": "2021-09-10T12:53:40.559Z"
   },
   {
    "duration": 38,
    "start_time": "2021-09-10T12:53:40.580Z"
   },
   {
    "duration": 28,
    "start_time": "2021-09-10T12:53:40.621Z"
   },
   {
    "duration": 11,
    "start_time": "2021-09-10T12:53:40.651Z"
   },
   {
    "duration": 61,
    "start_time": "2021-09-10T12:53:40.664Z"
   },
   {
    "duration": 10,
    "start_time": "2021-09-10T12:53:40.729Z"
   },
   {
    "duration": 4426,
    "start_time": "2021-09-10T12:53:40.742Z"
   },
   {
    "duration": 5,
    "start_time": "2021-09-10T12:53:45.172Z"
   },
   {
    "duration": 68,
    "start_time": "2021-09-10T12:53:45.180Z"
   },
   {
    "duration": 11,
    "start_time": "2021-09-10T12:53:45.251Z"
   },
   {
    "duration": 62,
    "start_time": "2021-09-10T12:53:45.265Z"
   },
   {
    "duration": 7,
    "start_time": "2021-09-10T12:53:45.331Z"
   },
   {
    "duration": 88,
    "start_time": "2021-09-10T12:53:45.340Z"
   },
   {
    "duration": 44,
    "start_time": "2021-09-10T12:53:45.430Z"
   },
   {
    "duration": 9,
    "start_time": "2021-09-10T12:53:45.477Z"
   },
   {
    "duration": 63,
    "start_time": "2021-09-10T12:53:45.488Z"
   },
   {
    "duration": 7,
    "start_time": "2021-09-10T12:53:45.553Z"
   },
   {
    "duration": 12,
    "start_time": "2021-09-10T12:53:45.562Z"
   },
   {
    "duration": 71,
    "start_time": "2021-09-10T12:53:45.576Z"
   },
   {
    "duration": 22,
    "start_time": "2021-09-10T12:53:45.649Z"
   },
   {
    "duration": 9,
    "start_time": "2021-09-10T12:53:45.674Z"
   },
   {
    "duration": 32,
    "start_time": "2021-09-10T12:53:45.686Z"
   },
   {
    "duration": 1516,
    "start_time": "2021-09-10T12:53:45.721Z"
   },
   {
    "duration": -431,
    "start_time": "2021-09-10T12:53:47.671Z"
   },
   {
    "duration": -435,
    "start_time": "2021-09-10T12:53:47.676Z"
   },
   {
    "duration": -438,
    "start_time": "2021-09-10T12:53:47.681Z"
   },
   {
    "duration": -441,
    "start_time": "2021-09-10T12:53:47.685Z"
   },
   {
    "duration": -444,
    "start_time": "2021-09-10T12:53:47.689Z"
   },
   {
    "duration": -446,
    "start_time": "2021-09-10T12:53:47.692Z"
   },
   {
    "duration": -448,
    "start_time": "2021-09-10T12:53:47.696Z"
   },
   {
    "duration": -450,
    "start_time": "2021-09-10T12:53:47.699Z"
   },
   {
    "duration": -452,
    "start_time": "2021-09-10T12:53:47.703Z"
   },
   {
    "duration": -453,
    "start_time": "2021-09-10T12:53:47.706Z"
   },
   {
    "duration": 871,
    "start_time": "2021-09-10T12:54:28.591Z"
   },
   {
    "duration": 13,
    "start_time": "2021-09-10T12:54:29.465Z"
   },
   {
    "duration": 8,
    "start_time": "2021-09-10T12:54:29.481Z"
   },
   {
    "duration": 36,
    "start_time": "2021-09-10T12:54:29.492Z"
   },
   {
    "duration": 19,
    "start_time": "2021-09-10T12:54:29.531Z"
   },
   {
    "duration": 88,
    "start_time": "2021-09-10T12:54:29.553Z"
   },
   {
    "duration": 5,
    "start_time": "2021-09-10T12:54:29.644Z"
   },
   {
    "duration": 6,
    "start_time": "2021-09-10T12:54:29.655Z"
   },
   {
    "duration": 82,
    "start_time": "2021-09-10T12:54:29.665Z"
   },
   {
    "duration": 13,
    "start_time": "2021-09-10T12:54:29.749Z"
   },
   {
    "duration": 31,
    "start_time": "2021-09-10T12:54:29.764Z"
   },
   {
    "duration": 35,
    "start_time": "2021-09-10T12:54:29.817Z"
   },
   {
    "duration": 11,
    "start_time": "2021-09-10T12:54:29.855Z"
   },
   {
    "duration": 70,
    "start_time": "2021-09-10T12:54:29.869Z"
   },
   {
    "duration": 37,
    "start_time": "2021-09-10T12:54:29.942Z"
   },
   {
    "duration": 66,
    "start_time": "2021-09-10T12:54:29.982Z"
   },
   {
    "duration": 35,
    "start_time": "2021-09-10T12:54:30.050Z"
   },
   {
    "duration": 44,
    "start_time": "2021-09-10T12:54:30.087Z"
   },
   {
    "duration": 24,
    "start_time": "2021-09-10T12:54:30.134Z"
   },
   {
    "duration": 57,
    "start_time": "2021-09-10T12:54:30.160Z"
   },
   {
    "duration": 11,
    "start_time": "2021-09-10T12:54:30.219Z"
   },
   {
    "duration": 13,
    "start_time": "2021-09-10T12:54:30.232Z"
   },
   {
    "duration": 39,
    "start_time": "2021-09-10T12:54:30.251Z"
   },
   {
    "duration": 28,
    "start_time": "2021-09-10T12:54:30.293Z"
   },
   {
    "duration": 20,
    "start_time": "2021-09-10T12:54:30.324Z"
   },
   {
    "duration": 21,
    "start_time": "2021-09-10T12:54:30.346Z"
   },
   {
    "duration": 54,
    "start_time": "2021-09-10T12:54:30.370Z"
   },
   {
    "duration": 27,
    "start_time": "2021-09-10T12:54:30.426Z"
   },
   {
    "duration": 40,
    "start_time": "2021-09-10T12:54:30.455Z"
   },
   {
    "duration": 29,
    "start_time": "2021-09-10T12:54:30.497Z"
   },
   {
    "duration": 4516,
    "start_time": "2021-09-10T12:54:30.529Z"
   },
   {
    "duration": 4,
    "start_time": "2021-09-10T12:54:35.047Z"
   },
   {
    "duration": 67,
    "start_time": "2021-09-10T12:54:35.053Z"
   },
   {
    "duration": 8,
    "start_time": "2021-09-10T12:54:35.122Z"
   },
   {
    "duration": 48,
    "start_time": "2021-09-10T12:54:35.132Z"
   },
   {
    "duration": 13,
    "start_time": "2021-09-10T12:54:35.182Z"
   },
   {
    "duration": 71,
    "start_time": "2021-09-10T12:54:35.198Z"
   },
   {
    "duration": 66,
    "start_time": "2021-09-10T12:54:35.271Z"
   },
   {
    "duration": 12,
    "start_time": "2021-09-10T12:54:35.340Z"
   },
   {
    "duration": 49,
    "start_time": "2021-09-10T12:54:35.355Z"
   },
   {
    "duration": 16,
    "start_time": "2021-09-10T12:54:35.406Z"
   },
   {
    "duration": 13,
    "start_time": "2021-09-10T12:54:35.424Z"
   },
   {
    "duration": 59,
    "start_time": "2021-09-10T12:54:35.440Z"
   },
   {
    "duration": 35,
    "start_time": "2021-09-10T12:54:35.501Z"
   },
   {
    "duration": 8,
    "start_time": "2021-09-10T12:54:35.539Z"
   },
   {
    "duration": 12,
    "start_time": "2021-09-10T12:54:35.550Z"
   },
   {
    "duration": 72,
    "start_time": "2021-09-10T12:54:35.564Z"
   },
   {
    "duration": 22,
    "start_time": "2021-09-10T12:54:35.639Z"
   },
   {
    "duration": 24,
    "start_time": "2021-09-10T12:54:35.663Z"
   },
   {
    "duration": 56,
    "start_time": "2021-09-10T12:54:35.689Z"
   },
   {
    "duration": 28,
    "start_time": "2021-09-10T12:54:35.747Z"
   },
   {
    "duration": 53,
    "start_time": "2021-09-10T12:54:35.777Z"
   },
   {
    "duration": 47,
    "start_time": "2021-09-10T12:54:35.832Z"
   },
   {
    "duration": 56,
    "start_time": "2021-09-10T12:54:35.881Z"
   },
   {
    "duration": 15,
    "start_time": "2021-09-10T12:54:35.939Z"
   },
   {
    "duration": 36,
    "start_time": "2021-09-10T12:54:35.956Z"
   },
   {
    "duration": 38,
    "start_time": "2021-09-10T12:54:35.994Z"
   },
   {
    "duration": 829,
    "start_time": "2021-09-10T12:58:24.846Z"
   },
   {
    "duration": 15,
    "start_time": "2021-09-10T12:58:25.678Z"
   },
   {
    "duration": 21,
    "start_time": "2021-09-10T12:58:25.697Z"
   },
   {
    "duration": 20,
    "start_time": "2021-09-10T12:58:25.722Z"
   },
   {
    "duration": 16,
    "start_time": "2021-09-10T12:58:25.746Z"
   },
   {
    "duration": 81,
    "start_time": "2021-09-10T12:58:25.765Z"
   },
   {
    "duration": 4,
    "start_time": "2021-09-10T12:58:25.850Z"
   },
   {
    "duration": 6,
    "start_time": "2021-09-10T12:58:25.860Z"
   },
   {
    "duration": 90,
    "start_time": "2021-09-10T12:58:25.870Z"
   },
   {
    "duration": 13,
    "start_time": "2021-09-10T12:58:25.963Z"
   },
   {
    "duration": 54,
    "start_time": "2021-09-10T12:58:25.979Z"
   },
   {
    "duration": 41,
    "start_time": "2021-09-10T12:58:26.036Z"
   },
   {
    "duration": 39,
    "start_time": "2021-09-10T12:58:26.079Z"
   },
   {
    "duration": 59,
    "start_time": "2021-09-10T12:58:26.121Z"
   },
   {
    "duration": 42,
    "start_time": "2021-09-10T12:58:26.183Z"
   },
   {
    "duration": 36,
    "start_time": "2021-09-10T12:58:26.228Z"
   },
   {
    "duration": 60,
    "start_time": "2021-09-10T12:58:26.267Z"
   },
   {
    "duration": 26,
    "start_time": "2021-09-10T12:58:26.330Z"
   },
   {
    "duration": 23,
    "start_time": "2021-09-10T12:58:26.359Z"
   },
   {
    "duration": 58,
    "start_time": "2021-09-10T12:58:26.384Z"
   },
   {
    "duration": 18,
    "start_time": "2021-09-10T12:58:26.445Z"
   },
   {
    "duration": 8,
    "start_time": "2021-09-10T12:58:26.466Z"
   },
   {
    "duration": 53,
    "start_time": "2021-09-10T12:58:26.481Z"
   },
   {
    "duration": 10,
    "start_time": "2021-09-10T12:58:26.538Z"
   },
   {
    "duration": 7,
    "start_time": "2021-09-10T12:58:26.551Z"
   },
   {
    "duration": 9,
    "start_time": "2021-09-10T12:58:26.560Z"
   },
   {
    "duration": 66,
    "start_time": "2021-09-10T12:58:26.571Z"
   },
   {
    "duration": 14,
    "start_time": "2021-09-10T12:58:26.639Z"
   },
   {
    "duration": 67,
    "start_time": "2021-09-10T12:58:26.656Z"
   },
   {
    "duration": 8,
    "start_time": "2021-09-10T12:58:26.726Z"
   },
   {
    "duration": 5338,
    "start_time": "2021-09-10T12:58:26.737Z"
   },
   {
    "duration": 4,
    "start_time": "2021-09-10T12:58:32.079Z"
   },
   {
    "duration": 66,
    "start_time": "2021-09-10T12:58:32.085Z"
   },
   {
    "duration": 7,
    "start_time": "2021-09-10T12:58:32.154Z"
   },
   {
    "duration": 60,
    "start_time": "2021-09-10T12:58:32.163Z"
   },
   {
    "duration": 12,
    "start_time": "2021-09-10T12:58:32.226Z"
   },
   {
    "duration": 77,
    "start_time": "2021-09-10T12:58:32.241Z"
   },
   {
    "duration": 43,
    "start_time": "2021-09-10T12:58:32.320Z"
   },
   {
    "duration": 6,
    "start_time": "2021-09-10T12:58:32.366Z"
   },
   {
    "duration": 79,
    "start_time": "2021-09-10T12:58:32.374Z"
   },
   {
    "duration": 7,
    "start_time": "2021-09-10T12:58:32.455Z"
   },
   {
    "duration": 4,
    "start_time": "2021-09-10T12:58:32.464Z"
   },
   {
    "duration": 87,
    "start_time": "2021-09-10T12:58:32.471Z"
   },
   {
    "duration": 22,
    "start_time": "2021-09-10T12:58:32.561Z"
   },
   {
    "duration": 30,
    "start_time": "2021-09-10T12:58:32.586Z"
   },
   {
    "duration": 4,
    "start_time": "2021-09-10T12:58:32.619Z"
   },
   {
    "duration": 49,
    "start_time": "2021-09-10T12:58:32.626Z"
   },
   {
    "duration": 54,
    "start_time": "2021-09-10T12:58:32.677Z"
   },
   {
    "duration": 36,
    "start_time": "2021-09-10T12:58:32.735Z"
   },
   {
    "duration": 66,
    "start_time": "2021-09-10T12:58:32.774Z"
   },
   {
    "duration": 38,
    "start_time": "2021-09-10T12:58:32.844Z"
   },
   {
    "duration": 52,
    "start_time": "2021-09-10T12:58:32.885Z"
   },
   {
    "duration": 28,
    "start_time": "2021-09-10T12:58:32.939Z"
   },
   {
    "duration": 64,
    "start_time": "2021-09-10T12:58:32.970Z"
   },
   {
    "duration": 31,
    "start_time": "2021-09-10T12:58:33.037Z"
   },
   {
    "duration": 12,
    "start_time": "2021-09-10T12:58:33.071Z"
   },
   {
    "duration": 54,
    "start_time": "2021-09-10T12:58:33.085Z"
   },
   {
    "duration": 19,
    "start_time": "2021-09-10T12:58:33.141Z"
   },
   {
    "duration": 860,
    "start_time": "2021-09-10T12:59:13.422Z"
   },
   {
    "duration": 13,
    "start_time": "2021-09-10T12:59:14.285Z"
   },
   {
    "duration": 27,
    "start_time": "2021-09-10T12:59:14.301Z"
   },
   {
    "duration": 33,
    "start_time": "2021-09-10T12:59:14.330Z"
   },
   {
    "duration": 40,
    "start_time": "2021-09-10T12:59:14.366Z"
   },
   {
    "duration": 71,
    "start_time": "2021-09-10T12:59:14.408Z"
   },
   {
    "duration": 4,
    "start_time": "2021-09-10T12:59:14.482Z"
   },
   {
    "duration": 25,
    "start_time": "2021-09-10T12:59:14.489Z"
   },
   {
    "duration": 65,
    "start_time": "2021-09-10T12:59:14.518Z"
   },
   {
    "duration": 13,
    "start_time": "2021-09-10T12:59:14.586Z"
   },
   {
    "duration": 55,
    "start_time": "2021-09-10T12:59:14.603Z"
   },
   {
    "duration": 63,
    "start_time": "2021-09-10T12:59:14.661Z"
   },
   {
    "duration": 23,
    "start_time": "2021-09-10T12:59:14.728Z"
   },
   {
    "duration": 65,
    "start_time": "2021-09-10T12:59:14.754Z"
   },
   {
    "duration": 37,
    "start_time": "2021-09-10T12:59:14.822Z"
   },
   {
    "duration": 57,
    "start_time": "2021-09-10T12:59:14.862Z"
   },
   {
    "duration": 43,
    "start_time": "2021-09-10T12:59:14.922Z"
   },
   {
    "duration": 51,
    "start_time": "2021-09-10T12:59:14.967Z"
   },
   {
    "duration": 23,
    "start_time": "2021-09-10T12:59:15.020Z"
   },
   {
    "duration": 30,
    "start_time": "2021-09-10T12:59:15.045Z"
   },
   {
    "duration": 44,
    "start_time": "2021-09-10T12:59:15.077Z"
   },
   {
    "duration": 11,
    "start_time": "2021-09-10T12:59:15.124Z"
   },
   {
    "duration": 30,
    "start_time": "2021-09-10T12:59:15.137Z"
   },
   {
    "duration": 19,
    "start_time": "2021-09-10T12:59:15.169Z"
   },
   {
    "duration": 11,
    "start_time": "2021-09-10T12:59:15.191Z"
   },
   {
    "duration": 7,
    "start_time": "2021-09-10T12:59:15.217Z"
   },
   {
    "duration": 37,
    "start_time": "2021-09-10T12:59:15.230Z"
   },
   {
    "duration": 25,
    "start_time": "2021-09-10T12:59:15.270Z"
   },
   {
    "duration": 43,
    "start_time": "2021-09-10T12:59:15.298Z"
   },
   {
    "duration": 16,
    "start_time": "2021-09-10T12:59:15.344Z"
   },
   {
    "duration": 4756,
    "start_time": "2021-09-10T12:59:15.362Z"
   },
   {
    "duration": 3,
    "start_time": "2021-09-10T12:59:20.121Z"
   },
   {
    "duration": 51,
    "start_time": "2021-09-10T12:59:20.127Z"
   },
   {
    "duration": 7,
    "start_time": "2021-09-10T12:59:20.181Z"
   },
   {
    "duration": 59,
    "start_time": "2021-09-10T12:59:20.190Z"
   },
   {
    "duration": 13,
    "start_time": "2021-09-10T12:59:20.251Z"
   },
   {
    "duration": 82,
    "start_time": "2021-09-10T12:59:20.266Z"
   },
   {
    "duration": 45,
    "start_time": "2021-09-10T12:59:20.350Z"
   },
   {
    "duration": 4,
    "start_time": "2021-09-10T12:59:20.417Z"
   },
   {
    "duration": 45,
    "start_time": "2021-09-10T12:59:20.424Z"
   },
   {
    "duration": 7,
    "start_time": "2021-09-10T12:59:20.471Z"
   },
   {
    "duration": 36,
    "start_time": "2021-09-10T12:59:20.481Z"
   },
   {
    "duration": 63,
    "start_time": "2021-09-10T12:59:20.520Z"
   },
   {
    "duration": 30,
    "start_time": "2021-09-10T12:59:20.586Z"
   },
   {
    "duration": 7,
    "start_time": "2021-09-10T12:59:20.618Z"
   },
   {
    "duration": 10,
    "start_time": "2021-09-10T12:59:20.627Z"
   },
   {
    "duration": 53,
    "start_time": "2021-09-10T12:59:20.639Z"
   },
   {
    "duration": 33,
    "start_time": "2021-09-10T12:59:20.694Z"
   },
   {
    "duration": 24,
    "start_time": "2021-09-10T12:59:20.729Z"
   },
   {
    "duration": 24,
    "start_time": "2021-09-10T12:59:20.755Z"
   },
   {
    "duration": 27,
    "start_time": "2021-09-10T12:59:20.816Z"
   },
   {
    "duration": 28,
    "start_time": "2021-09-10T12:59:20.845Z"
   },
   {
    "duration": 56,
    "start_time": "2021-09-10T12:59:20.875Z"
   },
   {
    "duration": 46,
    "start_time": "2021-09-10T12:59:20.933Z"
   },
   {
    "duration": 54,
    "start_time": "2021-09-10T12:59:20.982Z"
   },
   {
    "duration": 10,
    "start_time": "2021-09-10T12:59:21.038Z"
   },
   {
    "duration": 39,
    "start_time": "2021-09-10T12:59:21.050Z"
   },
   {
    "duration": 40,
    "start_time": "2021-09-10T12:59:21.092Z"
   },
   {
    "duration": 873,
    "start_time": "2021-09-10T13:02:54.351Z"
   },
   {
    "duration": 20,
    "start_time": "2021-09-10T13:02:55.228Z"
   },
   {
    "duration": 9,
    "start_time": "2021-09-10T13:02:55.252Z"
   },
   {
    "duration": 14,
    "start_time": "2021-09-10T13:02:55.264Z"
   },
   {
    "duration": 46,
    "start_time": "2021-09-10T13:02:55.280Z"
   },
   {
    "duration": 49,
    "start_time": "2021-09-10T13:02:55.329Z"
   },
   {
    "duration": 4,
    "start_time": "2021-09-10T13:02:55.381Z"
   },
   {
    "duration": 41,
    "start_time": "2021-09-10T13:02:55.389Z"
   },
   {
    "duration": 61,
    "start_time": "2021-09-10T13:02:55.434Z"
   },
   {
    "duration": 61,
    "start_time": "2021-09-10T13:02:55.497Z"
   },
   {
    "duration": 35,
    "start_time": "2021-09-10T13:02:55.560Z"
   },
   {
    "duration": 106,
    "start_time": "2021-09-10T13:02:55.597Z"
   },
   {
    "duration": 13,
    "start_time": "2021-09-10T13:02:55.706Z"
   },
   {
    "duration": 40,
    "start_time": "2021-09-10T13:02:55.721Z"
   },
   {
    "duration": 60,
    "start_time": "2021-09-10T13:02:55.765Z"
   },
   {
    "duration": 41,
    "start_time": "2021-09-10T13:02:55.828Z"
   },
   {
    "duration": 64,
    "start_time": "2021-09-10T13:02:55.871Z"
   },
   {
    "duration": 25,
    "start_time": "2021-09-10T13:02:55.937Z"
   },
   {
    "duration": 23,
    "start_time": "2021-09-10T13:02:55.965Z"
   },
   {
    "duration": 64,
    "start_time": "2021-09-10T13:02:55.990Z"
   },
   {
    "duration": 10,
    "start_time": "2021-09-10T13:02:56.057Z"
   },
   {
    "duration": 5,
    "start_time": "2021-09-10T13:02:56.070Z"
   },
   {
    "duration": 33,
    "start_time": "2021-09-10T13:02:56.118Z"
   },
   {
    "duration": 10,
    "start_time": "2021-09-10T13:02:56.154Z"
   },
   {
    "duration": 8,
    "start_time": "2021-09-10T13:02:56.166Z"
   },
   {
    "duration": 49,
    "start_time": "2021-09-10T13:02:56.176Z"
   },
   {
    "duration": 34,
    "start_time": "2021-09-10T13:02:56.228Z"
   },
   {
    "duration": 14,
    "start_time": "2021-09-10T13:02:56.265Z"
   },
   {
    "duration": 69,
    "start_time": "2021-09-10T13:02:56.281Z"
   },
   {
    "duration": 11,
    "start_time": "2021-09-10T13:02:56.352Z"
   },
   {
    "duration": 4817,
    "start_time": "2021-09-10T13:02:56.365Z"
   },
   {
    "duration": 4,
    "start_time": "2021-09-10T13:03:01.184Z"
   },
   {
    "duration": 66,
    "start_time": "2021-09-10T13:03:01.190Z"
   },
   {
    "duration": 8,
    "start_time": "2021-09-10T13:03:01.259Z"
   },
   {
    "duration": 63,
    "start_time": "2021-09-10T13:03:01.269Z"
   },
   {
    "duration": 9,
    "start_time": "2021-09-10T13:03:01.335Z"
   },
   {
    "duration": 84,
    "start_time": "2021-09-10T13:03:01.347Z"
   },
   {
    "duration": 47,
    "start_time": "2021-09-10T13:03:01.434Z"
   },
   {
    "duration": 35,
    "start_time": "2021-09-10T13:03:01.484Z"
   },
   {
    "duration": 49,
    "start_time": "2021-09-10T13:03:01.522Z"
   },
   {
    "duration": 20,
    "start_time": "2021-09-10T13:03:01.574Z"
   },
   {
    "duration": 19,
    "start_time": "2021-09-10T13:03:01.597Z"
   },
   {
    "duration": 61,
    "start_time": "2021-09-10T13:03:01.619Z"
   },
   {
    "duration": 33,
    "start_time": "2021-09-10T13:03:01.683Z"
   },
   {
    "duration": 11,
    "start_time": "2021-09-10T13:03:01.721Z"
   },
   {
    "duration": 6,
    "start_time": "2021-09-10T13:03:01.736Z"
   },
   {
    "duration": 51,
    "start_time": "2021-09-10T13:03:01.744Z"
   },
   {
    "duration": 19,
    "start_time": "2021-09-10T13:03:01.821Z"
   },
   {
    "duration": 8,
    "start_time": "2021-09-10T13:03:01.843Z"
   },
   {
    "duration": 55,
    "start_time": "2021-09-10T13:03:01.853Z"
   },
   {
    "duration": 27,
    "start_time": "2021-09-10T13:03:01.910Z"
   },
   {
    "duration": 53,
    "start_time": "2021-09-10T13:03:01.939Z"
   },
   {
    "duration": 34,
    "start_time": "2021-09-10T13:03:01.994Z"
   },
   {
    "duration": 29,
    "start_time": "2021-09-10T13:03:02.031Z"
   },
   {
    "duration": 77,
    "start_time": "2021-09-10T13:03:02.063Z"
   },
   {
    "duration": 32,
    "start_time": "2021-09-10T13:03:02.142Z"
   },
   {
    "duration": 24,
    "start_time": "2021-09-10T13:03:02.177Z"
   },
   {
    "duration": 47,
    "start_time": "2021-09-10T13:03:02.204Z"
   },
   {
    "duration": 24,
    "start_time": "2021-09-10T13:03:02.253Z"
   },
   {
    "duration": 6,
    "start_time": "2021-09-10T13:03:49.156Z"
   },
   {
    "duration": 8,
    "start_time": "2021-09-10T13:04:19.020Z"
   },
   {
    "duration": 7,
    "start_time": "2021-09-10T13:04:38.642Z"
   },
   {
    "duration": 843,
    "start_time": "2021-09-10T13:05:16.881Z"
   },
   {
    "duration": 14,
    "start_time": "2021-09-10T13:05:17.727Z"
   },
   {
    "duration": 7,
    "start_time": "2021-09-10T13:05:17.744Z"
   },
   {
    "duration": 23,
    "start_time": "2021-09-10T13:05:17.753Z"
   },
   {
    "duration": 40,
    "start_time": "2021-09-10T13:05:17.778Z"
   },
   {
    "duration": 53,
    "start_time": "2021-09-10T13:05:17.821Z"
   },
   {
    "duration": 4,
    "start_time": "2021-09-10T13:05:17.877Z"
   },
   {
    "duration": 5,
    "start_time": "2021-09-10T13:05:17.885Z"
   },
   {
    "duration": 49,
    "start_time": "2021-09-10T13:05:17.918Z"
   },
   {
    "duration": 12,
    "start_time": "2021-09-10T13:05:17.969Z"
   },
   {
    "duration": 63,
    "start_time": "2021-09-10T13:05:17.984Z"
   },
   {
    "duration": 36,
    "start_time": "2021-09-10T13:05:18.050Z"
   },
   {
    "duration": 36,
    "start_time": "2021-09-10T13:05:18.089Z"
   },
   {
    "duration": 43,
    "start_time": "2021-09-10T13:05:18.128Z"
   },
   {
    "duration": 71,
    "start_time": "2021-09-10T13:05:18.174Z"
   },
   {
    "duration": 37,
    "start_time": "2021-09-10T13:05:18.248Z"
   },
   {
    "duration": 59,
    "start_time": "2021-09-10T13:05:18.288Z"
   },
   {
    "duration": 24,
    "start_time": "2021-09-10T13:05:18.349Z"
   },
   {
    "duration": 59,
    "start_time": "2021-09-10T13:05:18.376Z"
   },
   {
    "duration": 31,
    "start_time": "2021-09-10T13:05:18.438Z"
   },
   {
    "duration": 11,
    "start_time": "2021-09-10T13:05:18.472Z"
   },
   {
    "duration": 31,
    "start_time": "2021-09-10T13:05:18.485Z"
   },
   {
    "duration": 21,
    "start_time": "2021-09-10T13:05:18.521Z"
   },
   {
    "duration": 10,
    "start_time": "2021-09-10T13:05:18.545Z"
   },
   {
    "duration": 15,
    "start_time": "2021-09-10T13:05:18.558Z"
   },
   {
    "duration": 41,
    "start_time": "2021-09-10T13:05:18.576Z"
   },
   {
    "duration": 32,
    "start_time": "2021-09-10T13:05:18.619Z"
   },
   {
    "duration": 12,
    "start_time": "2021-09-10T13:05:18.654Z"
   },
   {
    "duration": 67,
    "start_time": "2021-09-10T13:05:18.668Z"
   },
   {
    "duration": 6,
    "start_time": "2021-09-10T13:05:18.737Z"
   },
   {
    "duration": 4810,
    "start_time": "2021-09-10T13:05:18.745Z"
   },
   {
    "duration": 4,
    "start_time": "2021-09-10T13:05:23.558Z"
   },
   {
    "duration": 71,
    "start_time": "2021-09-10T13:05:23.564Z"
   },
   {
    "duration": 8,
    "start_time": "2021-09-10T13:05:23.637Z"
   },
   {
    "duration": 35,
    "start_time": "2021-09-10T13:05:23.648Z"
   },
   {
    "duration": 35,
    "start_time": "2021-09-10T13:05:23.685Z"
   },
   {
    "duration": 66,
    "start_time": "2021-09-10T13:05:23.723Z"
   },
   {
    "duration": 71,
    "start_time": "2021-09-10T13:05:23.791Z"
   },
   {
    "duration": 5,
    "start_time": "2021-09-10T13:05:23.865Z"
   },
   {
    "duration": 77,
    "start_time": "2021-09-10T13:05:23.873Z"
   },
   {
    "duration": 8,
    "start_time": "2021-09-10T13:05:23.952Z"
   },
   {
    "duration": 9,
    "start_time": "2021-09-10T13:05:23.962Z"
   },
   {
    "duration": 74,
    "start_time": "2021-09-10T13:05:23.974Z"
   },
   {
    "duration": 23,
    "start_time": "2021-09-10T13:05:24.051Z"
   },
   {
    "duration": 7,
    "start_time": "2021-09-10T13:05:24.076Z"
   },
   {
    "duration": 36,
    "start_time": "2021-09-10T13:05:24.086Z"
   },
   {
    "duration": 56,
    "start_time": "2021-09-10T13:05:24.125Z"
   },
   {
    "duration": 34,
    "start_time": "2021-09-10T13:05:24.184Z"
   },
   {
    "duration": 8,
    "start_time": "2021-09-10T13:05:24.221Z"
   },
   {
    "duration": 24,
    "start_time": "2021-09-10T13:05:24.232Z"
   },
   {
    "duration": 60,
    "start_time": "2021-09-10T13:05:24.258Z"
   },
   {
    "duration": 36,
    "start_time": "2021-09-10T13:05:24.321Z"
   },
   {
    "duration": 27,
    "start_time": "2021-09-10T13:05:24.360Z"
   },
   {
    "duration": 37,
    "start_time": "2021-09-10T13:05:24.416Z"
   },
   {
    "duration": 77,
    "start_time": "2021-09-10T13:05:24.456Z"
   },
   {
    "duration": 34,
    "start_time": "2021-09-10T13:05:24.535Z"
   },
   {
    "duration": 11,
    "start_time": "2021-09-10T13:05:24.571Z"
   },
   {
    "duration": 62,
    "start_time": "2021-09-10T13:05:24.585Z"
   },
   {
    "duration": 23,
    "start_time": "2021-09-10T13:05:24.651Z"
   },
   {
    "duration": 838,
    "start_time": "2021-09-10T13:11:21.422Z"
   },
   {
    "duration": 13,
    "start_time": "2021-09-10T13:11:22.263Z"
   },
   {
    "duration": 12,
    "start_time": "2021-09-10T13:11:22.279Z"
   },
   {
    "duration": 31,
    "start_time": "2021-09-10T13:11:22.294Z"
   },
   {
    "duration": 15,
    "start_time": "2021-09-10T13:11:22.327Z"
   },
   {
    "duration": 75,
    "start_time": "2021-09-10T13:11:22.344Z"
   },
   {
    "duration": 4,
    "start_time": "2021-09-10T13:11:22.422Z"
   },
   {
    "duration": 15,
    "start_time": "2021-09-10T13:11:22.429Z"
   },
   {
    "duration": 50,
    "start_time": "2021-09-10T13:11:22.447Z"
   },
   {
    "duration": 25,
    "start_time": "2021-09-10T13:11:22.500Z"
   },
   {
    "duration": 38,
    "start_time": "2021-09-10T13:11:22.528Z"
   },
   {
    "duration": 57,
    "start_time": "2021-09-10T13:11:22.570Z"
   },
   {
    "duration": 14,
    "start_time": "2021-09-10T13:11:22.630Z"
   },
   {
    "duration": 54,
    "start_time": "2021-09-10T13:11:22.646Z"
   },
   {
    "duration": 51,
    "start_time": "2021-09-10T13:11:22.702Z"
   },
   {
    "duration": 62,
    "start_time": "2021-09-10T13:11:22.756Z"
   },
   {
    "duration": 46,
    "start_time": "2021-09-10T13:11:22.821Z"
   },
   {
    "duration": 26,
    "start_time": "2021-09-10T13:11:22.871Z"
   },
   {
    "duration": 37,
    "start_time": "2021-09-10T13:11:22.899Z"
   },
   {
    "duration": 30,
    "start_time": "2021-09-10T13:11:22.938Z"
   },
   {
    "duration": 26,
    "start_time": "2021-09-10T13:11:22.971Z"
   },
   {
    "duration": 24,
    "start_time": "2021-09-10T13:11:23.000Z"
   },
   {
    "duration": 32,
    "start_time": "2021-09-10T13:11:23.030Z"
   },
   {
    "duration": 11,
    "start_time": "2021-09-10T13:11:23.065Z"
   },
   {
    "duration": 22,
    "start_time": "2021-09-10T13:11:23.078Z"
   },
   {
    "duration": 30,
    "start_time": "2021-09-10T13:11:23.102Z"
   },
   {
    "duration": 41,
    "start_time": "2021-09-10T13:11:23.135Z"
   },
   {
    "duration": 22,
    "start_time": "2021-09-10T13:11:23.178Z"
   },
   {
    "duration": 50,
    "start_time": "2021-09-10T13:11:23.202Z"
   },
   {
    "duration": 16,
    "start_time": "2021-09-10T13:11:23.255Z"
   },
   {
    "duration": 4761,
    "start_time": "2021-09-10T13:11:23.273Z"
   },
   {
    "duration": 4,
    "start_time": "2021-09-10T13:11:28.037Z"
   },
   {
    "duration": 68,
    "start_time": "2021-09-10T13:11:28.044Z"
   },
   {
    "duration": 9,
    "start_time": "2021-09-10T13:11:28.114Z"
   },
   {
    "duration": 60,
    "start_time": "2021-09-10T13:11:28.126Z"
   },
   {
    "duration": 24,
    "start_time": "2021-09-10T13:11:28.189Z"
   },
   {
    "duration": 102,
    "start_time": "2021-09-10T13:11:28.216Z"
   },
   {
    "duration": 45,
    "start_time": "2021-09-10T13:11:28.320Z"
   },
   {
    "duration": 17,
    "start_time": "2021-09-10T13:11:28.367Z"
   },
   {
    "duration": 62,
    "start_time": "2021-09-10T13:11:28.386Z"
   },
   {
    "duration": 7,
    "start_time": "2021-09-10T13:11:28.450Z"
   },
   {
    "duration": 5,
    "start_time": "2021-09-10T13:11:28.460Z"
   },
   {
    "duration": 73,
    "start_time": "2021-09-10T13:11:28.468Z"
   },
   {
    "duration": 23,
    "start_time": "2021-09-10T13:11:28.544Z"
   },
   {
    "duration": 8,
    "start_time": "2021-09-10T13:11:28.570Z"
   },
   {
    "duration": 15,
    "start_time": "2021-09-10T13:11:28.580Z"
   },
   {
    "duration": 44,
    "start_time": "2021-09-10T13:11:28.617Z"
   },
   {
    "duration": 17,
    "start_time": "2021-09-10T13:11:28.664Z"
   },
   {
    "duration": 38,
    "start_time": "2021-09-10T13:11:28.683Z"
   },
   {
    "duration": 23,
    "start_time": "2021-09-10T13:11:28.724Z"
   },
   {
    "duration": 47,
    "start_time": "2021-09-10T13:11:28.749Z"
   },
   {
    "duration": 33,
    "start_time": "2021-09-10T13:11:28.799Z"
   },
   {
    "duration": 37,
    "start_time": "2021-09-10T13:11:28.834Z"
   },
   {
    "duration": 28,
    "start_time": "2021-09-10T13:11:28.874Z"
   },
   {
    "duration": 48,
    "start_time": "2021-09-10T13:11:28.904Z"
   },
   {
    "duration": 29,
    "start_time": "2021-09-10T13:11:28.955Z"
   },
   {
    "duration": 46,
    "start_time": "2021-09-10T13:11:28.986Z"
   },
   {
    "duration": 45,
    "start_time": "2021-09-10T13:11:29.035Z"
   },
   {
    "duration": 51,
    "start_time": "2021-09-10T13:11:29.082Z"
   },
   {
    "duration": 20,
    "start_time": "2021-09-10T13:11:29.135Z"
   },
   {
    "duration": 50,
    "start_time": "2021-09-10T13:11:29.158Z"
   },
   {
    "duration": 55,
    "start_time": "2021-09-10T13:11:29.210Z"
   },
   {
    "duration": 914,
    "start_time": "2021-09-10T13:13:13.779Z"
   },
   {
    "duration": 13,
    "start_time": "2021-09-10T13:13:14.695Z"
   },
   {
    "duration": 24,
    "start_time": "2021-09-10T13:13:14.711Z"
   },
   {
    "duration": 32,
    "start_time": "2021-09-10T13:13:14.738Z"
   },
   {
    "duration": 30,
    "start_time": "2021-09-10T13:13:14.773Z"
   },
   {
    "duration": 57,
    "start_time": "2021-09-10T13:13:14.805Z"
   },
   {
    "duration": 4,
    "start_time": "2021-09-10T13:13:14.864Z"
   },
   {
    "duration": 19,
    "start_time": "2021-09-10T13:13:14.871Z"
   },
   {
    "duration": 57,
    "start_time": "2021-09-10T13:13:14.894Z"
   },
   {
    "duration": 14,
    "start_time": "2021-09-10T13:13:14.955Z"
   },
   {
    "duration": 52,
    "start_time": "2021-09-10T13:13:14.971Z"
   },
   {
    "duration": 36,
    "start_time": "2021-09-10T13:13:15.026Z"
   },
   {
    "duration": 67,
    "start_time": "2021-09-10T13:13:15.065Z"
   },
   {
    "duration": 46,
    "start_time": "2021-09-10T13:13:15.135Z"
   },
   {
    "duration": 43,
    "start_time": "2021-09-10T13:13:15.183Z"
   },
   {
    "duration": 36,
    "start_time": "2021-09-10T13:13:15.229Z"
   },
   {
    "duration": 61,
    "start_time": "2021-09-10T13:13:15.268Z"
   },
   {
    "duration": 24,
    "start_time": "2021-09-10T13:13:15.331Z"
   },
   {
    "duration": 21,
    "start_time": "2021-09-10T13:13:15.358Z"
   },
   {
    "duration": 56,
    "start_time": "2021-09-10T13:13:15.382Z"
   },
   {
    "duration": 18,
    "start_time": "2021-09-10T13:13:15.441Z"
   },
   {
    "duration": 7,
    "start_time": "2021-09-10T13:13:15.462Z"
   },
   {
    "duration": 33,
    "start_time": "2021-09-10T13:13:15.471Z"
   },
   {
    "duration": 9,
    "start_time": "2021-09-10T13:13:15.516Z"
   },
   {
    "duration": 14,
    "start_time": "2021-09-10T13:13:15.528Z"
   },
   {
    "duration": 13,
    "start_time": "2021-09-10T13:13:15.544Z"
   },
   {
    "duration": 58,
    "start_time": "2021-09-10T13:13:15.563Z"
   },
   {
    "duration": 11,
    "start_time": "2021-09-10T13:13:15.624Z"
   },
   {
    "duration": 49,
    "start_time": "2021-09-10T13:13:15.637Z"
   },
   {
    "duration": 23,
    "start_time": "2021-09-10T13:13:15.689Z"
   },
   {
    "duration": 4656,
    "start_time": "2021-09-10T13:13:15.714Z"
   },
   {
    "duration": 5,
    "start_time": "2021-09-10T13:13:20.372Z"
   },
   {
    "duration": 64,
    "start_time": "2021-09-10T13:13:20.379Z"
   },
   {
    "duration": 65,
    "start_time": "2021-09-10T13:13:20.446Z"
   },
   {
    "duration": 283,
    "start_time": "2021-09-10T13:13:20.514Z"
   },
   {
    "duration": 13,
    "start_time": "2021-09-10T13:13:20.801Z"
   },
   {
    "duration": 78,
    "start_time": "2021-09-10T13:13:20.817Z"
   },
   {
    "duration": 48,
    "start_time": "2021-09-10T13:13:20.898Z"
   },
   {
    "duration": 16,
    "start_time": "2021-09-10T13:13:20.948Z"
   },
   {
    "duration": 56,
    "start_time": "2021-09-10T13:13:20.966Z"
   },
   {
    "duration": 8,
    "start_time": "2021-09-10T13:13:21.024Z"
   },
   {
    "duration": 10,
    "start_time": "2021-09-10T13:13:21.034Z"
   },
   {
    "duration": 70,
    "start_time": "2021-09-10T13:13:21.046Z"
   },
   {
    "duration": 23,
    "start_time": "2021-09-10T13:13:21.118Z"
   },
   {
    "duration": 7,
    "start_time": "2021-09-10T13:13:21.143Z"
   },
   {
    "duration": 23,
    "start_time": "2021-09-10T13:13:21.152Z"
   },
   {
    "duration": 72,
    "start_time": "2021-09-10T13:13:21.177Z"
   },
   {
    "duration": 16,
    "start_time": "2021-09-10T13:13:21.252Z"
   },
   {
    "duration": 43,
    "start_time": "2021-09-10T13:13:21.270Z"
   },
   {
    "duration": 14,
    "start_time": "2021-09-10T13:13:21.316Z"
   },
   {
    "duration": 55,
    "start_time": "2021-09-10T13:13:21.333Z"
   },
   {
    "duration": 15,
    "start_time": "2021-09-10T13:13:21.391Z"
   },
   {
    "duration": 22,
    "start_time": "2021-09-10T13:13:21.416Z"
   },
   {
    "duration": 23,
    "start_time": "2021-09-10T13:13:21.440Z"
   },
   {
    "duration": 58,
    "start_time": "2021-09-10T13:13:21.465Z"
   },
   {
    "duration": 28,
    "start_time": "2021-09-10T13:13:21.525Z"
   },
   {
    "duration": 25,
    "start_time": "2021-09-10T13:13:21.555Z"
   },
   {
    "duration": 128,
    "start_time": "2021-09-10T13:13:21.583Z"
   },
   {
    "duration": 213,
    "start_time": "2021-09-10T13:13:21.714Z"
   },
   {
    "duration": 164,
    "start_time": "2021-09-10T13:13:21.929Z"
   },
   {
    "duration": 46,
    "start_time": "2021-09-10T13:13:22.096Z"
   },
   {
    "duration": 30,
    "start_time": "2021-09-10T13:13:22.144Z"
   },
   {
    "duration": 912,
    "start_time": "2021-09-10T13:19:55.189Z"
   },
   {
    "duration": 12,
    "start_time": "2021-09-10T13:19:56.104Z"
   },
   {
    "duration": 9,
    "start_time": "2021-09-10T13:19:56.119Z"
   },
   {
    "duration": 13,
    "start_time": "2021-09-10T13:19:56.131Z"
   },
   {
    "duration": 13,
    "start_time": "2021-09-10T13:19:56.146Z"
   },
   {
    "duration": 87,
    "start_time": "2021-09-10T13:19:56.161Z"
   },
   {
    "duration": 4,
    "start_time": "2021-09-10T13:19:56.250Z"
   },
   {
    "duration": 8,
    "start_time": "2021-09-10T13:19:56.258Z"
   },
   {
    "duration": 69,
    "start_time": "2021-09-10T13:19:56.269Z"
   },
   {
    "duration": 11,
    "start_time": "2021-09-10T13:19:56.341Z"
   },
   {
    "duration": 36,
    "start_time": "2021-09-10T13:19:56.355Z"
   },
   {
    "duration": 47,
    "start_time": "2021-09-10T13:19:56.393Z"
   },
   {
    "duration": 11,
    "start_time": "2021-09-10T13:19:56.442Z"
   },
   {
    "duration": 72,
    "start_time": "2021-09-10T13:19:56.456Z"
   },
   {
    "duration": 37,
    "start_time": "2021-09-10T13:19:56.531Z"
   },
   {
    "duration": 59,
    "start_time": "2021-09-10T13:19:56.571Z"
   },
   {
    "duration": 31,
    "start_time": "2021-09-10T13:19:56.633Z"
   },
   {
    "duration": 50,
    "start_time": "2021-09-10T13:19:56.666Z"
   },
   {
    "duration": 23,
    "start_time": "2021-09-10T13:19:56.719Z"
   },
   {
    "duration": 31,
    "start_time": "2021-09-10T13:19:56.744Z"
   },
   {
    "duration": 41,
    "start_time": "2021-09-10T13:19:56.778Z"
   },
   {
    "duration": 6,
    "start_time": "2021-09-10T13:19:56.821Z"
   },
   {
    "duration": 22,
    "start_time": "2021-09-10T13:19:56.833Z"
   },
   {
    "duration": 9,
    "start_time": "2021-09-10T13:19:56.859Z"
   },
   {
    "duration": 46,
    "start_time": "2021-09-10T13:19:56.870Z"
   },
   {
    "duration": 8,
    "start_time": "2021-09-10T13:19:56.918Z"
   },
   {
    "duration": 32,
    "start_time": "2021-09-10T13:19:56.928Z"
   },
   {
    "duration": 11,
    "start_time": "2021-09-10T13:19:56.962Z"
   },
   {
    "duration": 60,
    "start_time": "2021-09-10T13:19:56.976Z"
   },
   {
    "duration": 34,
    "start_time": "2021-09-10T13:19:57.038Z"
   },
   {
    "duration": 4817,
    "start_time": "2021-09-10T13:19:57.075Z"
   },
   {
    "duration": 4,
    "start_time": "2021-09-10T13:20:01.895Z"
   },
   {
    "duration": 68,
    "start_time": "2021-09-10T13:20:01.901Z"
   },
   {
    "duration": 8,
    "start_time": "2021-09-10T13:20:01.971Z"
   },
   {
    "duration": 55,
    "start_time": "2021-09-10T13:20:01.981Z"
   },
   {
    "duration": 42,
    "start_time": "2021-09-10T13:20:02.039Z"
   },
   {
    "duration": 135,
    "start_time": "2021-09-10T13:20:02.083Z"
   },
   {
    "duration": 45,
    "start_time": "2021-09-10T13:20:02.221Z"
   },
   {
    "duration": 39,
    "start_time": "2021-09-10T13:20:02.269Z"
   },
   {
    "duration": 65,
    "start_time": "2021-09-10T13:20:02.311Z"
   },
   {
    "duration": 19,
    "start_time": "2021-09-10T13:20:02.379Z"
   },
   {
    "duration": 21,
    "start_time": "2021-09-10T13:20:02.401Z"
   },
   {
    "duration": 77,
    "start_time": "2021-09-10T13:20:02.424Z"
   },
   {
    "duration": 21,
    "start_time": "2021-09-10T13:20:02.503Z"
   },
   {
    "duration": 10,
    "start_time": "2021-09-10T13:20:02.527Z"
   },
   {
    "duration": 18,
    "start_time": "2021-09-10T13:20:02.539Z"
   },
   {
    "duration": 109,
    "start_time": "2021-09-10T13:20:02.560Z"
   },
   {
    "duration": 18,
    "start_time": "2021-09-10T13:20:02.671Z"
   },
   {
    "duration": 26,
    "start_time": "2021-09-10T13:20:02.692Z"
   },
   {
    "duration": 54,
    "start_time": "2021-09-10T13:20:02.720Z"
   },
   {
    "duration": 93,
    "start_time": "2021-09-10T13:20:02.776Z"
   },
   {
    "duration": 16,
    "start_time": "2021-09-10T13:20:02.871Z"
   },
   {
    "duration": 17,
    "start_time": "2021-09-10T13:20:02.889Z"
   },
   {
    "duration": 48,
    "start_time": "2021-09-10T13:20:02.908Z"
   },
   {
    "duration": 38,
    "start_time": "2021-09-10T13:20:02.959Z"
   },
   {
    "duration": 50,
    "start_time": "2021-09-10T13:20:03.000Z"
   },
   {
    "duration": 26,
    "start_time": "2021-09-10T13:20:03.053Z"
   },
   {
    "duration": 36,
    "start_time": "2021-09-10T13:20:03.082Z"
   },
   {
    "duration": 44,
    "start_time": "2021-09-10T13:20:03.121Z"
   },
   {
    "duration": 61,
    "start_time": "2021-09-10T13:20:03.167Z"
   },
   {
    "duration": 24,
    "start_time": "2021-09-10T13:20:03.231Z"
   },
   {
    "duration": 46,
    "start_time": "2021-09-10T13:20:03.258Z"
   },
   {
    "duration": 57,
    "start_time": "2021-09-10T13:20:03.306Z"
   },
   {
    "duration": 912,
    "start_time": "2021-09-10T13:23:48.529Z"
   },
   {
    "duration": 13,
    "start_time": "2021-09-10T13:23:49.445Z"
   },
   {
    "duration": 6,
    "start_time": "2021-09-10T13:23:49.463Z"
   },
   {
    "duration": 47,
    "start_time": "2021-09-10T13:23:49.473Z"
   },
   {
    "duration": 13,
    "start_time": "2021-09-10T13:23:49.522Z"
   },
   {
    "duration": 47,
    "start_time": "2021-09-10T13:23:49.538Z"
   },
   {
    "duration": 4,
    "start_time": "2021-09-10T13:23:49.616Z"
   },
   {
    "duration": 6,
    "start_time": "2021-09-10T13:23:49.623Z"
   },
   {
    "duration": 49,
    "start_time": "2021-09-10T13:23:49.633Z"
   },
   {
    "duration": 40,
    "start_time": "2021-09-10T13:23:49.685Z"
   },
   {
    "duration": 33,
    "start_time": "2021-09-10T13:23:49.727Z"
   },
   {
    "duration": 58,
    "start_time": "2021-09-10T13:23:49.762Z"
   },
   {
    "duration": 11,
    "start_time": "2021-09-10T13:23:49.823Z"
   },
   {
    "duration": 39,
    "start_time": "2021-09-10T13:23:49.836Z"
   },
   {
    "duration": 67,
    "start_time": "2021-09-10T13:23:49.877Z"
   },
   {
    "duration": 38,
    "start_time": "2021-09-10T13:23:49.947Z"
   },
   {
    "duration": 58,
    "start_time": "2021-09-10T13:23:49.987Z"
   },
   {
    "duration": 25,
    "start_time": "2021-09-10T13:23:50.047Z"
   },
   {
    "duration": 54,
    "start_time": "2021-09-10T13:23:50.075Z"
   },
   {
    "duration": 30,
    "start_time": "2021-09-10T13:23:50.131Z"
   },
   {
    "duration": 29,
    "start_time": "2021-09-10T13:23:50.163Z"
   },
   {
    "duration": 23,
    "start_time": "2021-09-10T13:23:50.194Z"
   },
   {
    "duration": 36,
    "start_time": "2021-09-10T13:23:50.220Z"
   },
   {
    "duration": 13,
    "start_time": "2021-09-10T13:23:50.260Z"
   },
   {
    "duration": 23,
    "start_time": "2021-09-10T13:23:50.276Z"
   },
   {
    "duration": 17,
    "start_time": "2021-09-10T13:23:50.302Z"
   },
   {
    "duration": 33,
    "start_time": "2021-09-10T13:23:50.325Z"
   },
   {
    "duration": 12,
    "start_time": "2021-09-10T13:23:50.361Z"
   },
   {
    "duration": 61,
    "start_time": "2021-09-10T13:23:50.376Z"
   },
   {
    "duration": 10,
    "start_time": "2021-09-10T13:23:50.439Z"
   },
   {
    "duration": 4622,
    "start_time": "2021-09-10T13:23:50.452Z"
   },
   {
    "duration": 4,
    "start_time": "2021-09-10T13:23:55.077Z"
   },
   {
    "duration": 59,
    "start_time": "2021-09-10T13:23:55.083Z"
   },
   {
    "duration": 8,
    "start_time": "2021-09-10T13:23:55.145Z"
   },
   {
    "duration": 37,
    "start_time": "2021-09-10T13:23:55.155Z"
   },
   {
    "duration": 5,
    "start_time": "2021-09-10T13:23:55.217Z"
   },
   {
    "duration": 75,
    "start_time": "2021-09-10T13:23:55.225Z"
   },
   {
    "duration": 52,
    "start_time": "2021-09-10T13:23:55.302Z"
   },
   {
    "duration": 5,
    "start_time": "2021-09-10T13:23:55.356Z"
   },
   {
    "duration": 73,
    "start_time": "2021-09-10T13:23:55.364Z"
   },
   {
    "duration": 8,
    "start_time": "2021-09-10T13:23:55.440Z"
   },
   {
    "duration": 5,
    "start_time": "2021-09-10T13:23:55.451Z"
   },
   {
    "duration": 74,
    "start_time": "2021-09-10T13:23:55.458Z"
   },
   {
    "duration": 22,
    "start_time": "2021-09-10T13:23:55.534Z"
   },
   {
    "duration": 6,
    "start_time": "2021-09-10T13:23:55.559Z"
   },
   {
    "duration": 6,
    "start_time": "2021-09-10T13:23:55.567Z"
   },
   {
    "duration": 77,
    "start_time": "2021-09-10T13:23:55.576Z"
   },
   {
    "duration": 21,
    "start_time": "2021-09-10T13:23:55.656Z"
   },
   {
    "duration": 9,
    "start_time": "2021-09-10T13:23:55.680Z"
   },
   {
    "duration": 4,
    "start_time": "2021-09-10T13:23:55.717Z"
   },
   {
    "duration": 62,
    "start_time": "2021-09-10T13:23:55.723Z"
   },
   {
    "duration": 16,
    "start_time": "2021-09-10T13:23:55.787Z"
   },
   {
    "duration": 7,
    "start_time": "2021-09-10T13:23:55.817Z"
   },
   {
    "duration": 20,
    "start_time": "2021-09-10T13:23:55.826Z"
   },
   {
    "duration": 60,
    "start_time": "2021-09-10T13:23:55.848Z"
   },
   {
    "duration": 38,
    "start_time": "2021-09-10T13:23:55.910Z"
   },
   {
    "duration": 22,
    "start_time": "2021-09-10T13:23:55.951Z"
   },
   {
    "duration": 41,
    "start_time": "2021-09-10T13:23:55.975Z"
   },
   {
    "duration": 27,
    "start_time": "2021-09-10T13:23:56.018Z"
   },
   {
    "duration": 28,
    "start_time": "2021-09-10T13:23:56.047Z"
   },
   {
    "duration": 61,
    "start_time": "2021-09-10T13:23:56.078Z"
   },
   {
    "duration": 43,
    "start_time": "2021-09-10T13:23:56.141Z"
   },
   {
    "duration": 56,
    "start_time": "2021-09-10T13:23:56.186Z"
   },
   {
    "duration": 15,
    "start_time": "2021-09-10T13:23:56.244Z"
   },
   {
    "duration": 46,
    "start_time": "2021-09-10T13:23:56.261Z"
   },
   {
    "duration": 29,
    "start_time": "2021-09-10T13:23:56.309Z"
   },
   {
    "duration": 884,
    "start_time": "2021-09-10T13:24:17.814Z"
   },
   {
    "duration": 13,
    "start_time": "2021-09-10T13:24:18.701Z"
   },
   {
    "duration": 8,
    "start_time": "2021-09-10T13:24:18.717Z"
   },
   {
    "duration": 14,
    "start_time": "2021-09-10T13:24:18.728Z"
   },
   {
    "duration": 14,
    "start_time": "2021-09-10T13:24:18.745Z"
   },
   {
    "duration": 84,
    "start_time": "2021-09-10T13:24:18.761Z"
   },
   {
    "duration": 4,
    "start_time": "2021-09-10T13:24:18.848Z"
   },
   {
    "duration": 8,
    "start_time": "2021-09-10T13:24:18.856Z"
   },
   {
    "duration": 65,
    "start_time": "2021-09-10T13:24:18.867Z"
   },
   {
    "duration": 15,
    "start_time": "2021-09-10T13:24:18.934Z"
   },
   {
    "duration": 33,
    "start_time": "2021-09-10T13:24:18.952Z"
   },
   {
    "duration": 60,
    "start_time": "2021-09-10T13:24:18.988Z"
   },
   {
    "duration": 12,
    "start_time": "2021-09-10T13:24:19.051Z"
   },
   {
    "duration": 68,
    "start_time": "2021-09-10T13:24:19.065Z"
   },
   {
    "duration": 35,
    "start_time": "2021-09-10T13:24:19.136Z"
   },
   {
    "duration": 57,
    "start_time": "2021-09-10T13:24:19.173Z"
   },
   {
    "duration": 30,
    "start_time": "2021-09-10T13:24:19.232Z"
   },
   {
    "duration": 23,
    "start_time": "2021-09-10T13:24:19.264Z"
   },
   {
    "duration": 22,
    "start_time": "2021-09-10T13:24:19.317Z"
   },
   {
    "duration": 30,
    "start_time": "2021-09-10T13:24:19.342Z"
   },
   {
    "duration": 43,
    "start_time": "2021-09-10T13:24:19.374Z"
   },
   {
    "duration": 3,
    "start_time": "2021-09-10T13:24:19.420Z"
   },
   {
    "duration": 22,
    "start_time": "2021-09-10T13:24:19.429Z"
   },
   {
    "duration": 10,
    "start_time": "2021-09-10T13:24:19.455Z"
   },
   {
    "duration": 7,
    "start_time": "2021-09-10T13:24:19.468Z"
   },
   {
    "duration": 10,
    "start_time": "2021-09-10T13:24:19.518Z"
   },
   {
    "duration": 39,
    "start_time": "2021-09-10T13:24:19.531Z"
   },
   {
    "duration": 51,
    "start_time": "2021-09-10T13:24:19.573Z"
   },
   {
    "duration": 32,
    "start_time": "2021-09-10T13:24:19.627Z"
   },
   {
    "duration": 15,
    "start_time": "2021-09-10T13:24:19.661Z"
   },
   {
    "duration": 4761,
    "start_time": "2021-09-10T13:24:19.679Z"
   },
   {
    "duration": 4,
    "start_time": "2021-09-10T13:24:24.443Z"
   },
   {
    "duration": 69,
    "start_time": "2021-09-10T13:24:24.449Z"
   },
   {
    "duration": 12,
    "start_time": "2021-09-10T13:24:24.521Z"
   },
   {
    "duration": 38,
    "start_time": "2021-09-10T13:24:24.536Z"
   },
   {
    "duration": 42,
    "start_time": "2021-09-10T13:24:24.578Z"
   },
   {
    "duration": 75,
    "start_time": "2021-09-10T13:24:24.624Z"
   },
   {
    "duration": 47,
    "start_time": "2021-09-10T13:24:24.717Z"
   },
   {
    "duration": 7,
    "start_time": "2021-09-10T13:24:24.766Z"
   },
   {
    "duration": 73,
    "start_time": "2021-09-10T13:24:24.775Z"
   },
   {
    "duration": 7,
    "start_time": "2021-09-10T13:24:24.850Z"
   },
   {
    "duration": 6,
    "start_time": "2021-09-10T13:24:24.860Z"
   },
   {
    "duration": 75,
    "start_time": "2021-09-10T13:24:24.868Z"
   },
   {
    "duration": 23,
    "start_time": "2021-09-10T13:24:24.946Z"
   },
   {
    "duration": 8,
    "start_time": "2021-09-10T13:24:24.972Z"
   },
   {
    "duration": 34,
    "start_time": "2021-09-10T13:24:24.983Z"
   },
   {
    "duration": 56,
    "start_time": "2021-09-10T13:24:25.020Z"
   },
   {
    "duration": 42,
    "start_time": "2021-09-10T13:24:25.079Z"
   },
   {
    "duration": 9,
    "start_time": "2021-09-10T13:24:25.124Z"
   },
   {
    "duration": 7,
    "start_time": "2021-09-10T13:24:25.135Z"
   },
   {
    "duration": 75,
    "start_time": "2021-09-10T13:24:25.145Z"
   },
   {
    "duration": 17,
    "start_time": "2021-09-10T13:24:25.223Z"
   },
   {
    "duration": 6,
    "start_time": "2021-09-10T13:24:25.242Z"
   },
   {
    "duration": 5,
    "start_time": "2021-09-10T13:24:25.250Z"
   },
   {
    "duration": 89,
    "start_time": "2021-09-10T13:24:25.257Z"
   },
   {
    "duration": 17,
    "start_time": "2021-09-10T13:24:25.349Z"
   },
   {
    "duration": 26,
    "start_time": "2021-09-10T13:24:25.368Z"
   },
   {
    "duration": 26,
    "start_time": "2021-09-10T13:24:25.417Z"
   },
   {
    "duration": 35,
    "start_time": "2021-09-10T13:24:25.445Z"
   },
   {
    "duration": 55,
    "start_time": "2021-09-10T13:24:25.483Z"
   },
   {
    "duration": 29,
    "start_time": "2021-09-10T13:24:25.541Z"
   },
   {
    "duration": 68,
    "start_time": "2021-09-10T13:24:25.573Z"
   },
   {
    "duration": 33,
    "start_time": "2021-09-10T13:24:25.644Z"
   },
   {
    "duration": 11,
    "start_time": "2021-09-10T13:24:25.679Z"
   },
   {
    "duration": 49,
    "start_time": "2021-09-10T13:24:25.693Z"
   },
   {
    "duration": 21,
    "start_time": "2021-09-10T13:24:25.744Z"
   },
   {
    "duration": 990,
    "start_time": "2021-09-10T13:25:17.548Z"
   },
   {
    "duration": 17,
    "start_time": "2021-09-10T13:25:18.542Z"
   },
   {
    "duration": 11,
    "start_time": "2021-09-10T13:25:18.563Z"
   },
   {
    "duration": 39,
    "start_time": "2021-09-10T13:25:18.577Z"
   },
   {
    "duration": 16,
    "start_time": "2021-09-10T13:25:18.619Z"
   },
   {
    "duration": 45,
    "start_time": "2021-09-10T13:25:18.638Z"
   },
   {
    "duration": 43,
    "start_time": "2021-09-10T13:25:18.685Z"
   },
   {
    "duration": 30,
    "start_time": "2021-09-10T13:25:18.730Z"
   },
   {
    "duration": 54,
    "start_time": "2021-09-10T13:25:18.766Z"
   },
   {
    "duration": 13,
    "start_time": "2021-09-10T13:25:18.825Z"
   },
   {
    "duration": 50,
    "start_time": "2021-09-10T13:25:18.841Z"
   },
   {
    "duration": 42,
    "start_time": "2021-09-10T13:25:18.894Z"
   },
   {
    "duration": 14,
    "start_time": "2021-09-10T13:25:18.939Z"
   },
   {
    "duration": 62,
    "start_time": "2021-09-10T13:25:18.956Z"
   },
   {
    "duration": 42,
    "start_time": "2021-09-10T13:25:19.020Z"
   },
   {
    "duration": 58,
    "start_time": "2021-09-10T13:25:19.064Z"
   },
   {
    "duration": 32,
    "start_time": "2021-09-10T13:25:19.124Z"
   },
   {
    "duration": 23,
    "start_time": "2021-09-10T13:25:19.158Z"
   },
   {
    "duration": 52,
    "start_time": "2021-09-10T13:25:19.184Z"
   },
   {
    "duration": 27,
    "start_time": "2021-09-10T13:25:19.238Z"
   },
   {
    "duration": 13,
    "start_time": "2021-09-10T13:25:19.268Z"
   },
   {
    "duration": 32,
    "start_time": "2021-09-10T13:25:19.284Z"
   },
   {
    "duration": 24,
    "start_time": "2021-09-10T13:25:19.319Z"
   },
   {
    "duration": 10,
    "start_time": "2021-09-10T13:25:19.345Z"
   },
   {
    "duration": 10,
    "start_time": "2021-09-10T13:25:19.358Z"
   },
   {
    "duration": 58,
    "start_time": "2021-09-10T13:25:19.370Z"
   },
   {
    "duration": 31,
    "start_time": "2021-09-10T13:25:19.435Z"
   },
   {
    "duration": 19,
    "start_time": "2021-09-10T13:25:19.469Z"
   },
   {
    "duration": 52,
    "start_time": "2021-09-10T13:25:19.490Z"
   },
   {
    "duration": 29,
    "start_time": "2021-09-10T13:25:19.545Z"
   },
   {
    "duration": 5111,
    "start_time": "2021-09-10T13:25:19.576Z"
   },
   {
    "duration": 4,
    "start_time": "2021-09-10T13:25:24.690Z"
   },
   {
    "duration": 65,
    "start_time": "2021-09-10T13:25:24.697Z"
   },
   {
    "duration": 9,
    "start_time": "2021-09-10T13:25:24.764Z"
   },
   {
    "duration": 58,
    "start_time": "2021-09-10T13:25:24.775Z"
   },
   {
    "duration": 7,
    "start_time": "2021-09-10T13:25:24.836Z"
   },
   {
    "duration": 91,
    "start_time": "2021-09-10T13:25:24.846Z"
   },
   {
    "duration": 47,
    "start_time": "2021-09-10T13:25:24.939Z"
   },
   {
    "duration": 6,
    "start_time": "2021-09-10T13:25:25.017Z"
   },
   {
    "duration": 65,
    "start_time": "2021-09-10T13:25:25.026Z"
   },
   {
    "duration": 29,
    "start_time": "2021-09-10T13:25:25.094Z"
   },
   {
    "duration": 13,
    "start_time": "2021-09-10T13:25:25.126Z"
   },
   {
    "duration": 84,
    "start_time": "2021-09-10T13:25:25.142Z"
   },
   {
    "duration": 31,
    "start_time": "2021-09-10T13:25:25.229Z"
   },
   {
    "duration": 10,
    "start_time": "2021-09-10T13:25:25.263Z"
   },
   {
    "duration": 55,
    "start_time": "2021-09-10T13:25:25.276Z"
   },
   {
    "duration": 53,
    "start_time": "2021-09-10T13:25:25.336Z"
   },
   {
    "duration": 20,
    "start_time": "2021-09-10T13:25:25.416Z"
   },
   {
    "duration": 7,
    "start_time": "2021-09-10T13:25:25.439Z"
   },
   {
    "duration": 13,
    "start_time": "2021-09-10T13:25:25.449Z"
   },
   {
    "duration": 191,
    "start_time": "2021-09-10T13:25:25.465Z"
   },
   {
    "duration": 39,
    "start_time": "2021-09-10T13:25:25.661Z"
   },
   {
    "duration": 14,
    "start_time": "2021-09-10T13:25:25.719Z"
   },
   {
    "duration": 16,
    "start_time": "2021-09-10T13:25:25.737Z"
   },
   {
    "duration": 74,
    "start_time": "2021-09-10T13:25:25.756Z"
   },
   {
    "duration": 19,
    "start_time": "2021-09-10T13:25:25.832Z"
   },
   {
    "duration": 65,
    "start_time": "2021-09-10T13:25:25.853Z"
   },
   {
    "duration": 29,
    "start_time": "2021-09-10T13:25:25.921Z"
   },
   {
    "duration": 76,
    "start_time": "2021-09-10T13:25:25.953Z"
   },
   {
    "duration": 32,
    "start_time": "2021-09-10T13:25:26.032Z"
   },
   {
    "duration": 70,
    "start_time": "2021-09-10T13:25:26.066Z"
   },
   {
    "duration": 83,
    "start_time": "2021-09-10T13:25:26.138Z"
   },
   {
    "duration": 39,
    "start_time": "2021-09-10T13:25:26.224Z"
   },
   {
    "duration": 14,
    "start_time": "2021-09-10T13:25:26.266Z"
   },
   {
    "duration": 71,
    "start_time": "2021-09-10T13:25:26.283Z"
   },
   {
    "duration": 48,
    "start_time": "2021-09-10T13:25:26.357Z"
   },
   {
    "duration": 19,
    "start_time": "2021-09-10T13:58:57.271Z"
   },
   {
    "duration": 21,
    "start_time": "2021-09-10T14:00:07.506Z"
   },
   {
    "duration": 30,
    "start_time": "2021-09-10T14:00:20.292Z"
   },
   {
    "duration": 23,
    "start_time": "2021-09-10T14:00:34.302Z"
   },
   {
    "duration": 563,
    "start_time": "2021-09-10T14:01:23.633Z"
   },
   {
    "duration": 315,
    "start_time": "2021-09-10T14:02:29.156Z"
   },
   {
    "duration": 341,
    "start_time": "2021-09-10T14:02:44.517Z"
   },
   {
    "duration": 1266,
    "start_time": "2021-09-10T14:03:09.298Z"
   },
   {
    "duration": 31,
    "start_time": "2021-09-10T14:05:02.570Z"
   },
   {
    "duration": 7509,
    "start_time": "2021-09-10T14:07:03.795Z"
   },
   {
    "duration": 32,
    "start_time": "2021-09-10T14:07:41.506Z"
   },
   {
    "duration": 7390,
    "start_time": "2021-09-10T14:08:11.253Z"
   },
   {
    "duration": 34,
    "start_time": "2021-09-10T14:10:29.657Z"
   },
   {
    "duration": 38,
    "start_time": "2021-09-10T14:10:41.289Z"
   },
   {
    "duration": 50,
    "start_time": "2021-09-10T14:13:23.281Z"
   },
   {
    "duration": 28,
    "start_time": "2021-09-10T14:13:42.446Z"
   },
   {
    "duration": 542,
    "start_time": "2021-09-10T14:16:32.088Z"
   },
   {
    "duration": 28,
    "start_time": "2021-09-10T14:16:57.989Z"
   },
   {
    "duration": 4,
    "start_time": "2021-09-10T14:17:31.531Z"
   },
   {
    "duration": 29,
    "start_time": "2021-09-10T14:17:33.917Z"
   },
   {
    "duration": 32,
    "start_time": "2021-09-10T14:35:52.766Z"
   },
   {
    "duration": 349,
    "start_time": "2021-09-10T14:38:22.838Z"
   },
   {
    "duration": 318,
    "start_time": "2021-09-10T14:38:36.181Z"
   },
   {
    "duration": 16,
    "start_time": "2021-09-10T14:38:41.781Z"
   },
   {
    "duration": 27,
    "start_time": "2021-09-10T14:39:10.917Z"
   },
   {
    "duration": 23,
    "start_time": "2021-09-10T14:39:55.084Z"
   },
   {
    "duration": 22,
    "start_time": "2021-09-10T14:44:05.836Z"
   },
   {
    "duration": 478,
    "start_time": "2021-09-10T14:44:26.771Z"
   },
   {
    "duration": 22,
    "start_time": "2021-09-10T14:44:52.360Z"
   },
   {
    "duration": 22,
    "start_time": "2021-09-10T14:48:41.213Z"
   },
   {
    "duration": 26,
    "start_time": "2021-09-10T14:50:28.704Z"
   },
   {
    "duration": 334,
    "start_time": "2021-09-10T14:51:05.933Z"
   },
   {
    "duration": 24,
    "start_time": "2021-09-10T14:51:23.193Z"
   },
   {
    "duration": 111,
    "start_time": "2021-09-10T14:59:30.055Z"
   },
   {
    "duration": 101,
    "start_time": "2021-09-10T14:59:44.016Z"
   },
   {
    "duration": 906,
    "start_time": "2021-09-10T15:04:14.017Z"
   },
   {
    "duration": 14,
    "start_time": "2021-09-10T15:04:14.926Z"
   },
   {
    "duration": 6,
    "start_time": "2021-09-10T15:04:14.947Z"
   },
   {
    "duration": 9,
    "start_time": "2021-09-10T15:04:14.956Z"
   },
   {
    "duration": 49,
    "start_time": "2021-09-10T15:04:14.967Z"
   },
   {
    "duration": 15,
    "start_time": "2021-09-10T15:04:15.019Z"
   },
   {
    "duration": 51,
    "start_time": "2021-09-10T15:04:15.038Z"
   },
   {
    "duration": 26,
    "start_time": "2021-09-10T15:04:15.092Z"
   },
   {
    "duration": 7,
    "start_time": "2021-09-10T15:04:15.120Z"
   },
   {
    "duration": 55,
    "start_time": "2021-09-10T15:04:15.129Z"
   },
   {
    "duration": 11,
    "start_time": "2021-09-10T15:04:15.187Z"
   },
   {
    "duration": 40,
    "start_time": "2021-09-10T15:04:15.200Z"
   },
   {
    "duration": 32,
    "start_time": "2021-09-10T15:04:15.243Z"
   },
   {
    "duration": 47,
    "start_time": "2021-09-10T15:04:15.277Z"
   },
   {
    "duration": 39,
    "start_time": "2021-09-10T15:04:15.327Z"
   },
   {
    "duration": 58,
    "start_time": "2021-09-10T15:04:15.369Z"
   },
   {
    "duration": 39,
    "start_time": "2021-09-10T15:04:15.430Z"
   },
   {
    "duration": 61,
    "start_time": "2021-09-10T15:04:15.472Z"
   },
   {
    "duration": 25,
    "start_time": "2021-09-10T15:04:15.536Z"
   },
   {
    "duration": 25,
    "start_time": "2021-09-10T15:04:15.564Z"
   },
   {
    "duration": 29,
    "start_time": "2021-09-10T15:04:15.616Z"
   },
   {
    "duration": 18,
    "start_time": "2021-09-10T15:04:15.650Z"
   },
   {
    "duration": 12,
    "start_time": "2021-09-10T15:04:15.671Z"
   },
   {
    "duration": 44,
    "start_time": "2021-09-10T15:04:15.685Z"
   },
   {
    "duration": 10,
    "start_time": "2021-09-10T15:04:15.732Z"
   },
   {
    "duration": 21,
    "start_time": "2021-09-10T15:04:15.744Z"
   },
   {
    "duration": 20,
    "start_time": "2021-09-10T15:04:15.768Z"
   },
   {
    "duration": 50,
    "start_time": "2021-09-10T15:04:15.791Z"
   },
   {
    "duration": 14,
    "start_time": "2021-09-10T15:04:15.843Z"
   },
   {
    "duration": 37,
    "start_time": "2021-09-10T15:04:15.859Z"
   },
   {
    "duration": 6,
    "start_time": "2021-09-10T15:04:15.916Z"
   },
   {
    "duration": 4688,
    "start_time": "2021-09-10T15:04:15.924Z"
   },
   {
    "duration": 4,
    "start_time": "2021-09-10T15:04:20.614Z"
   },
   {
    "duration": 50,
    "start_time": "2021-09-10T15:04:20.621Z"
   },
   {
    "duration": 7,
    "start_time": "2021-09-10T15:04:20.673Z"
   },
   {
    "duration": 68,
    "start_time": "2021-09-10T15:04:20.683Z"
   },
   {
    "duration": 10,
    "start_time": "2021-09-10T15:04:20.754Z"
   },
   {
    "duration": 80,
    "start_time": "2021-09-10T15:04:20.767Z"
   },
   {
    "duration": 68,
    "start_time": "2021-09-10T15:04:20.850Z"
   },
   {
    "duration": 4,
    "start_time": "2021-09-10T15:04:20.921Z"
   },
   {
    "duration": 48,
    "start_time": "2021-09-10T15:04:20.927Z"
   },
   {
    "duration": 122,
    "start_time": "2021-09-10T15:04:20.978Z"
   },
   {
    "duration": 4,
    "start_time": "2021-09-10T15:04:21.102Z"
   },
   {
    "duration": 50,
    "start_time": "2021-09-10T15:04:21.109Z"
   },
   {
    "duration": 24,
    "start_time": "2021-09-10T15:04:21.162Z"
   },
   {
    "duration": 7,
    "start_time": "2021-09-10T15:04:21.189Z"
   },
   {
    "duration": 4,
    "start_time": "2021-09-10T15:04:21.218Z"
   },
   {
    "duration": 56,
    "start_time": "2021-09-10T15:04:21.224Z"
   },
   {
    "duration": 41,
    "start_time": "2021-09-10T15:04:21.283Z"
   },
   {
    "duration": 6,
    "start_time": "2021-09-10T15:04:21.326Z"
   },
   {
    "duration": 5,
    "start_time": "2021-09-10T15:04:21.334Z"
   },
   {
    "duration": 81,
    "start_time": "2021-09-10T15:04:21.341Z"
   },
   {
    "duration": 15,
    "start_time": "2021-09-10T15:04:21.425Z"
   },
   {
    "duration": 8,
    "start_time": "2021-09-10T15:04:21.442Z"
   },
   {
    "duration": 5,
    "start_time": "2021-09-10T15:04:21.453Z"
   },
   {
    "duration": 87,
    "start_time": "2021-09-10T15:04:21.461Z"
   },
   {
    "duration": 18,
    "start_time": "2021-09-10T15:04:21.551Z"
   },
   {
    "duration": 44,
    "start_time": "2021-09-10T15:04:21.572Z"
   },
   {
    "duration": 30,
    "start_time": "2021-09-10T15:04:21.619Z"
   },
   {
    "duration": 4,
    "start_time": "2021-09-10T15:04:21.652Z"
   },
   {
    "duration": 28,
    "start_time": "2021-09-10T15:04:21.658Z"
   },
   {
    "duration": 22,
    "start_time": "2021-09-10T15:04:21.717Z"
   },
   {
    "duration": 24,
    "start_time": "2021-09-10T15:04:21.742Z"
   },
   {
    "duration": 55,
    "start_time": "2021-09-10T15:04:21.768Z"
   },
   {
    "duration": 20,
    "start_time": "2021-09-10T15:04:21.826Z"
   },
   {
    "duration": 102,
    "start_time": "2021-09-10T15:05:56.797Z"
   },
   {
    "duration": 7,
    "start_time": "2021-09-10T15:06:10.357Z"
   },
   {
    "duration": 103,
    "start_time": "2021-09-10T15:06:17.864Z"
   },
   {
    "duration": 102,
    "start_time": "2021-09-10T15:08:13.015Z"
   },
   {
    "duration": 8,
    "start_time": "2021-09-10T15:08:21.237Z"
   },
   {
    "duration": 873,
    "start_time": "2021-09-10T15:08:30.100Z"
   },
   {
    "duration": 12,
    "start_time": "2021-09-10T15:08:30.976Z"
   },
   {
    "duration": 28,
    "start_time": "2021-09-10T15:08:30.991Z"
   },
   {
    "duration": 38,
    "start_time": "2021-09-10T15:08:31.022Z"
   },
   {
    "duration": 33,
    "start_time": "2021-09-10T15:08:31.063Z"
   },
   {
    "duration": 59,
    "start_time": "2021-09-10T15:08:31.098Z"
   },
   {
    "duration": 4,
    "start_time": "2021-09-10T15:08:31.160Z"
   },
   {
    "duration": 31,
    "start_time": "2021-09-10T15:08:31.167Z"
   },
   {
    "duration": 52,
    "start_time": "2021-09-10T15:08:31.203Z"
   },
   {
    "duration": 12,
    "start_time": "2021-09-10T15:08:31.259Z"
   },
   {
    "duration": 57,
    "start_time": "2021-09-10T15:08:31.274Z"
   },
   {
    "duration": 65,
    "start_time": "2021-09-10T15:08:31.333Z"
   },
   {
    "duration": 11,
    "start_time": "2021-09-10T15:08:31.401Z"
   },
   {
    "duration": 66,
    "start_time": "2021-09-10T15:08:31.415Z"
   },
   {
    "duration": 36,
    "start_time": "2021-09-10T15:08:31.483Z"
   },
   {
    "duration": 39,
    "start_time": "2021-09-10T15:08:31.521Z"
   },
   {
    "duration": 56,
    "start_time": "2021-09-10T15:08:31.562Z"
   },
   {
    "duration": 23,
    "start_time": "2021-09-10T15:08:31.621Z"
   },
   {
    "duration": 22,
    "start_time": "2021-09-10T15:08:31.647Z"
   },
   {
    "duration": 60,
    "start_time": "2021-09-10T15:08:31.672Z"
   },
   {
    "duration": 18,
    "start_time": "2021-09-10T15:08:31.735Z"
   },
   {
    "duration": 10,
    "start_time": "2021-09-10T15:08:31.755Z"
   },
   {
    "duration": 27,
    "start_time": "2021-09-10T15:08:31.767Z"
   },
   {
    "duration": 10,
    "start_time": "2021-09-10T15:08:31.815Z"
   },
   {
    "duration": 8,
    "start_time": "2021-09-10T15:08:31.827Z"
   },
   {
    "duration": 23,
    "start_time": "2021-09-10T15:08:31.838Z"
   },
   {
    "duration": 51,
    "start_time": "2021-09-10T15:08:31.867Z"
   },
   {
    "duration": 24,
    "start_time": "2021-09-10T15:08:31.921Z"
   },
   {
    "duration": 33,
    "start_time": "2021-09-10T15:08:31.948Z"
   },
   {
    "duration": 18,
    "start_time": "2021-09-10T15:08:31.983Z"
   },
   {
    "duration": 4672,
    "start_time": "2021-09-10T15:08:32.004Z"
   },
   {
    "duration": 3,
    "start_time": "2021-09-10T15:08:36.679Z"
   },
   {
    "duration": 63,
    "start_time": "2021-09-10T15:08:36.684Z"
   },
   {
    "duration": 8,
    "start_time": "2021-09-10T15:08:36.749Z"
   },
   {
    "duration": 62,
    "start_time": "2021-09-10T15:08:36.759Z"
   },
   {
    "duration": 23,
    "start_time": "2021-09-10T15:08:36.823Z"
   },
   {
    "duration": 85,
    "start_time": "2021-09-10T15:08:36.849Z"
   },
   {
    "duration": 49,
    "start_time": "2021-09-10T15:08:36.936Z"
   },
   {
    "duration": 18,
    "start_time": "2021-09-10T15:08:36.987Z"
   },
   {
    "duration": 51,
    "start_time": "2021-09-10T15:08:37.007Z"
   },
   {
    "duration": 7,
    "start_time": "2021-09-10T15:08:37.060Z"
   },
   {
    "duration": 13,
    "start_time": "2021-09-10T15:08:37.069Z"
   },
   {
    "duration": 69,
    "start_time": "2021-09-10T15:08:37.084Z"
   },
   {
    "duration": 22,
    "start_time": "2021-09-10T15:08:37.155Z"
   },
   {
    "duration": 10,
    "start_time": "2021-09-10T15:08:37.180Z"
   },
   {
    "duration": 26,
    "start_time": "2021-09-10T15:08:37.192Z"
   },
   {
    "duration": 61,
    "start_time": "2021-09-10T15:08:37.220Z"
   },
   {
    "duration": 14,
    "start_time": "2021-09-10T15:08:37.284Z"
   },
   {
    "duration": 19,
    "start_time": "2021-09-10T15:08:37.300Z"
   },
   {
    "duration": 11,
    "start_time": "2021-09-10T15:08:37.321Z"
   },
   {
    "duration": 57,
    "start_time": "2021-09-10T15:08:37.334Z"
   },
   {
    "duration": 27,
    "start_time": "2021-09-10T15:08:37.393Z"
   },
   {
    "duration": 8,
    "start_time": "2021-09-10T15:08:37.423Z"
   },
   {
    "duration": 10,
    "start_time": "2021-09-10T15:08:37.434Z"
   },
   {
    "duration": 69,
    "start_time": "2021-09-10T15:08:37.447Z"
   },
   {
    "duration": 16,
    "start_time": "2021-09-10T15:08:37.519Z"
   },
   {
    "duration": 19,
    "start_time": "2021-09-10T15:08:37.537Z"
   },
   {
    "duration": 39,
    "start_time": "2021-09-10T15:08:37.559Z"
   },
   {
    "duration": 3,
    "start_time": "2021-09-10T15:08:37.616Z"
   },
   {
    "duration": 40,
    "start_time": "2021-09-10T15:08:37.622Z"
   },
   {
    "duration": 21,
    "start_time": "2021-09-10T15:08:37.664Z"
   },
   {
    "duration": 41,
    "start_time": "2021-09-10T15:08:37.687Z"
   },
   {
    "duration": 19,
    "start_time": "2021-09-10T15:08:37.730Z"
   },
   {
    "duration": 23,
    "start_time": "2021-09-10T15:08:37.752Z"
   },
   {
    "duration": 101,
    "start_time": "2021-09-10T15:09:12.815Z"
   },
   {
    "duration": 103,
    "start_time": "2021-09-10T15:09:25.233Z"
   },
   {
    "duration": 101,
    "start_time": "2021-09-10T15:09:32.739Z"
   },
   {
    "duration": 91,
    "start_time": "2021-09-10T15:09:37.543Z"
   },
   {
    "duration": 98,
    "start_time": "2021-09-10T15:15:22.638Z"
   },
   {
    "duration": 4,
    "start_time": "2021-09-10T15:18:06.505Z"
   },
   {
    "duration": 102,
    "start_time": "2021-09-10T15:18:09.378Z"
   },
   {
    "duration": 101,
    "start_time": "2021-09-10T15:18:50.245Z"
   },
   {
    "duration": 97,
    "start_time": "2021-09-10T15:18:58.609Z"
   },
   {
    "duration": 153,
    "start_time": "2021-09-10T15:26:05.433Z"
   },
   {
    "duration": 21,
    "start_time": "2021-09-10T15:29:52.745Z"
   },
   {
    "duration": 798,
    "start_time": "2021-09-10T15:31:36.560Z"
   },
   {
    "duration": 13,
    "start_time": "2021-09-10T15:31:37.361Z"
   },
   {
    "duration": 7,
    "start_time": "2021-09-10T15:31:37.378Z"
   },
   {
    "duration": 39,
    "start_time": "2021-09-10T15:31:37.389Z"
   },
   {
    "duration": 16,
    "start_time": "2021-09-10T15:31:37.431Z"
   },
   {
    "duration": 84,
    "start_time": "2021-09-10T15:31:37.449Z"
   },
   {
    "duration": 4,
    "start_time": "2021-09-10T15:31:37.537Z"
   },
   {
    "duration": 5,
    "start_time": "2021-09-10T15:31:37.547Z"
   },
   {
    "duration": 75,
    "start_time": "2021-09-10T15:31:37.556Z"
   },
   {
    "duration": 14,
    "start_time": "2021-09-10T15:31:37.634Z"
   },
   {
    "duration": 36,
    "start_time": "2021-09-10T15:31:37.651Z"
   },
   {
    "duration": 35,
    "start_time": "2021-09-10T15:31:37.718Z"
   },
   {
    "duration": 12,
    "start_time": "2021-09-10T15:31:37.756Z"
   },
   {
    "duration": 75,
    "start_time": "2021-09-10T15:31:37.770Z"
   },
   {
    "duration": 38,
    "start_time": "2021-09-10T15:31:37.847Z"
   },
   {
    "duration": 61,
    "start_time": "2021-09-10T15:31:37.887Z"
   },
   {
    "duration": 32,
    "start_time": "2021-09-10T15:31:37.950Z"
   },
   {
    "duration": 48,
    "start_time": "2021-09-10T15:31:37.984Z"
   },
   {
    "duration": 22,
    "start_time": "2021-09-10T15:31:38.034Z"
   },
   {
    "duration": 28,
    "start_time": "2021-09-10T15:31:38.058Z"
   },
   {
    "duration": 36,
    "start_time": "2021-09-10T15:31:38.088Z"
   },
   {
    "duration": 16,
    "start_time": "2021-09-10T15:31:38.127Z"
   },
   {
    "duration": 31,
    "start_time": "2021-09-10T15:31:38.149Z"
   },
   {
    "duration": 10,
    "start_time": "2021-09-10T15:31:38.183Z"
   },
   {
    "duration": 24,
    "start_time": "2021-09-10T15:31:38.196Z"
   },
   {
    "duration": 24,
    "start_time": "2021-09-10T15:31:38.222Z"
   },
   {
    "duration": 41,
    "start_time": "2021-09-10T15:31:38.248Z"
   },
   {
    "duration": 29,
    "start_time": "2021-09-10T15:31:38.291Z"
   },
   {
    "duration": 32,
    "start_time": "2021-09-10T15:31:38.323Z"
   },
   {
    "duration": 8,
    "start_time": "2021-09-10T15:31:38.358Z"
   },
   {
    "duration": 4618,
    "start_time": "2021-09-10T15:31:38.368Z"
   },
   {
    "duration": 4,
    "start_time": "2021-09-10T15:31:42.988Z"
   },
   {
    "duration": 61,
    "start_time": "2021-09-10T15:31:42.994Z"
   },
   {
    "duration": 8,
    "start_time": "2021-09-10T15:31:43.057Z"
   },
   {
    "duration": 63,
    "start_time": "2021-09-10T15:31:43.068Z"
   },
   {
    "duration": 9,
    "start_time": "2021-09-10T15:31:43.134Z"
   },
   {
    "duration": 86,
    "start_time": "2021-09-10T15:31:43.146Z"
   },
   {
    "duration": 45,
    "start_time": "2021-09-10T15:31:43.234Z"
   },
   {
    "duration": 5,
    "start_time": "2021-09-10T15:31:43.281Z"
   },
   {
    "duration": 43,
    "start_time": "2021-09-10T15:31:43.316Z"
   },
   {
    "duration": 8,
    "start_time": "2021-09-10T15:31:43.361Z"
   },
   {
    "duration": 5,
    "start_time": "2021-09-10T15:31:43.371Z"
   },
   {
    "duration": 81,
    "start_time": "2021-09-10T15:31:43.378Z"
   },
   {
    "duration": 23,
    "start_time": "2021-09-10T15:31:43.461Z"
   },
   {
    "duration": 31,
    "start_time": "2021-09-10T15:31:43.487Z"
   },
   {
    "duration": 4,
    "start_time": "2021-09-10T15:31:43.521Z"
   },
   {
    "duration": 48,
    "start_time": "2021-09-10T15:31:43.528Z"
   },
   {
    "duration": 44,
    "start_time": "2021-09-10T15:31:43.579Z"
   },
   {
    "duration": 7,
    "start_time": "2021-09-10T15:31:43.625Z"
   },
   {
    "duration": 5,
    "start_time": "2021-09-10T15:31:43.634Z"
   },
   {
    "duration": 76,
    "start_time": "2021-09-10T15:31:43.641Z"
   },
   {
    "duration": 22,
    "start_time": "2021-09-10T15:31:43.719Z"
   },
   {
    "duration": 7,
    "start_time": "2021-09-10T15:31:43.743Z"
   },
   {
    "duration": 5,
    "start_time": "2021-09-10T15:31:43.753Z"
   },
   {
    "duration": 80,
    "start_time": "2021-09-10T15:31:43.760Z"
   },
   {
    "duration": 17,
    "start_time": "2021-09-10T15:31:43.842Z"
   },
   {
    "duration": 15,
    "start_time": "2021-09-10T15:31:43.862Z"
   },
   {
    "duration": 56,
    "start_time": "2021-09-10T15:31:43.879Z"
   },
   {
    "duration": 3,
    "start_time": "2021-09-10T15:31:43.938Z"
   },
   {
    "duration": 27,
    "start_time": "2021-09-10T15:31:43.943Z"
   },
   {
    "duration": 51,
    "start_time": "2021-09-10T15:31:43.973Z"
   },
   {
    "duration": 22,
    "start_time": "2021-09-10T15:31:44.026Z"
   },
   {
    "duration": 21,
    "start_time": "2021-09-10T15:31:44.050Z"
   },
   {
    "duration": 52,
    "start_time": "2021-09-10T15:31:44.073Z"
   },
   {
    "duration": 686,
    "start_time": "2021-09-10T18:37:23.944Z"
   },
   {
    "duration": 9,
    "start_time": "2021-09-10T18:37:24.632Z"
   },
   {
    "duration": 5,
    "start_time": "2021-09-10T18:37:24.644Z"
   },
   {
    "duration": 10,
    "start_time": "2021-09-10T18:37:24.651Z"
   },
   {
    "duration": 11,
    "start_time": "2021-09-10T18:37:24.677Z"
   },
   {
    "duration": 29,
    "start_time": "2021-09-10T18:37:24.690Z"
   },
   {
    "duration": 3,
    "start_time": "2021-09-10T18:37:24.722Z"
   },
   {
    "duration": 6,
    "start_time": "2021-09-10T18:37:24.727Z"
   },
   {
    "duration": 60,
    "start_time": "2021-09-10T18:37:24.736Z"
   },
   {
    "duration": 7,
    "start_time": "2021-09-10T18:37:24.798Z"
   },
   {
    "duration": 21,
    "start_time": "2021-09-10T18:37:24.807Z"
   },
   {
    "duration": 21,
    "start_time": "2021-09-10T18:37:24.830Z"
   },
   {
    "duration": 30,
    "start_time": "2021-09-10T18:37:24.853Z"
   },
   {
    "duration": 25,
    "start_time": "2021-09-10T18:37:24.884Z"
   },
   {
    "duration": 22,
    "start_time": "2021-09-10T18:37:24.911Z"
   },
   {
    "duration": 46,
    "start_time": "2021-09-10T18:37:24.934Z"
   },
   {
    "duration": 18,
    "start_time": "2021-09-10T18:37:24.981Z"
   },
   {
    "duration": 16,
    "start_time": "2021-09-10T18:37:25.000Z"
   },
   {
    "duration": 15,
    "start_time": "2021-09-10T18:37:25.017Z"
   },
   {
    "duration": 45,
    "start_time": "2021-09-10T18:37:25.033Z"
   },
   {
    "duration": 7,
    "start_time": "2021-09-10T18:37:25.079Z"
   },
   {
    "duration": 5,
    "start_time": "2021-09-10T18:37:25.088Z"
   },
   {
    "duration": 16,
    "start_time": "2021-09-10T18:37:25.094Z"
   },
   {
    "duration": 7,
    "start_time": "2021-09-10T18:37:25.112Z"
   },
   {
    "duration": 5,
    "start_time": "2021-09-10T18:37:25.121Z"
   },
   {
    "duration": 7,
    "start_time": "2021-09-10T18:37:25.128Z"
   },
   {
    "duration": 57,
    "start_time": "2021-09-10T18:37:25.138Z"
   },
   {
    "duration": 9,
    "start_time": "2021-09-10T18:37:25.197Z"
   },
   {
    "duration": 18,
    "start_time": "2021-09-10T18:37:25.209Z"
   },
   {
    "duration": 7,
    "start_time": "2021-09-10T18:37:25.229Z"
   },
   {
    "duration": 3747,
    "start_time": "2021-09-10T18:37:25.238Z"
   },
   {
    "duration": 2,
    "start_time": "2021-09-10T18:37:28.987Z"
   },
   {
    "duration": 27,
    "start_time": "2021-09-10T18:37:28.991Z"
   },
   {
    "duration": 6,
    "start_time": "2021-09-10T18:37:29.020Z"
   },
   {
    "duration": 50,
    "start_time": "2021-09-10T18:37:29.027Z"
   },
   {
    "duration": 4,
    "start_time": "2021-09-10T18:37:29.079Z"
   },
   {
    "duration": 64,
    "start_time": "2021-09-10T18:37:29.084Z"
   },
   {
    "duration": 59,
    "start_time": "2021-09-10T18:37:29.151Z"
   },
   {
    "duration": 5,
    "start_time": "2021-09-10T18:37:29.212Z"
   },
   {
    "duration": 46,
    "start_time": "2021-09-10T18:37:29.220Z"
   },
   {
    "duration": 16,
    "start_time": "2021-09-10T18:37:29.268Z"
   },
   {
    "duration": 9,
    "start_time": "2021-09-10T18:37:29.286Z"
   },
   {
    "duration": 65,
    "start_time": "2021-09-10T18:37:29.297Z"
   },
   {
    "duration": 23,
    "start_time": "2021-09-10T18:37:29.364Z"
   },
   {
    "duration": 7,
    "start_time": "2021-09-10T18:37:29.390Z"
   },
   {
    "duration": 4,
    "start_time": "2021-09-10T18:37:29.399Z"
   },
   {
    "duration": 66,
    "start_time": "2021-09-10T18:37:29.404Z"
   },
   {
    "duration": 24,
    "start_time": "2021-09-10T18:37:29.472Z"
   },
   {
    "duration": 6,
    "start_time": "2021-09-10T18:37:29.497Z"
   },
   {
    "duration": 3,
    "start_time": "2021-09-10T18:37:29.505Z"
   },
   {
    "duration": 38,
    "start_time": "2021-09-10T18:37:29.510Z"
   },
   {
    "duration": 31,
    "start_time": "2021-09-10T18:37:29.550Z"
   },
   {
    "duration": 5,
    "start_time": "2021-09-10T18:37:29.583Z"
   },
   {
    "duration": 3,
    "start_time": "2021-09-10T18:37:29.589Z"
   },
   {
    "duration": 28,
    "start_time": "2021-09-10T18:37:29.594Z"
   },
   {
    "duration": 11,
    "start_time": "2021-09-10T18:37:29.624Z"
   },
   {
    "duration": 53,
    "start_time": "2021-09-10T18:37:29.637Z"
   },
   {
    "duration": 7,
    "start_time": "2021-09-10T18:37:29.693Z"
   },
   {
    "duration": 10,
    "start_time": "2021-09-10T18:37:59.335Z"
   },
   {
    "duration": 20,
    "start_time": "2021-09-10T18:37:59.347Z"
   },
   {
    "duration": 3,
    "start_time": "2021-09-10T18:37:59.370Z"
   },
   {
    "duration": 17,
    "start_time": "2021-09-10T18:37:59.375Z"
   },
   {
    "duration": 15,
    "start_time": "2021-09-10T18:37:59.394Z"
   },
   {
    "duration": 14,
    "start_time": "2021-09-10T18:37:59.410Z"
   },
   {
    "duration": 14,
    "start_time": "2021-09-10T18:37:59.426Z"
   },
   {
    "duration": 46,
    "start_time": "2021-09-10T18:37:59.442Z"
   },
   {
    "duration": 31,
    "start_time": "2021-09-10T18:44:09.360Z"
   },
   {
    "duration": 389,
    "start_time": "2021-09-10T20:20:31.529Z"
   },
   {
    "duration": 847,
    "start_time": "2021-09-10T20:20:50.924Z"
   },
   {
    "duration": 13,
    "start_time": "2021-09-10T20:20:51.774Z"
   },
   {
    "duration": 9,
    "start_time": "2021-09-10T20:20:51.790Z"
   },
   {
    "duration": 21,
    "start_time": "2021-09-10T20:20:51.802Z"
   },
   {
    "duration": 43,
    "start_time": "2021-09-10T20:20:51.826Z"
   },
   {
    "duration": 46,
    "start_time": "2021-09-10T20:20:51.872Z"
   },
   {
    "duration": 5,
    "start_time": "2021-09-10T20:20:51.922Z"
   },
   {
    "duration": 5,
    "start_time": "2021-09-10T20:20:51.963Z"
   },
   {
    "duration": 47,
    "start_time": "2021-09-10T20:20:51.972Z"
   },
   {
    "duration": 13,
    "start_time": "2021-09-10T20:20:52.021Z"
   },
   {
    "duration": 33,
    "start_time": "2021-09-10T20:20:52.063Z"
   },
   {
    "duration": 63,
    "start_time": "2021-09-10T20:20:52.098Z"
   },
   {
    "duration": 12,
    "start_time": "2021-09-10T20:20:52.164Z"
   },
   {
    "duration": 43,
    "start_time": "2021-09-10T20:20:52.178Z"
   },
   {
    "duration": 54,
    "start_time": "2021-09-10T20:20:52.223Z"
   },
   {
    "duration": 36,
    "start_time": "2021-09-10T20:20:52.280Z"
   },
   {
    "duration": 56,
    "start_time": "2021-09-10T20:20:52.318Z"
   },
   {
    "duration": 23,
    "start_time": "2021-09-10T20:20:52.378Z"
   },
   {
    "duration": 24,
    "start_time": "2021-09-10T20:20:52.404Z"
   },
   {
    "duration": 58,
    "start_time": "2021-09-10T20:20:52.430Z"
   },
   {
    "duration": 13,
    "start_time": "2021-09-10T20:20:52.491Z"
   },
   {
    "duration": 4,
    "start_time": "2021-09-10T20:20:52.507Z"
   },
   {
    "duration": 63,
    "start_time": "2021-09-10T20:20:52.519Z"
   },
   {
    "duration": 11,
    "start_time": "2021-09-10T20:20:52.587Z"
   },
   {
    "duration": 8,
    "start_time": "2021-09-10T20:20:52.601Z"
   },
   {
    "duration": 53,
    "start_time": "2021-09-10T20:20:52.612Z"
   },
   {
    "duration": 30,
    "start_time": "2021-09-10T20:20:52.668Z"
   },
   {
    "duration": 14,
    "start_time": "2021-09-10T20:20:52.702Z"
   },
   {
    "duration": 68,
    "start_time": "2021-09-10T20:20:52.718Z"
   },
   {
    "duration": 7,
    "start_time": "2021-09-10T20:20:52.788Z"
   },
   {
    "duration": 4319,
    "start_time": "2021-09-10T20:20:52.798Z"
   },
   {
    "duration": 4,
    "start_time": "2021-09-10T20:20:57.119Z"
   },
   {
    "duration": 55,
    "start_time": "2021-09-10T20:20:57.125Z"
   },
   {
    "duration": 8,
    "start_time": "2021-09-10T20:20:57.183Z"
   },
   {
    "duration": 35,
    "start_time": "2021-09-10T20:20:57.194Z"
   },
   {
    "duration": 6,
    "start_time": "2021-09-10T20:20:57.262Z"
   },
   {
    "duration": 61,
    "start_time": "2021-09-10T20:20:57.270Z"
   },
   {
    "duration": 69,
    "start_time": "2021-09-10T20:20:57.334Z"
   },
   {
    "duration": 6,
    "start_time": "2021-09-10T20:20:57.406Z"
   },
   {
    "duration": 66,
    "start_time": "2021-09-10T20:20:57.420Z"
   },
   {
    "duration": 7,
    "start_time": "2021-09-10T20:20:57.489Z"
   },
   {
    "duration": 4,
    "start_time": "2021-09-10T20:20:57.498Z"
   },
   {
    "duration": 72,
    "start_time": "2021-09-10T20:20:57.505Z"
   },
   {
    "duration": 24,
    "start_time": "2021-09-10T20:20:57.579Z"
   },
   {
    "duration": 7,
    "start_time": "2021-09-10T20:20:57.605Z"
   },
   {
    "duration": 5,
    "start_time": "2021-09-10T20:20:57.614Z"
   },
   {
    "duration": 77,
    "start_time": "2021-09-10T20:20:57.621Z"
   },
   {
    "duration": 15,
    "start_time": "2021-09-10T20:20:57.701Z"
   },
   {
    "duration": 7,
    "start_time": "2021-09-10T20:20:57.718Z"
   },
   {
    "duration": 36,
    "start_time": "2021-09-10T20:20:57.727Z"
   },
   {
    "duration": 54,
    "start_time": "2021-09-10T20:20:57.765Z"
   },
   {
    "duration": 14,
    "start_time": "2021-09-10T20:20:57.822Z"
   },
   {
    "duration": 11,
    "start_time": "2021-09-10T20:20:57.839Z"
   },
   {
    "duration": 8,
    "start_time": "2021-09-10T20:20:57.862Z"
   },
   {
    "duration": 61,
    "start_time": "2021-09-10T20:20:57.872Z"
   },
   {
    "duration": 15,
    "start_time": "2021-09-10T20:20:57.936Z"
   },
   {
    "duration": 24,
    "start_time": "2021-09-10T20:20:57.953Z"
   },
   {
    "duration": 14,
    "start_time": "2021-09-10T20:20:57.979Z"
   },
   {
    "duration": 46,
    "start_time": "2021-09-10T20:20:57.995Z"
   },
   {
    "duration": 7,
    "start_time": "2021-09-10T20:20:58.043Z"
   },
   {
    "duration": 34,
    "start_time": "2021-09-10T20:20:58.053Z"
   },
   {
    "duration": 20,
    "start_time": "2021-09-10T20:20:58.090Z"
   },
   {
    "duration": 73,
    "start_time": "2021-09-10T20:20:58.113Z"
   },
   {
    "duration": 22,
    "start_time": "2021-09-10T20:20:58.189Z"
   },
   {
    "duration": 54,
    "start_time": "2021-09-10T20:20:58.213Z"
   },
   {
    "duration": 18,
    "start_time": "2021-09-10T20:20:58.270Z"
   },
   {
    "duration": 14,
    "start_time": "2021-09-10T20:55:23.154Z"
   },
   {
    "duration": 837,
    "start_time": "2021-09-10T20:58:56.469Z"
   },
   {
    "duration": 13,
    "start_time": "2021-09-10T20:58:57.309Z"
   },
   {
    "duration": 7,
    "start_time": "2021-09-10T20:58:57.325Z"
   },
   {
    "duration": 32,
    "start_time": "2021-09-10T20:58:57.335Z"
   },
   {
    "duration": 14,
    "start_time": "2021-09-10T20:58:57.370Z"
   },
   {
    "duration": 86,
    "start_time": "2021-09-10T20:58:57.386Z"
   },
   {
    "duration": 4,
    "start_time": "2021-09-10T20:58:57.475Z"
   },
   {
    "duration": 9,
    "start_time": "2021-09-10T20:58:57.482Z"
   },
   {
    "duration": 47,
    "start_time": "2021-09-10T20:58:57.493Z"
   },
   {
    "duration": 28,
    "start_time": "2021-09-10T20:58:57.542Z"
   },
   {
    "duration": 32,
    "start_time": "2021-09-10T20:58:57.572Z"
   },
   {
    "duration": 60,
    "start_time": "2021-09-10T20:58:57.606Z"
   },
   {
    "duration": 14,
    "start_time": "2021-09-10T20:58:57.668Z"
   },
   {
    "duration": 38,
    "start_time": "2021-09-10T20:58:57.684Z"
   },
   {
    "duration": 58,
    "start_time": "2021-09-10T20:58:57.724Z"
   },
   {
    "duration": 37,
    "start_time": "2021-09-10T20:58:57.784Z"
   },
   {
    "duration": 54,
    "start_time": "2021-09-10T20:58:57.823Z"
   },
   {
    "duration": 25,
    "start_time": "2021-09-10T20:58:57.879Z"
   },
   {
    "duration": 21,
    "start_time": "2021-09-10T20:58:57.906Z"
   },
   {
    "duration": 55,
    "start_time": "2021-09-10T20:58:57.929Z"
   },
   {
    "duration": 12,
    "start_time": "2021-09-10T20:58:57.986Z"
   },
   {
    "duration": 7,
    "start_time": "2021-09-10T20:58:58.001Z"
   },
   {
    "duration": 25,
    "start_time": "2021-09-10T20:58:58.015Z"
   },
   {
    "duration": 10,
    "start_time": "2021-09-10T20:58:58.063Z"
   },
   {
    "duration": 7,
    "start_time": "2021-09-10T20:58:58.075Z"
   },
   {
    "duration": 8,
    "start_time": "2021-09-10T20:58:58.084Z"
   },
   {
    "duration": 68,
    "start_time": "2021-09-10T20:58:58.094Z"
   },
   {
    "duration": 11,
    "start_time": "2021-09-10T20:58:58.165Z"
   },
   {
    "duration": 35,
    "start_time": "2021-09-10T20:58:58.179Z"
   },
   {
    "duration": 8,
    "start_time": "2021-09-10T20:58:58.217Z"
   },
   {
    "duration": 4481,
    "start_time": "2021-09-10T20:58:58.228Z"
   },
   {
    "duration": 5,
    "start_time": "2021-09-10T20:59:02.712Z"
   },
   {
    "duration": 63,
    "start_time": "2021-09-10T20:59:02.719Z"
   },
   {
    "duration": 7,
    "start_time": "2021-09-10T20:59:02.785Z"
   },
   {
    "duration": 35,
    "start_time": "2021-09-10T20:59:02.795Z"
   },
   {
    "duration": 34,
    "start_time": "2021-09-10T20:59:02.832Z"
   },
   {
    "duration": 68,
    "start_time": "2021-09-10T20:59:02.868Z"
   },
   {
    "duration": 55,
    "start_time": "2021-09-10T20:59:02.939Z"
   },
   {
    "duration": 7,
    "start_time": "2021-09-10T20:59:02.997Z"
   },
   {
    "duration": 62,
    "start_time": "2021-09-10T20:59:03.007Z"
   },
   {
    "duration": 7,
    "start_time": "2021-09-10T20:59:03.072Z"
   },
   {
    "duration": 7,
    "start_time": "2021-09-10T20:59:03.081Z"
   },
   {
    "duration": 79,
    "start_time": "2021-09-10T20:59:03.091Z"
   },
   {
    "duration": 23,
    "start_time": "2021-09-10T20:59:03.172Z"
   },
   {
    "duration": 7,
    "start_time": "2021-09-10T20:59:03.197Z"
   },
   {
    "duration": 7,
    "start_time": "2021-09-10T20:59:03.206Z"
   },
   {
    "duration": 81,
    "start_time": "2021-09-10T20:59:03.215Z"
   },
   {
    "duration": 18,
    "start_time": "2021-09-10T20:59:03.299Z"
   },
   {
    "duration": 9,
    "start_time": "2021-09-10T20:59:03.320Z"
   },
   {
    "duration": 6,
    "start_time": "2021-09-10T20:59:03.362Z"
   },
   {
    "duration": 45,
    "start_time": "2021-09-10T20:59:03.371Z"
   },
   {
    "duration": 46,
    "start_time": "2021-09-10T20:59:03.420Z"
   },
   {
    "duration": 6,
    "start_time": "2021-09-10T20:59:03.469Z"
   },
   {
    "duration": 6,
    "start_time": "2021-09-10T20:59:03.477Z"
   },
   {
    "duration": 46,
    "start_time": "2021-09-10T20:59:03.485Z"
   },
   {
    "duration": 426,
    "start_time": "2021-09-10T20:59:03.563Z"
   },
   {
    "duration": -447,
    "start_time": "2021-09-10T20:59:04.439Z"
   },
   {
    "duration": -456,
    "start_time": "2021-09-10T20:59:04.450Z"
   },
   {
    "duration": -466,
    "start_time": "2021-09-10T20:59:04.461Z"
   },
   {
    "duration": -473,
    "start_time": "2021-09-10T20:59:04.470Z"
   },
   {
    "duration": -482,
    "start_time": "2021-09-10T20:59:04.481Z"
   },
   {
    "duration": -490,
    "start_time": "2021-09-10T20:59:04.491Z"
   },
   {
    "duration": -499,
    "start_time": "2021-09-10T20:59:04.502Z"
   },
   {
    "duration": -506,
    "start_time": "2021-09-10T20:59:04.511Z"
   },
   {
    "duration": -513,
    "start_time": "2021-09-10T20:59:04.520Z"
   },
   {
    "duration": -535,
    "start_time": "2021-09-10T20:59:04.544Z"
   },
   {
    "duration": 16,
    "start_time": "2021-09-10T20:59:56.097Z"
   },
   {
    "duration": 852,
    "start_time": "2021-09-10T21:00:35.586Z"
   },
   {
    "duration": 12,
    "start_time": "2021-09-10T21:00:36.441Z"
   },
   {
    "duration": 6,
    "start_time": "2021-09-10T21:00:36.456Z"
   },
   {
    "duration": 13,
    "start_time": "2021-09-10T21:00:36.465Z"
   },
   {
    "duration": 13,
    "start_time": "2021-09-10T21:00:36.480Z"
   },
   {
    "duration": 69,
    "start_time": "2021-09-10T21:00:36.496Z"
   },
   {
    "duration": 4,
    "start_time": "2021-09-10T21:00:36.567Z"
   },
   {
    "duration": 5,
    "start_time": "2021-09-10T21:00:36.575Z"
   },
   {
    "duration": 46,
    "start_time": "2021-09-10T21:00:36.583Z"
   },
   {
    "duration": 40,
    "start_time": "2021-09-10T21:00:36.632Z"
   },
   {
    "duration": 32,
    "start_time": "2021-09-10T21:00:36.674Z"
   },
   {
    "duration": 55,
    "start_time": "2021-09-10T21:00:36.708Z"
   },
   {
    "duration": 11,
    "start_time": "2021-09-10T21:00:36.766Z"
   },
   {
    "duration": 44,
    "start_time": "2021-09-10T21:00:36.780Z"
   },
   {
    "duration": 58,
    "start_time": "2021-09-10T21:00:36.826Z"
   },
   {
    "duration": 35,
    "start_time": "2021-09-10T21:00:36.886Z"
   },
   {
    "duration": 54,
    "start_time": "2021-09-10T21:00:36.923Z"
   },
   {
    "duration": 22,
    "start_time": "2021-09-10T21:00:36.979Z"
   },
   {
    "duration": 21,
    "start_time": "2021-09-10T21:00:37.003Z"
   },
   {
    "duration": 51,
    "start_time": "2021-09-10T21:00:37.026Z"
   },
   {
    "duration": 15,
    "start_time": "2021-09-10T21:00:37.079Z"
   },
   {
    "duration": 6,
    "start_time": "2021-09-10T21:00:37.096Z"
   },
   {
    "duration": 19,
    "start_time": "2021-09-10T21:00:37.108Z"
   },
   {
    "duration": 37,
    "start_time": "2021-09-10T21:00:37.130Z"
   },
   {
    "duration": 9,
    "start_time": "2021-09-10T21:00:37.170Z"
   },
   {
    "duration": 10,
    "start_time": "2021-09-10T21:00:37.181Z"
   },
   {
    "duration": 28,
    "start_time": "2021-09-10T21:00:37.193Z"
   },
   {
    "duration": 45,
    "start_time": "2021-09-10T21:00:37.223Z"
   },
   {
    "duration": 26,
    "start_time": "2021-09-10T21:00:37.271Z"
   },
   {
    "duration": 6,
    "start_time": "2021-09-10T21:00:37.300Z"
   },
   {
    "duration": 4372,
    "start_time": "2021-09-10T21:00:37.308Z"
   },
   {
    "duration": 4,
    "start_time": "2021-09-10T21:00:41.683Z"
   },
   {
    "duration": 46,
    "start_time": "2021-09-10T21:00:41.690Z"
   },
   {
    "duration": 9,
    "start_time": "2021-09-10T21:00:41.762Z"
   },
   {
    "duration": 36,
    "start_time": "2021-09-10T21:00:41.774Z"
   },
   {
    "duration": 16,
    "start_time": "2021-09-10T21:00:41.813Z"
   },
   {
    "duration": 83,
    "start_time": "2021-09-10T21:00:41.831Z"
   },
   {
    "duration": 55,
    "start_time": "2021-09-10T21:00:41.916Z"
   },
   {
    "duration": 15,
    "start_time": "2021-09-10T21:00:41.973Z"
   },
   {
    "duration": 60,
    "start_time": "2021-09-10T21:00:41.990Z"
   },
   {
    "duration": 10,
    "start_time": "2021-09-10T21:00:42.053Z"
   },
   {
    "duration": 5,
    "start_time": "2021-09-10T21:00:42.066Z"
   },
   {
    "duration": 54,
    "start_time": "2021-09-10T21:00:42.073Z"
   },
   {
    "duration": 42,
    "start_time": "2021-09-10T21:00:42.129Z"
   },
   {
    "duration": 6,
    "start_time": "2021-09-10T21:00:42.174Z"
   },
   {
    "duration": 6,
    "start_time": "2021-09-10T21:00:42.183Z"
   },
   {
    "duration": 47,
    "start_time": "2021-09-10T21:00:42.191Z"
   },
   {
    "duration": 33,
    "start_time": "2021-09-10T21:00:42.241Z"
   },
   {
    "duration": 7,
    "start_time": "2021-09-10T21:00:42.277Z"
   },
   {
    "duration": 4,
    "start_time": "2021-09-10T21:00:42.286Z"
   },
   {
    "duration": 81,
    "start_time": "2021-09-10T21:00:42.293Z"
   },
   {
    "duration": 19,
    "start_time": "2021-09-10T21:00:42.376Z"
   },
   {
    "duration": 7,
    "start_time": "2021-09-10T21:00:42.398Z"
   },
   {
    "duration": 9,
    "start_time": "2021-09-10T21:00:42.408Z"
   },
   {
    "duration": 81,
    "start_time": "2021-09-10T21:00:42.419Z"
   },
   {
    "duration": 18,
    "start_time": "2021-09-10T21:00:42.503Z"
   },
   {
    "duration": 40,
    "start_time": "2021-09-10T21:00:42.523Z"
   },
   {
    "duration": 11,
    "start_time": "2021-09-10T21:00:42.565Z"
   },
   {
    "duration": 29,
    "start_time": "2021-09-10T21:00:42.579Z"
   },
   {
    "duration": 4,
    "start_time": "2021-09-10T21:00:42.610Z"
   },
   {
    "duration": 55,
    "start_time": "2021-09-10T21:00:42.616Z"
   },
   {
    "duration": 21,
    "start_time": "2021-09-10T21:00:42.673Z"
   },
   {
    "duration": 78,
    "start_time": "2021-09-10T21:00:42.696Z"
   },
   {
    "duration": 20,
    "start_time": "2021-09-10T21:00:42.777Z"
   },
   {
    "duration": 19,
    "start_time": "2021-09-10T21:00:42.799Z"
   },
   {
    "duration": 50,
    "start_time": "2021-09-10T21:00:42.820Z"
   },
   {
    "duration": 32,
    "start_time": "2021-09-10T21:18:43.196Z"
   },
   {
    "duration": 25,
    "start_time": "2021-09-10T21:19:19.445Z"
   },
   {
    "duration": 843,
    "start_time": "2021-09-10T21:20:26.798Z"
   },
   {
    "duration": 16,
    "start_time": "2021-09-10T21:20:27.645Z"
   },
   {
    "duration": 5,
    "start_time": "2021-09-10T21:20:27.666Z"
   },
   {
    "duration": 28,
    "start_time": "2021-09-10T21:20:27.675Z"
   },
   {
    "duration": 18,
    "start_time": "2021-09-10T21:20:27.706Z"
   },
   {
    "duration": 67,
    "start_time": "2021-09-10T21:20:27.727Z"
   },
   {
    "duration": 5,
    "start_time": "2021-09-10T21:20:27.797Z"
   },
   {
    "duration": 5,
    "start_time": "2021-09-10T21:20:27.808Z"
   },
   {
    "duration": 76,
    "start_time": "2021-09-10T21:20:27.817Z"
   },
   {
    "duration": 13,
    "start_time": "2021-09-10T21:20:27.895Z"
   },
   {
    "duration": 53,
    "start_time": "2021-09-10T21:20:27.911Z"
   },
   {
    "duration": 34,
    "start_time": "2021-09-10T21:20:27.967Z"
   },
   {
    "duration": 13,
    "start_time": "2021-09-10T21:20:28.004Z"
   },
   {
    "duration": 78,
    "start_time": "2021-09-10T21:20:28.020Z"
   },
   {
    "duration": 40,
    "start_time": "2021-09-10T21:20:28.100Z"
   },
   {
    "duration": 52,
    "start_time": "2021-09-10T21:20:28.142Z"
   },
   {
    "duration": 32,
    "start_time": "2021-09-10T21:20:28.196Z"
   },
   {
    "duration": 49,
    "start_time": "2021-09-10T21:20:28.231Z"
   },
   {
    "duration": 21,
    "start_time": "2021-09-10T21:20:28.283Z"
   },
   {
    "duration": 27,
    "start_time": "2021-09-10T21:20:28.306Z"
   },
   {
    "duration": 10,
    "start_time": "2021-09-10T21:20:28.363Z"
   },
   {
    "duration": 8,
    "start_time": "2021-09-10T21:20:28.375Z"
   },
   {
    "duration": 20,
    "start_time": "2021-09-10T21:20:28.389Z"
   },
   {
    "duration": 14,
    "start_time": "2021-09-10T21:20:28.412Z"
   },
   {
    "duration": 6,
    "start_time": "2021-09-10T21:20:28.461Z"
   },
   {
    "duration": 13,
    "start_time": "2021-09-10T21:20:28.470Z"
   },
   {
    "duration": 33,
    "start_time": "2021-09-10T21:20:28.485Z"
   },
   {
    "duration": 44,
    "start_time": "2021-09-10T21:20:28.520Z"
   },
   {
    "duration": 27,
    "start_time": "2021-09-10T21:20:28.566Z"
   },
   {
    "duration": 23,
    "start_time": "2021-09-10T21:20:28.595Z"
   },
   {
    "duration": 4302,
    "start_time": "2021-09-10T21:20:28.620Z"
   },
   {
    "duration": 4,
    "start_time": "2021-09-10T21:20:32.925Z"
   },
   {
    "duration": 56,
    "start_time": "2021-09-10T21:20:32.931Z"
   },
   {
    "duration": 7,
    "start_time": "2021-09-10T21:20:32.989Z"
   },
   {
    "duration": 34,
    "start_time": "2021-09-10T21:20:32.999Z"
   },
   {
    "duration": 30,
    "start_time": "2021-09-10T21:20:33.036Z"
   },
   {
    "duration": 64,
    "start_time": "2021-09-10T21:20:33.068Z"
   },
   {
    "duration": 59,
    "start_time": "2021-09-10T21:20:33.134Z"
   },
   {
    "duration": 4,
    "start_time": "2021-09-10T21:20:33.195Z"
   },
   {
    "duration": 60,
    "start_time": "2021-09-10T21:20:33.201Z"
   },
   {
    "duration": 6,
    "start_time": "2021-09-10T21:20:33.264Z"
   },
   {
    "duration": 4,
    "start_time": "2021-09-10T21:20:33.273Z"
   },
   {
    "duration": 51,
    "start_time": "2021-09-10T21:20:33.279Z"
   },
   {
    "duration": 46,
    "start_time": "2021-09-10T21:20:33.332Z"
   },
   {
    "duration": 5,
    "start_time": "2021-09-10T21:20:33.381Z"
   },
   {
    "duration": 5,
    "start_time": "2021-09-10T21:20:33.388Z"
   },
   {
    "duration": 72,
    "start_time": "2021-09-10T21:20:33.395Z"
   },
   {
    "duration": 15,
    "start_time": "2021-09-10T21:20:33.469Z"
   },
   {
    "duration": 6,
    "start_time": "2021-09-10T21:20:33.486Z"
   },
   {
    "duration": 5,
    "start_time": "2021-09-10T21:20:33.494Z"
   },
   {
    "duration": 77,
    "start_time": "2021-09-10T21:20:33.501Z"
   },
   {
    "duration": 16,
    "start_time": "2021-09-10T21:20:33.580Z"
   },
   {
    "duration": 14,
    "start_time": "2021-09-10T21:20:33.598Z"
   },
   {
    "duration": 4,
    "start_time": "2021-09-10T21:20:33.614Z"
   },
   {
    "duration": 71,
    "start_time": "2021-09-10T21:20:33.621Z"
   },
   {
    "duration": 17,
    "start_time": "2021-09-10T21:20:33.694Z"
   },
   {
    "duration": 15,
    "start_time": "2021-09-10T21:20:33.713Z"
   },
   {
    "duration": 35,
    "start_time": "2021-09-10T21:20:33.731Z"
   },
   {
    "duration": 29,
    "start_time": "2021-09-10T21:20:33.769Z"
   },
   {
    "duration": 3,
    "start_time": "2021-09-10T21:20:33.800Z"
   },
   {
    "duration": 60,
    "start_time": "2021-09-10T21:20:33.806Z"
   },
   {
    "duration": 22,
    "start_time": "2021-09-10T21:20:33.869Z"
   },
   {
    "duration": 73,
    "start_time": "2021-09-10T21:20:33.893Z"
   },
   {
    "duration": 20,
    "start_time": "2021-09-10T21:20:33.969Z"
   },
   {
    "duration": 25,
    "start_time": "2021-09-10T21:20:33.992Z"
   },
   {
    "duration": 51,
    "start_time": "2021-09-10T21:20:34.020Z"
   },
   {
    "duration": 24,
    "start_time": "2021-09-10T21:20:56.510Z"
   },
   {
    "duration": 25,
    "start_time": "2021-09-10T21:21:40.568Z"
   },
   {
    "duration": 23,
    "start_time": "2021-09-10T21:23:16.867Z"
   },
   {
    "duration": 30,
    "start_time": "2021-09-10T21:23:46.738Z"
   },
   {
    "duration": 22,
    "start_time": "2021-09-10T21:25:19.712Z"
   },
   {
    "duration": 31,
    "start_time": "2021-09-10T21:26:54.712Z"
   },
   {
    "duration": 21,
    "start_time": "2021-09-10T21:27:05.874Z"
   },
   {
    "duration": 25,
    "start_time": "2021-09-10T21:30:15.212Z"
   },
   {
    "duration": -498,
    "start_time": "2021-09-10T21:32:46.284Z"
   },
   {
    "duration": 17,
    "start_time": "2021-09-10T21:32:45.892Z"
   },
   {
    "duration": 22,
    "start_time": "2021-09-10T21:33:16.399Z"
   },
   {
    "duration": 26,
    "start_time": "2021-09-10T21:33:25.410Z"
   },
   {
    "duration": 24,
    "start_time": "2021-09-10T21:35:18.805Z"
   },
   {
    "duration": 21,
    "start_time": "2021-09-10T21:35:40.256Z"
   },
   {
    "duration": 21,
    "start_time": "2021-09-10T21:35:57.327Z"
   },
   {
    "duration": 24,
    "start_time": "2021-09-10T21:36:42.527Z"
   },
   {
    "duration": 889,
    "start_time": "2021-09-10T21:37:37.118Z"
   },
   {
    "duration": 24,
    "start_time": "2021-09-10T21:38:03.905Z"
   },
   {
    "duration": 34,
    "start_time": "2021-09-10T21:39:44.102Z"
   },
   {
    "duration": 340,
    "start_time": "2021-09-10T21:41:20.263Z"
   },
   {
    "duration": 41,
    "start_time": "2021-09-10T21:42:05.831Z"
   },
   {
    "duration": 4,
    "start_time": "2021-09-10T21:43:10.663Z"
   },
   {
    "duration": 45,
    "start_time": "2021-09-10T21:43:15.056Z"
   },
   {
    "duration": 16,
    "start_time": "2021-09-10T21:43:18.679Z"
   },
   {
    "duration": 16,
    "start_time": "2021-09-10T21:43:28.542Z"
   },
   {
    "duration": 27,
    "start_time": "2021-09-10T21:43:42.587Z"
   },
   {
    "duration": 5,
    "start_time": "2021-09-10T21:45:19.638Z"
   },
   {
    "duration": 44,
    "start_time": "2021-09-10T21:45:21.063Z"
   },
   {
    "duration": 17,
    "start_time": "2021-09-10T21:45:25.546Z"
   },
   {
    "duration": 9,
    "start_time": "2021-09-10T21:46:40.618Z"
   },
   {
    "duration": 30,
    "start_time": "2021-09-10T21:47:05.585Z"
   },
   {
    "duration": 5,
    "start_time": "2021-09-10T21:48:00.651Z"
   },
   {
    "duration": 43,
    "start_time": "2021-09-10T21:48:03.144Z"
   },
   {
    "duration": 16,
    "start_time": "2021-09-10T21:48:05.488Z"
   },
   {
    "duration": 9,
    "start_time": "2021-09-10T21:48:48.049Z"
   },
   {
    "duration": 350,
    "start_time": "2021-09-10T21:49:19.037Z"
   },
   {
    "duration": 25,
    "start_time": "2021-09-10T21:49:38.382Z"
   },
   {
    "duration": 30,
    "start_time": "2021-09-10T21:50:49.279Z"
   },
   {
    "duration": 29,
    "start_time": "2021-09-10T21:51:37.273Z"
   },
   {
    "duration": 883,
    "start_time": "2021-09-10T21:52:42.749Z"
   },
   {
    "duration": 14,
    "start_time": "2021-09-10T21:52:43.635Z"
   },
   {
    "duration": 18,
    "start_time": "2021-09-10T21:52:43.652Z"
   },
   {
    "duration": 18,
    "start_time": "2021-09-10T21:52:43.672Z"
   },
   {
    "duration": 16,
    "start_time": "2021-09-10T21:52:43.693Z"
   },
   {
    "duration": 80,
    "start_time": "2021-09-10T21:52:43.712Z"
   },
   {
    "duration": 5,
    "start_time": "2021-09-10T21:52:43.795Z"
   },
   {
    "duration": 14,
    "start_time": "2021-09-10T21:52:43.807Z"
   },
   {
    "duration": 66,
    "start_time": "2021-09-10T21:52:43.825Z"
   },
   {
    "duration": 13,
    "start_time": "2021-09-10T21:52:43.894Z"
   },
   {
    "duration": 53,
    "start_time": "2021-09-10T21:52:43.910Z"
   },
   {
    "duration": 34,
    "start_time": "2021-09-10T21:52:43.967Z"
   },
   {
    "duration": 13,
    "start_time": "2021-09-10T21:52:44.004Z"
   },
   {
    "duration": 74,
    "start_time": "2021-09-10T21:52:44.020Z"
   },
   {
    "duration": 37,
    "start_time": "2021-09-10T21:52:44.097Z"
   },
   {
    "duration": 63,
    "start_time": "2021-09-10T21:52:44.137Z"
   },
   {
    "duration": 63,
    "start_time": "2021-09-10T21:52:44.203Z"
   },
   {
    "duration": 26,
    "start_time": "2021-09-10T21:52:44.269Z"
   },
   {
    "duration": 25,
    "start_time": "2021-09-10T21:52:44.298Z"
   },
   {
    "duration": 63,
    "start_time": "2021-09-10T21:52:44.326Z"
   },
   {
    "duration": 9,
    "start_time": "2021-09-10T21:52:44.392Z"
   },
   {
    "duration": 7,
    "start_time": "2021-09-10T21:52:44.404Z"
   },
   {
    "duration": 58,
    "start_time": "2021-09-10T21:52:44.417Z"
   },
   {
    "duration": 10,
    "start_time": "2021-09-10T21:52:44.479Z"
   },
   {
    "duration": 8,
    "start_time": "2021-09-10T21:52:44.492Z"
   },
   {
    "duration": 14,
    "start_time": "2021-09-10T21:52:44.502Z"
   },
   {
    "duration": 68,
    "start_time": "2021-09-10T21:52:44.519Z"
   },
   {
    "duration": 12,
    "start_time": "2021-09-10T21:52:44.589Z"
   },
   {
    "duration": 28,
    "start_time": "2021-09-10T21:52:44.604Z"
   },
   {
    "duration": 9,
    "start_time": "2021-09-10T21:52:44.663Z"
   },
   {
    "duration": 4545,
    "start_time": "2021-09-10T21:52:44.675Z"
   },
   {
    "duration": 6,
    "start_time": "2021-09-10T21:52:49.223Z"
   },
   {
    "duration": 68,
    "start_time": "2021-09-10T21:52:49.231Z"
   },
   {
    "duration": 7,
    "start_time": "2021-09-10T21:52:49.301Z"
   },
   {
    "duration": 63,
    "start_time": "2021-09-10T21:52:49.311Z"
   },
   {
    "duration": 5,
    "start_time": "2021-09-10T21:52:49.376Z"
   },
   {
    "duration": 91,
    "start_time": "2021-09-10T21:52:49.384Z"
   },
   {
    "duration": 44,
    "start_time": "2021-09-10T21:52:49.477Z"
   },
   {
    "duration": 5,
    "start_time": "2021-09-10T21:52:49.523Z"
   },
   {
    "duration": 41,
    "start_time": "2021-09-10T21:52:49.563Z"
   },
   {
    "duration": 19,
    "start_time": "2021-09-10T21:52:49.607Z"
   },
   {
    "duration": 34,
    "start_time": "2021-09-10T21:52:49.629Z"
   },
   {
    "duration": 47,
    "start_time": "2021-09-10T21:52:49.666Z"
   },
   {
    "duration": 47,
    "start_time": "2021-09-10T21:52:49.716Z"
   },
   {
    "duration": 8,
    "start_time": "2021-09-10T21:52:49.765Z"
   },
   {
    "duration": 8,
    "start_time": "2021-09-10T21:52:49.775Z"
   },
   {
    "duration": 49,
    "start_time": "2021-09-10T21:52:49.785Z"
   },
   {
    "duration": 38,
    "start_time": "2021-09-10T21:52:49.836Z"
   },
   {
    "duration": 7,
    "start_time": "2021-09-10T21:52:49.877Z"
   },
   {
    "duration": 5,
    "start_time": "2021-09-10T21:52:49.887Z"
   },
   {
    "duration": 88,
    "start_time": "2021-09-10T21:52:49.895Z"
   },
   {
    "duration": 16,
    "start_time": "2021-09-10T21:52:49.986Z"
   },
   {
    "duration": 14,
    "start_time": "2021-09-10T21:52:50.005Z"
   },
   {
    "duration": 9,
    "start_time": "2021-09-10T21:52:50.022Z"
   },
   {
    "duration": 69,
    "start_time": "2021-09-10T21:52:50.034Z"
   },
   {
    "duration": 20,
    "start_time": "2021-09-10T21:52:50.105Z"
   },
   {
    "duration": 44,
    "start_time": "2021-09-10T21:52:50.128Z"
   },
   {
    "duration": 11,
    "start_time": "2021-09-10T21:52:50.175Z"
   },
   {
    "duration": 34,
    "start_time": "2021-09-10T21:52:50.189Z"
   },
   {
    "duration": 5,
    "start_time": "2021-09-10T21:52:50.227Z"
   },
   {
    "duration": 55,
    "start_time": "2021-09-10T21:52:50.234Z"
   },
   {
    "duration": 508,
    "start_time": "2021-09-10T21:52:50.292Z"
   },
   {
    "duration": -509,
    "start_time": "2021-09-10T21:52:51.311Z"
   },
   {
    "duration": -519,
    "start_time": "2021-09-10T21:52:51.323Z"
   },
   {
    "duration": -528,
    "start_time": "2021-09-10T21:52:51.333Z"
   },
   {
    "duration": -537,
    "start_time": "2021-09-10T21:52:51.343Z"
   },
   {
    "duration": -544,
    "start_time": "2021-09-10T21:52:51.352Z"
   },
   {
    "duration": 840,
    "start_time": "2021-09-10T21:54:46.049Z"
   },
   {
    "duration": 13,
    "start_time": "2021-09-10T21:54:46.892Z"
   },
   {
    "duration": 28,
    "start_time": "2021-09-10T21:54:46.907Z"
   },
   {
    "duration": 37,
    "start_time": "2021-09-10T21:54:46.938Z"
   },
   {
    "duration": 28,
    "start_time": "2021-09-10T21:54:46.977Z"
   },
   {
    "duration": 50,
    "start_time": "2021-09-10T21:54:47.008Z"
   },
   {
    "duration": 4,
    "start_time": "2021-09-10T21:54:47.061Z"
   },
   {
    "duration": 20,
    "start_time": "2021-09-10T21:54:47.069Z"
   },
   {
    "duration": 53,
    "start_time": "2021-09-10T21:54:47.092Z"
   },
   {
    "duration": 16,
    "start_time": "2021-09-10T21:54:47.148Z"
   },
   {
    "duration": 54,
    "start_time": "2021-09-10T21:54:47.167Z"
   },
   {
    "duration": 46,
    "start_time": "2021-09-10T21:54:47.224Z"
   },
   {
    "duration": 21,
    "start_time": "2021-09-10T21:54:47.272Z"
   },
   {
    "duration": 59,
    "start_time": "2021-09-10T21:54:47.295Z"
   },
   {
    "duration": 36,
    "start_time": "2021-09-10T21:54:47.356Z"
   },
   {
    "duration": 36,
    "start_time": "2021-09-10T21:54:47.395Z"
   },
   {
    "duration": 57,
    "start_time": "2021-09-10T21:54:47.433Z"
   },
   {
    "duration": 25,
    "start_time": "2021-09-10T21:54:47.493Z"
   },
   {
    "duration": 44,
    "start_time": "2021-09-10T21:54:47.521Z"
   },
   {
    "duration": 30,
    "start_time": "2021-09-10T21:54:47.569Z"
   },
   {
    "duration": 33,
    "start_time": "2021-09-10T21:54:47.602Z"
   },
   {
    "duration": 17,
    "start_time": "2021-09-10T21:54:47.638Z"
   },
   {
    "duration": 38,
    "start_time": "2021-09-10T21:54:47.663Z"
   },
   {
    "duration": 19,
    "start_time": "2021-09-10T21:54:47.706Z"
   },
   {
    "duration": 23,
    "start_time": "2021-09-10T21:54:47.728Z"
   },
   {
    "duration": 32,
    "start_time": "2021-09-10T21:54:47.754Z"
   },
   {
    "duration": 35,
    "start_time": "2021-09-10T21:54:47.789Z"
   },
   {
    "duration": 27,
    "start_time": "2021-09-10T21:54:47.827Z"
   },
   {
    "duration": 50,
    "start_time": "2021-09-10T21:54:47.858Z"
   },
   {
    "duration": 28,
    "start_time": "2021-09-10T21:54:47.911Z"
   },
   {
    "duration": 4333,
    "start_time": "2021-09-10T21:54:47.942Z"
   },
   {
    "duration": 4,
    "start_time": "2021-09-10T21:54:52.278Z"
   },
   {
    "duration": 47,
    "start_time": "2021-09-10T21:54:52.285Z"
   },
   {
    "duration": 29,
    "start_time": "2021-09-10T21:54:52.335Z"
   },
   {
    "duration": 36,
    "start_time": "2021-09-10T21:54:52.366Z"
   },
   {
    "duration": 15,
    "start_time": "2021-09-10T21:54:52.405Z"
   },
   {
    "duration": 80,
    "start_time": "2021-09-10T21:54:52.422Z"
   },
   {
    "duration": 58,
    "start_time": "2021-09-10T21:54:52.505Z"
   },
   {
    "duration": 6,
    "start_time": "2021-09-10T21:54:52.566Z"
   },
   {
    "duration": 43,
    "start_time": "2021-09-10T21:54:52.574Z"
   },
   {
    "duration": 7,
    "start_time": "2021-09-10T21:54:52.620Z"
   },
   {
    "duration": 36,
    "start_time": "2021-09-10T21:54:52.630Z"
   },
   {
    "duration": 55,
    "start_time": "2021-09-10T21:54:52.669Z"
   },
   {
    "duration": 49,
    "start_time": "2021-09-10T21:54:52.727Z"
   },
   {
    "duration": 7,
    "start_time": "2021-09-10T21:54:52.779Z"
   },
   {
    "duration": 5,
    "start_time": "2021-09-10T21:54:52.789Z"
   },
   {
    "duration": 75,
    "start_time": "2021-09-10T21:54:52.797Z"
   },
   {
    "duration": 16,
    "start_time": "2021-09-10T21:54:52.875Z"
   },
   {
    "duration": 6,
    "start_time": "2021-09-10T21:54:52.894Z"
   },
   {
    "duration": 7,
    "start_time": "2021-09-10T21:54:52.903Z"
   },
   {
    "duration": 81,
    "start_time": "2021-09-10T21:54:52.913Z"
   },
   {
    "duration": 16,
    "start_time": "2021-09-10T21:54:52.996Z"
   },
   {
    "duration": 6,
    "start_time": "2021-09-10T21:54:53.015Z"
   },
   {
    "duration": 5,
    "start_time": "2021-09-10T21:54:53.023Z"
   },
   {
    "duration": 49,
    "start_time": "2021-09-10T21:54:53.062Z"
   },
   {
    "duration": 29,
    "start_time": "2021-09-10T21:54:53.113Z"
   },
   {
    "duration": 28,
    "start_time": "2021-09-10T21:54:53.145Z"
   },
   {
    "duration": 11,
    "start_time": "2021-09-10T21:54:53.175Z"
   },
   {
    "duration": 28,
    "start_time": "2021-09-10T21:54:53.189Z"
   },
   {
    "duration": 4,
    "start_time": "2021-09-10T21:54:53.219Z"
   },
   {
    "duration": 61,
    "start_time": "2021-09-10T21:54:53.225Z"
   },
   {
    "duration": 74,
    "start_time": "2021-09-10T21:54:53.289Z"
   },
   {
    "duration": 30,
    "start_time": "2021-09-10T21:54:53.366Z"
   },
   {
    "duration": 28,
    "start_time": "2021-09-10T21:54:53.399Z"
   },
   {
    "duration": 50,
    "start_time": "2021-09-10T21:54:53.430Z"
   },
   {
    "duration": 788,
    "start_time": "2021-09-10T22:06:42.806Z"
   },
   {
    "duration": 13,
    "start_time": "2021-09-10T22:06:43.597Z"
   },
   {
    "duration": 14,
    "start_time": "2021-09-10T22:06:43.614Z"
   },
   {
    "duration": 32,
    "start_time": "2021-09-10T22:06:43.631Z"
   },
   {
    "duration": 15,
    "start_time": "2021-09-10T22:06:43.666Z"
   },
   {
    "duration": 45,
    "start_time": "2021-09-10T22:06:43.683Z"
   },
   {
    "duration": 4,
    "start_time": "2021-09-10T22:06:43.762Z"
   },
   {
    "duration": 13,
    "start_time": "2021-09-10T22:06:43.770Z"
   },
   {
    "duration": 52,
    "start_time": "2021-09-10T22:06:43.786Z"
   },
   {
    "duration": 22,
    "start_time": "2021-09-10T22:06:43.841Z"
   },
   {
    "duration": 31,
    "start_time": "2021-09-10T22:06:43.866Z"
   },
   {
    "duration": 37,
    "start_time": "2021-09-10T22:06:43.900Z"
   },
   {
    "duration": 32,
    "start_time": "2021-09-10T22:06:43.939Z"
   },
   {
    "duration": 56,
    "start_time": "2021-09-10T22:06:43.973Z"
   },
   {
    "duration": 43,
    "start_time": "2021-09-10T22:06:44.031Z"
   },
   {
    "duration": 36,
    "start_time": "2021-09-10T22:06:44.076Z"
   },
   {
    "duration": 55,
    "start_time": "2021-09-10T22:06:44.115Z"
   },
   {
    "duration": 21,
    "start_time": "2021-09-10T22:06:44.173Z"
   },
   {
    "duration": 21,
    "start_time": "2021-09-10T22:06:44.196Z"
   },
   {
    "duration": 51,
    "start_time": "2021-09-10T22:06:44.219Z"
   },
   {
    "duration": 15,
    "start_time": "2021-09-10T22:06:44.272Z"
   },
   {
    "duration": 8,
    "start_time": "2021-09-10T22:06:44.289Z"
   },
   {
    "duration": 30,
    "start_time": "2021-09-10T22:06:44.303Z"
   },
   {
    "duration": 31,
    "start_time": "2021-09-10T22:06:44.336Z"
   },
   {
    "duration": 7,
    "start_time": "2021-09-10T22:06:44.369Z"
   },
   {
    "duration": 14,
    "start_time": "2021-09-10T22:06:44.379Z"
   },
   {
    "duration": 30,
    "start_time": "2021-09-10T22:06:44.396Z"
   },
   {
    "duration": 44,
    "start_time": "2021-09-10T22:06:44.428Z"
   },
   {
    "duration": 30,
    "start_time": "2021-09-10T22:06:44.475Z"
   },
   {
    "duration": 11,
    "start_time": "2021-09-10T22:06:44.507Z"
   },
   {
    "duration": 4343,
    "start_time": "2021-09-10T22:06:44.521Z"
   },
   {
    "duration": 4,
    "start_time": "2021-09-10T22:06:48.866Z"
   },
   {
    "duration": 43,
    "start_time": "2021-09-10T22:06:48.873Z"
   },
   {
    "duration": 7,
    "start_time": "2021-09-10T22:06:48.919Z"
   },
   {
    "duration": 34,
    "start_time": "2021-09-10T22:06:48.963Z"
   },
   {
    "duration": 18,
    "start_time": "2021-09-10T22:06:49.005Z"
   },
   {
    "duration": 73,
    "start_time": "2021-09-10T22:06:49.025Z"
   },
   {
    "duration": 45,
    "start_time": "2021-09-10T22:06:49.101Z"
   },
   {
    "duration": 6,
    "start_time": "2021-09-10T22:06:49.163Z"
   },
   {
    "duration": 47,
    "start_time": "2021-09-10T22:06:49.172Z"
   },
   {
    "duration": 7,
    "start_time": "2021-09-10T22:06:49.221Z"
   },
   {
    "duration": 4,
    "start_time": "2021-09-10T22:06:49.263Z"
   },
   {
    "duration": 56,
    "start_time": "2021-09-10T22:06:49.270Z"
   },
   {
    "duration": 38,
    "start_time": "2021-09-10T22:06:49.329Z"
   },
   {
    "duration": 6,
    "start_time": "2021-09-10T22:06:49.370Z"
   },
   {
    "duration": 11,
    "start_time": "2021-09-10T22:06:49.378Z"
   },
   {
    "duration": 43,
    "start_time": "2021-09-10T22:06:49.392Z"
   },
   {
    "duration": 37,
    "start_time": "2021-09-10T22:06:49.437Z"
   },
   {
    "duration": 6,
    "start_time": "2021-09-10T22:06:49.476Z"
   },
   {
    "duration": 4,
    "start_time": "2021-09-10T22:06:49.485Z"
   },
   {
    "duration": 75,
    "start_time": "2021-09-10T22:06:49.491Z"
   },
   {
    "duration": 16,
    "start_time": "2021-09-10T22:06:49.569Z"
   },
   {
    "duration": 6,
    "start_time": "2021-09-10T22:06:49.587Z"
   },
   {
    "duration": 4,
    "start_time": "2021-09-10T22:06:49.596Z"
   },
   {
    "duration": 79,
    "start_time": "2021-09-10T22:06:49.602Z"
   },
   {
    "duration": 17,
    "start_time": "2021-09-10T22:06:49.683Z"
   },
   {
    "duration": 15,
    "start_time": "2021-09-10T22:06:49.702Z"
   },
   {
    "duration": 45,
    "start_time": "2021-09-10T22:06:49.719Z"
   },
   {
    "duration": 29,
    "start_time": "2021-09-10T22:06:49.766Z"
   },
   {
    "duration": 4,
    "start_time": "2021-09-10T22:06:49.797Z"
   },
   {
    "duration": 37,
    "start_time": "2021-09-10T22:06:49.803Z"
   },
   {
    "duration": 45,
    "start_time": "2021-09-10T22:06:49.862Z"
   },
   {
    "duration": 61,
    "start_time": "2021-09-10T22:06:49.909Z"
   },
   {
    "duration": 30,
    "start_time": "2021-09-10T22:06:49.972Z"
   },
   {
    "duration": 20,
    "start_time": "2021-09-10T22:06:50.004Z"
   }
  ],
  "kernelspec": {
   "display_name": "Python 3",
   "language": "python",
   "name": "python3"
  },
  "language_info": {
   "codemirror_mode": {
    "name": "ipython",
    "version": 3
   },
   "file_extension": ".py",
   "mimetype": "text/x-python",
   "name": "python",
   "nbconvert_exporter": "python",
   "pygments_lexer": "ipython3",
   "version": "3.8.8"
  },
  "toc": {
   "base_numbering": 1,
   "nav_menu": {},
   "number_sections": true,
   "sideBar": true,
   "skip_h1_title": true,
   "title_cell": "Table of Contents",
   "title_sidebar": "Contents",
   "toc_cell": false,
   "toc_position": {},
   "toc_section_display": true,
   "toc_window_display": true
  }
 },
 "nbformat": 4,
 "nbformat_minor": 2
}
